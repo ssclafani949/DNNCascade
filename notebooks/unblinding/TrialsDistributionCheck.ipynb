{
 "cells": [
  {
   "cell_type": "code",
   "execution_count": null,
   "id": "damaged-trading",
   "metadata": {},
   "outputs": [],
   "source": [
    "%matplotlib inline\n",
    "%load_ext autoreload\n",
    "%autoreload 2\n",
    "\n",
    "#PDFs in BDT and sindec?\n",
    "import os\n",
    "\n",
    "# set env flags to catch BLAS used for scipy/numpy \n",
    "# to only use 1 cpu, n_cpus will be totally controlled by csky\n",
    "if False:\n",
    "    os.environ['MKL_NUM_THREADS'] = \"1\"\n",
    "    os.environ['NUMEXPR_NUM_THREADS'] = \"1\"\n",
    "    os.environ['OMP_NUM_THREADS'] = \"1\"\n",
    "    os.environ['OPENBLAS_NUM_THREADS'] = \"1\"\n",
    "    os.environ['VECLIB_MAXIMUM_THREADS'] = \"1\"\n",
    "\n",
    "import matplotlib as mpl\n",
    "mpl.rcParams['figure.facecolor'] = 'w'\n",
    "mpl.rcParams['savefig.facecolor'] = 'w'\n",
    "import matplotlib.pyplot as plt\n",
    "from matplotlib import colors, cm\n",
    "import csky as cy\n",
    "from csky import cext\n",
    "import numpy as np\n",
    "import astropy\n",
    "#from icecube import astro\n",
    "import histlite as hl\n",
    "import healpy\n",
    "import healpy as hp\n",
    "import socket\n",
    "import pickle\n",
    "import copy\n",
    "healpy.disable_warnings()\n",
    "plt.rc('figure', facecolor = 'w')\n",
    "plt.rc('figure', dpi=100)"
   ]
  },
  {
   "cell_type": "markdown",
   "id": "secure-narrative",
   "metadata": {},
   "source": [
    "## Define Settings"
   ]
  },
  {
   "cell_type": "code",
   "execution_count": null,
   "id": "precious-power",
   "metadata": {},
   "outputs": [],
   "source": [
    "selection_version = 'version-001-p00'\n",
    "\n",
    "host_name = socket.gethostname()\n",
    "\n",
    "if 'cobalt' in host_name:\n",
    "    print('Working on Cobalts')\n",
    "    data_prefix = '/data/user/ssclafani/data/cscd/final'\n",
    "    ana_dir = '/data/user/ssclafani/data/analyses/'\n",
    "    plot_dir = '/data/user/mhuennefeld/data/analyses/DNNCascadeCodeReview/unblinding_checks/plots/unblinding/trials_distribution_check'\n",
    "\n",
    "else:\n",
    "    raise ValueError('Unknown host:', host_name)"
   ]
  },
  {
   "cell_type": "code",
   "execution_count": null,
   "id": "complicated-hierarchy",
   "metadata": {},
   "outputs": [],
   "source": [
    "for dir_path in [plot_dir]:\n",
    "    if not os.path.exists(dir_path):\n",
    "        print('Creating directory:', dir_path)\n",
    "        os.makedirs(dir_path)"
   ]
  },
  {
   "cell_type": "markdown",
   "id": "empirical-neighbor",
   "metadata": {},
   "source": [
    "## Load Data"
   ]
  },
  {
   "cell_type": "code",
   "execution_count": null,
   "id": "tutorial-hybrid",
   "metadata": {},
   "outputs": [],
   "source": [
    "repo = cy.selections.Repository()\n",
    "specs = cy.selections.DNNCascadeDataSpecs.DNNC_10yr"
   ]
  },
  {
   "cell_type": "code",
   "execution_count": null,
   "id": "differential-violation",
   "metadata": {},
   "outputs": [],
   "source": [
    "%%time\n",
    "\n",
    "ana = cy.get_analysis(\n",
    "    repo, selection_version, specs, \n",
    "    #gammas=np.r_[0.1:6.01:0.125],\n",
    ")"
   ]
  },
  {
   "cell_type": "code",
   "execution_count": null,
   "id": "essential-parallel",
   "metadata": {},
   "outputs": [],
   "source": [
    "a = ana.anas[0]\n",
    "a.sig"
   ]
  },
  {
   "cell_type": "code",
   "execution_count": null,
   "id": "bulgarian-internet",
   "metadata": {},
   "outputs": [],
   "source": [
    "a.bg_data"
   ]
  },
  {
   "cell_type": "markdown",
   "id": "mobile-convention",
   "metadata": {},
   "source": [
    "## Helpers"
   ]
  },
  {
   "cell_type": "code",
   "execution_count": null,
   "id": "dutch-still",
   "metadata": {},
   "outputs": [],
   "source": [
    "from cycler import cycle\n",
    "from copy import deepcopy\n",
    "\n",
    "soft_colors = cy.plotting.soft_colors\n",
    "colors = plt.rcParams['axes.prop_cycle'].by_key()['color']\n",
    "\n",
    "\n",
    "def get_bias_allt(tr, ntrials=200, n_sigs=np.r_[:101:10], quiet=False):\n",
    "    trials = [\n",
    "        (None if quiet else print(f'\\r{n_sig:4d} ...', end='', flush=True))\n",
    "        or\n",
    "        tr.get_many_fits(ntrials, n_sig=n_sig, logging=False, seed=n_sig)\n",
    "        for n_sig in n_sigs]\n",
    "    if not quiet:\n",
    "        print()\n",
    "    for (n_sig, t) in zip(n_sigs, trials):\n",
    "        t['ntrue'] = np.repeat(n_sig, len(t))\n",
    "    allt = cy.utils.Arrays.concatenate(trials)\n",
    "    return allt\n",
    "\n",
    "def get_color_cycler():\n",
    "    return cycle(colors)\n",
    "\n",
    "def plot_ns_bias(ax, tr, allt, label=''):\n",
    "\n",
    "    n_sigs = np.unique(allt.ntrue)\n",
    "    dns = np.mean(np.diff(n_sigs))\n",
    "    ns_bins = np.r_[n_sigs - 0.5*dns, n_sigs[-1] + 0.5*dns]\n",
    "    expect_kw = dict(color='C0', ls='--', lw=1, zorder=-10)\n",
    "\n",
    "    h = hl.hist((allt.ntrue, allt.ns), bins=(ns_bins, 100))\n",
    "    hl.plot1d(ax, h.contain_project(1),errorbands=True, \n",
    "              drawstyle='default', label=label)\n",
    "    lim = ns_bins[[0, -1]]\n",
    "    ax.set_xlim(ax.set_ylim(lim))\n",
    "    ax.plot(lim, lim, **expect_kw)\n",
    "    ax.set_aspect('equal')\n",
    "\n",
    "    ax.set_xlabel(r'$n_{inj}$')\n",
    "    ax.set_ylabel(r'$n_s$')\n",
    "    ax.grid()\n",
    "\n",
    "def plot_gamma_bias(ax, tr, allt, label=''):\n",
    "\n",
    "    n_sigs = np.unique(allt.ntrue)\n",
    "    dns = np.mean(np.diff(n_sigs))\n",
    "    ns_bins = np.r_[n_sigs - 0.5*dns, n_sigs[-1] + 0.5*dns]\n",
    "    expect_kw = dict(color='C0', ls='--', lw=1, zorder=-10)\n",
    "    expect_gamma = tr.sig_injs[0].flux[0].gamma\n",
    "\n",
    "    h = hl.hist((allt.ntrue, allt.gamma), bins=(ns_bins, 100))\n",
    "    hl.plot1d(ax, h.contain_project(1),errorbands=True, \n",
    "              drawstyle='default', label=label)\n",
    "    lim = ns_bins[[0, -1]]\n",
    "    ax.set_xlim(lim)\n",
    "    ax.set_ylim(1, 4)\n",
    "    ax.axhline(expect_gamma, **expect_kw)\n",
    "\n",
    "    ax.set_xlabel(r'$n_{inj}$')\n",
    "    ax.set_ylabel(r'$\\gamma$')\n",
    "    ax.grid()\n",
    "\n",
    "def plot_bkg_trials(\n",
    "            bg, fig=None, ax=None, \n",
    "            label='{} bg trials', \n",
    "            label_fit=r'$\\chi^2[{:.2f}\\mathrm{{dof}},\\ \\eta={:.3f}]$', \n",
    "            color=colors[0],\n",
    "            density=False,\n",
    "            bins=50,\n",
    "        ):\n",
    "    if ax is None:\n",
    "        fig, ax = plt.subplots(figsize=(6, 4))\n",
    "    \n",
    "    if density:\n",
    "        h = bg.get_hist(bins=bins).normalize()\n",
    "    else:\n",
    "        h = bg.get_hist(bins=bins)\n",
    "    if label is not None:\n",
    "        label = label.format(bg.n_total)\n",
    "    hl.plot1d(ax, h, crosses=True, color=color, label=label)\n",
    "\n",
    "    # compare with the chi2 fit:\n",
    "    if hasattr(bg, 'pdf'):\n",
    "        x = h.centers[0]\n",
    "        norm = h.integrate().values\n",
    "        if label_fit is not None:\n",
    "            label_fit = label_fit.format(bg.ndof, bg.eta)\n",
    "        if density:\n",
    "            ax.semilogy(x, bg.pdf(x), lw=1, ls='--', label=label_fit, color=color)\n",
    "        else:\n",
    "            ax.semilogy(x, norm * bg.pdf(x), lw=1, ls='--', label=label_fit, color=color)\n",
    "\n",
    "    ax.set_xlabel(r'TS')\n",
    "    if density:\n",
    "        ax.set_ylabel(r'Density')\n",
    "    else:\n",
    "        ax.set_ylabel(r'number of trials')\n",
    "    ax.legend()\n",
    "        \n",
    "    return fig, ax"
   ]
  },
  {
   "cell_type": "markdown",
   "id": "exact-acrobat",
   "metadata": {},
   "source": [
    "## Setup Analysis"
   ]
  },
  {
   "cell_type": "code",
   "execution_count": null,
   "id": "corresponding-referral",
   "metadata": {},
   "outputs": [],
   "source": [
    "import sys\n",
    "sys.path.insert(0, '../..')\n",
    "\n",
    "import config as cg\n",
    "\n",
    "cg.base_dir = '/data/user/mhuennefeld/data/analyses/unblinding_v1.0.0/'"
   ]
  },
  {
   "cell_type": "markdown",
   "id": "simple-seventh",
   "metadata": {},
   "source": [
    "#### Get bkg trials"
   ]
  },
  {
   "cell_type": "code",
   "execution_count": null,
   "id": "initial-boring",
   "metadata": {
    "scrolled": true
   },
   "outputs": [],
   "source": [
    "bgfile = os.path.join(cg.base_dir, 'ps/trials/DNNC/bg.dict')\n",
    "bg_trials = np.load(bgfile, allow_pickle=True)['dec']\n",
    "bg_trials"
   ]
  },
  {
   "cell_type": "markdown",
   "id": "short-closing",
   "metadata": {},
   "source": [
    "#### Plot ts distribution"
   ]
  },
  {
   "cell_type": "code",
   "execution_count": null,
   "id": "innovative-therapist",
   "metadata": {},
   "outputs": [],
   "source": [
    "plt.hist(bg.ns, bins=100)\n",
    "plt.yscale('log')"
   ]
  },
  {
   "cell_type": "markdown",
   "id": "published-confidence",
   "metadata": {},
   "source": [
    "#### Correlation of ns vs TS\n",
    "\n",
    "ns is well correlated against TS, if conditional on gamma"
   ]
  },
  {
   "cell_type": "code",
   "execution_count": null,
   "id": "hidden-tennessee",
   "metadata": {},
   "outputs": [],
   "source": [
    "gammas = np.linspace(1., 4, 7)\n",
    "gamma_width = 0.25\n",
    "\n",
    "fig, ax = plt.subplots()\n",
    "bins = (np.linspace(0, 400, 30), np.linspace(0, 30, 30))\n",
    "for i, gamma in enumerate(gammas):\n",
    "    mask = np.logical_and(\n",
    "        bg.gamma > gamma - gamma_width,\n",
    "        bg.gamma < gamma + gamma_width,\n",
    "    )\n",
    "    ax.scatter(bg.ns[mask], bg.ts[mask], label='$\\gamma$ = {:3.2f} $\\pm$ {:3.2f}'.format(gamma, gamma_width))\n",
    "ax.legend(loc='lower right')\n",
    "ax.set_xlabel('NS')\n",
    "ax.set_ylabel('TS')\n",
    "\n"
   ]
  },
  {
   "cell_type": "code",
   "execution_count": null,
   "id": "satisfied-commissioner",
   "metadata": {},
   "outputs": [],
   "source": [
    "from cycler import cycle\n",
    "\n",
    "dec_degs = [-43]\n",
    "gammas = np.linspace(1., 4, 4)\n",
    "nsigmas = [3]#[3, 5]\n",
    "ns_bins = [0, np.inf]\n",
    "gamma_width = 0.25\n",
    "\n",
    "bins = np.linspace(0, 30, 50)\n",
    "\n",
    "for dec_deg in dec_degs:\n",
    "    \n",
    "    fig, ax = plt.subplots(figsize=(9, 6))\n",
    "    \n",
    "    color_cycle = cycle(cy.plotting.soft_colors)\n",
    "    \n",
    "    color = next(color_cycle)\n",
    "    bg = bg_trials[dec_deg]\n",
    "    bg_tsd = cy.dists.TSD(bg)\n",
    "    plot_bkg_trials(bg_tsd, density=True, bins=bins, color=color, fig=fig, ax=ax)\n",
    "\n",
    "    for nsigma, ls in zip(nsigmas, ['--', '-']):\n",
    "        ts_val = bg_tsd.isf_nsigma(nsigma)\n",
    "        ax.axvline(\n",
    "            ts_val, ls=ls, lw=1, color=color,\n",
    "            label='{}-sigma TS: {:3.3f}'.format(nsigma, ts_val), \n",
    "        )\n",
    "    \n",
    "    for i, gamma in enumerate(gammas):\n",
    "        color = next(color_cycle)\n",
    "        mask = np.logical_and(\n",
    "            bg.gamma > gamma - gamma_width,\n",
    "            bg.gamma < gamma + gamma_width,\n",
    "        )\n",
    "        for j in range(len(ns_bins) - 1):\n",
    "            mask_ns = np.logical_and(\n",
    "                bg.ns >= ns_bins[j],\n",
    "                bg.ns < ns_bins[j + 1],\n",
    "            )\n",
    "            ns = np.mean(ns_bins[j:j+2])\n",
    "            mask = np.logical_and(mask, mask_ns)\n",
    "            print('ns:', np.sum(mask_ns), np.sum(mask))\n",
    "            if np.sum(mask) > 100:\n",
    "            \n",
    "                bg_tsd_gamma = cy.dists.TSD(bg[mask])\n",
    "                plot_bkg_trials(\n",
    "                    bg_tsd_gamma, density=True, bins=bins, color=color, \n",
    "                    fig=fig, ax=ax,\n",
    "                    label='{} bg trials' + ' [$\\gamma$={:3.2f} $\\pm$ {:3.2f}]'.format(gamma, gamma_width),\n",
    "                )\n",
    "\n",
    "                for nsigma, ls in zip(nsigmas, ['--', '-']):\n",
    "                    print('Gamma: {:3.2f} | ns: {:3.2f} | From {:3.2f} to {:3.2f}'.format(\n",
    "                        gamma, ns, nsigma, bg_tsd_gamma.sf_nsigma(ts_val)))\n",
    "                    ts_val = bg_tsd_gamma.isf_nsigma(nsigma)\n",
    "                    ax.axvline(\n",
    "                        ts_val, ls=ls, lw=1, color=color,\n",
    "                        label='{}-sigma TS: {:3.3f}'.format(nsigma, ts_val), \n",
    "                    )\n",
    "        \n",
    "\n",
    "    ax.set_title('Declination: {:3.2f}°'.format(dec_deg))\n",
    "    ax.set_yscale('log')\n",
    "    ax.legend()\n",
    "    fig.savefig('{}/ts_distribution.png'.format(plot_dir))"
   ]
  },
  {
   "cell_type": "code",
   "execution_count": null,
   "id": "buried-convenience",
   "metadata": {
    "scrolled": false
   },
   "outputs": [],
   "source": [
    "for key, bg in bkg_dict.items():\n",
    "    bg_tsd = cy.dists.TSD(bg)\n",
    "    fig, ax = plot_bkg_trials(bg_tsd)\n",
    "    ts = res_dict[key][0]\n",
    "    ns = res_dict[key][1]\n",
    "    ax.axvline(\n",
    "        ts, color='0.8', ls='--', lw=2,\n",
    "        label='TS: {:3.3f} | ns: {:3.1f}'.format(ts, ns), \n",
    "    )\n",
    "    ts_5sig = bg_tsd.isf_nsigma(5)\n",
    "    ax.axvline(\n",
    "        ts_5sig, ls='--', lw=1,\n",
    "        label='5-sigma TS: {:3.3f}'.format(ts_5sig), \n",
    "    )\n",
    "    ax.set_title('Template: {}'.format(key))\n",
    "    ax.set_yscale('log')\n",
    "    ax.legend()\n",
    "    fig.savefig('{}/ts_dist_{}.png'.format(plot_dir, key))"
   ]
  },
  {
   "cell_type": "code",
   "execution_count": null,
   "id": "dietary-catch",
   "metadata": {},
   "outputs": [],
   "source": []
  }
 ],
 "metadata": {
  "kernelspec": {
   "display_name": "tensorflow2.3_py3-v4.1.0_csky",
   "language": "python",
   "name": "tensorflow2.3_py3-v4.1.0_csky"
  },
  "language_info": {
   "codemirror_mode": {
    "name": "ipython",
    "version": 3
   },
   "file_extension": ".py",
   "mimetype": "text/x-python",
   "name": "python",
   "nbconvert_exporter": "python",
   "pygments_lexer": "ipython3",
   "version": "3.7.5"
  }
 },
 "nbformat": 4,
 "nbformat_minor": 5
}
