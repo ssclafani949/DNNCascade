{
 "cells": [
  {
   "cell_type": "code",
   "execution_count": null,
   "metadata": {},
   "outputs": [],
   "source": [
    "import numpy as np\n",
    "import matplotlib.pyplot as plt\n",
    "import datetime, sys, re, os\n",
    "import pandas as pd\n",
    "import scipy.stats"
   ]
  },
  {
   "cell_type": "code",
   "execution_count": null,
   "metadata": {},
   "outputs": [],
   "source": [
    "import csky as cy\n",
    "import astropy\n",
    "import healpy as hp\n",
    "import histlite as hl\n",
    "import pandas as pd\n",
    "cy.plotting.mrichman_mpl()\n",
    "soft_colors = cy.plotting.soft_colors"
   ]
  },
  {
   "cell_type": "code",
   "execution_count": null,
   "metadata": {},
   "outputs": [],
   "source": [
    "repo = cy.selections.Repository(local_root='/data/user/ssclafani/data/analyses') #Matches the repo in /data/ana/ but has some additional sensitvities written and loadable\n",
    "ana_dir = cy.utils.ensure_dir('/data/user/ssclafani/data/analyses')\n",
    "plot_dir = cy.utils.ensure_dir('/home/ssclafani/public_html/DNNCASACDE/plots/postunblinding')"
   ]
  },
  {
   "cell_type": "code",
   "execution_count": null,
   "metadata": {},
   "outputs": [],
   "source": [
    "specs = cy.selections.DNNCascadeDataSpecs.DNNC_10yr\n",
    "ana = cy.get_analysis (repo, 'version-001-p01', specs)"
   ]
  },
  {
   "cell_type": "code",
   "execution_count": null,
   "metadata": {},
   "outputs": [],
   "source": [
    "#pi0"
   ]
  },
  {
   "cell_type": "code",
   "execution_count": null,
   "metadata": {},
   "outputs": [],
   "source": [
    "sig = np.load('/data/user/ssclafani/data/analyses/baseline_unblind_v1.0.1/gp/trials/DNNC/pi0/trials.dict', allow_pickle=True)"
   ]
  },
  {
   "cell_type": "code",
   "execution_count": null,
   "metadata": {},
   "outputs": [],
   "source": [
    "bg_pi0 = sig['poisson']['nsig'][0.0]"
   ]
  },
  {
   "cell_type": "code",
   "execution_count": null,
   "metadata": {},
   "outputs": [],
   "source": [
    "result_pi0 = np.load('/data/user/mhuennefeld/data/analyses/unblinding_v1.0.1_csky_bugfix_template_flux/gp/results/pi0/pi0_unblinded.npy')"
   ]
  },
  {
   "cell_type": "code",
   "execution_count": null,
   "metadata": {},
   "outputs": [],
   "source": [
    "#bg_pi0 = bg_pi0[:1000000]"
   ]
  },
  {
   "cell_type": "code",
   "execution_count": null,
   "metadata": {},
   "outputs": [],
   "source": [
    "print(result_pi0)"
   ]
  },
  {
   "cell_type": "code",
   "execution_count": null,
   "metadata": {},
   "outputs": [],
   "source": [
    "def plot_gp_bg(bg, result, template = 'pi0', chi2=False):\n",
    "    if chi2:\n",
    "        b = cy.dists.Chi2TSD(bg)\n",
    "    else:\n",
    "        b = cy.dists.TSD(bg)\n",
    "\n",
    "    fig, ax = plt.subplots()\n",
    "    h = b.get_hist(bins=30)\n",
    "    hl.plot1d(ax, h, crosses=True,\n",
    "              label='{} bg trials'.format(b.n_total))\n",
    "    if chi2:\n",
    "        x = h.centers[0]\n",
    "        norm = h.integrate().values\n",
    "        ax.semilogy(x, norm * b.pdf(x), lw=1, ls='--',\n",
    "                   label=r'$\\chi^2[{:.2f}\\sf{{dof}},\\ \\eta={:.3f}]$'.format(b.ndof, b.eta))\n",
    "    ax.set_xlabel(r'TS')\n",
    "    ax.set_ylabel(r'number of trials')\n",
    "    ax.set_title(' {}'.format(template))\n",
    "    ax.legend()\n",
    "    plt.axvline(result[0], c='r')\n",
    "    plt.semilogy()\n",
    "    plt.grid()\n",
    "    plt.tight_layout()\n",
    "    cy.plotting.saving(plot_dir + '/gp', 'ps_bkg_gp_{}'.format(template))\n",
    "    return b"
   ]
  },
  {
   "cell_type": "code",
   "execution_count": null,
   "metadata": {},
   "outputs": [],
   "source": [
    "b = plot_gp_bg(bg_pi0,  result=result_pi0, template='pi0', chi2=False)\n",
    "pval = np.mean(bg_pi0['ts'] > result_pi0[0])\n",
    "print(pval)\n",
    "print(bg_pi0[bg_pi0['ts'] > result_pi0[0]])\n",
    "print(scipy.stats.norm.isf(pval))"
   ]
  },
  {
   "cell_type": "code",
   "execution_count": null,
   "metadata": {},
   "outputs": [],
   "source": [
    "p = (b.sf(result_pi0[0]))\n",
    "scipy.stats.norm.isf(p)"
   ]
  },
  {
   "cell_type": "code",
   "execution_count": null,
   "metadata": {},
   "outputs": [],
   "source": []
  },
  {
   "cell_type": "code",
   "execution_count": null,
   "metadata": {},
   "outputs": [],
   "source": [
    "sig = np.load('/data/user/ssclafani/data/analyses/baseline_unblind_v1.0.0/gp/trials/DNNC/kra5/trials.dict', allow_pickle=True)"
   ]
  },
  {
   "cell_type": "code",
   "execution_count": null,
   "metadata": {},
   "outputs": [],
   "source": [
    "bg_kra5 = sig['poisson']['nsig'][0.0]"
   ]
  },
  {
   "cell_type": "code",
   "execution_count": null,
   "metadata": {},
   "outputs": [],
   "source": [
    "result_kra5= np.load('/data/user/mhuennefeld/data/analyses/unblinding_v1.0.1_csky_bugfix_template_flux/gp/results/kra5/kra5_unblinded.npy')"
   ]
  },
  {
   "cell_type": "code",
   "execution_count": null,
   "metadata": {},
   "outputs": [],
   "source": [
    "print(result_kra5)"
   ]
  },
  {
   "cell_type": "code",
   "execution_count": null,
   "metadata": {},
   "outputs": [],
   "source": [
    "plot_gp_bg(bg_kra5,  result=result_kra5, template='kra5')\n",
    "pval = np.mean(bg_kra5['ts'] > result_kra5[0])\n",
    "print(pval)\n",
    "print(bg_kra5[bg_kra5['ts'] > result_kra5[0]])\n",
    "print(scipy.stats.norm.isf(pval))"
   ]
  },
  {
   "cell_type": "code",
   "execution_count": null,
   "metadata": {},
   "outputs": [],
   "source": []
  },
  {
   "cell_type": "code",
   "execution_count": null,
   "metadata": {},
   "outputs": [],
   "source": [
    "sig = np.load('/data/user/ssclafani/data/analyses/baseline_unblind_v1.0.0/gp/trials/DNNC/kra50/trials.dict', allow_pickle=True)"
   ]
  },
  {
   "cell_type": "code",
   "execution_count": null,
   "metadata": {},
   "outputs": [],
   "source": [
    "bg_kra50 = sig['poisson']['nsig'][0.0]"
   ]
  },
  {
   "cell_type": "code",
   "execution_count": null,
   "metadata": {},
   "outputs": [],
   "source": [
    "result_kra50= np.load('/data/user/mhuennefeld/data/analyses/unblinding_v1.0.1_csky_bugfix_template_flux/gp/results/kra50/kra50_unblinded.npy')"
   ]
  },
  {
   "cell_type": "code",
   "execution_count": null,
   "metadata": {},
   "outputs": [],
   "source": [
    "plot_gp_bg(bg_kra50,  result=result_kra50, template='kra50')\n",
    "pval = np.mean(bg_kra50['ts'] > result_kra50[0])\n",
    "print(pval)\n",
    "print(bg_kra50[bg_kra50['ts'] > result_kra50[0]])\n",
    "print(scipy.stats.norm.isf(pval))"
   ]
  },
  {
   "cell_type": "code",
   "execution_count": null,
   "metadata": {},
   "outputs": [],
   "source": [
    "#FERMI BUBBLES"
   ]
  },
  {
   "cell_type": "code",
   "execution_count": null,
   "metadata": {},
   "outputs": [],
   "source": [
    "sig = np.load('/data/user/ssclafani/data/analyses/baseline_unblind_v1.0.0/gp/trials/DNNC/fermibubbles/trials.dict', allow_pickle=True)\n",
    "result_fb= np.load('/data/user/mhuennefeld/data/analyses/unblinding_v1.0.1_csky_bugfix_template_flux/gp/results/fermibubbles/fermibubbles_unblinded.npy')"
   ]
  },
  {
   "cell_type": "code",
   "execution_count": null,
   "metadata": {},
   "outputs": [],
   "source": [
    "bg_50 = sig['poisson']['cutoff'][50]['nsig'][0.0]\n",
    "bg_100 = sig['poisson']['cutoff'][100]['nsig'][0.0]\n",
    "bg_500 = sig['poisson']['cutoff'][500]['nsig'][0.0]\n",
    "bg_nocutoff = sig['poisson']['cutoff'][np.inf]['nsig'][0.0]"
   ]
  },
  {
   "cell_type": "code",
   "execution_count": null,
   "metadata": {},
   "outputs": [],
   "source": [
    "result_fb[0][0]"
   ]
  },
  {
   "cell_type": "code",
   "execution_count": null,
   "metadata": {},
   "outputs": [],
   "source": [
    "plot_gp_bg(bg_50,  result=result_fb[0], template='FB Cutoff 50TeV')\n",
    "\n",
    "pval = np.mean(bg_50['ts'] > result_fb[0][0])\n",
    "print(pval)\n",
    "print(bg_50[bg_50['ts'] > result_fb[0][0]])\n",
    "print(scipy.stats.norm.isf(pval))"
   ]
  },
  {
   "cell_type": "code",
   "execution_count": null,
   "metadata": {},
   "outputs": [],
   "source": [
    "plot_gp_bg(bg_100,  result=result_fb[1], template='FB Cutoff 100TeV')\n",
    "\n",
    "pval = np.mean(bg_100['ts'] > result_fb[1][0])\n",
    "print(pval)\n",
    "print(bg_100[bg_100['ts'] > result_fb[1][0]])\n",
    "print(scipy.stats.norm.isf(pval))"
   ]
  },
  {
   "cell_type": "code",
   "execution_count": null,
   "metadata": {},
   "outputs": [],
   "source": [
    "plot_gp_bg(bg_500,  result=result_fb[2], template='FB Cutoff 500TeV')\n",
    "\n",
    "pval = np.mean(bg_500['ts'] > result_fb[2][0])\n",
    "print(pval)\n",
    "print(bg_500[bg_500['ts'] > result_fb[2][0]])\n",
    "print(scipy.stats.norm.isf(pval))"
   ]
  },
  {
   "cell_type": "code",
   "execution_count": null,
   "metadata": {},
   "outputs": [],
   "source": [
    "plot_gp_bg(bg_nocutoff,  result=result_fb[3], template='FB No Cutoff')\n",
    "\n",
    "pval = np.mean(bg_nocutoff['ts'] > result_fb[3][0])\n",
    "print(pval)\n",
    "print(bg_nocutoff[bg_nocutoff['ts'] > result_fb[3][0]])\n",
    "print(scipy.stats.norm.isf(pval))"
   ]
  },
  {
   "cell_type": "code",
   "execution_count": null,
   "metadata": {},
   "outputs": [],
   "source": [
    "bg = np.load('/data/user/mhuennefeld/data/analyses/unblinding_v1.0.1_csky_bugfix_template_flux/gp/trials/DNNC/fermibubbles/correlated_trials/correlated_bg.npy', allow_pickle=True)\n"
   ]
  },
  {
   "cell_type": "code",
   "execution_count": null,
   "metadata": {},
   "outputs": [],
   "source": [
    "bg"
   ]
  },
  {
   "cell_type": "code",
   "execution_count": null,
   "metadata": {},
   "outputs": [],
   "source": [
    "pvals = np.vstack([bg['mlog10p_0000'], bg['mlog10p_0001'], bg['mlog10p_0002'], bg['mlog10p_0003'] ])"
   ]
  },
  {
   "cell_type": "code",
   "execution_count": null,
   "metadata": {},
   "outputs": [],
   "source": [
    "ps =[ pvals[id][i] for id, i  in zip(bg['idx_hottest'], np.arange(0,len(pvals[0]), 1))]"
   ]
  },
  {
   "cell_type": "code",
   "execution_count": null,
   "metadata": {},
   "outputs": [],
   "source": [
    "ps = np.array(ps)"
   ]
  },
  {
   "cell_type": "code",
   "execution_count": null,
   "metadata": {},
   "outputs": [],
   "source": [
    "plt.hist(ps[np.isfinite(ps)], bins=100);\n",
    "plt.semilogy()\n",
    "plt.xlabel(r'-log10p$_{pre}$')\n",
    "plt.axvline( -1*np.log10(.0307), c='r')\n",
    "plt.title('Fermi Bubbles p-values')"
   ]
  },
  {
   "cell_type": "code",
   "execution_count": null,
   "metadata": {},
   "outputs": [],
   "source": []
  },
  {
   "cell_type": "code",
   "execution_count": null,
   "metadata": {},
   "outputs": [],
   "source": [
    "#STACKING"
   ]
  },
  {
   "cell_type": "code",
   "execution_count": null,
   "metadata": {},
   "outputs": [],
   "source": [
    "bg_snr = np.load('/data/user/mhuennefeld/data/analyses/unblinding_v1.0.1_csky_bugfix_template_flux/stacking/snr_bg.dict', allow_pickle=True)\n",
    "result_snr= np.load('/data/user/mhuennefeld/data/analyses/unblinding_v1.0.1_csky_bugfix_template_flux/stacking/results/snr/snr_unblinded.npy')"
   ]
  },
  {
   "cell_type": "code",
   "execution_count": null,
   "metadata": {},
   "outputs": [],
   "source": [
    "bg_pwn = np.load('/data/user/mhuennefeld/data/analyses/unblinding_v1.0.1_csky_bugfix_template_flux/stacking/pwn_bg.dict', allow_pickle=True)\n",
    "result_pwn= np.load('/data/user/mhuennefeld/data/analyses/unblinding_v1.0.1_csky_bugfix_template_flux/stacking/results/pwn/pwn_unblinded.npy')"
   ]
  },
  {
   "cell_type": "code",
   "execution_count": null,
   "metadata": {},
   "outputs": [],
   "source": [
    "bg_unid = np.load('/data/user/mhuennefeld/data/analyses/unblinding_v1.0.1_csky_bugfix_template_flux/stacking/unid_bg.dict', allow_pickle=True)\n",
    "result_unid= np.load('/data/user/mhuennefeld/data/analyses/unblinding_v1.0.1_csky_bugfix_template_flux/stacking/results/unid/unid_unblinded.npy')"
   ]
  },
  {
   "cell_type": "code",
   "execution_count": null,
   "metadata": {},
   "outputs": [],
   "source": [
    "plot_gp_bg(bg_snr,  result=result_snr, template='SNR')\n",
    "\n",
    "pval = np.mean(bg_snr['ts'] > result_snr[0])\n",
    "print(pval)\n",
    "print(bg_snr[bg_snr['ts'] > result_snr[0]])\n",
    "print(scipy.stats.norm.isf(pval))"
   ]
  },
  {
   "cell_type": "code",
   "execution_count": null,
   "metadata": {},
   "outputs": [],
   "source": [
    "plot_gp_bg(bg_pwn,  result=result_pwn, template='PWN')\n",
    "\n",
    "pval = np.mean(bg_pwn['ts'] > result_pwn[0])\n",
    "print(pval)\n",
    "print(bg_pwn[bg_pwn['ts'] > result_pwn[0]])\n",
    "print(scipy.stats.norm.isf(pval))"
   ]
  },
  {
   "cell_type": "code",
   "execution_count": null,
   "metadata": {},
   "outputs": [],
   "source": [
    "plot_gp_bg(bg_unid,  result=result_unid, template='UNID')\n",
    "\n",
    "pval = np.mean(bg_unid['ts'] > result_unid[0])\n",
    "print(pval)\n",
    "print(bg_unid[bg_unid['ts'] > result_unid[0]])\n",
    "print(scipy.stats.norm.isf(pval))"
   ]
  },
  {
   "cell_type": "code",
   "execution_count": null,
   "metadata": {},
   "outputs": [],
   "source": []
  },
  {
   "cell_type": "code",
   "execution_count": null,
   "metadata": {},
   "outputs": [],
   "source": [
    "#SkyScan"
   ]
  },
  {
   "cell_type": "code",
   "execution_count": null,
   "metadata": {},
   "outputs": [],
   "source": [
    "skymap = np.load('/data/user/mhuennefeld/data/analyses/unblinding_v1.0.1_csky_bugfix_template_flux/skyscan/results/unblinded_skyscan.npy', allow_pickle=True)"
   ]
  },
  {
   "cell_type": "code",
   "execution_count": null,
   "metadata": {},
   "outputs": [],
   "source": [
    "s = skymap[()]"
   ]
  },
  {
   "cell_type": "code",
   "execution_count": null,
   "metadata": {},
   "outputs": [],
   "source": [
    "scan = s['ss_trial']"
   ]
  },
  {
   "cell_type": "code",
   "execution_count": null,
   "metadata": {},
   "outputs": [],
   "source": [
    "scipy.stats.norm.isf(10**(-1*scan[0]))"
   ]
  },
  {
   "cell_type": "code",
   "execution_count": null,
   "metadata": {},
   "outputs": [],
   "source": [
    "import csky as cy"
   ]
  },
  {
   "cell_type": "code",
   "execution_count": null,
   "metadata": {},
   "outputs": [],
   "source": [
    "fig, ax = plt.subplots (subplot_kw=dict (projection='aitoff'))\n",
    "sp = cy.plotting.SkyPlotter(pc_kw=dict(cmap=cy.plotting.skymap_cmap, vmin=0, vmax=5))\n",
    "mesh, cb = sp.plot_map(ax, scipy.stats.norm.isf(10**(-1*scan[0])), n_ticks=6)\n",
    "#ax.scatter(np.deg2rad(180) -np.deg2rad(297)  , np.deg2rad(26), c='r', marker='x')\n",
    "kw = dict(color='.5', alpha=.5)\n",
    "sp.plot_gp(ax, lw=.5, **kw)\n",
    "sp.plot_gc(ax, **kw)\n",
    "ax.grid(**kw)\n",
    "cb.set_label(r'n sigma')\n",
    "plt.tight_layout()"
   ]
  },
  {
   "cell_type": "code",
   "execution_count": null,
   "metadata": {},
   "outputs": [],
   "source": []
  },
  {
   "cell_type": "code",
   "execution_count": null,
   "metadata": {},
   "outputs": [],
   "source": [
    "fig, ax = plt.subplots (subplot_kw=dict (projection='aitoff'))\n",
    "sp = cy.plotting.SkyPlotter(pc_kw=dict(cmap=cy.plotting.skymap_cmap, vmin=0, vmax=6))\n",
    "mesh, cb = sp.plot_map(ax, scan[0], n_ticks=5)\n",
    "kw = dict(color='.5', alpha=.5)\n",
    "sp.plot_gp(ax, lw=.5, **kw)\n",
    "sp.plot_gc(ax, **kw)\n",
    "ax.grid(**kw)\n",
    "cb.set_label(r'-log$_{10}$(pval)')\n",
    "plt.tight_layout()"
   ]
  },
  {
   "cell_type": "code",
   "execution_count": null,
   "metadata": {},
   "outputs": [],
   "source": [
    "fig, ax = plt.subplots (subplot_kw=dict (projection='aitoff'))\n",
    "sp = cy.plotting.SkyPlotter(pc_kw=dict(cmap=cy.plotting.skymap_cmap, vmin=0, vmax=300))\n",
    "mesh, cb = sp.plot_map(ax, scan[2], n_ticks=5)\n",
    "kw = dict(color='.5', alpha=.5)\n",
    "sp.plot_gp(ax, lw=.5, **kw)\n",
    "sp.plot_gc(ax, **kw)\n",
    "ax.grid(**kw)\n",
    "cb.set_label(r'ns')\n",
    "plt.tight_layout()"
   ]
  },
  {
   "cell_type": "code",
   "execution_count": null,
   "metadata": {},
   "outputs": [],
   "source": [
    "fig, ax = plt.subplots (subplot_kw=dict (projection='aitoff'))\n",
    "sp = cy.plotting.SkyPlotter(pc_kw=dict(cmap='inferno', vmin=1, vmax=4))\n",
    "mesh, cb = sp.plot_map(ax, scan[3], n_ticks=9)\n",
    "kw = dict(color='.5', alpha=.5)\n",
    "sp.plot_gp(ax, lw=.5, **kw)\n",
    "sp.plot_gc(ax, **kw)\n",
    "ax.grid(**kw)\n",
    "cb.set_label(r'gamma')\n",
    "plt.tight_layout()"
   ]
  },
  {
   "cell_type": "code",
   "execution_count": null,
   "metadata": {},
   "outputs": [],
   "source": []
  },
  {
   "cell_type": "code",
   "execution_count": null,
   "metadata": {},
   "outputs": [],
   "source": []
  },
  {
   "cell_type": "code",
   "execution_count": null,
   "metadata": {},
   "outputs": [],
   "source": []
  },
  {
   "cell_type": "code",
   "execution_count": null,
   "metadata": {},
   "outputs": [],
   "source": []
  },
  {
   "cell_type": "code",
   "execution_count": null,
   "metadata": {},
   "outputs": [],
   "source": []
  }
 ],
 "metadata": {
  "kernelspec": {
   "display_name": "icerec3",
   "language": "python",
   "name": "icerec3"
  },
  "language_info": {
   "codemirror_mode": {
    "name": "ipython",
    "version": 3
   },
   "file_extension": ".py",
   "mimetype": "text/x-python",
   "name": "python",
   "nbconvert_exporter": "python",
   "pygments_lexer": "ipython3",
   "version": "3.7.5"
  }
 },
 "nbformat": 4,
 "nbformat_minor": 4
}
