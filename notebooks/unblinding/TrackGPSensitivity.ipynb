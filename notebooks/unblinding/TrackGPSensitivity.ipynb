{
 "cells": [
  {
   "cell_type": "code",
   "execution_count": null,
   "id": "damaged-trading",
   "metadata": {},
   "outputs": [],
   "source": [
    "%matplotlib inline\n",
    "%load_ext autoreload\n",
    "%autoreload 2\n",
    "\n",
    "#PDFs in BDT and sindec?\n",
    "import os\n",
    "\n",
    "# set env flags to catch BLAS used for scipy/numpy \n",
    "# to only use 1 cpu, n_cpus will be totally controlled by csky\n",
    "if False:\n",
    "    os.environ['MKL_NUM_THREADS'] = \"1\"\n",
    "    os.environ['NUMEXPR_NUM_THREADS'] = \"1\"\n",
    "    os.environ['OMP_NUM_THREADS'] = \"1\"\n",
    "    os.environ['OPENBLAS_NUM_THREADS'] = \"1\"\n",
    "    os.environ['VECLIB_MAXIMUM_THREADS'] = \"1\"\n",
    "\n",
    "import matplotlib as mpl\n",
    "mpl.rcParams['figure.facecolor'] = 'w'\n",
    "mpl.rcParams['savefig.facecolor'] = 'w'\n",
    "import matplotlib.pyplot as plt\n",
    "from matplotlib import colors, cm\n",
    "import csky as cy\n",
    "from csky import cext\n",
    "import numpy as np\n",
    "import astropy\n",
    "from tqdm.notebook import tqdm_notebook as tqdm\n",
    "#from icecube import astro\n",
    "import histlite as hl\n",
    "import healpy\n",
    "import healpy as hp\n",
    "import socket\n",
    "import pickle\n",
    "import copy\n",
    "healpy.disable_warnings()\n",
    "plt.rc('figure', facecolor = 'w')\n",
    "plt.rc('figure', dpi=100)"
   ]
  },
  {
   "cell_type": "markdown",
   "id": "secure-narrative",
   "metadata": {},
   "source": [
    "## Define Settings"
   ]
  },
  {
   "cell_type": "code",
   "execution_count": null,
   "id": "precious-power",
   "metadata": {},
   "outputs": [],
   "source": [
    "host_name = socket.gethostname()\n",
    "\n",
    "if 'cobalt' in host_name:\n",
    "    print('Working on Cobalts')\n",
    "    data_prefix = '/data/user/ssclafani/data/cscd/final'\n",
    "    ana_dir = '/data/user/ssclafani/data/analyses/'\n",
    "    plot_dir = '/data/user/mhuennefeld/data/analyses/DNNCascadeCodeReview/unblinding_checks/plots/unblinding/track_gp_sensitivity'\n",
    "    \n",
    "else:\n",
    "    raise ValueError('Unknown host:', host_name)"
   ]
  },
  {
   "cell_type": "code",
   "execution_count": null,
   "id": "complicated-hierarchy",
   "metadata": {},
   "outputs": [],
   "source": [
    "for dir_path in [plot_dir]:\n",
    "    if not os.path.exists(dir_path):\n",
    "        print('Creating directory:', dir_path)\n",
    "        os.makedirs(dir_path)"
   ]
  },
  {
   "cell_type": "markdown",
   "id": "empirical-neighbor",
   "metadata": {},
   "source": [
    "## Load Data"
   ]
  },
  {
   "cell_type": "code",
   "execution_count": null,
   "id": "tutorial-hybrid",
   "metadata": {},
   "outputs": [],
   "source": [
    "selection_version = 'version-001-p01'\n",
    "repo = cy.selections.Repository()\n",
    "specs = cy.selections.DNNCascadeDataSpecs.DNNC_10yr"
   ]
  },
  {
   "cell_type": "code",
   "execution_count": null,
   "id": "differential-violation",
   "metadata": {},
   "outputs": [],
   "source": [
    "%%time\n",
    "\n",
    "ana = cy.get_analysis(repo, selection_version, specs)"
   ]
  },
  {
   "cell_type": "code",
   "execution_count": null,
   "id": "essential-parallel",
   "metadata": {},
   "outputs": [],
   "source": [
    "a = ana.anas[0]\n",
    "a.sig"
   ]
  },
  {
   "cell_type": "code",
   "execution_count": null,
   "id": "bulgarian-internet",
   "metadata": {},
   "outputs": [],
   "source": [
    "a.bg_data"
   ]
  },
  {
   "cell_type": "markdown",
   "id": "egyptian-qatar",
   "metadata": {},
   "source": [
    "#### Load PSTracksV4"
   ]
  },
  {
   "cell_type": "code",
   "execution_count": null,
   "id": "monthly-liability",
   "metadata": {},
   "outputs": [],
   "source": [
    "%%time\n",
    "\n",
    "track_version = 'version-004-p00'\n",
    "ana_tracks = cy.get_analysis(\n",
    "    cy.selections.Repository(), track_version, cy.selections.PSDataSpecs.ps_v4, \n",
    ")"
   ]
  },
  {
   "cell_type": "markdown",
   "id": "mobile-convention",
   "metadata": {},
   "source": [
    "## Helpers"
   ]
  },
  {
   "cell_type": "code",
   "execution_count": null,
   "id": "dutch-still",
   "metadata": {},
   "outputs": [],
   "source": [
    "from cycler import cycle\n",
    "from copy import deepcopy\n",
    "\n",
    "soft_colors = cy.plotting.soft_colors\n",
    "colors = plt.rcParams['axes.prop_cycle'].by_key()['color']\n",
    "\n",
    "\n",
    "def get_bias_allt(tr, ntrials=200, n_sigs=np.r_[:101:10], quiet=False):\n",
    "    trials = [\n",
    "        (None if quiet else print(f'\\r{n_sig:4d} ...', end='', flush=True))\n",
    "        or\n",
    "        tr.get_many_fits(ntrials, n_sig=n_sig, logging=False, seed=n_sig)\n",
    "        for n_sig in n_sigs]\n",
    "    if not quiet:\n",
    "        print()\n",
    "    for (n_sig, t) in zip(n_sigs, trials):\n",
    "        t['ntrue'] = np.repeat(n_sig, len(t))\n",
    "    allt = cy.utils.Arrays.concatenate(trials)\n",
    "    return allt\n",
    "\n",
    "def get_color_cycler(colors=colors):\n",
    "    return cycle(colors)\n",
    "\n",
    "def plot_ns_bias(ax, tr, allt, label=''):\n",
    "\n",
    "    n_sigs = np.unique(allt.ntrue)\n",
    "    dns = np.mean(np.diff(n_sigs))\n",
    "    ns_bins = np.r_[n_sigs - 0.5*dns, n_sigs[-1] + 0.5*dns]\n",
    "    expect_kw = dict(color='C0', ls='--', lw=1, zorder=-10)\n",
    "\n",
    "    h = hl.hist((allt.ntrue, allt.ns), bins=(ns_bins, 100))\n",
    "    hl.plot1d(ax, h.contain_project(1),errorbands=True, \n",
    "              drawstyle='default', label=label)\n",
    "    lim = ns_bins[[0, -1]]\n",
    "    ax.set_xlim(ax.set_ylim(lim))\n",
    "    ax.plot(lim, lim, **expect_kw)\n",
    "    ax.set_aspect('equal')\n",
    "\n",
    "    ax.set_xlabel(r'$n_{inj}$')\n",
    "    ax.set_ylabel(r'$n_s$')\n",
    "    ax.grid()\n",
    "\n",
    "def plot_gamma_bias(ax, tr, allt, label=''):\n",
    "\n",
    "    n_sigs = np.unique(allt.ntrue)\n",
    "    dns = np.mean(np.diff(n_sigs))\n",
    "    ns_bins = np.r_[n_sigs - 0.5*dns, n_sigs[-1] + 0.5*dns]\n",
    "    expect_kw = dict(color='C0', ls='--', lw=1, zorder=-10)\n",
    "    expect_gamma = tr.sig_injs[0].flux[0].gamma\n",
    "\n",
    "    h = hl.hist((allt.ntrue, allt.gamma), bins=(ns_bins, 100))\n",
    "    hl.plot1d(ax, h.contain_project(1),errorbands=True, \n",
    "              drawstyle='default', label=label)\n",
    "    lim = ns_bins[[0, -1]]\n",
    "    ax.set_xlim(lim)\n",
    "    ax.set_ylim(1, 4)\n",
    "    ax.axhline(expect_gamma, **expect_kw)\n",
    "\n",
    "    ax.set_xlabel(r'$n_{inj}$')\n",
    "    ax.set_ylabel(r'$\\gamma$')\n",
    "    ax.grid()\n",
    "\n",
    "def plot_bkg_trials(\n",
    "            bg, fig=None, ax=None, \n",
    "            label='{} bg trials', \n",
    "            label_fit=r'$\\chi^2[{:.2f}\\mathrm{{dof}},\\ \\eta={:.3f}]$', \n",
    "            color=colors[0],\n",
    "            density=False,\n",
    "            bins=50,\n",
    "        ):\n",
    "    if ax is None:\n",
    "        fig, ax = plt.subplots(figsize=(6, 4))\n",
    "    \n",
    "    if density:\n",
    "        h = bg.get_hist(bins=bins).normalize()\n",
    "    else:\n",
    "        h = bg.get_hist(bins=bins)\n",
    "    if label is not None:\n",
    "        label = label.format(bg.n_total)\n",
    "    hl.plot1d(ax, h, crosses=True, color=color, label=label)\n",
    "\n",
    "    # compare with the chi2 fit:\n",
    "    if hasattr(bg, 'pdf'):\n",
    "        x = h.centers[0]\n",
    "        norm = h.integrate().values\n",
    "        if label_fit is not None:\n",
    "            label_fit = label_fit.format(bg.ndof, bg.eta)\n",
    "        if density:\n",
    "            ax.semilogy(x, bg.pdf(x), lw=1, ls='--', label=label_fit, color=color)\n",
    "        else:\n",
    "            ax.semilogy(x, norm * bg.pdf(x), lw=1, ls='--', label=label_fit, color=color)\n",
    "\n",
    "    ax.set_xlabel(r'TS')\n",
    "    if density:\n",
    "        ax.set_ylabel(r'Density')\n",
    "    else:\n",
    "        ax.set_ylabel(r'number of trials')\n",
    "    ax.legend()\n",
    "        \n",
    "    return fig, ax"
   ]
  },
  {
   "cell_type": "markdown",
   "id": "exact-acrobat",
   "metadata": {},
   "source": [
    "## Setup Analysis"
   ]
  },
  {
   "cell_type": "code",
   "execution_count": null,
   "id": "corresponding-referral",
   "metadata": {},
   "outputs": [],
   "source": [
    "import sys\n",
    "sys.path.insert(0, '../..')\n",
    "\n",
    "import config as cg\n",
    "\n",
    "cg.base_dir = '/data/user/mhuennefeld/data/analyses/unblinding_v1.0.1/'"
   ]
  },
  {
   "cell_type": "code",
   "execution_count": null,
   "id": "found-religion",
   "metadata": {},
   "outputs": [],
   "source": [
    "def get_tr(sindec, gamma, extension=0., cutoff=np.inf, cpus=20, sigsub=True):\n",
    "    src = cy.utils.sources(0, np.arcsin(sindec), extension=extension, deg=False)\n",
    "    cutoff_GeV = cutoff * 1e3\n",
    "    conf = cg.get_ps_conf(\n",
    "        src=src, gamma=gamma, cutoff_GeV=cutoff_GeV, sigsub=sigsub)\n",
    "\n",
    "    tr = cy.get_trial_runner(ana=ana, conf=conf, mp_cpus=cpus)\n",
    "    return tr, src\n",
    "\n",
    "def get_tr_tracks(sindec, gamma, extension=0., cutoff=np.inf, cpus=20, sigsub=False, ana=ana):\n",
    "    src = cy.utils.sources(0, np.arcsin(sindec), extension=extension, deg=False)\n",
    "    cutoff_GeV = cutoff * 1e3\n",
    "    conf = {\n",
    "        'src': src,\n",
    "        'flux': cy.hyp.PowerLawFlux(gamma, energy_cutoff=cutoff_GeV),\n",
    "        'update_bg': True,\n",
    "        'sigsub':  sigsub,\n",
    "        'randomize': ['ra'],\n",
    "    }\n",
    "    \n",
    "    tr = cy.get_trial_runner(ana=ana, conf=conf, mp_cpus=cpus)\n",
    "    return tr, src\n",
    "\n",
    "def get_gp_tr(template_str, cutoff=np.inf, gamma=None, cpus=20):\n",
    "    cutoff_GeV = cutoff * 1e3\n",
    "    gp_conf = cg.get_gp_conf(\n",
    "        template_str=template_str, gamma=gamma, \n",
    "        cutoff_GeV=cutoff_GeV, base_dir=cg.base_dir)\n",
    "    tr = cy.get_trial_runner(gp_conf, ana=ana, mp_cpus=cpus)\n",
    "    return tr\n",
    "\n",
    "def get_gp_tr_tracks(template_str, cutoff=np.inf, gamma=None, cpus=20):\n",
    "    cutoff_GeV = cutoff * 1e3\n",
    "    gp_conf = cg.get_gp_conf(\n",
    "        template_str=template_str, gamma=gamma, \n",
    "        cutoff_GeV=cutoff_GeV, base_dir=cg.base_dir)\n",
    "    gp_conf.pop('dir')\n",
    "    tr = cy.get_trial_runner(gp_conf, ana=ana_tracks, mp_cpus=cpus)\n",
    "    return tr\n",
    "\n",
    "def get_template_tr(template, gamma=2.7, cutoff_tev=np.inf, ana=ana, cpus=20):\n",
    "    cutoff_gev = cutoff_tev * 1000.\n",
    "    gp_conf = {\n",
    "        'template': template,\n",
    "        'flux': cy.hyp.PowerLawFlux(gamma, energy_cutoff=cutoff_gev),\n",
    "        'randomize': ['ra'],\n",
    "        'fitter_args': dict(gamma=gamma),\n",
    "        'sigsub': True,\n",
    "        'update_bg': True,\n",
    "        'fast_weight': False,\n",
    "    }\n",
    "    tr = cy.get_trial_runner(gp_conf, ana=ana, mp_cpus=cpus)\n",
    "    return tr"
   ]
  },
  {
   "cell_type": "markdown",
   "id": "naval-eligibility",
   "metadata": {},
   "source": [
    "#### Get TrialRunners"
   ]
  },
  {
   "cell_type": "code",
   "execution_count": null,
   "id": "discrete-hierarchy",
   "metadata": {},
   "outputs": [],
   "source": [
    "tr_dict = {\n",
    "    'pi0': get_gp_tr('pi0'),\n",
    "    #'kra5': get_gp_tr('kra5'),\n",
    "    #'kra50': get_gp_tr('kra50'),\n",
    "    'pi0_ps_v4': get_gp_tr_tracks('pi0'),\n",
    "}"
   ]
  },
  {
   "cell_type": "markdown",
   "id": "cloudy-education",
   "metadata": {},
   "source": [
    "#### Get results if they exist"
   ]
  },
  {
   "cell_type": "code",
   "execution_count": null,
   "id": "color-microwave",
   "metadata": {},
   "outputs": [],
   "source": [
    "res_dict = {}\n",
    "for key in tr_dict.keys():\n",
    "    f_path = os.path.join(\n",
    "        cg.base_dir, \n",
    "        'gp/results/{}/{}_unblinded.npy'.format(key, key), \n",
    "    )\n",
    "    if os.path.exists(f_path):\n",
    "        res_dict[key] = np.load(f_path)"
   ]
  },
  {
   "cell_type": "markdown",
   "id": "simple-seventh",
   "metadata": {},
   "source": [
    "#### Get bkg fits for each trial runner"
   ]
  },
  {
   "cell_type": "code",
   "execution_count": null,
   "id": "exempt-yorkshire",
   "metadata": {},
   "outputs": [],
   "source": [
    "bkg_file_dict = {\n",
    "    'fermibubbles_50TeV': '{}/gp/trials/{}/{}/trials.dict'.format(cg.base_dir, 'DNNC', 'fermibubbles'),\n",
    "    'pi0': '{}/gp/trials/{}/{}/trials.dict'.format(cg.base_dir, 'DNNC', 'pi0'),\n",
    "    'kra5': '{}/gp/trials/{}/{}/trials.dict'.format(cg.base_dir, 'DNNC', 'kra5'),\n",
    "    'kra50': '{}/gp/trials/{}/{}/trials.dict'.format(cg.base_dir, 'DNNC', 'kra50'),\n",
    "    'snr': '{}/stacking/{}_bg.dict'.format(cg.base_dir, 'snr'),\n",
    "    'pwn': '{}/stacking/{}_bg.dict'.format(cg.base_dir, 'pwn'),\n",
    "    'unid': '{}/stacking/{}_bg.dict'.format(cg.base_dir, 'unid'),\n",
    "    'pi0_ps_v4': os.path.join(plot_dir, 'trials_pi0_ps_v4.pkl'),\n",
    "}\n",
    "n_bkg_trials = 30000\n",
    "seed = 1337\n",
    "\n",
    "bkg_dict = {}\n",
    "for key, tr in tr_dict.items():\n",
    "    if key in bkg_file_dict and os.path.exists(bkg_file_dict[key]):\n",
    "        print('Loading background trials for template {}'.format(key))\n",
    "        sig = np.load(bkg_file_dict[key], allow_pickle=True)\n",
    "        if key in ['pi0', 'kra5', 'kra50']:\n",
    "            bkg_dict[key] = sig['poisson']['nsig'][0.0]['ts']\n",
    "        elif key in ['fermibubbles_50TeV']:\n",
    "            cutoff = float(key.replace('fermibubbles_', '').replace('TeV', ''))\n",
    "            print(key, 'cutoff', cutoff)\n",
    "            bkg_dict[key] = sig['poisson']['cutoff'][cutoff]['nsig'][0.0]['ts']\n",
    "        else:\n",
    "            bkg_dict[key] = sig.ts\n",
    "    \n",
    "    else:\n",
    "        print('Running background trials for model {}'.format(key))\n",
    "        trials = tr.get_many_fits(\n",
    "            n_trials=n_bkg_trials, seed=seed, mp_cpus=25)\n",
    "        \n",
    "        bkg_dict[key] = trials.ts\n",
    "        \n",
    "        out_file = os.path.join(plot_dir, 'trials_{}.pkl'.format(key))\n",
    "        with open(out_file, 'wb') as f:\n",
    "            pickle.dump(trials, f, protocol=2)\n",
    "        "
   ]
  },
  {
   "cell_type": "markdown",
   "id": "short-closing",
   "metadata": {},
   "source": [
    "#### Plot ts distribution"
   ]
  },
  {
   "cell_type": "code",
   "execution_count": null,
   "id": "buried-convenience",
   "metadata": {
    "scrolled": false
   },
   "outputs": [],
   "source": [
    "for key, bg in bkg_dict.items():\n",
    "    if len(bg) < 50000:\n",
    "        bg_tsd = cy.dists.Chi2TSD(bg)\n",
    "    else:\n",
    "        bg_tsd = cy.dists.TSD(bg)\n",
    "    fig, ax = plot_bkg_trials(bg_tsd)\n",
    "    ts_3sig = bg_tsd.isf_nsigma(3)\n",
    "    ax.axvline(\n",
    "        ts_3sig, ls='--', lw=1,\n",
    "        label='3-sigma TS: {:3.3f}'.format(ts_3sig), \n",
    "    )\n",
    "    ax.set_title('Trial Runner: {}'.format(key))\n",
    "    ax.set_yscale('log')\n",
    "    ax.legend()\n",
    "    fig.savefig('{}/ts_dist_{}.png'.format(plot_dir, key))"
   ]
  },
  {
   "cell_type": "markdown",
   "id": "falling-value",
   "metadata": {},
   "source": [
    "#### Define number of ns"
   ]
  },
  {
   "cell_type": "code",
   "execution_count": null,
   "id": "specialized-dimension",
   "metadata": {},
   "outputs": [],
   "source": [
    "ns_dict = {\n",
    "    'pi0': 678, #748.11, # bias corrected to 678\n",
    "    'kra5': 273.24,\n",
    "    'kra50': 208.95,\n",
    "    'snr': 218.45,\n",
    "    'pwn': 279.61,\n",
    "    'unid': 237.90,\n",
    "    'combined_stacking': 735., # 735 if results were independent\n",
    "    'fermibubbles_50TeV': 95.69,\n",
    "    'pi0_ps_v4': tr_dict['pi0_ps_v4'].to_ns(E2dNdE=2.18e-11, E0=100, unit=1e3), # bias corrected to 678\n",
    "}\n",
    "ns_dict"
   ]
  },
  {
   "cell_type": "markdown",
   "id": "tamil-miami",
   "metadata": {},
   "source": [
    "#### Run trials for injection strength"
   ]
  },
  {
   "cell_type": "code",
   "execution_count": null,
   "id": "biblical-private",
   "metadata": {},
   "outputs": [],
   "source": [
    "n_sig_trials = 1000\n",
    "\n",
    "p_values_dict = {}\n",
    "n_sigma_dict = {}\n",
    "sig_trials_dict = {}\n",
    "\n",
    "for key, tr in tr_dict.items():\n",
    "    \n",
    "    # get background distribution\n",
    "    bg = bkg_dict[key]\n",
    "    if len(bg) < 50000:\n",
    "        bg_tsd = cy.dists.Chi2TSD(bg)\n",
    "    else:\n",
    "        bg_tsd = cy.dists.TSD(bg)\n",
    "        \n",
    "    # get signal trials\n",
    "    print('Performing signal trials for {} with ns {}'.format(key, ns_dict[key]))\n",
    "    sig_trials = tr.get_many_fits(n_trials=n_sig_trials, cpus=25, n_sig=ns_dict[key], poisson=True)\n",
    "    \n",
    "    # compute significance\n",
    "    p_values = bg_tsd.sf(sig_trials.ts)\n",
    "    n_sigma = bg_tsd.sf_nsigma(sig_trials.ts)\n",
    "    \n",
    "    p_values_dict[key] = p_values\n",
    "    n_sigma_dict[key] = n_sigma\n",
    "    sig_trials_dict[key] = sig_trials\n",
    "    "
   ]
  },
  {
   "cell_type": "markdown",
   "id": "pressing-legislature",
   "metadata": {},
   "source": [
    "#### Plot expected significances"
   ]
  },
  {
   "cell_type": "code",
   "execution_count": null,
   "id": "known-string",
   "metadata": {},
   "outputs": [],
   "source": [
    "bins = np.linspace(-1, 6, 50)\n",
    "fig, ax = plt.subplots(figsize=(9, 6))\n",
    "color_cycle = get_color_cycler(colors=soft_colors)\n",
    "\n",
    "for key, n_sigmas in n_sigma_dict.items():\n",
    "    color = next(color_cycle)\n",
    "    ax.hist(n_sigmas, bins=bins, histtype='step', label=key, color=color)\n",
    "    median_sigma = np.median(n_sigmas)\n",
    "    ax.axvline(median_sigma, ls='-.', color=color, label='Median: {:3.2f}$\\cdot \\sigma$'.format(median_sigma))\n",
    "    \n",
    "ax.legend()\n",
    "ax.set_xlabel('$n \\cdot \\sigma$')\n",
    "fig.tight_layout()\n",
    "fig.savefig(os.path.join(plot_dir, 'comparison_significance.png'))"
   ]
  },
  {
   "cell_type": "markdown",
   "id": "smooth-truck",
   "metadata": {},
   "source": [
    "#### Compute Sensitivity"
   ]
  },
  {
   "cell_type": "code",
   "execution_count": null,
   "id": "educational-manufacturer",
   "metadata": {},
   "outputs": [],
   "source": [
    "sens_dict = {k: {} for k in tr_dict.keys()}\n",
    "\n",
    "for key, tr  in tr_dict.items():\n",
    "    if key == 'pi0': continue\n",
    "    # get background distribution\n",
    "    bg = bkg_dict[key]\n",
    "    if len(bg) < 50000:\n",
    "        bg = cy.dists.Chi2TSD(bg)\n",
    "    else:\n",
    "        bg = cy.dists.TSD(bg)\n",
    "    \n",
    "    if True:\n",
    "        ts = bg.median()\n",
    "        beta = 0.9\n",
    "    else:\n",
    "        ts = bg.isf_nsigma(3)\n",
    "        beta = 0.5\n",
    "    \n",
    "    print('Computing Sensitivity for {}'.format(key))\n",
    "    sens = tr.find_n_sig(\n",
    "            # ts, threshold\n",
    "            ts=ts,\n",
    "            # beta, fraction of trials which should exceed the threshold\n",
    "            beta=beta,\n",
    "            # n_inj step size for initial scan\n",
    "            n_sig_step=50,\n",
    "            # this many trials at a time\n",
    "            batch_size=100,\n",
    "            # tolerance, as estimated relative error\n",
    "            tol=.05,\n",
    "            first_batch_size = 100,\n",
    "            mp_cpus=30,\n",
    "            seed=seed\n",
    "        )\n",
    "    sens['flux'] = tr.to_E2dNdE(sens['n_sig'], E0=100, unit=1e3)\n",
    "    print('flux:', sens['flux'])\n",
    "    sens_dict[key] = sens"
   ]
  },
  {
   "cell_type": "code",
   "execution_count": null,
   "id": "supreme-shape",
   "metadata": {},
   "outputs": [],
   "source": [
    "for key, sens in sens_dict.items():\n",
    "    print('  {}: {:3.3e}'.format(\n",
    "        key, sens['flux'],\n",
    "    ))"
   ]
  },
  {
   "cell_type": "code",
   "execution_count": null,
   "id": "utility-leisure",
   "metadata": {},
   "outputs": [],
   "source": [
    "n_events = 0\n",
    "for a_i in ana_tracks.anas:\n",
    "    n_events += len(a_i.bg_data)\n",
    "n_events"
   ]
  }
 ],
 "metadata": {
  "kernelspec": {
   "display_name": "tensorflow2.3_py3-v4.1.0_csky",
   "language": "python",
   "name": "tensorflow2.3_py3-v4.1.0_csky"
  },
  "language_info": {
   "codemirror_mode": {
    "name": "ipython",
    "version": 3
   },
   "file_extension": ".py",
   "mimetype": "text/x-python",
   "name": "python",
   "nbconvert_exporter": "python",
   "pygments_lexer": "ipython3",
   "version": "3.7.5"
  }
 },
 "nbformat": 4,
 "nbformat_minor": 5
}
