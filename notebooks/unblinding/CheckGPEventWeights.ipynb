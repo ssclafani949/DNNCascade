{
 "cells": [
  {
   "cell_type": "code",
   "execution_count": 1,
   "metadata": {},
   "outputs": [
    {
     "name": "stderr",
     "output_type": "stream",
     "text": [
      "WARNING: AstropyDeprecationWarning: The disable_warnings function is deprecated and may be removed in a future version. [warnings]\n"
     ]
    }
   ],
   "source": [
    "%matplotlib inline\n",
    "%load_ext autoreload\n",
    "%autoreload 2\n",
    "\n",
    "import os\n",
    "\n",
    "# set env flags to catch BLAS used for scipy/numpy \n",
    "# to only use 1 cpu, n_cpus will be totally controlled by csky\n",
    "if False:\n",
    "    os.environ['MKL_NUM_THREADS'] = \"1\"\n",
    "    os.environ['NUMEXPR_NUM_THREADS'] = \"1\"\n",
    "    os.environ['OMP_NUM_THREADS'] = \"1\"\n",
    "    os.environ['OPENBLAS_NUM_THREADS'] = \"1\"\n",
    "    os.environ['VECLIB_MAXIMUM_THREADS'] = \"1\"\n",
    "\n",
    "import matplotlib as mpl\n",
    "mpl.rcParams['figure.facecolor'] = 'w'\n",
    "mpl.rcParams['savefig.facecolor'] = 'w'\n",
    "import matplotlib.pyplot as plt\n",
    "from matplotlib import colors, cm\n",
    "import csky as cy\n",
    "from csky import cext\n",
    "import numpy as np\n",
    "import astropy\n",
    "from icecube import astro\n",
    "import histlite as hl\n",
    "import healpy\n",
    "import healpy as hp\n",
    "import socket\n",
    "import pickle\n",
    "from scipy import stats\n",
    "import copy\n",
    "healpy.disable_warnings()\n",
    "plt.rc('figure', facecolor = 'w')\n",
    "plt.rc('figure', dpi=100)"
   ]
  },
  {
   "cell_type": "markdown",
   "metadata": {},
   "source": [
    "## Define Settings"
   ]
  },
  {
   "cell_type": "code",
   "execution_count": 2,
   "metadata": {},
   "outputs": [
    {
     "name": "stdout",
     "output_type": "stream",
     "text": [
      "Working on Cobalts\n"
     ]
    }
   ],
   "source": [
    "selection_version = 'version-001-p00'\n",
    "\n",
    "host_name = socket.gethostname()\n",
    "\n",
    "if 'cobalt' in host_name:\n",
    "    print('Working on Cobalts')\n",
    "    #data_prefix = '/data/user/ssclafani/data/cscd/final'\n",
    "    ana_dir = '/data/user/ssclafani/data/analyses/'\n",
    "    plot_dir = cy.utils.ensure_dir('/data/user/ssclafani/data/analyses/DNNCascadeCodeReview/unblinding_checks/plots/unblinding/galactic_plane_checks')\n",
    "    \n",
    "else:\n",
    "    raise ValueError('Unknown host:', host_name)"
   ]
  },
  {
   "cell_type": "code",
   "execution_count": 3,
   "metadata": {},
   "outputs": [],
   "source": [
    "for dir_path in [plot_dir]:\n",
    "    if not os.path.exists(dir_path):\n",
    "        print('Creating directory:', dir_path)\n",
    "        os.makedirs(dir_path)"
   ]
  },
  {
   "cell_type": "markdown",
   "metadata": {},
   "source": [
    "## Load Data"
   ]
  },
  {
   "cell_type": "code",
   "execution_count": 4,
   "metadata": {},
   "outputs": [],
   "source": [
    "repo = cy.selections.Repository(local_root='/data/user/ssclafani/data/analyses')\n",
    "specs = cy.selections.DNNCascadeDataSpecs.DNNC_10yr"
   ]
  },
  {
   "cell_type": "code",
   "execution_count": 5,
   "metadata": {},
   "outputs": [
    {
     "name": "stdout",
     "output_type": "stream",
     "text": [
      "Setting up Analysis for:\n",
      "DNNCascade_10yr\n",
      "Setting up DNNCascade_10yr...\n",
      "Reading /data/user/ssclafani/data/analyses/dnn_cascades/version-001-p00/MC_NuGen_bfrv1_2153x.npy ...\n",
      "Reading /data/user/ssclafani/data/analyses/dnn_cascades/version-001-p00/IC86_2011_exp.npy ...\n",
      "Reading /data/user/ssclafani/data/analyses/dnn_cascades/version-001-p00/IC86_2012_exp.npy ...\n",
      "Reading /data/user/ssclafani/data/analyses/dnn_cascades/version-001-p00/IC86_2013_exp.npy ...\n",
      "Reading /data/user/ssclafani/data/analyses/dnn_cascades/version-001-p00/IC86_2014_exp.npy ...\n",
      "Reading /data/user/ssclafani/data/analyses/dnn_cascades/version-001-p00/IC86_2015_exp.npy ...\n",
      "Reading /data/user/ssclafani/data/analyses/dnn_cascades/version-001-p00/IC86_2016_exp.npy ...\n",
      "Reading /data/user/ssclafani/data/analyses/dnn_cascades/version-001-p00/IC86_2017_exp.npy ...\n",
      "Reading /data/user/ssclafani/data/analyses/dnn_cascades/version-001-p00/IC86_2018_exp.npy ...\n",
      "Reading /data/user/ssclafani/data/analyses/dnn_cascades/version-001-p00/IC86_2019_exp.npy ...\n",
      "Reading /data/user/ssclafani/data/analyses/dnn_cascades/version-001-p00/IC86_2020_exp.npy ...\n",
      "Reading /data/user/ssclafani/data/analyses/dnn_cascades/version-001-p00/GRL/IC86_2011_exp.npy ...\n",
      "Reading /data/user/ssclafani/data/analyses/dnn_cascades/version-001-p00/GRL/IC86_2012_exp.npy ...\n",
      "Reading /data/user/ssclafani/data/analyses/dnn_cascades/version-001-p00/GRL/IC86_2013_exp.npy ...\n",
      "Reading /data/user/ssclafani/data/analyses/dnn_cascades/version-001-p00/GRL/IC86_2014_exp.npy ...\n",
      "Reading /data/user/ssclafani/data/analyses/dnn_cascades/version-001-p00/GRL/IC86_2015_exp.npy ...\n",
      "Reading /data/user/ssclafani/data/analyses/dnn_cascades/version-001-p00/GRL/IC86_2016_exp.npy ...\n",
      "Reading /data/user/ssclafani/data/analyses/dnn_cascades/version-001-p00/GRL/IC86_2017_exp.npy ...\n",
      "Reading /data/user/ssclafani/data/analyses/dnn_cascades/version-001-p00/GRL/IC86_2018_exp.npy ...\n",
      "Reading /data/user/ssclafani/data/analyses/dnn_cascades/version-001-p00/GRL/IC86_2019_exp.npy ...\n",
      "Reading /data/user/ssclafani/data/analyses/dnn_cascades/version-001-p00/GRL/IC86_2020_exp.npy ...\n",
      "Energy PDF Ratio Model...\n",
      "  * gamma = 4.0000 ...\n",
      "Signal Acceptance Model...\n",
      "  * gamma = 4.0000 ...\n",
      "Done.\n",
      "CPU times: user 6.3 s, sys: 248 ms, total: 6.55 s\n",
      "Wall time: 7.78 s\n"
     ]
    }
   ],
   "source": [
    "%%time\n",
    "\n",
    "ana = cy.get_analysis(\n",
    "    repo, selection_version, specs, \n",
    "    #gammas=np.r_[0.1:6.01:0.125],\n",
    ")"
   ]
  },
  {
   "cell_type": "code",
   "execution_count": 6,
   "metadata": {},
   "outputs": [
    {
     "data": {
      "text/plain": [
       "Events(398873 items | columns: azimuth, dec, energy, event, log10energy, mjd, ra, run, sigma, sindec, subevent, xdec, xra, true_dec, true_energy, true_ra, oneweight)"
      ]
     },
     "execution_count": 6,
     "metadata": {},
     "output_type": "execute_result"
    }
   ],
   "source": [
    "a = ana.anas[0]\n",
    "a.sig"
   ]
  },
  {
   "cell_type": "code",
   "execution_count": 7,
   "metadata": {},
   "outputs": [
    {
     "data": {
      "text/plain": [
       "Events(59610 items | columns: azimuth, dec, energy, event, log10energy, mjd, ra, run, sigma, sindec, subevent)"
      ]
     },
     "execution_count": 7,
     "metadata": {},
     "output_type": "execute_result"
    }
   ],
   "source": [
    "a.bg_data"
   ]
  },
  {
   "cell_type": "markdown",
   "metadata": {},
   "source": [
    "## Helpers"
   ]
  },
  {
   "cell_type": "code",
   "execution_count": 8,
   "metadata": {},
   "outputs": [],
   "source": [
    "from cycler import cycle\n",
    "from copy import deepcopy\n",
    "\n",
    "soft_colors = cy.plotting.soft_colors\n",
    "colors = plt.rcParams['axes.prop_cycle'].by_key()['color']\n",
    "\n",
    "\n",
    "def get_bias_allt(tr, ntrials=200, n_sigs=np.r_[:101:10], quiet=False):\n",
    "    trials = [\n",
    "        (None if quiet else print(f'\\r{n_sig:4d} ...', end='', flush=True))\n",
    "        or\n",
    "        tr.get_many_fits(ntrials, n_sig=n_sig, logging=False, seed=n_sig)\n",
    "        for n_sig in n_sigs]\n",
    "    if not quiet:\n",
    "        print()\n",
    "    for (n_sig, t) in zip(n_sigs, trials):\n",
    "        t['ntrue'] = np.repeat(n_sig, len(t))\n",
    "    allt = cy.utils.Arrays.concatenate(trials)\n",
    "    return allt\n",
    "\n",
    "def get_color_cycler():\n",
    "    return cycle(colors)\n",
    "\n",
    "def plot_ns_bias(ax, tr, allt, label=''):\n",
    "\n",
    "    n_sigs = np.unique(allt.ntrue)\n",
    "    dns = np.mean(np.diff(n_sigs))\n",
    "    ns_bins = np.r_[n_sigs - 0.5*dns, n_sigs[-1] + 0.5*dns]\n",
    "    expect_kw = dict(color='C0', ls='--', lw=1, zorder=-10)\n",
    "\n",
    "    h = hl.hist((allt.ntrue, allt.ns), bins=(ns_bins, 100))\n",
    "    hl.plot1d(ax, h.contain_project(1),errorbands=True, \n",
    "              drawstyle='default', label=label)\n",
    "    lim = ns_bins[[0, -1]]\n",
    "    ax.set_xlim(ax.set_ylim(lim))\n",
    "    ax.plot(lim, lim, **expect_kw)\n",
    "    ax.set_aspect('equal')\n",
    "\n",
    "    ax.set_xlabel(r'$n_{inj}$')\n",
    "    ax.set_ylabel(r'$n_s$')\n",
    "    ax.grid()\n",
    "\n",
    "def plot_gamma_bias(ax, tr, allt, label=''):\n",
    "\n",
    "    n_sigs = np.unique(allt.ntrue)\n",
    "    dns = np.mean(np.diff(n_sigs))\n",
    "    ns_bins = np.r_[n_sigs - 0.5*dns, n_sigs[-1] + 0.5*dns]\n",
    "    expect_kw = dict(color='C0', ls='--', lw=1, zorder=-10)\n",
    "    expect_gamma = tr.sig_injs[0].flux[0].gamma\n",
    "\n",
    "    h = hl.hist((allt.ntrue, allt.gamma), bins=(ns_bins, 100))\n",
    "    hl.plot1d(ax, h.contain_project(1),errorbands=True, \n",
    "              drawstyle='default', label=label)\n",
    "    lim = ns_bins[[0, -1]]\n",
    "    ax.set_xlim(lim)\n",
    "    ax.set_ylim(1, 4)\n",
    "    ax.axhline(expect_gamma, **expect_kw)\n",
    "\n",
    "    ax.set_xlabel(r'$n_{inj}$')\n",
    "    ax.set_ylabel(r'$\\gamma$')\n",
    "    ax.grid()\n",
    "\n",
    "def plot_bkg_trials(\n",
    "            bg, fig=None, ax=None, \n",
    "            label='{} bg trials', \n",
    "            label_fit=r'$\\chi^2[{:.2f}\\mathrm{{dof}},\\ \\eta={:.3f}]$', \n",
    "            color=colors[0],\n",
    "            density=False,\n",
    "            bins=50,\n",
    "        ):\n",
    "    if ax is None:\n",
    "        fig, ax = plt.subplots(figsize=(6, 4))\n",
    "    \n",
    "    if density:\n",
    "        h = bg.get_hist(bins=bins).normalize()\n",
    "    else:\n",
    "        h = bg.get_hist(bins=bins)\n",
    "    if label is not None:\n",
    "        label = label.format(bg.n_total)\n",
    "    hl.plot1d(ax, h, crosses=True, color=color, label=label)\n",
    "\n",
    "    # compare with the chi2 fit:\n",
    "    if hasattr(bg, 'pdf'):\n",
    "        x = h.centers[0]\n",
    "        norm = h.integrate().values\n",
    "        if label_fit is not None:\n",
    "            label_fit = label_fit.format(bg.ndof, bg.eta)\n",
    "        if density:\n",
    "            ax.semilogy(x, bg.pdf(x), lw=1, ls='--', label=label_fit, color=color)\n",
    "        else:\n",
    "            ax.semilogy(x, norm * bg.pdf(x), lw=1, ls='--', label=label_fit, color=color)\n",
    "\n",
    "    ax.set_xlabel(r'TS')\n",
    "    if density:\n",
    "        ax.set_ylabel(r'Density')\n",
    "    else:\n",
    "        ax.set_ylabel(r'number of trials')\n",
    "    ax.legend()\n",
    "        \n",
    "    return fig, ax"
   ]
  },
  {
   "cell_type": "markdown",
   "metadata": {},
   "source": [
    "## Setup Analysis"
   ]
  },
  {
   "cell_type": "code",
   "execution_count": 9,
   "metadata": {},
   "outputs": [
    {
     "name": "stdout",
     "output_type": "stream",
     "text": [
      "Running as User: ssclafani on Hostname: cobalt07.icecube.wisc.edu\n"
     ]
    }
   ],
   "source": [
    "import sys\n",
    "sys.path.insert(0, '../..')\n",
    "\n",
    "import config as cg\n",
    "\n",
    "cg.base_dir = '/data/user/mhuennefeld/data/analyses/unblinding_v1.0.0/'"
   ]
  },
  {
   "cell_type": "code",
   "execution_count": 10,
   "metadata": {},
   "outputs": [],
   "source": [
    "def get_gp_tr(template_str, cutoff=np.inf, gamma=None, cpus=20):\n",
    "    cutoff_GeV = cutoff * 1e3\n",
    "    gp_conf = cg.get_gp_conf(\n",
    "        template_str=template_str, gamma=gamma, \n",
    "        cutoff_GeV=cutoff_GeV, base_dir=cg.base_dir)\n",
    "    tr = cy.get_trial_runner(gp_conf, ana=ana, mp_cpus=cpus)\n",
    "    return tr\n",
    "\n",
    "def get_template_tr(template, gamma=2.7, cutoff_tev=np.inf, cpus=20):\n",
    "    cutoff_gev = cutoff_tev * 1000.\n",
    "    gp_conf = {\n",
    "        'template': template,\n",
    "        'flux': cy.hyp.PowerLawFlux(gamma, energy_cutoff=cutoff_gev),\n",
    "        'randomize': ['ra'],\n",
    "        'fitter_args': dict(gamma=gamma),\n",
    "        'sigsub': True,\n",
    "        'update_bg': True,\n",
    "        'fast_weight': False,\n",
    "    }\n",
    "    tr = cy.get_trial_runner(gp_conf, ana=ana, mp_cpus=cpus)\n",
    "    return tr\n"
   ]
  },
  {
   "cell_type": "markdown",
   "metadata": {},
   "source": [
    "#### Get TrialRunners"
   ]
  },
  {
   "cell_type": "code",
   "execution_count": 11,
   "metadata": {},
   "outputs": [
    {
     "name": "stdout",
     "output_type": "stream",
     "text": [
      "Reading /data/ana/analyses/NuSources/2021_DNNCascade_analyses/templates/Fermi-LAT_pi0_map.npy ...\n",
      "<- /data/user/mhuennefeld/data/analyses/unblinding_v1.0.0//templates/pi0/gamma/2.700/DNNCascade_10yr.template.npy    \n",
      "Restore successful.\n",
      "Reading /data/ana/analyses/NuSources/2021_DNNCascade_analyses/templates/KRA-gamma_5PeV_maps_energies.tuple.npy ...\n",
      "<- /data/user/mhuennefeld/data/analyses/unblinding_v1.0.0//templates/kra5/DNNCascade_10yr.template.npy    \n",
      "Restore successful.\n",
      "Reading /data/ana/analyses/NuSources/2021_DNNCascade_analyses/templates/KRA-gamma_maps_energies.tuple.npy ...\n",
      "<- /data/user/mhuennefeld/data/analyses/unblinding_v1.0.0//templates/kra50/DNNCascade_10yr.template.npy    \n",
      "Restore successful.\n"
     ]
    }
   ],
   "source": [
    "tr_dict = {\n",
    "    'pi0': get_gp_tr('pi0'),\n",
    "    'kra5': get_gp_tr('kra5'),\n",
    "    'kra50': get_gp_tr('kra50'),\n",
    "}"
   ]
  },
  {
   "cell_type": "markdown",
   "metadata": {},
   "source": [
    "#### Get bkg fits for each template"
   ]
  },
  {
   "cell_type": "code",
   "execution_count": 12,
   "metadata": {},
   "outputs": [],
   "source": [
    "tr  = tr_dict['pi0']"
   ]
  },
  {
   "cell_type": "code",
   "execution_count": 13,
   "metadata": {},
   "outputs": [
    {
     "data": {
      "text/plain": [
       "2.4362604418196504e-18"
      ]
     },
     "execution_count": 13,
     "metadata": {},
     "output_type": "execute_result"
    }
   ],
   "source": [
    "tr.to_dNdE(748, E0=1e5, unit=1)"
   ]
  },
  {
   "cell_type": "code",
   "execution_count": 14,
   "metadata": {},
   "outputs": [
    {
     "name": "stdout",
     "output_type": "stream",
     "text": [
      "Loading background trials for template pi0\n",
      "Loading background trials for template kra5\n",
      "Loading background trials for template kra50\n"
     ]
    }
   ],
   "source": [
    "bkg_file_dict = {\n",
    "    'pi0': '{}/gp/trials/{}/{}/trials.dict'.format(cg.base_dir, 'DNNC', 'pi0'),\n",
    "    'kra5': '{}/gp/trials/{}/{}/trials.dict'.format(cg.base_dir, 'DNNC', 'kra5'),\n",
    "    'kra50': '{}/gp/trials/{}/{}/trials.dict'.format(cg.base_dir, 'DNNC', 'kra50'),\n",
    "}\n",
    "n_bkg_trials = 20000\n",
    "seed = 1337\n",
    "\n",
    "bkg_dict = {}\n",
    "for key, tr in tr_dict.items():\n",
    "    if key in bkg_file_dict:\n",
    "        print('Loading background trials for template {}'.format(key))\n",
    "        sig = np.load(bkg_file_dict[key], allow_pickle=True)\n",
    "        bkg_dict[key] = sig['poisson']['nsig'][0.0]['ts']\n",
    "    \n",
    "    else:\n",
    "        print('Running background trials for template {}'.format(key))\n",
    "        bkg_dict[key] = tr.get_many_fits(\n",
    "            n_trials=n_bkg_trials, seed=seed, mp_cpus=20)\n"
   ]
  },
  {
   "cell_type": "markdown",
   "metadata": {},
   "source": [
    "#### Get Results for each template"
   ]
  },
  {
   "cell_type": "code",
   "execution_count": 15,
   "metadata": {},
   "outputs": [],
   "source": [
    "res_dict = {}\n",
    "for key in tr_dict.keys():\n",
    "    f_path = os.path.join(\n",
    "        cg.base_dir, \n",
    "        'gp/results/{}/{}_unblinded.npy'.format(key, key), \n",
    "    )\n",
    "    res_dict[key] = np.load(f_path)"
   ]
  },
  {
   "cell_type": "code",
   "execution_count": 16,
   "metadata": {},
   "outputs": [
    {
     "data": {
      "text/plain": [
       "{'pi0': <csky.trial.TrialRunner at 0x7f3293af8510>,\n",
       " 'kra5': <csky.trial.TrialRunner at 0x7f3293ae1fd0>,\n",
       " 'kra50': <csky.trial.TrialRunner at 0x7f3291165790>}"
      ]
     },
     "execution_count": 16,
     "metadata": {},
     "output_type": "execute_result"
    }
   ],
   "source": [
    "tr_dict"
   ]
  },
  {
   "cell_type": "code",
   "execution_count": 17,
   "metadata": {},
   "outputs": [],
   "source": [
    "def get_top_events(template_str, w, N, verbose=False):\n",
    "    #Get Trial\n",
    "    trial = tr_dict[template_str].get_one_trial(TRUTH=True)\n",
    "    L = tr_dict[template_str].get_one_llh_from_trial(trial)\n",
    "    print(L.fit(**tr_dict[template_str].fitter_args))\n",
    "    \n",
    "    ev = trial.evss[0][0] # something like that\n",
    "    ev['rank'] = np.argsort(w)[::-1]\n",
    "    top_ev = ev[ev.rank < N]\n",
    "\n",
    "    data_inj = top_ev.inj[0]\n",
    "    x = data_inj.data[top_ev.idx].as_dataframe\n",
    "    if verbose:\n",
    "        display(x)\n",
    "    return x"
   ]
  },
  {
   "cell_type": "code",
   "execution_count": 18,
   "metadata": {},
   "outputs": [],
   "source": [
    "def get_w(template_str, gamma=2.7):\n",
    "    trial = tr_dict[template_str].get_one_trial(TRUTH=True)\n",
    "    L = tr_dict[template_str].get_one_llh_from_trial(trial)\n",
    "    print(L.fit(**tr_dict[template_str].fitter_args))\n",
    "    \n",
    "    space_eval = cy.inspect.get_space_eval(L, -1, 0) # 0: background events (1 would be for signal events)\n",
    "    energy_eval = cy.inspect.get_energy_eval(L, -1, 0)\n",
    "    StoB_space_ss = space_eval(gamma=gamma)[1] \n",
    "    SoB_energy = energy_eval(gamma=gamma)[0]\n",
    "    SoB_space = space_eval(gamma=gamma)[0] \n",
    "    w = (SoB_space - StoB_space_ss) * SoB_energy\n",
    "    return w, np.argsort(w)"
   ]
  },
  {
   "cell_type": "code",
   "execution_count": 19,
   "metadata": {},
   "outputs": [],
   "source": [
    "def calc_N_events_for_2sigma(template_str, ws, verbose=False):\n",
    "    trial = tr_dict[template_str].get_one_trial(TRUTH=True)    \n",
    "    new_tss = []\n",
    "    new_pvals = []\n",
    "    new_sigmas = [] \n",
    "    #new_Es = [] \n",
    "    for i in range (40):\n",
    "        trial2 = deepcopy(trial)\n",
    "        if i == 0:\n",
    "            mask = (np.isin(trial.evss[0][0].idx, 123412341234))\n",
    "        else:\n",
    "            top = ws[-i:]\n",
    "            mask = (np.isin(trial.evss[0][0].idx, top))\n",
    "            #print(top[-30:])\n",
    "\n",
    "        missing_ev = trial2.evss[0][0][~mask]\n",
    "        trial2.evss[0][0] = missing_ev\n",
    "        L = tr_dict[template_str].get_one_llh_from_trial(trial2)\n",
    "        new_ts, new_ns, gamma = L.fit(**tr_dict[template_str].fitter_args)\n",
    "        pval = np.mean(bkg_dict[template_str] > new_ts)\n",
    "        if verbose:\n",
    "            print('Removing Top {} Events: TS= {:.2f} ns={:.2f}'.format(i, new_ts, new_ns['ns']))\n",
    "\n",
    "            print('New pvalue: {:.2f}'.format(stats.norm.isf(pval)))\n",
    "            print('-------------')\n",
    "        new_pvals.append(pval)\n",
    "        new_sigmas.append(stats.norm.isf(pval))\n",
    "        new_tss.append(new_ts)\n",
    "        if stats.norm.isf(pval) < 2:\n",
    "            N_events = i\n",
    "            break\n",
    "\n",
    "    print('{} Events to be below 2sigma '.format(N_events))\n",
    "    return N_events, new_tss, new_sigmas"
   ]
  },
  {
   "cell_type": "code",
   "execution_count": null,
   "metadata": {},
   "outputs": [],
   "source": []
  },
  {
   "cell_type": "code",
   "execution_count": 18,
   "metadata": {},
   "outputs": [],
   "source": [
    "def plot_removal_simgas(sigmas, N):\n",
    "    plt.scatter(np.arange(0,N+.1,1), sigmas)\n",
    "    plt.ylabel('N Sigma')\n",
    "    plt.xlabel('N Top Events Removed')\n",
    "    plt.ylim(1.5,5)\n",
    "    plt.grid()\n",
    "    plt.xlim(0,N + .2)"
   ]
  },
  {
   "cell_type": "code",
   "execution_count": 20,
   "metadata": {},
   "outputs": [
    {
     "name": "stdout",
     "output_type": "stream",
     "text": [
      "(19.033755068631105, {'ns': 273.24244005164337}, {})\n"
     ]
    }
   ],
   "source": [
    "w_kra5, ws_kra5 = get_w('kra5', None)\n",
    "#N_events_kra5, top_tss_kra5, top_sigmas_kra5= calc_N_events_for_2sigma('kra5', ws_kra5)\n",
    "#x = get_top_events('kra5', w_kra5, N_events_kra5)\n",
    "#plot_removal_simgas(top_sigmas_kra5, N_events_kra5)\n",
    "#x.to_pickle('/home/ssclafani/top_events_kra5.pickle')\n"
   ]
  },
  {
   "cell_type": "code",
   "execution_count": 21,
   "metadata": {},
   "outputs": [
    {
     "data": {
      "text/plain": [
       "array([ 0.0201668 , -0.1571104 ,  1.11220626, ..., -0.16921146,\n",
       "        1.12441973,  3.3788513 ])"
      ]
     },
     "execution_count": 21,
     "metadata": {},
     "output_type": "execute_result"
    }
   ],
   "source": [
    "w_kra5"
   ]
  },
  {
   "cell_type": "code",
   "execution_count": 23,
   "metadata": {},
   "outputs": [],
   "source": [
    "template_str = 'pi0'"
   ]
  },
  {
   "cell_type": "code",
   "execution_count": 42,
   "metadata": {},
   "outputs": [
    {
     "name": "stdout",
     "output_type": "stream",
     "text": [
      "Removing Events  logE < 8.0: TS= 22.19 ns=748.11\n",
      "New pvalue: 4.71\n",
      "-------------\n",
      "Removing Events  logE < 7.8: TS= 22.19 ns=748.11\n",
      "New pvalue: 4.71\n",
      "-------------\n",
      "Removing Events  logE < 7.6: TS= 22.19 ns=748.11\n",
      "New pvalue: 4.71\n",
      "-------------\n",
      "Removing Events  logE < 7.4: TS= 22.19 ns=748.11\n",
      "New pvalue: 4.71\n",
      "-------------\n",
      "Removing Events  logE < 7.2: TS= 22.19 ns=748.11\n",
      "New pvalue: 4.71\n",
      "-------------\n",
      "Removing Events  logE < 7.0: TS= 22.19 ns=748.11\n",
      "New pvalue: 4.71\n",
      "-------------\n",
      "Removing Events  logE < 6.8: TS= 22.19 ns=748.11\n",
      "New pvalue: 4.71\n",
      "-------------\n",
      "Removing Events  logE < 6.6: TS= 22.26 ns=749.53\n",
      "New pvalue: 4.71\n",
      "-------------\n",
      "Removing Events  logE < 6.4: TS= 22.27 ns=749.52\n",
      "New pvalue: 4.71\n",
      "-------------\n",
      "Removing Events  logE < 6.2: TS= 21.53 ns=737.86\n",
      "New pvalue: 4.64\n",
      "-------------\n",
      "Removing Events  logE < 6.0: TS= 22.08 ns=749.36\n",
      "New pvalue: 4.70\n",
      "-------------\n"
     ]
    }
   ],
   "source": [
    "trial = tr_dict[template_str].get_one_trial(TRUTH=True)    \n",
    "new_tss = []\n",
    "new_pvals = []\n",
    "new_sigmas = [] \n",
    "#new_Es = [] \n",
    "for logE in np.linspace(8,6,11):\n",
    "    trial2 = deepcopy(trial)\n",
    "    mask = trial.evss[0][0].log10energy < logE\n",
    "    missing_ev = trial2.evss[0][0][mask]\n",
    "    trial2.evss[0][0] = missing_ev\n",
    "    L = tr_dict[template_str].get_one_llh_from_trial(trial2)\n",
    "    new_ts, new_ns, gamma = L.fit(**tr_dict[template_str].fitter_args)\n",
    "    pval = np.mean(bkg_dict[template_str] > new_ts)\n",
    "    \n",
    "    print('Removing Events  logE < {}: TS= {:.2f} ns={:.2f}'.format(logE, new_ts, new_ns['ns']))\n",
    "    print('New pvalue: {:.2f}'.format(stats.norm.isf(pval)))\n",
    "    print('-------------')\n",
    "    #new_pvals.append(pval)\n",
    "    #new_sigmas.append(stats.norm.isf(pval))\n",
    "    #new_tss.append(new_ts)\n",
    "    #if stats.norm.isf(pval) < 2:\n",
    "    #    N_events = i\n",
    "    #    break\n",
    "\n"
   ]
  },
  {
   "cell_type": "code",
   "execution_count": null,
   "metadata": {},
   "outputs": [],
   "source": []
  },
  {
   "cell_type": "code",
   "execution_count": null,
   "metadata": {},
   "outputs": [],
   "source": []
  },
  {
   "cell_type": "code",
   "execution_count": 19,
   "metadata": {},
   "outputs": [
    {
     "name": "stdout",
     "output_type": "stream",
     "text": [
      "(19.033755068631105, {'ns': 273.24244005164337}, {})\n",
      "15 Events to be below 2sigma \n",
      "(19.033755068631105, {'ns': 273.24244005164337}, {})\n"
     ]
    },
    {
     "data": {
      "image/png": "[encoded data removed]",
      "text/plain": [
       "<Figure size 600x400 with 1 Axes>"
      ]
     },
     "metadata": {},
     "output_type": "display_data"
    }
   ],
   "source": [
    "w_kra5, ws_kra5 = get_w('kra5', None)\n",
    "N_events_kra5, top_tss_kra5, top_sigmas_kra5= calc_N_events_for_2sigma('kra5', ws_kra5)\n",
    "x = get_top_events('kra5', w_kra5, N_events_kra5)\n",
    "plot_removal_simgas(top_sigmas_kra5, N_events_kra5)\n",
    "x.to_pickle('/home/ssclafani/top_events_kra5.pickle')\n"
   ]
  },
  {
   "cell_type": "code",
   "execution_count": 20,
   "metadata": {},
   "outputs": [
    {
     "name": "stdout",
     "output_type": "stream",
     "text": [
      "(15.551087230759368, {'ns': 208.94803262085065}, {})\n",
      "10 Events to be below 2sigma \n",
      "(15.551087230759368, {'ns': 208.94803262085065}, {})\n"
     ]
    }
   ],
   "source": [
    "w_kra50, ws_kra50 = get_w('kra50', None)\n",
    "N_events_kra50, top_tss_kra50, top_sigmas_kra50 = calc_N_events_for_2sigma('kra50', ws_kra50)\n",
    "x = get_top_events('kra50', w_kra50, N_events_kra50)\n",
    "\n",
    "x.to_pickle('/home/ssclafani/top_events_kra50.pickle')"
   ]
  },
  {
   "cell_type": "code",
   "execution_count": 21,
   "metadata": {},
   "outputs": [
    {
     "name": "stdout",
     "output_type": "stream",
     "text": [
      "(22.188404164707155, {'ns': 748.1128410012386}, {'gamma': 2.7})\n",
      "27 Events to be below 2sigma \n",
      "(22.188404164707155, {'ns': 748.1128410012386}, {'gamma': 2.7})\n"
     ]
    },
    {
     "data": {
      "text/html": [
       "<div>\n",
       "<style scoped>\n",
       "    .dataframe tbody tr th:only-of-type {\n",
       "        vertical-align: middle;\n",
       "    }\n",
       "\n",
       "    .dataframe tbody tr th {\n",
       "        vertical-align: top;\n",
       "    }\n",
       "\n",
       "    .dataframe thead th {\n",
       "        text-align: right;\n",
       "    }\n",
       "</style>\n",
       "<table border=\"1\" class=\"dataframe\">\n",
       "  <thead>\n",
       "    <tr style=\"text-align: right;\">\n",
       "      <th></th>\n",
       "      <th>azimuth</th>\n",
       "      <th>dec</th>\n",
       "      <th>sindec</th>\n",
       "      <th>energy</th>\n",
       "      <th>log10energy</th>\n",
       "      <th>event</th>\n",
       "      <th>mjd</th>\n",
       "      <th>ra</th>\n",
       "      <th>run</th>\n",
       "      <th>sigma</th>\n",
       "      <th>subevent</th>\n",
       "    </tr>\n",
       "  </thead>\n",
       "  <tbody>\n",
       "    <tr>\n",
       "      <th>0</th>\n",
       "      <td>2.944438</td>\n",
       "      <td>-0.040470</td>\n",
       "      <td>-0.040459</td>\n",
       "      <td>1008.482361</td>\n",
       "      <td>3.003668</td>\n",
       "      <td>18174924</td>\n",
       "      <td>55817.405609</td>\n",
       "      <td>1.034041</td>\n",
       "      <td>118682</td>\n",
       "      <td>0.621940</td>\n",
       "      <td>0</td>\n",
       "    </tr>\n",
       "    <tr>\n",
       "      <th>1</th>\n",
       "      <td>5.695859</td>\n",
       "      <td>0.364923</td>\n",
       "      <td>0.356878</td>\n",
       "      <td>1865.459473</td>\n",
       "      <td>3.270786</td>\n",
       "      <td>33421030</td>\n",
       "      <td>56124.795364</td>\n",
       "      <td>6.019483</td>\n",
       "      <td>120451</td>\n",
       "      <td>0.185013</td>\n",
       "      <td>0</td>\n",
       "    </tr>\n",
       "    <tr>\n",
       "      <th>2</th>\n",
       "      <td>5.670975</td>\n",
       "      <td>-0.104176</td>\n",
       "      <td>-0.103988</td>\n",
       "      <td>525.178711</td>\n",
       "      <td>2.720307</td>\n",
       "      <td>62942812</td>\n",
       "      <td>56298.447906</td>\n",
       "      <td>0.565348</td>\n",
       "      <td>121537</td>\n",
       "      <td>0.692981</td>\n",
       "      <td>0</td>\n",
       "    </tr>\n",
       "    <tr>\n",
       "      <th>3</th>\n",
       "      <td>1.761321</td>\n",
       "      <td>0.644119</td>\n",
       "      <td>0.600495</td>\n",
       "      <td>865.433472</td>\n",
       "      <td>2.937234</td>\n",
       "      <td>78087993</td>\n",
       "      <td>56352.420019</td>\n",
       "      <td>5.228254</td>\n",
       "      <td>121945</td>\n",
       "      <td>0.396460</td>\n",
       "      <td>0</td>\n",
       "    </tr>\n",
       "    <tr>\n",
       "      <th>4</th>\n",
       "      <td>1.859584</td>\n",
       "      <td>-0.267584</td>\n",
       "      <td>-0.264402</td>\n",
       "      <td>568.855286</td>\n",
       "      <td>2.755002</td>\n",
       "      <td>37475054</td>\n",
       "      <td>56385.533064</td>\n",
       "      <td>0.126724</td>\n",
       "      <td>122138</td>\n",
       "      <td>0.258220</td>\n",
       "      <td>0</td>\n",
       "    </tr>\n",
       "    <tr>\n",
       "      <th>5</th>\n",
       "      <td>3.798596</td>\n",
       "      <td>0.451693</td>\n",
       "      <td>0.436489</td>\n",
       "      <td>1051.614502</td>\n",
       "      <td>3.021857</td>\n",
       "      <td>67705981</td>\n",
       "      <td>56495.278432</td>\n",
       "      <td>4.758929</td>\n",
       "      <td>122699</td>\n",
       "      <td>0.477548</td>\n",
       "      <td>0</td>\n",
       "    </tr>\n",
       "    <tr>\n",
       "      <th>6</th>\n",
       "      <td>1.293632</td>\n",
       "      <td>-0.125248</td>\n",
       "      <td>-0.124921</td>\n",
       "      <td>570.939575</td>\n",
       "      <td>2.756590</td>\n",
       "      <td>58086465</td>\n",
       "      <td>56616.823919</td>\n",
       "      <td>0.215838</td>\n",
       "      <td>123271</td>\n",
       "      <td>0.380637</td>\n",
       "      <td>0</td>\n",
       "    </tr>\n",
       "    <tr>\n",
       "      <th>7</th>\n",
       "      <td>1.345427</td>\n",
       "      <td>1.321048</td>\n",
       "      <td>0.968975</td>\n",
       "      <td>527.547058</td>\n",
       "      <td>2.722261</td>\n",
       "      <td>66964446</td>\n",
       "      <td>56655.381129</td>\n",
       "      <td>4.328388</td>\n",
       "      <td>123572</td>\n",
       "      <td>0.483991</td>\n",
       "      <td>0</td>\n",
       "    </tr>\n",
       "    <tr>\n",
       "      <th>8</th>\n",
       "      <td>1.567556</td>\n",
       "      <td>-0.636381</td>\n",
       "      <td>-0.594289</td>\n",
       "      <td>2184.337402</td>\n",
       "      <td>3.339320</td>\n",
       "      <td>23963893</td>\n",
       "      <td>57134.965112</td>\n",
       "      <td>3.459346</td>\n",
       "      <td>126285</td>\n",
       "      <td>0.174417</td>\n",
       "      <td>0</td>\n",
       "    </tr>\n",
       "    <tr>\n",
       "      <th>9</th>\n",
       "      <td>1.738049</td>\n",
       "      <td>-0.242078</td>\n",
       "      <td>-0.239721</td>\n",
       "      <td>6829.437500</td>\n",
       "      <td>3.834385</td>\n",
       "      <td>6844153</td>\n",
       "      <td>57202.999491</td>\n",
       "      <td>4.675243</td>\n",
       "      <td>126531</td>\n",
       "      <td>0.234515</td>\n",
       "      <td>0</td>\n",
       "    </tr>\n",
       "    <tr>\n",
       "      <th>10</th>\n",
       "      <td>4.587026</td>\n",
       "      <td>0.241894</td>\n",
       "      <td>0.239542</td>\n",
       "      <td>3039.550049</td>\n",
       "      <td>3.482809</td>\n",
       "      <td>1493323</td>\n",
       "      <td>57283.474561</td>\n",
       "      <td>6.195616</td>\n",
       "      <td>126860</td>\n",
       "      <td>0.255822</td>\n",
       "      <td>0</td>\n",
       "    </tr>\n",
       "    <tr>\n",
       "      <th>11</th>\n",
       "      <td>4.020638</td>\n",
       "      <td>-0.424849</td>\n",
       "      <td>-0.412183</td>\n",
       "      <td>5269.174805</td>\n",
       "      <td>3.721743</td>\n",
       "      <td>57458140</td>\n",
       "      <td>57493.052584</td>\n",
       "      <td>1.432789</td>\n",
       "      <td>127808</td>\n",
       "      <td>0.167091</td>\n",
       "      <td>0</td>\n",
       "    </tr>\n",
       "    <tr>\n",
       "      <th>12</th>\n",
       "      <td>3.776087</td>\n",
       "      <td>-0.840156</td>\n",
       "      <td>-0.744747</td>\n",
       "      <td>2061.480225</td>\n",
       "      <td>3.314179</td>\n",
       "      <td>20305369</td>\n",
       "      <td>57505.710361</td>\n",
       "      <td>6.028023</td>\n",
       "      <td>127855</td>\n",
       "      <td>0.189850</td>\n",
       "      <td>0</td>\n",
       "    </tr>\n",
       "    <tr>\n",
       "      <th>13</th>\n",
       "      <td>3.825090</td>\n",
       "      <td>-0.046919</td>\n",
       "      <td>-0.046902</td>\n",
       "      <td>757.418030</td>\n",
       "      <td>2.879336</td>\n",
       "      <td>65236947</td>\n",
       "      <td>57696.754866</td>\n",
       "      <td>3.261968</td>\n",
       "      <td>128676</td>\n",
       "      <td>0.287156</td>\n",
       "      <td>0</td>\n",
       "    </tr>\n",
       "    <tr>\n",
       "      <th>14</th>\n",
       "      <td>4.447166</td>\n",
       "      <td>-0.039216</td>\n",
       "      <td>-0.039206</td>\n",
       "      <td>973.345337</td>\n",
       "      <td>2.988267</td>\n",
       "      <td>15888798</td>\n",
       "      <td>57820.517289</td>\n",
       "      <td>3.276208</td>\n",
       "      <td>129266</td>\n",
       "      <td>0.348685</td>\n",
       "      <td>0</td>\n",
       "    </tr>\n",
       "    <tr>\n",
       "      <th>15</th>\n",
       "      <td>0.267089</td>\n",
       "      <td>-1.359058</td>\n",
       "      <td>-0.977667</td>\n",
       "      <td>509.145264</td>\n",
       "      <td>2.706842</td>\n",
       "      <td>53125906</td>\n",
       "      <td>57992.978393</td>\n",
       "      <td>0.753932</td>\n",
       "      <td>129943</td>\n",
       "      <td>0.188397</td>\n",
       "      <td>0</td>\n",
       "    </tr>\n",
       "    <tr>\n",
       "      <th>16</th>\n",
       "      <td>4.818389</td>\n",
       "      <td>0.292006</td>\n",
       "      <td>0.287874</td>\n",
       "      <td>538.009766</td>\n",
       "      <td>2.730790</td>\n",
       "      <td>2422879</td>\n",
       "      <td>58074.635138</td>\n",
       "      <td>1.733808</td>\n",
       "      <td>130258</td>\n",
       "      <td>0.723067</td>\n",
       "      <td>0</td>\n",
       "    </tr>\n",
       "    <tr>\n",
       "      <th>17</th>\n",
       "      <td>4.974282</td>\n",
       "      <td>0.500998</td>\n",
       "      <td>0.480301</td>\n",
       "      <td>5327.294434</td>\n",
       "      <td>3.726507</td>\n",
       "      <td>9449656</td>\n",
       "      <td>58257.588301</td>\n",
       "      <td>4.430929</td>\n",
       "      <td>131062</td>\n",
       "      <td>0.335303</td>\n",
       "      <td>0</td>\n",
       "    </tr>\n",
       "    <tr>\n",
       "      <th>18</th>\n",
       "      <td>1.685324</td>\n",
       "      <td>0.085816</td>\n",
       "      <td>0.085710</td>\n",
       "      <td>4226.334961</td>\n",
       "      <td>3.625964</td>\n",
       "      <td>9358090</td>\n",
       "      <td>58459.109017</td>\n",
       "      <td>1.891994</td>\n",
       "      <td>131871</td>\n",
       "      <td>0.201227</td>\n",
       "      <td>0</td>\n",
       "    </tr>\n",
       "    <tr>\n",
       "      <th>19</th>\n",
       "      <td>2.760136</td>\n",
       "      <td>-1.298677</td>\n",
       "      <td>-0.963203</td>\n",
       "      <td>1303.701416</td>\n",
       "      <td>3.115178</td>\n",
       "      <td>29385263</td>\n",
       "      <td>58529.310810</td>\n",
       "      <td>3.292753</td>\n",
       "      <td>132208</td>\n",
       "      <td>0.298732</td>\n",
       "      <td>0</td>\n",
       "    </tr>\n",
       "    <tr>\n",
       "      <th>20</th>\n",
       "      <td>5.354146</td>\n",
       "      <td>0.230299</td>\n",
       "      <td>0.228268</td>\n",
       "      <td>910.513123</td>\n",
       "      <td>2.959286</td>\n",
       "      <td>9107039</td>\n",
       "      <td>58538.791921</td>\n",
       "      <td>3.884753</td>\n",
       "      <td>132240</td>\n",
       "      <td>0.447239</td>\n",
       "      <td>0</td>\n",
       "    </tr>\n",
       "    <tr>\n",
       "      <th>21</th>\n",
       "      <td>2.212195</td>\n",
       "      <td>-0.089915</td>\n",
       "      <td>-0.089794</td>\n",
       "      <td>1501.133301</td>\n",
       "      <td>3.176419</td>\n",
       "      <td>36365967</td>\n",
       "      <td>58595.055788</td>\n",
       "      <td>3.369339</td>\n",
       "      <td>132464</td>\n",
       "      <td>0.283971</td>\n",
       "      <td>0</td>\n",
       "    </tr>\n",
       "    <tr>\n",
       "      <th>22</th>\n",
       "      <td>2.533723</td>\n",
       "      <td>0.037799</td>\n",
       "      <td>0.037790</td>\n",
       "      <td>1435.086182</td>\n",
       "      <td>3.156878</td>\n",
       "      <td>25970759</td>\n",
       "      <td>58864.893791</td>\n",
       "      <td>0.388736</td>\n",
       "      <td>133632</td>\n",
       "      <td>0.422084</td>\n",
       "      <td>0</td>\n",
       "    </tr>\n",
       "    <tr>\n",
       "      <th>23</th>\n",
       "      <td>3.078161</td>\n",
       "      <td>0.232047</td>\n",
       "      <td>0.229970</td>\n",
       "      <td>2454.456055</td>\n",
       "      <td>3.389955</td>\n",
       "      <td>54521762</td>\n",
       "      <td>58904.029676</td>\n",
       "      <td>1.371333</td>\n",
       "      <td>133774</td>\n",
       "      <td>0.460739</td>\n",
       "      <td>0</td>\n",
       "    </tr>\n",
       "    <tr>\n",
       "      <th>24</th>\n",
       "      <td>4.661002</td>\n",
       "      <td>-0.101235</td>\n",
       "      <td>-0.101062</td>\n",
       "      <td>1044.841919</td>\n",
       "      <td>3.019051</td>\n",
       "      <td>31846008</td>\n",
       "      <td>58923.754260</td>\n",
       "      <td>4.680506</td>\n",
       "      <td>133848</td>\n",
       "      <td>0.359614</td>\n",
       "      <td>0</td>\n",
       "    </tr>\n",
       "    <tr>\n",
       "      <th>25</th>\n",
       "      <td>1.403308</td>\n",
       "      <td>0.772827</td>\n",
       "      <td>0.698162</td>\n",
       "      <td>561.084412</td>\n",
       "      <td>2.749028</td>\n",
       "      <td>56270468</td>\n",
       "      <td>59255.985726</td>\n",
       "      <td>2.541485</td>\n",
       "      <td>134980</td>\n",
       "      <td>0.213394</td>\n",
       "      <td>0</td>\n",
       "    </tr>\n",
       "    <tr>\n",
       "      <th>26</th>\n",
       "      <td>5.136863</td>\n",
       "      <td>0.592255</td>\n",
       "      <td>0.558233</td>\n",
       "      <td>1521.614502</td>\n",
       "      <td>3.182305</td>\n",
       "      <td>70030954</td>\n",
       "      <td>59339.198553</td>\n",
       "      <td>1.576651</td>\n",
       "      <td>135255</td>\n",
       "      <td>0.245924</td>\n",
       "      <td>0</td>\n",
       "    </tr>\n",
       "  </tbody>\n",
       "</table>\n",
       "</div>"
      ],
      "text/plain": [
       "     azimuth       dec    sindec       energy  log10energy     event  \\\n",
       "0   2.944438 -0.040470 -0.040459  1008.482361     3.003668  18174924   \n",
       "1   5.695859  0.364923  0.356878  1865.459473     3.270786  33421030   \n",
       "2   5.670975 -0.104176 -0.103988   525.178711     2.720307  62942812   \n",
       "3   1.761321  0.644119  0.600495   865.433472     2.937234  78087993   \n",
       "4   1.859584 -0.267584 -0.264402   568.855286     2.755002  37475054   \n",
       "5   3.798596  0.451693  0.436489  1051.614502     3.021857  67705981   \n",
       "6   1.293632 -0.125248 -0.124921   570.939575     2.756590  58086465   \n",
       "7   1.345427  1.321048  0.968975   527.547058     2.722261  66964446   \n",
       "8   1.567556 -0.636381 -0.594289  2184.337402     3.339320  23963893   \n",
       "9   1.738049 -0.242078 -0.239721  6829.437500     3.834385   6844153   \n",
       "10  4.587026  0.241894  0.239542  3039.550049     3.482809   1493323   \n",
       "11  4.020638 -0.424849 -0.412183  5269.174805     3.721743  57458140   \n",
       "12  3.776087 -0.840156 -0.744747  2061.480225     3.314179  20305369   \n",
       "13  3.825090 -0.046919 -0.046902   757.418030     2.879336  65236947   \n",
       "14  4.447166 -0.039216 -0.039206   973.345337     2.988267  15888798   \n",
       "15  0.267089 -1.359058 -0.977667   509.145264     2.706842  53125906   \n",
       "16  4.818389  0.292006  0.287874   538.009766     2.730790   2422879   \n",
       "17  4.974282  0.500998  0.480301  5327.294434     3.726507   9449656   \n",
       "18  1.685324  0.085816  0.085710  4226.334961     3.625964   9358090   \n",
       "19  2.760136 -1.298677 -0.963203  1303.701416     3.115178  29385263   \n",
       "20  5.354146  0.230299  0.228268   910.513123     2.959286   9107039   \n",
       "21  2.212195 -0.089915 -0.089794  1501.133301     3.176419  36365967   \n",
       "22  2.533723  0.037799  0.037790  1435.086182     3.156878  25970759   \n",
       "23  3.078161  0.232047  0.229970  2454.456055     3.389955  54521762   \n",
       "24  4.661002 -0.101235 -0.101062  1044.841919     3.019051  31846008   \n",
       "25  1.403308  0.772827  0.698162   561.084412     2.749028  56270468   \n",
       "26  5.136863  0.592255  0.558233  1521.614502     3.182305  70030954   \n",
       "\n",
       "             mjd        ra     run     sigma  subevent  \n",
       "0   55817.405609  1.034041  118682  0.621940         0  \n",
       "1   56124.795364  6.019483  120451  0.185013         0  \n",
       "2   56298.447906  0.565348  121537  0.692981         0  \n",
       "3   56352.420019  5.228254  121945  0.396460         0  \n",
       "4   56385.533064  0.126724  122138  0.258220         0  \n",
       "5   56495.278432  4.758929  122699  0.477548         0  \n",
       "6   56616.823919  0.215838  123271  0.380637         0  \n",
       "7   56655.381129  4.328388  123572  0.483991         0  \n",
       "8   57134.965112  3.459346  126285  0.174417         0  \n",
       "9   57202.999491  4.675243  126531  0.234515         0  \n",
       "10  57283.474561  6.195616  126860  0.255822         0  \n",
       "11  57493.052584  1.432789  127808  0.167091         0  \n",
       "12  57505.710361  6.028023  127855  0.189850         0  \n",
       "13  57696.754866  3.261968  128676  0.287156         0  \n",
       "14  57820.517289  3.276208  129266  0.348685         0  \n",
       "15  57992.978393  0.753932  129943  0.188397         0  \n",
       "16  58074.635138  1.733808  130258  0.723067         0  \n",
       "17  58257.588301  4.430929  131062  0.335303         0  \n",
       "18  58459.109017  1.891994  131871  0.201227         0  \n",
       "19  58529.310810  3.292753  132208  0.298732         0  \n",
       "20  58538.791921  3.884753  132240  0.447239         0  \n",
       "21  58595.055788  3.369339  132464  0.283971         0  \n",
       "22  58864.893791  0.388736  133632  0.422084         0  \n",
       "23  58904.029676  1.371333  133774  0.460739         0  \n",
       "24  58923.754260  4.680506  133848  0.359614         0  \n",
       "25  59255.985726  2.541485  134980  0.213394         0  \n",
       "26  59339.198553  1.576651  135255  0.245924         0  "
      ]
     },
     "metadata": {},
     "output_type": "display_data"
    }
   ],
   "source": [
    "w_pi0, ws_pi0 = get_w('pi0', 2.7)\n",
    "N_events_pi0, top_tss_pi0, top_sigmas_pi0 = calc_N_events_for_2sigma('pi0', ws_pi0)\n",
    "x = get_top_events('pi0', w_pi0, N_events_pi0, verbose=True)\n",
    "x.to_pickle('/home/ssclafani/top_events_pi0.pickle')"
   ]
  },
  {
   "cell_type": "code",
   "execution_count": 41,
   "metadata": {},
   "outputs": [],
   "source": [
    "def plot_highest(template_str, N, ws, coord='equa'):\n",
    "    fig, ax = plt.subplots()\n",
    "    trial = tr_dict[template_str].get_one_trial(TRUTH=True)\n",
    "    es = []\n",
    "    ls = []\n",
    "    bs = []\n",
    "    decs = []\n",
    "    ras = []\n",
    "    sigmas = []\n",
    "    for a in ws[-N:][::-1]:\n",
    "        mask = trial.evss[0][0].idx == a\n",
    "        dec = trial.evss[0][0][mask].dec[0]\n",
    "        ra = trial.evss[0][0][mask].ra[0]\n",
    "        e = trial.evss[0][0][mask].energy[0]\n",
    "        ras.append(ra)\n",
    "        decs.append(dec)\n",
    "        es.append(e)\n",
    "        sigma = trial.evss[0][0][mask].sigma[0]    \n",
    "        sigmas.append(sigma)\n",
    "        l, b = astro.equa_to_gal(float(ra), float(dec))\n",
    "        ls.append(l)\n",
    "        bs.append(b)\n",
    "        print('ID: {} RA: {:.2f} DEC: {:.2f} E:{:.1f} SIGMA: {:2f}'.format(a, np.degrees(ra), np.degrees(dec),\n",
    "                                                                e , np.degrees(sigma)))\n",
    "    if coord == 'galactic':\n",
    "        ls = np.array(ls)\n",
    "        ls[ls>np.pi] -= 2*np.pi\n",
    "        \n",
    "        \n",
    "        plt.scatter(np.degrees(ls), np.degrees(bs), marker='.', edgecolors='k', s=100) \n",
    "        plt.xlabel('galactic (l)')\n",
    "        plt.axhline(0, c='k')\n",
    "        plt.ylabel('galactic (b)')\n",
    "        plt.xlim(-180,180)\n",
    "        ticks = ax.get_xticks()\n",
    "        ticks[ticks < 0] += 360\n",
    "        ax.set_xticklabels([int(tick) for tick in ticks])\n",
    "        plt.ylim(-10,10)\n",
    "        plt.scatter(0,0, c='r', marker='x')\n",
    "        plt.title('Distribution of highest {} events'.format(N))\n",
    "    if coord =='equa':\n",
    "        plt.title('Distribution of highest {} events'.format(N))\n",
    "        plt.scatter(np.degrees(ras), np.degrees(decs), s=np.pi*np.degrees(sigma)**2, marker='.', edgecolors='k', )\n",
    "        plt.scatter(266.41500889, -29.00, marker='x', c='r', label='Galactic Center')\n",
    "        plt.xlabel('RA[degrees]')\n",
    "        plt.ylim(-90,0)\n",
    "        plt.xlim(360,0)\n",
    "        plt.ylabel('DEC[degrees]')\n",
    "        plt.legend()\n",
    "    plt.show()\n",
    "    return ras, decs, sigmas, es"
   ]
  },
  {
   "cell_type": "code",
   "execution_count": 42,
   "metadata": {},
   "outputs": [
    {
     "name": "stdout",
     "output_type": "stream",
     "text": [
      "ID: 473 RA: 271.80 DEC: -28.82 E:103288.5 SIGMA: 5.786295\n",
      "ID: 52117 RA: 264.95 DEC: -34.91 E:40522.7 SIGMA: 3.671503\n",
      "ID: 12286 RA: 261.44 DEC: -36.96 E:34703.5 SIGMA: 3.458009\n",
      "ID: 14488 RA: 266.63 DEC: -25.82 E:25157.1 SIGMA: 5.150141\n",
      "ID: 56131 RA: 247.59 DEC: -47.88 E:7581.1 SIGMA: 2.772263\n",
      "ID: 13232 RA: 246.35 DEC: -54.00 E:113948.9 SIGMA: 4.912322\n",
      "ID: 50307 RA: 275.41 DEC: -27.34 E:23796.5 SIGMA: 5.702135\n",
      "ID: 1308 RA: 250.99 DEC: -39.30 E:29093.2 SIGMA: 4.368791\n",
      "ID: 38947 RA: 264.32 DEC: -36.50 E:11193.1 SIGMA: 4.758223\n",
      "ID: 54169 RA: 271.35 DEC: -17.99 E:56211.7 SIGMA: 5.730005\n",
      "ID: 9910 RA: 262.68 DEC: -28.68 E:8158.8 SIGMA: 4.403172\n",
      "ID: 25980 RA: 252.03 DEC: -46.98 E:7181.0 SIGMA: 3.961936\n",
      "ID: 378 RA: 271.67 DEC: -18.38 E:37171.0 SIGMA: 5.607180\n",
      "ID: 25997 RA: 258.69 DEC: -45.33 E:33669.7 SIGMA: 5.285249\n",
      "ID: 37139 RA: 279.54 DEC: -14.41 E:43698.0 SIGMA: 4.230784\n"
     ]
    },
    {
     "name": "stderr",
     "output_type": "stream",
     "text": [
      "/home/ssclafani/.vens/py3_venv/lib/python3.7/site-packages/ipykernel_launcher.py:37: UserWarning: FixedFormatter should only be used together with FixedLocator\n"
     ]
    },
    {
     "data": {
      "image/png": "[encoded data removed]",
      "text/plain": [
       "<Figure size 600x400 with 1 Axes>"
      ]
     },
     "metadata": {},
     "output_type": "display_data"
    },
    {
     "name": "stdout",
     "output_type": "stream",
     "text": [
      "ID: 473 RA: 271.80 DEC: -28.82 E:103288.5 SIGMA: 5.786295\n",
      "ID: 52117 RA: 264.95 DEC: -34.91 E:40522.7 SIGMA: 3.671503\n",
      "ID: 12286 RA: 261.44 DEC: -36.96 E:34703.5 SIGMA: 3.458009\n",
      "ID: 14488 RA: 266.63 DEC: -25.82 E:25157.1 SIGMA: 5.150141\n",
      "ID: 56131 RA: 247.59 DEC: -47.88 E:7581.1 SIGMA: 2.772263\n",
      "ID: 13232 RA: 246.35 DEC: -54.00 E:113948.9 SIGMA: 4.912322\n",
      "ID: 50307 RA: 275.41 DEC: -27.34 E:23796.5 SIGMA: 5.702135\n",
      "ID: 1308 RA: 250.99 DEC: -39.30 E:29093.2 SIGMA: 4.368791\n",
      "ID: 38947 RA: 264.32 DEC: -36.50 E:11193.1 SIGMA: 4.758223\n",
      "ID: 54169 RA: 271.35 DEC: -17.99 E:56211.7 SIGMA: 5.730005\n",
      "ID: 9910 RA: 262.68 DEC: -28.68 E:8158.8 SIGMA: 4.403172\n",
      "ID: 25980 RA: 252.03 DEC: -46.98 E:7181.0 SIGMA: 3.961936\n",
      "ID: 378 RA: 271.67 DEC: -18.38 E:37171.0 SIGMA: 5.607180\n",
      "ID: 25997 RA: 258.69 DEC: -45.33 E:33669.7 SIGMA: 5.285249\n",
      "ID: 37139 RA: 279.54 DEC: -14.41 E:43698.0 SIGMA: 4.230784\n"
     ]
    },
    {
     "data": {
      "image/png": "[encoded data removed]",
      "text/plain": [
       "<Figure size 600x400 with 1 Axes>"
      ]
     },
     "metadata": {},
     "output_type": "display_data"
    }
   ],
   "source": [
    "_,_,top_unc_kra5, top_Es_kra5 =  plot_highest('kra5', N_events_kra5, ws_kra5, coord='galactic')\n",
    "_ = plot_highest('kra5', N_events_kra5, ws_kra5, coord='equa')"
   ]
  },
  {
   "cell_type": "code",
   "execution_count": 43,
   "metadata": {},
   "outputs": [
    {
     "name": "stdout",
     "output_type": "stream",
     "text": [
      "ID: 56131 RA: 247.59 DEC: -47.88 E:7581.1 SIGMA: 2.772263\n",
      "ID: 1373 RA: 268.70 DEC: -24.99 E:866616.8 SIGMA: 4.229523\n",
      "ID: 25980 RA: 252.03 DEC: -46.98 E:7181.0 SIGMA: 3.961936\n",
      "ID: 12286 RA: 261.44 DEC: -36.96 E:34703.5 SIGMA: 3.458009\n",
      "ID: 52117 RA: 264.95 DEC: -34.91 E:40522.7 SIGMA: 3.671503\n",
      "ID: 13232 RA: 246.35 DEC: -54.00 E:113948.9 SIGMA: 4.912322\n",
      "ID: 18187 RA: 242.27 DEC: -55.89 E:20748.0 SIGMA: 5.454351\n",
      "ID: 8836 RA: 235.00 DEC: -54.67 E:13688.0 SIGMA: 5.564590\n",
      "ID: 14488 RA: 266.63 DEC: -25.82 E:25157.1 SIGMA: 5.150141\n",
      "ID: 30475 RA: 238.47 DEC: -55.46 E:23954.2 SIGMA: 6.251959\n",
      "ID: 24973 RA: 231.53 DEC: -54.29 E:26507.0 SIGMA: 5.492816\n",
      "ID: 54961 RA: 252.86 DEC: -43.27 E:5219.7 SIGMA: 3.736714\n",
      "ID: 1308 RA: 250.99 DEC: -39.30 E:29093.2 SIGMA: 4.368791\n",
      "ID: 25997 RA: 258.69 DEC: -45.33 E:33669.7 SIGMA: 5.285249\n",
      "ID: 23063 RA: 245.36 DEC: -53.89 E:44297.3 SIGMA: 5.763471\n",
      "ID: 54949 RA: 288.07 DEC: 5.35 E:255217.8 SIGMA: 5.806482\n",
      "ID: 24142 RA: 207.17 DEC: -65.67 E:12872.7 SIGMA: 5.546120\n",
      "ID: 54169 RA: 271.35 DEC: -17.99 E:56211.7 SIGMA: 5.730005\n",
      "ID: 51308 RA: 224.25 DEC: -60.70 E:61088.4 SIGMA: 4.360116\n",
      "ID: 473 RA: 271.80 DEC: -28.82 E:103288.5 SIGMA: 5.786295\n",
      "ID: 378 RA: 271.67 DEC: -18.38 E:37171.0 SIGMA: 5.607180\n",
      "ID: 4588 RA: 214.84 DEC: -66.60 E:18888.5 SIGMA: 3.501638\n",
      "ID: 38947 RA: 264.32 DEC: -36.50 E:11193.1 SIGMA: 4.758223\n",
      "ID: 59151 RA: 289.99 DEC: 14.63 E:73875.1 SIGMA: 4.682695\n",
      "ID: 8770 RA: 238.19 DEC: -42.72 E:1961428.6 SIGMA: 8.637648\n",
      "ID: 44846 RA: 246.31 DEC: -49.78 E:25292.3 SIGMA: 9.611609\n",
      "ID: 37139 RA: 279.54 DEC: -14.41 E:43698.0 SIGMA: 4.230784\n"
     ]
    },
    {
     "name": "stderr",
     "output_type": "stream",
     "text": [
      "/home/ssclafani/.vens/py3_venv/lib/python3.7/site-packages/ipykernel_launcher.py:37: UserWarning: FixedFormatter should only be used together with FixedLocator\n"
     ]
    },
    {
     "data": {
      "image/png": "[encoded data removed]",
      "text/plain": [
       "<Figure size 600x400 with 1 Axes>"
      ]
     },
     "metadata": {},
     "output_type": "display_data"
    },
    {
     "name": "stdout",
     "output_type": "stream",
     "text": [
      "ID: 56131 RA: 247.59 DEC: -47.88 E:7581.1 SIGMA: 2.772263\n",
      "ID: 1373 RA: 268.70 DEC: -24.99 E:866616.8 SIGMA: 4.229523\n",
      "ID: 25980 RA: 252.03 DEC: -46.98 E:7181.0 SIGMA: 3.961936\n",
      "ID: 12286 RA: 261.44 DEC: -36.96 E:34703.5 SIGMA: 3.458009\n",
      "ID: 52117 RA: 264.95 DEC: -34.91 E:40522.7 SIGMA: 3.671503\n",
      "ID: 13232 RA: 246.35 DEC: -54.00 E:113948.9 SIGMA: 4.912322\n",
      "ID: 18187 RA: 242.27 DEC: -55.89 E:20748.0 SIGMA: 5.454351\n",
      "ID: 8836 RA: 235.00 DEC: -54.67 E:13688.0 SIGMA: 5.564590\n",
      "ID: 14488 RA: 266.63 DEC: -25.82 E:25157.1 SIGMA: 5.150141\n",
      "ID: 30475 RA: 238.47 DEC: -55.46 E:23954.2 SIGMA: 6.251959\n",
      "ID: 24973 RA: 231.53 DEC: -54.29 E:26507.0 SIGMA: 5.492816\n",
      "ID: 54961 RA: 252.86 DEC: -43.27 E:5219.7 SIGMA: 3.736714\n",
      "ID: 1308 RA: 250.99 DEC: -39.30 E:29093.2 SIGMA: 4.368791\n",
      "ID: 25997 RA: 258.69 DEC: -45.33 E:33669.7 SIGMA: 5.285249\n",
      "ID: 23063 RA: 245.36 DEC: -53.89 E:44297.3 SIGMA: 5.763471\n",
      "ID: 54949 RA: 288.07 DEC: 5.35 E:255217.8 SIGMA: 5.806482\n",
      "ID: 24142 RA: 207.17 DEC: -65.67 E:12872.7 SIGMA: 5.546120\n",
      "ID: 54169 RA: 271.35 DEC: -17.99 E:56211.7 SIGMA: 5.730005\n",
      "ID: 51308 RA: 224.25 DEC: -60.70 E:61088.4 SIGMA: 4.360116\n",
      "ID: 473 RA: 271.80 DEC: -28.82 E:103288.5 SIGMA: 5.786295\n",
      "ID: 378 RA: 271.67 DEC: -18.38 E:37171.0 SIGMA: 5.607180\n",
      "ID: 4588 RA: 214.84 DEC: -66.60 E:18888.5 SIGMA: 3.501638\n",
      "ID: 38947 RA: 264.32 DEC: -36.50 E:11193.1 SIGMA: 4.758223\n",
      "ID: 59151 RA: 289.99 DEC: 14.63 E:73875.1 SIGMA: 4.682695\n",
      "ID: 8770 RA: 238.19 DEC: -42.72 E:1961428.6 SIGMA: 8.637648\n",
      "ID: 44846 RA: 246.31 DEC: -49.78 E:25292.3 SIGMA: 9.611609\n",
      "ID: 37139 RA: 279.54 DEC: -14.41 E:43698.0 SIGMA: 4.230784\n"
     ]
    },
    {
     "data": {
      "image/png": "[encoded data removed]",
      "text/plain": [
       "<Figure size 600x400 with 1 Axes>"
      ]
     },
     "metadata": {},
     "output_type": "display_data"
    }
   ],
   "source": [
    "_,_,top_unc_pi0, top_Es_pi0 = plot_highest('pi0', N_events_pi0, ws_pi0, coord='galactic')\n",
    "_ = plot_highest('pi0', N_events_pi0, ws_pi0, coord='equa')"
   ]
  },
  {
   "cell_type": "code",
   "execution_count": 44,
   "metadata": {},
   "outputs": [
    {
     "name": "stdout",
     "output_type": "stream",
     "text": [
      "ID: 473 RA: 271.80 DEC: -28.82 E:103288.5 SIGMA: 5.786295\n",
      "ID: 52117 RA: 264.95 DEC: -34.91 E:40522.7 SIGMA: 3.671503\n",
      "ID: 12286 RA: 261.44 DEC: -36.96 E:34703.5 SIGMA: 3.458009\n",
      "ID: 1373 RA: 268.70 DEC: -24.99 E:866616.8 SIGMA: 4.229523\n",
      "ID: 14488 RA: 266.63 DEC: -25.82 E:25157.1 SIGMA: 5.150141\n",
      "ID: 13232 RA: 246.35 DEC: -54.00 E:113948.9 SIGMA: 4.912322\n",
      "ID: 20062 RA: 275.12 DEC: -35.95 E:133363.0 SIGMA: 10.357719\n",
      "ID: 54169 RA: 271.35 DEC: -17.99 E:56211.7 SIGMA: 5.730005\n",
      "ID: 56131 RA: 247.59 DEC: -47.88 E:7581.1 SIGMA: 2.772263\n",
      "ID: 50307 RA: 275.41 DEC: -27.34 E:23796.5 SIGMA: 5.702135\n"
     ]
    },
    {
     "name": "stderr",
     "output_type": "stream",
     "text": [
      "/home/ssclafani/.vens/py3_venv/lib/python3.7/site-packages/ipykernel_launcher.py:37: UserWarning: FixedFormatter should only be used together with FixedLocator\n"
     ]
    },
    {
     "data": {
      "image/png": "[encoded data removed]",
      "text/plain": [
       "<Figure size 600x400 with 1 Axes>"
      ]
     },
     "metadata": {},
     "output_type": "display_data"
    },
    {
     "name": "stdout",
     "output_type": "stream",
     "text": [
      "ID: 473 RA: 271.80 DEC: -28.82 E:103288.5 SIGMA: 5.786295\n",
      "ID: 52117 RA: 264.95 DEC: -34.91 E:40522.7 SIGMA: 3.671503\n",
      "ID: 12286 RA: 261.44 DEC: -36.96 E:34703.5 SIGMA: 3.458009\n",
      "ID: 1373 RA: 268.70 DEC: -24.99 E:866616.8 SIGMA: 4.229523\n",
      "ID: 14488 RA: 266.63 DEC: -25.82 E:25157.1 SIGMA: 5.150141\n",
      "ID: 13232 RA: 246.35 DEC: -54.00 E:113948.9 SIGMA: 4.912322\n",
      "ID: 20062 RA: 275.12 DEC: -35.95 E:133363.0 SIGMA: 10.357719\n",
      "ID: 54169 RA: 271.35 DEC: -17.99 E:56211.7 SIGMA: 5.730005\n",
      "ID: 56131 RA: 247.59 DEC: -47.88 E:7581.1 SIGMA: 2.772263\n",
      "ID: 50307 RA: 275.41 DEC: -27.34 E:23796.5 SIGMA: 5.702135\n"
     ]
    },
    {
     "data": {
      "image/png": "[encoded data removed]",
      "text/plain": [
       "<Figure size 600x400 with 1 Axes>"
      ]
     },
     "metadata": {},
     "output_type": "display_data"
    }
   ],
   "source": [
    "_,_,top_unc_kra50, top_Es_kra50 = plot_highest('kra50', N_events_kra50, ws_kra50, coord='galactic')\n",
    "_ = plot_highest('kra50', N_events_kra50, ws_kra50, coord='equa')"
   ]
  },
  {
   "cell_type": "code",
   "execution_count": 40,
   "metadata": {},
   "outputs": [
    {
     "data": {
      "text/plain": [
       "Text(0.5, 1.0, 'Top Events required to drop signifigance to 2sigma')"
      ]
     },
     "execution_count": 40,
     "metadata": {},
     "output_type": "execute_result"
    },
    {
     "data": {
      "image/png": "[encoded data removed]",
      "text/plain": [
       "<Figure size 600x400 with 1 Axes>"
      ]
     },
     "metadata": {},
     "output_type": "display_data"
    }
   ],
   "source": [
    "plt.hist(np.log10(top_Es_pi0), bins=20)\n",
    "plt.xlabel('log10(E)[GeV]')\n",
    "#plt.xlim(3,7)\n",
    "plt.ylabel('Counts')\n",
    "plt.title('Top Events required to drop signifigance to 2sigma')"
   ]
  },
  {
   "cell_type": "code",
   "execution_count": null,
   "metadata": {},
   "outputs": [],
   "source": [
    "plt.hist(np.degrees(top_unc_pi0), bins=20)\n",
    "plt.xlabel('Sigma[Degrees]')\n",
    "plt.xlim(0,15)\n",
    "plt.ylabel('Counts')\n",
    "plt.title('Top Events required to drop signifigance to 2sigma')"
   ]
  },
  {
   "cell_type": "code",
   "execution_count": null,
   "metadata": {},
   "outputs": [],
   "source": []
  },
  {
   "cell_type": "code",
   "execution_count": null,
   "metadata": {},
   "outputs": [],
   "source": []
  },
  {
   "cell_type": "code",
   "execution_count": null,
   "metadata": {},
   "outputs": [],
   "source": []
  }
 ],
 "metadata": {
  "kernelspec": {
   "display_name": "icerec3",
   "language": "python",
   "name": "icerec3"
  },
  "language_info": {
   "codemirror_mode": {
    "name": "ipython",
    "version": 3
   },
   "file_extension": ".py",
   "mimetype": "text/x-python",
   "name": "python",
   "nbconvert_exporter": "python",
   "pygments_lexer": "ipython3",
   "version": "3.7.5"
  }
 },
 "nbformat": 4,
 "nbformat_minor": 5
}
