{
 "cells": [
  {
   "cell_type": "code",
   "execution_count": null,
   "metadata": {},
   "outputs": [],
   "source": [
    "%matplotlib inline\n",
    "%load_ext autoreload\n",
    "%autoreload 2\n",
    "\n",
    "import os\n",
    "\n",
    "# set env flags to catch BLAS used for scipy/numpy \n",
    "# to only use 1 cpu, n_cpus will be totally controlled by csky\n",
    "if False:\n",
    "    os.environ['MKL_NUM_THREADS'] = \"1\"\n",
    "    os.environ['NUMEXPR_NUM_THREADS'] = \"1\"\n",
    "    os.environ['OMP_NUM_THREADS'] = \"1\"\n",
    "    os.environ['OPENBLAS_NUM_THREADS'] = \"1\"\n",
    "    os.environ['VECLIB_MAXIMUM_THREADS'] = \"1\"\n",
    "\n",
    "import matplotlib as mpl\n",
    "mpl.rcParams['figure.facecolor'] = 'w'\n",
    "mpl.rcParams['savefig.facecolor'] = 'w'\n",
    "import matplotlib.pyplot as plt\n",
    "from matplotlib import colors, cm\n",
    "import csky as cy\n",
    "from csky import cext\n",
    "import numpy as np\n",
    "import astropy\n",
    "from icecube import astro\n",
    "import histlite as hl\n",
    "import healpy\n",
    "import healpy as hp\n",
    "import socket\n",
    "import pickle\n",
    "from scipy import stats\n",
    "import copy\n",
    "healpy.disable_warnings()\n",
    "plt.rc('figure', facecolor = 'w')\n",
    "plt.rc('figure', dpi=100)"
   ]
  },
  {
   "cell_type": "markdown",
   "metadata": {},
   "source": [
    "## Define Settings"
   ]
  },
  {
   "cell_type": "code",
   "execution_count": null,
   "metadata": {},
   "outputs": [],
   "source": [
    "selection_version = 'version-001-p01'\n",
    "\n",
    "host_name = socket.gethostname()\n",
    "\n",
    "if 'cobalt' in host_name:\n",
    "    print('Working on Cobalts')\n",
    "    #data_prefix = '/data/user/ssclafani/data/cscd/final'\n",
    "    ana_dir = '/data/user/ssclafani/data/analyses/'\n",
    "    plot_dir = cy.utils.ensure_dir('/data/user/ssclafani/data/analyses/DNNCascadeCodeReview/unblinding_checks/plots/unblinding/galactic_plane_checks')\n",
    "    \n",
    "else:\n",
    "    raise ValueError('Unknown host:', host_name)"
   ]
  },
  {
   "cell_type": "code",
   "execution_count": null,
   "metadata": {},
   "outputs": [],
   "source": [
    "for dir_path in [plot_dir]:\n",
    "    if not os.path.exists(dir_path):\n",
    "        print('Creating directory:', dir_path)\n",
    "        os.makedirs(dir_path)"
   ]
  },
  {
   "cell_type": "markdown",
   "metadata": {},
   "source": [
    "## Load Data"
   ]
  },
  {
   "cell_type": "code",
   "execution_count": null,
   "metadata": {},
   "outputs": [],
   "source": [
    "repo = cy.selections.Repository(local_root='/data/user/ssclafani/data/analyses')\n",
    "specs = cy.selections.DNNCascadeDataSpecs.DNNC_10yr"
   ]
  },
  {
   "cell_type": "code",
   "execution_count": null,
   "metadata": {},
   "outputs": [],
   "source": [
    "%%time\n",
    "\n",
    "ana = cy.get_analysis(\n",
    "    repo, selection_version, specs, \n",
    "    #gammas=np.r_[0.1:6.01:0.125],\n",
    ")"
   ]
  },
  {
   "cell_type": "code",
   "execution_count": null,
   "metadata": {},
   "outputs": [],
   "source": [
    "a = ana.anas[0]\n",
    "a.sig"
   ]
  },
  {
   "cell_type": "code",
   "execution_count": null,
   "metadata": {},
   "outputs": [],
   "source": [
    "a.bg_data"
   ]
  },
  {
   "cell_type": "markdown",
   "metadata": {},
   "source": [
    "## Helpers"
   ]
  },
  {
   "cell_type": "code",
   "execution_count": null,
   "metadata": {},
   "outputs": [],
   "source": [
    "from cycler import cycle\n",
    "from copy import deepcopy\n",
    "\n",
    "soft_colors = cy.plotting.soft_colors\n",
    "colors = plt.rcParams['axes.prop_cycle'].by_key()['color']\n",
    "\n",
    "\n",
    "def get_bias_allt(tr, ntrials=200, n_sigs=np.r_[:101:10], quiet=False):\n",
    "    trials = [\n",
    "        (None if quiet else print(f'\\r{n_sig:4d} ...', end='', flush=True))\n",
    "        or\n",
    "        tr.get_many_fits(ntrials, n_sig=n_sig, logging=False, seed=n_sig)\n",
    "        for n_sig in n_sigs]\n",
    "    if not quiet:\n",
    "        print()\n",
    "    for (n_sig, t) in zip(n_sigs, trials):\n",
    "        t['ntrue'] = np.repeat(n_sig, len(t))\n",
    "    allt = cy.utils.Arrays.concatenate(trials)\n",
    "    return allt\n",
    "\n",
    "def get_color_cycler():\n",
    "    return cycle(colors)\n",
    "\n",
    "def plot_ns_bias(ax, tr, allt, label=''):\n",
    "\n",
    "    n_sigs = np.unique(allt.ntrue)\n",
    "    dns = np.mean(np.diff(n_sigs))\n",
    "    ns_bins = np.r_[n_sigs - 0.5*dns, n_sigs[-1] + 0.5*dns]\n",
    "    expect_kw = dict(color='C0', ls='--', lw=1, zorder=-10)\n",
    "\n",
    "    h = hl.hist((allt.ntrue, allt.ns), bins=(ns_bins, 100))\n",
    "    hl.plot1d(ax, h.contain_project(1),errorbands=True, \n",
    "              drawstyle='default', label=label)\n",
    "    lim = ns_bins[[0, -1]]\n",
    "    ax.set_xlim(ax.set_ylim(lim))\n",
    "    ax.plot(lim, lim, **expect_kw)\n",
    "    ax.set_aspect('equal')\n",
    "\n",
    "    ax.set_xlabel(r'$n_{inj}$')\n",
    "    ax.set_ylabel(r'$n_s$')\n",
    "    ax.grid()\n",
    "\n",
    "def plot_gamma_bias(ax, tr, allt, label=''):\n",
    "\n",
    "    n_sigs = np.unique(allt.ntrue)\n",
    "    dns = np.mean(np.diff(n_sigs))\n",
    "    ns_bins = np.r_[n_sigs - 0.5*dns, n_sigs[-1] + 0.5*dns]\n",
    "    expect_kw = dict(color='C0', ls='--', lw=1, zorder=-10)\n",
    "    expect_gamma = tr.sig_injs[0].flux[0].gamma\n",
    "\n",
    "    h = hl.hist((allt.ntrue, allt.gamma), bins=(ns_bins, 100))\n",
    "    hl.plot1d(ax, h.contain_project(1),errorbands=True, \n",
    "              drawstyle='default', label=label)\n",
    "    lim = ns_bins[[0, -1]]\n",
    "    ax.set_xlim(lim)\n",
    "    ax.set_ylim(1, 4)\n",
    "    ax.axhline(expect_gamma, **expect_kw)\n",
    "\n",
    "    ax.set_xlabel(r'$n_{inj}$')\n",
    "    ax.set_ylabel(r'$\\gamma$')\n",
    "    ax.grid()\n",
    "\n",
    "def plot_bkg_trials(\n",
    "            bg, fig=None, ax=None, \n",
    "            label='{} bg trials', \n",
    "            label_fit=r'$\\chi^2[{:.2f}\\mathrm{{dof}},\\ \\eta={:.3f}]$', \n",
    "            color=colors[0],\n",
    "            density=False,\n",
    "            bins=50,\n",
    "        ):\n",
    "    if ax is None:\n",
    "        fig, ax = plt.subplots(figsize=(6, 4))\n",
    "    \n",
    "    if density:\n",
    "        h = bg.get_hist(bins=bins).normalize()\n",
    "    else:\n",
    "        h = bg.get_hist(bins=bins)\n",
    "    if label is not None:\n",
    "        label = label.format(bg.n_total)\n",
    "    hl.plot1d(ax, h, crosses=True, color=color, label=label)\n",
    "\n",
    "    # compare with the chi2 fit:\n",
    "    if hasattr(bg, 'pdf'):\n",
    "        x = h.centers[0]\n",
    "        norm = h.integrate().values\n",
    "        if label_fit is not None:\n",
    "            label_fit = label_fit.format(bg.ndof, bg.eta)\n",
    "        if density:\n",
    "            ax.semilogy(x, bg.pdf(x), lw=1, ls='--', label=label_fit, color=color)\n",
    "        else:\n",
    "            ax.semilogy(x, norm * bg.pdf(x), lw=1, ls='--', label=label_fit, color=color)\n",
    "\n",
    "    ax.set_xlabel(r'TS')\n",
    "    if density:\n",
    "        ax.set_ylabel(r'Density')\n",
    "    else:\n",
    "        ax.set_ylabel(r'number of trials')\n",
    "    ax.legend()\n",
    "        \n",
    "    return fig, ax"
   ]
  },
  {
   "cell_type": "markdown",
   "metadata": {},
   "source": [
    "## Setup Analysis"
   ]
  },
  {
   "cell_type": "code",
   "execution_count": null,
   "metadata": {},
   "outputs": [],
   "source": [
    "import sys\n",
    "sys.path.insert(0, '../..')\n",
    "\n",
    "import config as cg\n",
    "\n",
    "cg.base_dir = '/data/user/mhuennefeld/data/analyses/unblinding_v1.0.0/'"
   ]
  },
  {
   "cell_type": "code",
   "execution_count": null,
   "metadata": {},
   "outputs": [],
   "source": [
    "def get_gp_tr(template_str, cutoff=np.inf, gamma=None, cpus=20):\n",
    "    cutoff_GeV = cutoff * 1e3\n",
    "    gp_conf = cg.get_gp_conf(\n",
    "        template_str=template_str, gamma=gamma, \n",
    "        cutoff_GeV=cutoff_GeV, base_dir=cg.base_dir)\n",
    "    tr = cy.get_trial_runner(gp_conf, ana=ana, mp_cpus=cpus)\n",
    "    return tr\n",
    "\n",
    "def get_template_tr(template, gamma=2.7, cutoff_tev=np.inf, cpus=20):\n",
    "    cutoff_gev = cutoff_tev * 1000.\n",
    "    gp_conf = {\n",
    "        'template': template,\n",
    "        'flux': cy.hyp.PowerLawFlux(gamma, energy_cutoff=cutoff_gev),\n",
    "        'randomize': ['ra'],\n",
    "        'fitter_args': dict(gamma=gamma),\n",
    "        'sigsub': True,\n",
    "        'update_bg': True,\n",
    "        'fast_weight': False,\n",
    "    }\n",
    "    tr = cy.get_trial_runner(gp_conf, ana=ana, mp_cpus=cpus)\n",
    "    return tr\n"
   ]
  },
  {
   "cell_type": "markdown",
   "metadata": {},
   "source": [
    "#### Get TrialRunners"
   ]
  },
  {
   "cell_type": "code",
   "execution_count": null,
   "metadata": {},
   "outputs": [],
   "source": [
    "tr_dict = {\n",
    "    'pi0': get_gp_tr('pi0'),\n",
    "    'kra5': get_gp_tr('kra5'),\n",
    "    'kra50': get_gp_tr('kra50'),\n",
    "}"
   ]
  },
  {
   "cell_type": "markdown",
   "metadata": {},
   "source": [
    "#### Get bkg fits for each template"
   ]
  },
  {
   "cell_type": "code",
   "execution_count": null,
   "metadata": {},
   "outputs": [],
   "source": [
    "tr  = tr_dict['pi0']"
   ]
  },
  {
   "cell_type": "code",
   "execution_count": null,
   "metadata": {},
   "outputs": [],
   "source": [
    "tr.to_dNdE(748, E0=1e5, unit=1)"
   ]
  },
  {
   "cell_type": "code",
   "execution_count": null,
   "metadata": {},
   "outputs": [],
   "source": [
    "bkg_file_dict = {\n",
    "    'pi0': '{}/gp/trials/{}/{}/trials.dict'.format(cg.base_dir, 'DNNC', 'pi0'),\n",
    "    'kra5': '{}/gp/trials/{}/{}/trials.dict'.format(cg.base_dir, 'DNNC', 'kra5'),\n",
    "    'kra50': '{}/gp/trials/{}/{}/trials.dict'.format(cg.base_dir, 'DNNC', 'kra50'),\n",
    "}\n",
    "n_bkg_trials = 20000\n",
    "seed = 1337\n",
    "\n",
    "bkg_dict = {}\n",
    "for key, tr in tr_dict.items():\n",
    "    if key in bkg_file_dict:\n",
    "        print('Loading background trials for template {}'.format(key))\n",
    "        sig = np.load(bkg_file_dict[key], allow_pickle=True)\n",
    "        bkg_dict[key] = sig['poisson']['nsig'][0.0]['ts']\n",
    "    \n",
    "    else:\n",
    "        print('Running background trials for template {}'.format(key))\n",
    "        bkg_dict[key] = tr.get_many_fits(\n",
    "            n_trials=n_bkg_trials, seed=seed, mp_cpus=20)\n"
   ]
  },
  {
   "cell_type": "markdown",
   "metadata": {},
   "source": [
    "#### Get Results for each template"
   ]
  },
  {
   "cell_type": "code",
   "execution_count": null,
   "metadata": {},
   "outputs": [],
   "source": [
    "res_dict = {}\n",
    "for key in tr_dict.keys():\n",
    "    f_path = os.path.join(\n",
    "        cg.base_dir, \n",
    "        'gp/results/{}/{}_unblinded.npy'.format(key, key), \n",
    "    )\n",
    "    res_dict[key] = np.load(f_path)"
   ]
  },
  {
   "cell_type": "code",
   "execution_count": null,
   "metadata": {},
   "outputs": [],
   "source": [
    "tr_dict"
   ]
  },
  {
   "cell_type": "code",
   "execution_count": null,
   "metadata": {},
   "outputs": [],
   "source": [
    "def get_top_events(template_str, w, N, verbose=False):\n",
    "    #Get Trial\n",
    "    trial = tr_dict[template_str].get_one_trial(TRUTH=True)\n",
    "    L = tr_dict[template_str].get_one_llh_from_trial(trial)\n",
    "    print(L.fit(**tr_dict[template_str].fitter_args))\n",
    "    \n",
    "    ev = trial.evss[0][0] # something like that\n",
    "    ev['rank'] = np.argsort(w)[::-1]\n",
    "    top_ev = ev[ev.rank < N]\n",
    "\n",
    "    data_inj = top_ev.inj[0]\n",
    "    x = data_inj.data[top_ev.idx].as_dataframe\n",
    "    if verbose:\n",
    "        display(x)\n",
    "    return x"
   ]
  },
  {
   "cell_type": "code",
   "execution_count": null,
   "metadata": {},
   "outputs": [],
   "source": [
    "def get_w(template_str, gamma=2.7):\n",
    "    trial = tr_dict[template_str].get_one_trial(TRUTH=True)\n",
    "    L = tr_dict[template_str].get_one_llh_from_trial(trial)\n",
    "    print(L.fit(**tr_dict[template_str].fitter_args))\n",
    "    \n",
    "    space_eval = cy.inspect.get_space_eval(L, -1, 0) # 0: background events (1 would be for signal events)\n",
    "    energy_eval = cy.inspect.get_energy_eval(L, -1, 0)\n",
    "    StoB_space_ss = space_eval(gamma=gamma)[1] \n",
    "    SoB_energy = energy_eval(gamma=gamma)[0]\n",
    "    SoB_space = space_eval(gamma=gamma)[0] \n",
    "    w = (SoB_space - StoB_space_ss) * SoB_energy\n",
    "    return w, np.argsort(w)"
   ]
  },
  {
   "cell_type": "code",
   "execution_count": null,
   "metadata": {},
   "outputs": [],
   "source": [
    "def calc_N_events_for_2sigma(template_str, ws, verbose=False):\n",
    "    trial = tr_dict[template_str].get_one_trial(TRUTH=True)    \n",
    "    new_tss = []\n",
    "    new_pvals = []\n",
    "    new_sigmas = [] \n",
    "    #new_Es = [] \n",
    "    for i in range (40):\n",
    "        trial2 = deepcopy(trial)\n",
    "        if i == 0:\n",
    "            mask = (np.isin(trial.evss[0][0].idx, 123412341234))\n",
    "        else:\n",
    "            top = ws[-i:]\n",
    "            mask = (np.isin(trial.evss[0][0].idx, top))\n",
    "            #print(top[-30:])\n",
    "\n",
    "        missing_ev = trial2.evss[0][0][~mask]\n",
    "        trial2.evss[0][0] = missing_ev\n",
    "        L = tr_dict[template_str].get_one_llh_from_trial(trial2)\n",
    "        new_ts, new_ns, gamma = L.fit(**tr_dict[template_str].fitter_args)\n",
    "        pval = np.mean(bkg_dict[template_str] > new_ts)\n",
    "        if verbose:\n",
    "            print('Removing Top {} Events: TS= {:.2f} ns={:.2f}'.format(i, new_ts, new_ns['ns']))\n",
    "\n",
    "            print('New pvalue: {:.2f}'.format(stats.norm.isf(pval)))\n",
    "            print('-------------')\n",
    "        new_pvals.append(pval)\n",
    "        new_sigmas.append(stats.norm.isf(pval))\n",
    "        new_tss.append(new_ts)\n",
    "        if stats.norm.isf(pval) < 2:\n",
    "            N_events = i\n",
    "            break\n",
    "\n",
    "    print('{} Events to be below 2sigma '.format(N_events))\n",
    "    return N_events, new_tss, new_sigmas"
   ]
  },
  {
   "cell_type": "code",
   "execution_count": null,
   "metadata": {},
   "outputs": [],
   "source": []
  },
  {
   "cell_type": "code",
   "execution_count": null,
   "metadata": {},
   "outputs": [],
   "source": [
    "def plot_removal_simgas(sigmas, N):\n",
    "    plt.scatter(np.arange(0,N+.1,1), sigmas)\n",
    "    plt.ylabel('N Sigma')\n",
    "    plt.xlabel('N Top Events Removed')\n",
    "    plt.ylim(1.5,5)\n",
    "    plt.grid()\n",
    "    plt.xlim(0,N + .2)"
   ]
  },
  {
   "cell_type": "code",
   "execution_count": null,
   "metadata": {},
   "outputs": [],
   "source": [
    "w_kra5, ws_kra5 = get_w('kra5', None)\n",
    "#N_events_kra5, top_tss_kra5, top_sigmas_kra5= calc_N_events_for_2sigma('kra5', ws_kra5)\n",
    "#x = get_top_events('kra5', w_kra5, N_events_kra5)\n",
    "#plot_removal_simgas(top_sigmas_kra5, N_events_kra5)\n",
    "#x.to_pickle('/home/ssclafani/top_events_kra5.pickle')\n"
   ]
  },
  {
   "cell_type": "code",
   "execution_count": null,
   "metadata": {},
   "outputs": [],
   "source": [
    "w_kra5"
   ]
  },
  {
   "cell_type": "code",
   "execution_count": null,
   "metadata": {},
   "outputs": [],
   "source": [
    "template_str = 'pi0'"
   ]
  },
  {
   "cell_type": "code",
   "execution_count": null,
   "metadata": {},
   "outputs": [],
   "source": [
    "trial = tr_dict[template_str].get_one_trial(TRUTH=True)    \n",
    "new_tss = []\n",
    "new_pvals = []\n",
    "new_sigmas = [] \n",
    "#new_Es = [] \n",
    "for logE in np.linspace(8,6,11):\n",
    "    trial2 = deepcopy(trial)\n",
    "    mask = trial.evss[0][0].log10energy < logE\n",
    "    missing_ev = trial2.evss[0][0][mask]\n",
    "    trial2.evss[0][0] = missing_ev\n",
    "    L = tr_dict[template_str].get_one_llh_from_trial(trial2)\n",
    "    new_ts, new_ns, gamma = L.fit(**tr_dict[template_str].fitter_args)\n",
    "    pval = np.mean(bkg_dict[template_str] > new_ts)\n",
    "    \n",
    "    print('Removing Events  logE < {}: TS= {:.2f} ns={:.2f}'.format(logE, new_ts, new_ns['ns']))\n",
    "    print('New pvalue: {:.2f}'.format(stats.norm.isf(pval)))\n",
    "    print('-------------')\n",
    "    #new_pvals.append(pval)\n",
    "    #new_sigmas.append(stats.norm.isf(pval))\n",
    "    #new_tss.append(new_ts)\n",
    "    #if stats.norm.isf(pval) < 2:\n",
    "    #    N_events = i\n",
    "    #    break\n",
    "\n"
   ]
  },
  {
   "cell_type": "code",
   "execution_count": null,
   "metadata": {},
   "outputs": [],
   "source": []
  },
  {
   "cell_type": "code",
   "execution_count": null,
   "metadata": {},
   "outputs": [],
   "source": []
  },
  {
   "cell_type": "code",
   "execution_count": null,
   "metadata": {},
   "outputs": [],
   "source": [
    "w_kra5, ws_kra5 = get_w('kra5', None)\n",
    "N_events_kra5, top_tss_kra5, top_sigmas_kra5= calc_N_events_for_2sigma('kra5', ws_kra5)\n",
    "x = get_top_events('kra5', w_kra5, N_events_kra5)\n",
    "plot_removal_simgas(top_sigmas_kra5, N_events_kra5)\n",
    "x.to_pickle('/home/ssclafani/top_events_kra5.pickle')\n"
   ]
  },
  {
   "cell_type": "code",
   "execution_count": null,
   "metadata": {},
   "outputs": [],
   "source": [
    "w_kra50, ws_kra50 = get_w('kra50', None)\n",
    "N_events_kra50, top_tss_kra50, top_sigmas_kra50 = calc_N_events_for_2sigma('kra50', ws_kra50)\n",
    "x = get_top_events('kra50', w_kra50, N_events_kra50)\n",
    "\n",
    "x.to_pickle('/home/ssclafani/top_events_kra50.pickle')"
   ]
  },
  {
   "cell_type": "code",
   "execution_count": null,
   "metadata": {},
   "outputs": [],
   "source": [
    "w_pi0, ws_pi0 = get_w('pi0', 2.7)\n",
    "N_events_pi0, top_tss_pi0, top_sigmas_pi0 = calc_N_events_for_2sigma('pi0', ws_pi0)\n",
    "x = get_top_events('pi0', w_pi0, N_events_pi0, verbose=True)\n",
    "x.to_pickle('/home/ssclafani/top_events_pi0.pickle')"
   ]
  },
  {
   "cell_type": "code",
   "execution_count": null,
   "metadata": {},
   "outputs": [],
   "source": [
    "def plot_highest(template_str, N, ws, coord='equa'):\n",
    "    fig, ax = plt.subplots()\n",
    "    trial = tr_dict[template_str].get_one_trial(TRUTH=True)\n",
    "    es = []\n",
    "    ls = []\n",
    "    bs = []\n",
    "    decs = []\n",
    "    ras = []\n",
    "    sigmas = []\n",
    "    for a in ws[-N:][::-1]:\n",
    "        mask = trial.evss[0][0].idx == a\n",
    "        dec = trial.evss[0][0][mask].dec[0]\n",
    "        ra = trial.evss[0][0][mask].ra[0]\n",
    "        e = trial.evss[0][0][mask].energy[0]\n",
    "        ras.append(ra)\n",
    "        decs.append(dec)\n",
    "        es.append(e)\n",
    "        sigma = trial.evss[0][0][mask].sigma[0]    \n",
    "        sigmas.append(sigma)\n",
    "        l, b = astro.equa_to_gal(float(ra), float(dec))\n",
    "        ls.append(l)\n",
    "        bs.append(b)\n",
    "        print('ID: {} RA: {:.2f} DEC: {:.2f} E:{:.1f} SIGMA: {:2f}'.format(a, np.degrees(ra), np.degrees(dec),\n",
    "                                                                e , np.degrees(sigma)))\n",
    "    if coord == 'galactic':\n",
    "        ls = np.array(ls)\n",
    "        ls[ls>np.pi] -= 2*np.pi\n",
    "        \n",
    "        \n",
    "        plt.scatter(np.degrees(ls), np.degrees(bs), marker='.', edgecolors='k', s=100) \n",
    "        plt.xlabel('galactic (l)')\n",
    "        plt.axhline(0, c='k')\n",
    "        plt.ylabel('galactic (b)')\n",
    "        plt.xlim(-180,180)\n",
    "        ticks = ax.get_xticks()\n",
    "        ticks[ticks < 0] += 360\n",
    "        ax.set_xticklabels([int(tick) for tick in ticks])\n",
    "        plt.ylim(-10,10)\n",
    "        plt.scatter(0,0, c='r', marker='x')\n",
    "        plt.title('Distribution of highest {} events'.format(N))\n",
    "    if coord =='equa':\n",
    "        plt.title('Distribution of highest {} events'.format(N))\n",
    "        plt.scatter(np.degrees(ras), np.degrees(decs), s=np.pi*np.degrees(sigma)**2, marker='.', edgecolors='k', )\n",
    "        plt.scatter(266.41500889, -29.00, marker='x', c='r', label='Galactic Center')\n",
    "        plt.xlabel('RA[degrees]')\n",
    "        plt.ylim(-90,0)\n",
    "        plt.xlim(360,0)\n",
    "        plt.ylabel('DEC[degrees]')\n",
    "        plt.legend()\n",
    "    plt.show()\n",
    "    return ras, decs, sigmas, es"
   ]
  },
  {
   "cell_type": "code",
   "execution_count": null,
   "metadata": {},
   "outputs": [],
   "source": [
    "_,_,top_unc_kra5, top_Es_kra5 =  plot_highest('kra5', N_events_kra5, ws_kra5, coord='galactic')\n",
    "_ = plot_highest('kra5', N_events_kra5, ws_kra5, coord='equa')"
   ]
  },
  {
   "cell_type": "code",
   "execution_count": null,
   "metadata": {},
   "outputs": [],
   "source": [
    "_,_,top_unc_pi0, top_Es_pi0 = plot_highest('pi0', N_events_pi0, ws_pi0, coord='galactic')\n",
    "_ = plot_highest('pi0', N_events_pi0, ws_pi0, coord='equa')"
   ]
  },
  {
   "cell_type": "code",
   "execution_count": null,
   "metadata": {},
   "outputs": [],
   "source": [
    "_,_,top_unc_kra50, top_Es_kra50 = plot_highest('kra50', N_events_kra50, ws_kra50, coord='galactic')\n",
    "_ = plot_highest('kra50', N_events_kra50, ws_kra50, coord='equa')"
   ]
  },
  {
   "cell_type": "code",
   "execution_count": null,
   "metadata": {},
   "outputs": [],
   "source": [
    "plt.hist(np.log10(top_Es_pi0), bins=20)\n",
    "plt.xlabel('log10(E)[GeV]')\n",
    "#plt.xlim(3,7)\n",
    "plt.ylabel('Counts')\n",
    "plt.title('Top Events required to drop signifigance to 2sigma')"
   ]
  },
  {
   "cell_type": "code",
   "execution_count": null,
   "metadata": {},
   "outputs": [],
   "source": [
    "plt.hist(np.degrees(top_unc_pi0), bins=20)\n",
    "plt.xlabel('Sigma[Degrees]')\n",
    "plt.xlim(0,15)\n",
    "plt.ylabel('Counts')\n",
    "plt.title('Top Events required to drop signifigance to 2sigma')"
   ]
  },
  {
   "cell_type": "code",
   "execution_count": null,
   "metadata": {},
   "outputs": [],
   "source": []
  },
  {
   "cell_type": "code",
   "execution_count": null,
   "metadata": {},
   "outputs": [],
   "source": []
  },
  {
   "cell_type": "code",
   "execution_count": null,
   "metadata": {},
   "outputs": [],
   "source": []
  }
 ],
 "metadata": {
  "kernelspec": {
   "display_name": "icerec3",
   "language": "python",
   "name": "icerec3"
  },
  "language_info": {
   "codemirror_mode": {
    "name": "ipython",
    "version": 3
   },
   "file_extension": ".py",
   "mimetype": "text/x-python",
   "name": "python",
   "nbconvert_exporter": "python",
   "pygments_lexer": "ipython3",
   "version": "3.7.5"
  }
 },
 "nbformat": 4,
 "nbformat_minor": 5
}
