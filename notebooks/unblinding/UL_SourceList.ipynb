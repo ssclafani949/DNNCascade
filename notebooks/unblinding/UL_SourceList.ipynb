{
 "cells": [
  {
   "cell_type": "code",
   "execution_count": null,
   "metadata": {},
   "outputs": [],
   "source": [
    "%matplotlib inline\n",
    "%load_ext autoreload\n",
    "%autoreload 2\n",
    "\n",
    "import os\n",
    "\n",
    "# set env flags to catch BLAS used for scipy/numpy \n",
    "# to only use 1 cpu, n_cpus will be totally controlled by csky\n",
    "if False:\n",
    "    os.environ['MKL_NUM_THREADS'] = \"1\"\n",
    "    os.environ['NUMEXPR_NUM_THREADS'] = \"1\"\n",
    "    os.environ['OMP_NUM_THREADS'] = \"1\"\n",
    "    os.environ['OPENBLAS_NUM_THREADS'] = \"1\"\n",
    "    os.environ['VECLIB_MAXIMUM_THREADS'] = \"1\"\n",
    "\n",
    "import matplotlib as mpl\n",
    "mpl.rcParams['figure.facecolor'] = 'w'\n",
    "mpl.rcParams['savefig.facecolor'] = 'w'\n",
    "import matplotlib.pyplot as plt\n",
    "from matplotlib import colors, cm\n",
    "import csky as cy\n",
    "from csky import cext\n",
    "import numpy as np\n",
    "import astropy\n",
    "import histlite as hl\n",
    "import healpy\n",
    "import healpy as hp\n",
    "import socket\n",
    "import pickle\n",
    "from scipy import stats\n",
    "import copy\n",
    "healpy.disable_warnings()\n",
    "plt.rc('figure', facecolor = 'w')\n",
    "plt.rc('figure', dpi=100)"
   ]
  },
  {
   "cell_type": "markdown",
   "metadata": {},
   "source": [
    "## Define Settings"
   ]
  },
  {
   "cell_type": "code",
   "execution_count": null,
   "metadata": {},
   "outputs": [],
   "source": [
    "selection_version = 'version-001-p01'\n",
    "\n",
    "host_name = socket.gethostname()\n",
    "\n",
    "if 'cobalt' in host_name:\n",
    "    print('Working on Cobalts')\n",
    "    #data_prefix = '/data/user/ssclafani/data/cscd/final'\n",
    "    ana_dir = '/data/user/ssclafani/data/analyses/'\n",
    "    plot_dir = cy.utils.ensure_dir('/data/user/ssclafani/data/analyses/DNNCascadeCodeReview/unblinding_checks/plots/unblinding/galactic_plane_checks')\n",
    "    \n",
    "else:\n",
    "    raise ValueError('Unknown host:', host_name)"
   ]
  },
  {
   "cell_type": "code",
   "execution_count": null,
   "metadata": {},
   "outputs": [],
   "source": [
    "for dir_path in [plot_dir]:\n",
    "    if not os.path.exists(dir_path):\n",
    "        print('Creating directory:', dir_path)\n",
    "        os.makedirs(dir_path)"
   ]
  },
  {
   "cell_type": "markdown",
   "metadata": {},
   "source": [
    "## Load Data"
   ]
  },
  {
   "cell_type": "code",
   "execution_count": null,
   "metadata": {},
   "outputs": [],
   "source": [
    "repo = cy.selections.Repository(local_root='/data/user/ssclafani/data/analyses')\n",
    "specs = cy.selections.DNNCascadeDataSpecs.DNNC_10yr"
   ]
  },
  {
   "cell_type": "code",
   "execution_count": null,
   "metadata": {},
   "outputs": [],
   "source": [
    "%%time\n",
    "\n",
    "ana = cy.get_analysis(\n",
    "    repo, selection_version, specs, \n",
    "    #gammas=np.r_[0.1:6.01:0.125],\n",
    ")"
   ]
  },
  {
   "cell_type": "markdown",
   "metadata": {},
   "source": [
    "## Setup Analysis"
   ]
  },
  {
   "cell_type": "code",
   "execution_count": null,
   "metadata": {},
   "outputs": [],
   "source": [
    "import sys\n",
    "sys.path.insert(0, '../..')\n",
    "\n",
    "import config as cg\n",
    "\n",
    "cg.base_dir = '/data/user/mhuennefeld/data/analyses/unblinding_v1.0.1/'"
   ]
  },
  {
   "cell_type": "code",
   "execution_count": null,
   "metadata": {},
   "outputs": [],
   "source": [
    "import pandas as pd"
   ]
  },
  {
   "cell_type": "code",
   "execution_count": null,
   "metadata": {},
   "outputs": [],
   "source": [
    "source_list = pd.read_pickle('/home/ssclafani/DNNCascade/catalogs/Source_List_DNNC.pickle')"
   ]
  },
  {
   "cell_type": "code",
   "execution_count": null,
   "metadata": {},
   "outputs": [],
   "source": [
    "src_list_file = os.path.join(cg.catalog_dir, 'Source_List_DNNC.npy')\n",
    "sourcelist = np.load(src_list_file, allow_pickle=True)\n",
    "\n",
    "# load correlated MultiTrialRunner background trials\n",
    "print('Loading correlated background trials...')\n",
    "base_dir = os.path.join('/data/user/mhuennefeld/data/analyses/unblinding_v1.0.1/ps/correlated_trials/')\n",
    "bgfile_corr = '{}/correlated_bg.npy'.format(base_dir)\n",
    "trials_corr = np.load(bgfile_corr, allow_pickle=True)\n",
    "bg_corr = cy.dists.TSD(trials_corr)\n",
    "\n",
    "# load bkg trials at source declinations\n",
    "print('Loading background trials at source declinations...')\n",
    "bgfile = '{}/pretrial_bgs.npy'.format(base_dir)\n",
    "bgs = np.load(bgfile, allow_pickle=True)                             \n"
   ]
  },
  {
   "cell_type": "code",
   "execution_count": null,
   "metadata": {},
   "outputs": [],
   "source": [
    "base_dir = '/data/user/mhuennefeld/data/analyses/unblinding_v1.0.1/'\n",
    "results = np.load(base_dir + '/ps/results/fulllist_unblinded.npy', allow_pickle=True)"
   ]
  },
  {
   "cell_type": "code",
   "execution_count": null,
   "metadata": {},
   "outputs": [],
   "source": [
    "sig = np.load('/data/user/ssclafani/data/analyses/baseline_unblind_v1.0.0/ps/correlated_trials/sourcelist_sig.npy' , allow_pickle=True)"
   ]
  },
  {
   "cell_type": "code",
   "execution_count": null,
   "metadata": {},
   "outputs": [],
   "source": [
    "\n",
    "def get_tr(dec, ra,  gamma):\n",
    "    src = cy.utils.sources(ra, dec, deg=False)                  \n",
    "    conf = cg.get_ps_conf(src=src, gamma=gamma)\n",
    "    tr = cy.get_trial_runner(ana=ana, conf=conf, TRUTH=False)\n",
    "    return tr, src\n",
    "def get_ul(gamma, verbose=False):\n",
    "    uls90 = []\n",
    "    for i, source in enumerate(sourcelist):\n",
    "        tr, src = get_tr(\n",
    "        dec=np.radians(source[2]),\n",
    "        ra=np.radians(source[1]),\n",
    "        gamma=gamma)\n",
    "        ts = results[0][i][0]\n",
    "        bg = bgs[i]\n",
    "        trials = sig[i]['gamma'][gamma]['cutoff_TeV'][np.inf]['nsig']\n",
    "\n",
    "        trials[0] = bg.trials\n",
    "        print('Source {}: Getting fraction of trials > {:.4}: For Gamma = {}'.format(i, ts, gamma))\n",
    "        ul90 = tr.find_n_sig(ts, 0.9, trials=trials, logging=verbose, tol=.1)\n",
    "        ul90['flux'] = tr.to_E2dNdE(ul90['n_sig'], E0=100, unit=1e3)\n",
    "        uls90.append(ul90['flux'])\n",
    "        print(ul90['flux'], ul90['n_sig'])\n",
    "    return uls90"
   ]
  },
  {
   "cell_type": "code",
   "execution_count": null,
   "metadata": {
    "scrolled": true
   },
   "outputs": [],
   "source": [
    "uls90_E2 = get_ul(2.0, verbose=False)"
   ]
  },
  {
   "cell_type": "code",
   "execution_count": null,
   "metadata": {},
   "outputs": [],
   "source": [
    "np.save('sourcelist_UL90_E2_patch_01.npy' ,uls90_E2)"
   ]
  },
  {
   "cell_type": "code",
   "execution_count": null,
   "metadata": {
    "scrolled": true
   },
   "outputs": [],
   "source": [
    "uls90_E3 = get_ul(3.0, verbose=False)"
   ]
  },
  {
   "cell_type": "code",
   "execution_count": null,
   "metadata": {},
   "outputs": [],
   "source": [
    "np.save('sourcelist_UL90_E3_patch_01.npy' ,uls90_E3)"
   ]
  },
  {
   "cell_type": "code",
   "execution_count": null,
   "metadata": {},
   "outputs": [],
   "source": []
  }
 ],
 "metadata": {
  "kernelspec": {
   "display_name": "icerec3",
   "language": "python",
   "name": "icerec3"
  },
  "language_info": {
   "codemirror_mode": {
    "name": "ipython",
    "version": 3
   },
   "file_extension": ".py",
   "mimetype": "text/x-python",
   "name": "python",
   "nbconvert_exporter": "python",
   "pygments_lexer": "ipython3",
   "version": "3.7.5"
  }
 },
 "nbformat": 4,
 "nbformat_minor": 5
}
