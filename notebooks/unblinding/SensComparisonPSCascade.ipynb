{
 "cells": [
  {
   "cell_type": "code",
   "execution_count": null,
   "id": "damaged-trading",
   "metadata": {},
   "outputs": [],
   "source": [
    "%matplotlib inline\n",
    "%load_ext autoreload\n",
    "%autoreload 2\n",
    "\n",
    "#PDFs in BDT and sindec?\n",
    "import os\n",
    "\n",
    "# set env flags to catch BLAS used for scipy/numpy \n",
    "# to only use 1 cpu, n_cpus will be totally controlled by csky\n",
    "if False:\n",
    "    os.environ['MKL_NUM_THREADS'] = \"1\"\n",
    "    os.environ['NUMEXPR_NUM_THREADS'] = \"1\"\n",
    "    os.environ['OMP_NUM_THREADS'] = \"1\"\n",
    "    os.environ['OPENBLAS_NUM_THREADS'] = \"1\"\n",
    "    os.environ['VECLIB_MAXIMUM_THREADS'] = \"1\"\n",
    "\n",
    "import matplotlib as mpl\n",
    "mpl.rcParams['figure.facecolor'] = 'w'\n",
    "mpl.rcParams['savefig.facecolor'] = 'w'\n",
    "import matplotlib.pyplot as plt\n",
    "from matplotlib import colors, cm\n",
    "import csky as cy\n",
    "from csky import cext\n",
    "import numpy as np\n",
    "import astropy\n",
    "#from icecube import astro\n",
    "import histlite as hl\n",
    "import healpy\n",
    "import healpy as hp\n",
    "import socket\n",
    "import pickle\n",
    "import copy\n",
    "healpy.disable_warnings()\n",
    "plt.rc('figure', facecolor = 'w')\n",
    "plt.rc('figure', dpi=100)"
   ]
  },
  {
   "cell_type": "markdown",
   "id": "secure-narrative",
   "metadata": {},
   "source": [
    "## Define Settings"
   ]
  },
  {
   "cell_type": "code",
   "execution_count": null,
   "id": "precious-power",
   "metadata": {},
   "outputs": [],
   "source": [
    "selection_version = 'version-001-p01'\n",
    "\n",
    "host_name = socket.gethostname()\n",
    "\n",
    "if 'cobalt' in host_name:\n",
    "    print('Working on Cobalts')\n",
    "    data_prefix = '/data/user/ssclafani/data/cscd/final'\n",
    "    ana_dir = '/data/user/ssclafani/data/analyses/'\n",
    "    plot_dir = '/data/user/mhuennefeld/data/analyses/DNNCascadeCodeReview/unblinding_checks/plots/unblinding/sens_comparison_ps_cascade'\n",
    "    \n",
    "else:\n",
    "    raise ValueError('Unknown host:', host_name)"
   ]
  },
  {
   "cell_type": "code",
   "execution_count": null,
   "id": "complicated-hierarchy",
   "metadata": {},
   "outputs": [],
   "source": [
    "for dir_path in [plot_dir]:\n",
    "    if not os.path.exists(dir_path):\n",
    "        print('Creating directory:', dir_path)\n",
    "        os.makedirs(dir_path)"
   ]
  },
  {
   "cell_type": "markdown",
   "id": "empirical-neighbor",
   "metadata": {},
   "source": [
    "## Load Data"
   ]
  },
  {
   "cell_type": "code",
   "execution_count": null,
   "id": "tutorial-hybrid",
   "metadata": {},
   "outputs": [],
   "source": [
    "repo = cy.selections.Repository()\n",
    "specs = cy.selections.DNNCascadeDataSpecs.DNNC_10yr"
   ]
  },
  {
   "cell_type": "code",
   "execution_count": null,
   "id": "differential-violation",
   "metadata": {},
   "outputs": [],
   "source": [
    "%%time\n",
    "\n",
    "ana = cy.get_analysis(\n",
    "    repo, selection_version, specs, \n",
    "    #gammas=np.r_[0.1:6.01:0.125],\n",
    ")"
   ]
  },
  {
   "cell_type": "code",
   "execution_count": null,
   "id": "essential-parallel",
   "metadata": {},
   "outputs": [],
   "source": [
    "a = ana.anas[0]\n",
    "a.sig"
   ]
  },
  {
   "cell_type": "code",
   "execution_count": null,
   "id": "bulgarian-internet",
   "metadata": {},
   "outputs": [],
   "source": [
    "a.bg_data"
   ]
  },
  {
   "cell_type": "markdown",
   "id": "egyptian-qatar",
   "metadata": {},
   "source": [
    "#### Load PSTracksV4"
   ]
  },
  {
   "cell_type": "code",
   "execution_count": null,
   "id": "political-sculpture",
   "metadata": {},
   "outputs": [],
   "source": [
    "%%time\n",
    "\n",
    "track_version = 'version-004-p00'\n",
    "ana_tracks = cy.get_analysis(\n",
    "    cy.selections.Repository(), track_version, cy.selections.PSDataSpecs.ps_v4, \n",
    ")"
   ]
  },
  {
   "cell_type": "markdown",
   "id": "mobile-convention",
   "metadata": {},
   "source": [
    "## Helpers"
   ]
  },
  {
   "cell_type": "code",
   "execution_count": null,
   "id": "dutch-still",
   "metadata": {},
   "outputs": [],
   "source": [
    "from cycler import cycle\n",
    "from copy import deepcopy\n",
    "\n",
    "soft_colors = cy.plotting.soft_colors\n",
    "colors = plt.rcParams['axes.prop_cycle'].by_key()['color']\n",
    "\n",
    "\n",
    "def get_bias_allt(tr, ntrials=200, n_sigs=np.r_[:101:10], quiet=False):\n",
    "    trials = [\n",
    "        (None if quiet else print(f'\\r{n_sig:4d} ...', end='', flush=True))\n",
    "        or\n",
    "        tr.get_many_fits(ntrials, n_sig=n_sig, logging=False, seed=n_sig)\n",
    "        for n_sig in n_sigs]\n",
    "    if not quiet:\n",
    "        print()\n",
    "    for (n_sig, t) in zip(n_sigs, trials):\n",
    "        t['ntrue'] = np.repeat(n_sig, len(t))\n",
    "    allt = cy.utils.Arrays.concatenate(trials)\n",
    "    return allt\n",
    "\n",
    "def get_color_cycler():\n",
    "    return cycle(colors)\n",
    "\n",
    "def plot_ns_bias(ax, tr, allt, label=''):\n",
    "\n",
    "    n_sigs = np.unique(allt.ntrue)\n",
    "    dns = np.mean(np.diff(n_sigs))\n",
    "    ns_bins = np.r_[n_sigs - 0.5*dns, n_sigs[-1] + 0.5*dns]\n",
    "    expect_kw = dict(color='C0', ls='--', lw=1, zorder=-10)\n",
    "\n",
    "    h = hl.hist((allt.ntrue, allt.ns), bins=(ns_bins, 100))\n",
    "    hl.plot1d(ax, h.contain_project(1),errorbands=True, \n",
    "              drawstyle='default', label=label)\n",
    "    lim = ns_bins[[0, -1]]\n",
    "    ax.set_xlim(ax.set_ylim(lim))\n",
    "    ax.plot(lim, lim, **expect_kw)\n",
    "    ax.set_aspect('equal')\n",
    "\n",
    "    ax.set_xlabel(r'$n_{inj}$')\n",
    "    ax.set_ylabel(r'$n_s$')\n",
    "    ax.grid()\n",
    "\n",
    "def plot_gamma_bias(ax, tr, allt, label=''):\n",
    "\n",
    "    n_sigs = np.unique(allt.ntrue)\n",
    "    dns = np.mean(np.diff(n_sigs))\n",
    "    ns_bins = np.r_[n_sigs - 0.5*dns, n_sigs[-1] + 0.5*dns]\n",
    "    expect_kw = dict(color='C0', ls='--', lw=1, zorder=-10)\n",
    "    expect_gamma = tr.sig_injs[0].flux[0].gamma\n",
    "\n",
    "    h = hl.hist((allt.ntrue, allt.gamma), bins=(ns_bins, 100))\n",
    "    hl.plot1d(ax, h.contain_project(1),errorbands=True, \n",
    "              drawstyle='default', label=label)\n",
    "    lim = ns_bins[[0, -1]]\n",
    "    ax.set_xlim(lim)\n",
    "    ax.set_ylim(1, 4)\n",
    "    ax.axhline(expect_gamma, **expect_kw)\n",
    "\n",
    "    ax.set_xlabel(r'$n_{inj}$')\n",
    "    ax.set_ylabel(r'$\\gamma$')\n",
    "    ax.grid()\n",
    "\n",
    "def plot_bkg_trials(\n",
    "            bg, fig=None, ax=None, \n",
    "            label='{} bg trials', \n",
    "            label_fit=r'$\\chi^2[{:.2f}\\mathrm{{dof}},\\ \\eta={:.3f}]$', \n",
    "            color=colors[0],\n",
    "            density=False,\n",
    "            bins=50,\n",
    "        ):\n",
    "    if ax is None:\n",
    "        fig, ax = plt.subplots(figsize=(6, 4))\n",
    "    \n",
    "    if density:\n",
    "        h = bg.get_hist(bins=bins).normalize()\n",
    "    else:\n",
    "        h = bg.get_hist(bins=bins)\n",
    "    if label is not None:\n",
    "        label = label.format(bg.n_total)\n",
    "    hl.plot1d(ax, h, crosses=True, color=color, label=label)\n",
    "\n",
    "    # compare with the chi2 fit:\n",
    "    if hasattr(bg, 'pdf'):\n",
    "        x = h.centers[0]\n",
    "        norm = h.integrate().values\n",
    "        if label_fit is not None:\n",
    "            label_fit = label_fit.format(bg.ndof, bg.eta)\n",
    "        if density:\n",
    "            ax.semilogy(x, bg.pdf(x), lw=1, ls='--', label=label_fit, color=color)\n",
    "        else:\n",
    "            ax.semilogy(x, norm * bg.pdf(x), lw=1, ls='--', label=label_fit, color=color)\n",
    "\n",
    "    ax.set_xlabel(r'TS')\n",
    "    if density:\n",
    "        ax.set_ylabel(r'Density')\n",
    "    else:\n",
    "        ax.set_ylabel(r'number of trials')\n",
    "    ax.legend()\n",
    "        \n",
    "    return fig, ax"
   ]
  },
  {
   "cell_type": "markdown",
   "id": "exact-acrobat",
   "metadata": {},
   "source": [
    "## Setup Analysis"
   ]
  },
  {
   "cell_type": "code",
   "execution_count": null,
   "id": "corresponding-referral",
   "metadata": {},
   "outputs": [],
   "source": [
    "import sys\n",
    "sys.path.insert(0, '../..')\n",
    "\n",
    "import config as cg\n",
    "\n",
    "cg.base_dir = '/data/user/mhuennefeld/data/analyses/unblinding_v1.0.1/'"
   ]
  },
  {
   "cell_type": "code",
   "execution_count": null,
   "id": "found-religion",
   "metadata": {},
   "outputs": [],
   "source": [
    "def get_tr(sindec, gamma, extension=0., cutoff=np.inf, cpus=20, sigsub=True):\n",
    "    src = cy.utils.sources(0, np.arcsin(sindec), extension=extension, deg=False)\n",
    "    cutoff_GeV = cutoff * 1e3\n",
    "    conf = cg.get_ps_conf(\n",
    "        src=src, gamma=gamma, cutoff_GeV=cutoff_GeV, sigsub=sigsub)\n",
    "\n",
    "    tr = cy.get_trial_runner(ana=ana, conf=conf, mp_cpus=cpus)\n",
    "    return tr, src\n",
    "\n",
    "def get_tr_tracks(sindec, gamma, extension=0., cutoff=np.inf, cpus=20, sigsub=False):\n",
    "    src = cy.utils.sources(0, np.arcsin(sindec), extension=extension, deg=False)\n",
    "    cutoff_GeV = cutoff * 1e3\n",
    "    conf = {\n",
    "        'src': src,\n",
    "        'flux': cy.hyp.PowerLawFlux(gamma, energy_cutoff=cutoff_GeV),\n",
    "        'update_bg': True,\n",
    "        'sigsub':  sigsub,\n",
    "        'randomize': ['ra'],\n",
    "    }\n",
    "    \n",
    "    tr = cy.get_trial_runner(ana=ana_tracks, conf=conf, mp_cpus=cpus)\n",
    "    return tr, src\n"
   ]
  },
  {
   "cell_type": "markdown",
   "id": "naval-eligibility",
   "metadata": {},
   "source": [
    "#### Get TrialRunners"
   ]
  },
  {
   "cell_type": "code",
   "execution_count": null,
   "id": "discrete-hierarchy",
   "metadata": {},
   "outputs": [],
   "source": [
    "sindec = np.sin(np.deg2rad(22))\n",
    "tr_dict = {\n",
    "    'dnnc': {},\n",
    "    'psv4': {},\n",
    "}\n",
    "\n",
    "for gamma in [2.7, 3.0]:\n",
    "    for cutoff in [15, np.inf]:\n",
    "        for extension in np.deg2rad([0., 3.]):\n",
    "            tr_dict['dnnc'][(gamma, cutoff, extension)] = get_tr(\n",
    "                sindec=sindec, gamma=gamma, cutoff=cutoff, extension=extension)[0]\n",
    "            tr_dict['psv4'][(gamma, cutoff, extension)] = get_tr_tracks(\n",
    "                sindec=sindec, gamma=gamma, cutoff=cutoff, extension=extension)[0]\n"
   ]
  },
  {
   "cell_type": "markdown",
   "id": "simple-seventh",
   "metadata": {},
   "source": [
    "#### Get bkg fits for each trial runner"
   ]
  },
  {
   "cell_type": "code",
   "execution_count": null,
   "id": "exempt-yorkshire",
   "metadata": {},
   "outputs": [],
   "source": [
    "bkg_file_dict = {}\n",
    "n_bkg_trials = 20000\n",
    "seed = 1337\n",
    "recalculate = False\n",
    "\n",
    "bkg_file = os.path.join(plot_dir, 'trials_bkg.pkl')\n",
    "\n",
    "\n",
    "if os.path.exists(bkg_file) and not recalculate:\n",
    "    print('Reloading background trials')\n",
    "    with open(os.path.join(plot_dir, 'trials_bkg.pkl'), 'rb') as f:\n",
    "        bkg_dict = pickle.load(f)\n",
    "else:\n",
    "    bkg_dict = {}\n",
    "    for key, tr_dict_i in tr_dict.items():\n",
    "        tr = list(tr_dict_i.values())[0]\n",
    "        print('Running background trials for trial runner {}'.format(key))\n",
    "        bkg_dict[key] = tr.get_many_fits(\n",
    "            n_trials=n_bkg_trials, seed=seed, mp_cpus=20)\n",
    "\n",
    "    with open(bkg_file, 'wb') as f:\n",
    "        pickle.dump(bkg_dict, f, protocol=2)\n"
   ]
  },
  {
   "cell_type": "markdown",
   "id": "short-closing",
   "metadata": {},
   "source": [
    "#### Plot ts distribution"
   ]
  },
  {
   "cell_type": "code",
   "execution_count": null,
   "id": "buried-convenience",
   "metadata": {
    "scrolled": false
   },
   "outputs": [],
   "source": [
    "for key, bg in bkg_dict.items():\n",
    "    bg_tsd = cy.dists.Chi2TSD(bg)\n",
    "    fig, ax = plot_bkg_trials(bg_tsd)\n",
    "    ts_3sig = bg_tsd.isf_nsigma(3)\n",
    "    ax.axvline(\n",
    "        ts_3sig, ls='--', lw=1,\n",
    "        label='3-sigma TS: {:3.3f}'.format(ts_3sig), \n",
    "    )\n",
    "    ax.set_title('Trial Runner: {}'.format(key))\n",
    "    ax.set_yscale('log')\n",
    "    ax.legend()\n",
    "    #fig.savefig('{}/ts_dist_{}.png'.format(plot_dir, key))"
   ]
  },
  {
   "cell_type": "markdown",
   "id": "smooth-truck",
   "metadata": {},
   "source": [
    "#### Compute Sensitivity"
   ]
  },
  {
   "cell_type": "code",
   "execution_count": null,
   "id": "educational-manufacturer",
   "metadata": {},
   "outputs": [],
   "source": [
    "sens_dict = {k: {} for k in tr_dict.keys()}\n",
    "\n",
    "for key1, tr_dict_i  in tr_dict.items():\n",
    "    bg = cy.dists.Chi2TSD(bkg_dict[key1])\n",
    "    \n",
    "    for key2, tr in tr_dict_i.items():\n",
    "        print('Computing Sensitivity for {}: {}'.format(key1, key2))\n",
    "        sens = tr.find_n_sig(\n",
    "                # ts, threshold\n",
    "                ts=bg.median(),\n",
    "                # beta, fraction of trials which should exceed the threshold\n",
    "                beta=0.9,\n",
    "                # n_inj step size for initial scan\n",
    "                n_sig_step=20,\n",
    "                # this many trials at a time\n",
    "                batch_size=500,\n",
    "                # tolerance, as estimated relative error\n",
    "                tol=.05,\n",
    "                first_batch_size = 250,\n",
    "                mp_cpus=20,\n",
    "                seed=seed\n",
    "            )\n",
    "        sens['flux'] = tr.to_E2dNdE(sens['n_sig'], E0=1, unit=1e3)\n",
    "        print('flux:', sens['flux'])\n",
    "        sens_dict[key1][key2] = sens"
   ]
  },
  {
   "cell_type": "code",
   "execution_count": null,
   "id": "supreme-shape",
   "metadata": {},
   "outputs": [],
   "source": [
    "for key2 in sens_dict['dnnc'].keys():\n",
    "    ps_sens = sens_dict['psv4'][key2]['flux']\n",
    "    dnnc_sens = sens_dict['dnnc'][key2]['flux']\n",
    "    print('Gamma: {:3.2f} | Cutoff: {:3.2f} TeV | Extension: {:3.3f}'.format(\n",
    "        key2[0], key2[1], np.rad2deg(key2[2]),\n",
    "    ))\n",
    "    print('  PS: {:3.3e} | DNNC: {:3.3e} | DNNC/PS: {:3.3f}'.format(\n",
    "        ps_sens, dnnc_sens, dnnc_sens/ps_sens,\n",
    "    ))"
   ]
  },
  {
   "cell_type": "code",
   "execution_count": null,
   "id": "careful-graph",
   "metadata": {},
   "outputs": [],
   "source": []
  }
 ],
 "metadata": {
  "kernelspec": {
   "display_name": "tensorflow2.3_py3-v4.1.0_csky",
   "language": "python",
   "name": "tensorflow2.3_py3-v4.1.0_csky"
  },
  "language_info": {
   "codemirror_mode": {
    "name": "ipython",
    "version": 3
   },
   "file_extension": ".py",
   "mimetype": "text/x-python",
   "name": "python",
   "nbconvert_exporter": "python",
   "pygments_lexer": "ipython3",
   "version": "3.7.5"
  }
 },
 "nbformat": 4,
 "nbformat_minor": 5
}
