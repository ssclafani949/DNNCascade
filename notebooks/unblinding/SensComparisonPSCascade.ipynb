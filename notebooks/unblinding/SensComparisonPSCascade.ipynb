{
 "cells": [
  {
   "cell_type": "code",
<<<<<<< Updated upstream
   "execution_count": null,
   "id": "damaged-trading",
=======
   "execution_count": 1,
>>>>>>> Stashed changes
   "metadata": {},
   "outputs": [],
   "source": [
    "%matplotlib inline\n",
    "%load_ext autoreload\n",
    "%autoreload 2\n",
    "\n",
    "#PDFs in BDT and sindec?\n",
    "import os\n",
    "\n",
    "# set env flags to catch BLAS used for scipy/numpy \n",
    "# to only use 1 cpu, n_cpus will be totally controlled by csky\n",
    "if False:\n",
    "    os.environ['MKL_NUM_THREADS'] = \"1\"\n",
    "    os.environ['NUMEXPR_NUM_THREADS'] = \"1\"\n",
    "    os.environ['OMP_NUM_THREADS'] = \"1\"\n",
    "    os.environ['OPENBLAS_NUM_THREADS'] = \"1\"\n",
    "    os.environ['VECLIB_MAXIMUM_THREADS'] = \"1\"\n",
    "\n",
    "import matplotlib as mpl\n",
    "mpl.rcParams['figure.facecolor'] = 'w'\n",
    "mpl.rcParams['savefig.facecolor'] = 'w'\n",
    "import matplotlib.pyplot as plt\n",
    "from matplotlib import colors, cm\n",
    "import csky as cy\n",
    "from csky import cext\n",
    "import numpy as np\n",
    "import astropy\n",
    "#from icecube import astro\n",
    "import histlite as hl\n",
    "import healpy\n",
    "import healpy as hp\n",
    "import socket\n",
    "import pickle\n",
    "import copy\n",
    "healpy.disable_warnings()\n",
    "plt.rc('figure', facecolor = 'w')\n",
    "plt.rc('figure', dpi=100)"
   ]
  },
  {
   "cell_type": "markdown",
   "metadata": {},
   "source": [
    "## Define Settings"
   ]
  },
  {
   "cell_type": "code",
<<<<<<< Updated upstream
   "execution_count": null,
   "id": "precious-power",
=======
   "execution_count": 2,
>>>>>>> Stashed changes
   "metadata": {},
   "outputs": [],
   "source": [
    "selection_version = 'version-001-p00'\n",
    "\n",
    "host_name = socket.gethostname()\n",
    "\n",
    "if 'cobalt' in host_name:\n",
    "    print('Working on Cobalts')\n",
    "    data_prefix = '/data/user/ssclafani/data/cscd/final'\n",
    "    ana_dir = '/data/user/ssclafani/data/analyses/'\n",
    "    plot_dir = '/data/user/mhuennefeld/data/analyses/DNNCascadeCodeReview/unblinding_checks/plots/unblinding/sens_comparison_ps_cascade'\n",
    "    \n",
    "else:\n",
    "    raise ValueError('Unknown host:', host_name)"
   ]
  },
  {
   "cell_type": "code",
<<<<<<< Updated upstream
   "execution_count": null,
   "id": "complicated-hierarchy",
=======
   "execution_count": 3,
>>>>>>> Stashed changes
   "metadata": {},
   "outputs": [],
   "source": [
    "for dir_path in [plot_dir]:\n",
    "    if not os.path.exists(dir_path):\n",
    "        print('Creating directory:', dir_path)\n",
    "        os.makedirs(dir_path)"
   ]
  },
  {
   "cell_type": "markdown",
   "metadata": {},
   "source": [
    "## Load Data"
   ]
  },
  {
   "cell_type": "code",
<<<<<<< Updated upstream
   "execution_count": null,
   "id": "tutorial-hybrid",
=======
   "execution_count": 4,
>>>>>>> Stashed changes
   "metadata": {},
   "outputs": [],
   "source": [
    "repo = cy.selections.Repository()\n",
    "specs = cy.selections.DNNCascadeDataSpecs.DNNC_10yr"
   ]
  },
  {
   "cell_type": "code",
<<<<<<< Updated upstream
   "execution_count": null,
   "id": "differential-violation",
=======
   "execution_count": 5,
>>>>>>> Stashed changes
   "metadata": {},
   "outputs": [],
   "source": [
    "%%time\n",
    "\n",
    "ana = cy.get_analysis(\n",
    "    repo, selection_version, specs, \n",
    "    #gammas=np.r_[0.1:6.01:0.125],\n",
    ")"
   ]
  },
  {
   "cell_type": "code",
<<<<<<< Updated upstream
   "execution_count": null,
   "id": "essential-parallel",
=======
   "execution_count": 6,
>>>>>>> Stashed changes
   "metadata": {},
   "outputs": [],
   "source": [
    "a = ana.anas[0]\n",
    "a.sig"
   ]
  },
  {
   "cell_type": "code",
<<<<<<< Updated upstream
   "execution_count": null,
   "id": "bulgarian-internet",
=======
   "execution_count": 7,
>>>>>>> Stashed changes
   "metadata": {},
   "outputs": [],
   "source": [
    "a.bg_data"
   ]
  },
  {
   "cell_type": "markdown",
   "metadata": {},
   "source": [
    "#### Load PSTracksV4"
   ]
  },
  {
   "cell_type": "code",
<<<<<<< Updated upstream
   "execution_count": null,
   "id": "political-sculpture",
=======
   "execution_count": 9,
>>>>>>> Stashed changes
   "metadata": {},
   "outputs": [],
   "source": [
    "%%time\n",
    "\n",
    "track_version = 'version-004-p00'\n",
    "ana_tracks = cy.get_analysis(\n",
    "    cy.selections.Repository(), track_version, cy.selections.PSDataSpecs.ps_v4, \n",
    ")"
   ]
  },
  {
   "cell_type": "markdown",
   "metadata": {},
   "source": [
    "## Helpers"
   ]
  },
  {
   "cell_type": "code",
<<<<<<< Updated upstream
   "execution_count": null,
   "id": "dutch-still",
=======
   "execution_count": 10,
>>>>>>> Stashed changes
   "metadata": {},
   "outputs": [],
   "source": [
    "from cycler import cycle\n",
    "from copy import deepcopy\n",
    "\n",
    "soft_colors = cy.plotting.soft_colors\n",
    "colors = plt.rcParams['axes.prop_cycle'].by_key()['color']\n",
    "\n",
    "\n",
    "def get_bias_allt(tr, ntrials=200, n_sigs=np.r_[:101:10], quiet=False):\n",
    "    trials = [\n",
    "        (None if quiet else print(f'\\r{n_sig:4d} ...', end='', flush=True))\n",
    "        or\n",
    "        tr.get_many_fits(ntrials, n_sig=n_sig, logging=False, seed=n_sig)\n",
    "        for n_sig in n_sigs]\n",
    "    if not quiet:\n",
    "        print()\n",
    "    for (n_sig, t) in zip(n_sigs, trials):\n",
    "        t['ntrue'] = np.repeat(n_sig, len(t))\n",
    "    allt = cy.utils.Arrays.concatenate(trials)\n",
    "    return allt\n",
    "\n",
    "def get_color_cycler():\n",
    "    return cycle(colors)\n",
    "\n",
    "def plot_ns_bias(ax, tr, allt, label=''):\n",
    "\n",
    "    n_sigs = np.unique(allt.ntrue)\n",
    "    dns = np.mean(np.diff(n_sigs))\n",
    "    ns_bins = np.r_[n_sigs - 0.5*dns, n_sigs[-1] + 0.5*dns]\n",
    "    expect_kw = dict(color='C0', ls='--', lw=1, zorder=-10)\n",
    "\n",
    "    h = hl.hist((allt.ntrue, allt.ns), bins=(ns_bins, 100))\n",
    "    hl.plot1d(ax, h.contain_project(1),errorbands=True, \n",
    "              drawstyle='default', label=label)\n",
    "    lim = ns_bins[[0, -1]]\n",
    "    ax.set_xlim(ax.set_ylim(lim))\n",
    "    ax.plot(lim, lim, **expect_kw)\n",
    "    ax.set_aspect('equal')\n",
    "\n",
    "    ax.set_xlabel(r'$n_{inj}$')\n",
    "    ax.set_ylabel(r'$n_s$')\n",
    "    ax.grid()\n",
    "\n",
    "def plot_gamma_bias(ax, tr, allt, label=''):\n",
    "\n",
    "    n_sigs = np.unique(allt.ntrue)\n",
    "    dns = np.mean(np.diff(n_sigs))\n",
    "    ns_bins = np.r_[n_sigs - 0.5*dns, n_sigs[-1] + 0.5*dns]\n",
    "    expect_kw = dict(color='C0', ls='--', lw=1, zorder=-10)\n",
    "    expect_gamma = tr.sig_injs[0].flux[0].gamma\n",
    "\n",
    "    h = hl.hist((allt.ntrue, allt.gamma), bins=(ns_bins, 100))\n",
    "    hl.plot1d(ax, h.contain_project(1),errorbands=True, \n",
    "              drawstyle='default', label=label)\n",
    "    lim = ns_bins[[0, -1]]\n",
    "    ax.set_xlim(lim)\n",
    "    ax.set_ylim(1, 4)\n",
    "    ax.axhline(expect_gamma, **expect_kw)\n",
    "\n",
    "    ax.set_xlabel(r'$n_{inj}$')\n",
    "    ax.set_ylabel(r'$\\gamma$')\n",
    "    ax.grid()\n",
    "\n",
    "def plot_bkg_trials(\n",
    "            bg, fig=None, ax=None, \n",
    "            label='{} bg trials', \n",
    "            label_fit=r'$\\chi^2[{:.2f}\\mathrm{{dof}},\\ \\eta={:.3f}]$', \n",
    "            color=colors[0],\n",
    "            density=False,\n",
    "            bins=50,\n",
    "        ):\n",
    "    if ax is None:\n",
    "        fig, ax = plt.subplots(figsize=(6, 4))\n",
    "    \n",
    "    if density:\n",
    "        h = bg.get_hist(bins=bins).normalize()\n",
    "    else:\n",
    "        h = bg.get_hist(bins=bins)\n",
    "    if label is not None:\n",
    "        label = label.format(bg.n_total)\n",
    "    hl.plot1d(ax, h, crosses=True, color=color, label=label)\n",
    "\n",
    "    # compare with the chi2 fit:\n",
    "    if hasattr(bg, 'pdf'):\n",
    "        x = h.centers[0]\n",
    "        norm = h.integrate().values\n",
    "        if label_fit is not None:\n",
    "            label_fit = label_fit.format(bg.ndof, bg.eta)\n",
    "        if density:\n",
    "            ax.semilogy(x, bg.pdf(x), lw=1, ls='--', label=label_fit, color=color)\n",
    "        else:\n",
    "            ax.semilogy(x, norm * bg.pdf(x), lw=1, ls='--', label=label_fit, color=color)\n",
    "\n",
    "    ax.set_xlabel(r'TS')\n",
    "    if density:\n",
    "        ax.set_ylabel(r'Density')\n",
    "    else:\n",
    "        ax.set_ylabel(r'number of trials')\n",
    "    ax.legend()\n",
    "        \n",
    "    return fig, ax"
   ]
  },
  {
   "cell_type": "markdown",
   "metadata": {},
   "source": [
    "## Setup Analysis"
   ]
  },
  {
   "cell_type": "code",
<<<<<<< Updated upstream
   "execution_count": null,
   "id": "corresponding-referral",
=======
   "execution_count": 11,
>>>>>>> Stashed changes
   "metadata": {},
   "outputs": [],
   "source": [
    "import sys\n",
    "sys.path.insert(0, '../..')\n",
    "\n",
    "import config as cg\n",
    "\n",
    "cg.base_dir = '/data/user/mhuennefeld/data/analyses/unblinding_v1.0.0/'"
   ]
  },
  {
   "cell_type": "code",
<<<<<<< Updated upstream
   "execution_count": null,
   "id": "found-religion",
=======
   "execution_count": 50,
>>>>>>> Stashed changes
   "metadata": {},
   "outputs": [],
   "source": [
    "def get_tr(sindec, gamma, extension=0., cutoff=np.inf, cpus=20, sigsub=True):\n",
    "    src = cy.utils.sources(0, np.arcsin(sindec), extension=extension, deg=False)\n",
    "    cutoff_GeV = cutoff * 1e3\n",
    "    conf = cg.get_ps_conf(\n",
    "        src=src, gamma=gamma, cutoff_GeV=cutoff_GeV, sigsub=sigsub)\n",
    "\n",
    "    tr = cy.get_trial_runner(ana=ana, conf=conf, mp_cpus=cpus)\n",
    "    return tr, src\n",
    "\n",
    "def get_tr_tracks(sindec, gamma, extension=0., cutoff=np.inf, cpus=20, sigsub=False):\n",
    "    src = cy.utils.sources(0, np.arcsin(sindec), extension=extension, deg=False)\n",
    "    cutoff_GeV = cutoff * 1e3\n",
    "    conf = {\n",
    "        'src': src,\n",
    "        'flux': cy.hyp.PowerLawFlux(gamma, energy_cutoff=cutoff_GeV),\n",
    "        'update_bg': True,\n",
    "        'sigsub':  sigsub,\n",
    "        'randomize': ['ra'],\n",
    "    }\n",
    "    \n",
    "    tr = cy.get_trial_runner(ana=ana_tracks, conf=conf, mp_cpus=cpus)\n",
    "    return tr, src\n"
   ]
  },
  {
   "cell_type": "markdown",
   "metadata": {},
   "source": [
    "#### Get TrialRunners"
   ]
  },
  {
   "cell_type": "code",
<<<<<<< Updated upstream
   "execution_count": null,
   "id": "discrete-hierarchy",
=======
   "execution_count": 51,
>>>>>>> Stashed changes
   "metadata": {},
   "outputs": [],
   "source": [
    "sindec = np.sin(np.deg2rad(22))\n",
    "tr_dict = {\n",
    "    'dnnc': {},\n",
    "    'psv4': {},\n",
    "}\n",
    "\n",
    "for gamma in [2.7, 3.0]:\n",
    "    for cutoff in [15, np.inf]:\n",
    "        for extension in np.deg2rad([0., 3.]):\n",
    "            tr_dict['dnnc'][(gamma, cutoff, extension)] = get_tr(\n",
    "                sindec=sindec, gamma=gamma, cutoff=cutoff, extension=extension)[0]\n",
    "            tr_dict['psv4'][(gamma, cutoff, extension)] = get_tr_tracks(\n",
    "                sindec=sindec, gamma=gamma, cutoff=cutoff, extension=extension)[0]\n"
   ]
  },
  {
   "cell_type": "markdown",
   "metadata": {},
   "source": [
    "#### Get bkg fits for each trial runner"
   ]
  },
  {
   "cell_type": "code",
<<<<<<< Updated upstream
   "execution_count": null,
   "id": "exempt-yorkshire",
=======
   "execution_count": 28,
>>>>>>> Stashed changes
   "metadata": {},
   "outputs": [],
   "source": [
    "bkg_file_dict = {}\n",
    "n_bkg_trials = 20000\n",
    "seed = 1337\n",
    "recalculate = False\n",
    "\n",
    "bkg_file = os.path.join(plot_dir, 'trials_bkg.pkl')\n",
    "\n",
    "\n",
    "if os.path.exists(bkg_file) and not recalculate:\n",
    "    print('Reloading background trials')\n",
    "    with open(os.path.join(plot_dir, 'trials_bkg.pkl'), 'rb') as f:\n",
    "        bkg_dict = pickle.load(f)\n",
    "else:\n",
    "    bkg_dict = {}\n",
    "    for key, tr_dict_i in tr_dict.items():\n",
    "        tr = list(tr_dict_i.values())[0]\n",
    "        print('Running background trials for trial runner {}'.format(key))\n",
    "        bkg_dict[key] = tr.get_many_fits(\n",
    "            n_trials=n_bkg_trials, seed=seed, mp_cpus=20)\n",
    "\n",
    "    with open(bkg_file, 'wb') as f:\n",
    "        pickle.dump(bkg_dict, f, protocol=2)\n"
   ]
  },
  {
   "cell_type": "markdown",
   "metadata": {},
   "source": [
    "#### Plot ts distribution"
   ]
  },
  {
   "cell_type": "code",
<<<<<<< Updated upstream
   "execution_count": null,
   "id": "buried-convenience",
   "metadata": {
    "scrolled": false
   },
   "outputs": [],
=======
   "execution_count": 30,
   "metadata": {},
   "outputs": [
    {
     "name": "stderr",
     "output_type": "stream",
     "text": [
      "/home/mhuennefeld/software/virtualenvs/tensorflow2.3_py3-v4.1.0_csky/lib/python3.7/site-packages/numpy/core/_asarray.py:85: UserWarning: Warning: converting a masked element to nan.\n",
      "  return array(a, dtype, copy=False, order=order)\n",
      "/home/mhuennefeld/software/virtualenvs/tensorflow2.3_py3-v4.1.0_csky/lib/python3.7/site-packages/numpy/core/_asarray.py:85: UserWarning: Warning: converting a masked element to nan.\n",
      "  return array(a, dtype, copy=False, order=order)\n"
     ]
    },
    {
     "data": {
      "image/png": "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\n",
      "text/plain": [
       "<Figure size 600x400 with 1 Axes>"
      ]
     },
     "metadata": {},
     "output_type": "display_data"
    },
    {
     "data": {
      "image/png": "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\n",
      "text/plain": [
       "<Figure size 600x400 with 1 Axes>"
      ]
     },
     "metadata": {},
     "output_type": "display_data"
    }
   ],
>>>>>>> Stashed changes
   "source": [
    "for key, bg in bkg_dict.items():\n",
    "    bg_tsd = cy.dists.Chi2TSD(bg)\n",
    "    fig, ax = plot_bkg_trials(bg_tsd)\n",
    "    ts_3sig = bg_tsd.isf_nsigma(3)\n",
    "    ax.axvline(\n",
    "        ts_3sig, ls='--', lw=1,\n",
    "        label='3-sigma TS: {:3.3f}'.format(ts_3sig), \n",
    "    )\n",
    "    ax.set_title('Trial Runner: {}'.format(key))\n",
    "    ax.set_yscale('log')\n",
    "    ax.legend()\n",
    "    #fig.savefig('{}/ts_dist_{}.png'.format(plot_dir, key))"
   ]
  },
  {
   "cell_type": "markdown",
   "metadata": {},
   "source": [
    "#### Compute Sensitivity"
   ]
  },
  {
   "cell_type": "code",
<<<<<<< Updated upstream
   "execution_count": null,
   "id": "educational-manufacturer",
   "metadata": {},
   "outputs": [],
=======
   "execution_count": 52,
   "metadata": {},
   "outputs": [
    {
     "name": "stdout",
     "output_type": "stream",
     "text": [
      "Computing Sensitivity for dnnc: (2.7, 15, 0.0)\n",
      "Start time: 2022-01-24 03:02:58.662949\n",
      "Using 20 cores.\n",
      "* Starting initial scan for 90% of 250 trials with TS >= 0.456...\n",
      "  n_sig = 20.000 ... frac = 0.63200\n",
      "  n_sig = 40.000 ... frac = 0.72000\n",
      "  n_sig = 60.000 ... frac = 0.79600\n",
      "  n_sig = 80.000 ... frac = 0.90800\n",
      "* Generating batches of 500 trials...\n",
      "n_trials | n_inj    0.00   32.00   64.00   96.00  128.00  160.00  |  n_sig(relative error)\n",
      "500      |         51.0%   71.2%   84.4%   92.8%   98.0%   99.8%  |     83.584 (+/-  5.0%) [spline]\n",
      "1000     |         48.3%   68.9%   84.3%   93.7%   98.0%   99.8%  |     80.926 (+/-  3.0%) [spline]\n",
      "End time: 2022-01-24 03:06:17.750556\n",
      "Elapsed time: 0:03:19.087607\n",
      "flux: 7.583279703328358e-11\n",
      "Computing Sensitivity for dnnc: (2.7, 15, 0.05235987755982989)\n",
      "Start time: 2022-01-24 03:06:17.754757\n",
      "Using 20 cores.\n",
      "* Starting initial scan for 90% of 250 trials with TS >= 0.456...\n",
      "  n_sig = 20.000 ... frac = 0.61200\n",
      "  n_sig = 40.000 ... frac = 0.76800\n",
      "  n_sig = 60.000 ... frac = 0.77200\n",
      "  n_sig = 80.000 ... frac = 0.89600\n",
      "  n_sig = 100.000 ... frac = 0.91200\n",
      "* Generating batches of 500 trials...\n",
      "n_trials | n_inj    0.00   40.00   80.00  120.00  160.00  200.00  |  n_sig(relative error)\n",
      "500      |         52.0%   67.2%   88.0%   96.6%   99.4%  100.0%  |     86.854 (+/-  5.5%) [spline]\n",
      "1000     |         51.7%   67.4%   88.1%   96.3%   99.5%   99.8%  |     86.817 (+/-  4.2%) [spline]\n",
      "End time: 2022-01-24 03:09:49.624375\n",
      "Elapsed time: 0:03:31.869618\n",
      "flux: 8.135298719239899e-11\n",
      "Computing Sensitivity for dnnc: (2.7, inf, 0.0)\n",
      "Start time: 2022-01-24 03:09:49.626921\n",
      "Using 20 cores.\n",
      "* Starting initial scan for 90% of 250 trials with TS >= 0.456...\n",
      "  n_sig = 20.000 ... frac = 0.74400\n",
      "  n_sig = 40.000 ... frac = 0.85200\n",
      "  n_sig = 60.000 ... frac = 0.94000\n",
      "* Generating batches of 500 trials...\n",
      "n_trials | n_inj    0.00   24.00   48.00   72.00   96.00  120.00  |  n_sig(relative error)\n",
      "500      |         49.6%   73.6%   91.2%   98.4%   99.8%   99.8%  |     45.481 (+/-  5.7%) [spline]\n",
      "1000     |         50.5%   73.5%   90.8%   98.2%   99.8%   99.8%  |     46.280 (+/-  3.9%) [spline]\n",
      "End time: 2022-01-24 03:13:03.461428\n",
      "Elapsed time: 0:03:13.834507\n",
      "flux: 3.1843660590887704e-11\n",
      "Computing Sensitivity for dnnc: (2.7, inf, 0.05235987755982989)\n",
      "Start time: 2022-01-24 03:13:03.463775\n",
      "Using 20 cores.\n",
      "* Starting initial scan for 90% of 250 trials with TS >= 0.456...\n",
      "  n_sig = 20.000 ... frac = 0.68400\n",
      "  n_sig = 40.000 ... frac = 0.88000\n",
      "  n_sig = 60.000 ... frac = 0.90400\n",
      "* Generating batches of 500 trials...\n",
      "n_trials | n_inj    0.00   24.00   48.00   72.00   96.00  120.00  |  n_sig(relative error)\n",
      "500      |         51.6%   75.0%   88.6%   95.2%   99.2%   99.8%  |     51.993 (+/-  6.2%) [spline]\n",
      "1000     |         50.1%   71.3%   87.9%   95.7%   99.0%   99.8%  |     52.998 (+/-  3.6%) [spline]\n",
      "End time: 2022-01-24 03:16:21.331241\n",
      "Elapsed time: 0:03:17.867466\n",
      "flux: 3.646594536854331e-11\n",
      "Computing Sensitivity for dnnc: (3.0, 15, 0.0)\n",
      "Start time: 2022-01-24 03:16:21.333107\n",
      "Using 20 cores.\n",
      "* Starting initial scan for 90% of 250 trials with TS >= 0.456...\n",
      "  n_sig = 20.000 ... frac = 0.62800\n",
      "  n_sig = 40.000 ... frac = 0.70400\n",
      "  n_sig = 60.000 ... frac = 0.76800\n",
      "  n_sig = 80.000 ... frac = 0.86800\n",
      "  n_sig = 100.000 ... frac = 0.91200\n",
      "* Generating batches of 500 trials...\n",
      "n_trials | n_inj    0.00   40.00   80.00  120.00  160.00  200.00  |  n_sig(relative error)\n",
      "500      |         50.8%   69.2%   85.6%   95.4%   99.2%  100.0%  |     94.940 (+/-  3.8%) [spline]\n",
      "End time: 2022-01-24 03:18:25.962579\n",
      "Elapsed time: 0:02:04.629472\n",
      "flux: 1.1333593766866752e-10\n",
      "Computing Sensitivity for dnnc: (3.0, 15, 0.05235987755982989)\n",
      "Start time: 2022-01-24 03:18:25.964014\n",
      "Using 20 cores.\n",
      "* Starting initial scan for 90% of 250 trials with TS >= 0.456...\n",
      "  n_sig = 20.000 ... frac = 0.59600\n",
      "  n_sig = 40.000 ... frac = 0.75600\n",
      "  n_sig = 60.000 ... frac = 0.74400\n",
      "  n_sig = 80.000 ... frac = 0.84800\n",
      "  n_sig = 100.000 ... frac = 0.87600\n",
      "  n_sig = 120.000 ... frac = 0.95600\n",
      "* Generating batches of 500 trials...\n",
      "n_trials | n_inj    0.00   48.00   96.00  144.00  192.00  240.00  |  n_sig(relative error)\n",
      "500      |         47.8%   73.6%   91.2%   98.2%   99.4%  100.0%  |     90.872 (+/-  4.6%) [spline]\n",
      "End time: 2022-01-24 03:20:38.618290\n",
      "Elapsed time: 0:02:12.654276\n",
      "flux: 1.084802040144337e-10\n",
      "Computing Sensitivity for dnnc: (3.0, inf, 0.0)\n",
      "Start time: 2022-01-24 03:20:38.621947\n",
      "Using 20 cores.\n",
      "* Starting initial scan for 90% of 250 trials with TS >= 0.456...\n",
      "  n_sig = 20.000 ... frac = 0.64800\n",
      "  n_sig = 40.000 ... frac = 0.78000\n",
      "  n_sig = 60.000 ... frac = 0.84000\n",
      "  n_sig = 80.000 ... frac = 0.92400\n",
      "* Generating batches of 500 trials...\n",
      "n_trials | n_inj    0.00   32.00   64.00   96.00  128.00  160.00  |  n_sig(relative error)\n",
      "500      |         51.0%   73.0%   90.4%   96.4%   99.4%  100.0%  |     62.658 (+/-  5.2%) [spline]\n",
      "1000     |         48.3%   73.1%   90.3%   96.5%   99.0%  100.0%  |     65.121 (+/-  2.8%) [chi2.cdf]\n",
      "End time: 2022-01-24 03:24:01.243898\n",
      "Elapsed time: 0:03:22.621951\n",
      "flux: 6.430557724688303e-11\n",
      "Computing Sensitivity for dnnc: (3.0, inf, 0.05235987755982989)\n",
      "Start time: 2022-01-24 03:24:01.246898\n",
      "Using 20 cores.\n",
      "* Starting initial scan for 90% of 250 trials with TS >= 0.456...\n",
      "  n_sig = 20.000 ... frac = 0.64000\n",
      "  n_sig = 40.000 ... frac = 0.81200\n",
      "  n_sig = 60.000 ... frac = 0.81600\n",
      "  n_sig = 80.000 ... frac = 0.92400\n",
      "* Generating batches of 500 trials...\n",
      "n_trials | n_inj    0.00   32.00   64.00   96.00  128.00  160.00  |  n_sig(relative error)\n",
      "500      |         50.4%   73.6%   84.6%   95.6%   98.6%   99.2%  |     73.626 (+/-  6.3%) [chi2.cdf]\n",
      "1000     |         48.5%   73.9%   85.0%   94.7%   98.6%   99.5%  |     73.835 (+/-  5.6%) [chi2.cdf]\n",
      "1500     |         49.8%   72.9%   85.3%   95.3%   98.5%   99.6%  |     73.906 (+/-  4.2%) [chi2.cdf]\n",
      "End time: 2022-01-24 03:28:49.350656\n",
      "Elapsed time: 0:04:48.103758\n",
      "flux: 7.297970493174462e-11\n",
      "Computing Sensitivity for psv4: (2.7, 15, 0.0)\n",
      "Start time: 2022-01-24 03:28:49.812866\n",
      "Using 20 cores.\n",
      "* Starting initial scan for 90% of 250 trials with TS >= 0.048...\n",
      "  n_sig = 20.000 ... frac = 0.90000\n",
      "* Generating batches of 500 trials...\n",
      "n_trials | n_inj    0.00    8.00   16.00   24.00   32.00   40.00  |  n_sig(relative error)\n",
      "500      |         51.0%   66.4%   83.0%   91.4%   96.6%   98.6%  |     22.330 (+/-  5.2%) [spline]\n",
      "1000     |         51.7%   66.9%   84.4%   92.1%   96.2%   98.3%  |     21.987 (+/-  3.1%) [chi2.cdf]\n",
      "End time: 2022-01-24 03:31:06.491991\n",
      "Elapsed time: 0:02:16.679125\n",
      "flux: 7.801589695717694e-12\n",
      "Computing Sensitivity for psv4: (2.7, 15, 0.05235987755982989)\n",
      "Start time: 2022-01-24 03:31:06.495064\n",
      "Using 20 cores.\n",
      "* Starting initial scan for 90% of 250 trials with TS >= 0.048...\n",
      "  n_sig = 20.000 ... frac = 0.54800\n",
      "  n_sig = 40.000 ... frac = 0.65600\n",
      "  n_sig = 60.000 ... frac = 0.75600\n",
      "  n_sig = 80.000 ... frac = 0.82400\n",
      "  n_sig = 100.000 ... frac = 0.89600\n",
      "  n_sig = 120.000 ... frac = 0.91600\n",
      "* Generating batches of 500 trials...\n",
      "n_trials | n_inj    0.00   48.00   96.00  144.00  192.00  240.00  |  n_sig(relative error)\n",
      "500      |         50.8%   69.6%   87.0%   94.6%   98.8%  100.0%  |    111.216 (+/-  5.0%) [spline]\n",
      "End time: 2022-01-24 03:34:55.812165\n",
      "Elapsed time: 0:03:49.317101\n",
      "flux: 3.9461981691761206e-11\n",
      "Computing Sensitivity for psv4: (2.7, inf, 0.0)\n",
      "Start time: 2022-01-24 03:34:55.817089\n",
      "Using 20 cores.\n",
      "* Starting initial scan for 90% of 250 trials with TS >= 0.048...\n",
      "  n_sig = 20.000 ... frac = 0.94400\n",
      "* Generating batches of 500 trials...\n",
      "n_trials | n_inj    0.00    8.00   16.00   24.00   32.00   40.00  |  n_sig(relative error)\n",
      "500      |         51.0%   75.8%   94.2%   98.2%   99.2%   99.6%  |     13.763 (+/-  3.4%) [chi2.cdf]\n",
      "End time: 2022-01-24 03:36:08.909703\n",
      "Elapsed time: 0:01:13.092614\n",
      "flux: 3.666994808980655e-12\n",
      "Computing Sensitivity for psv4: (2.7, inf, 0.05235987755982989)\n",
      "Start time: 2022-01-24 03:36:08.912470\n",
      "Using 20 cores.\n",
      "* Starting initial scan for 90% of 250 trials with TS >= 0.048...\n",
      "  n_sig = 20.000 ... frac = 0.58000\n",
      "  n_sig = 40.000 ... frac = 0.69600\n",
      "  n_sig = 60.000 ... frac = 0.82000\n",
      "  n_sig = 80.000 ... frac = 0.87600\n",
      "  n_sig = 100.000 ... frac = 0.95600\n",
      "* Generating batches of 500 trials...\n",
      "n_trials | n_inj    0.00   40.00   80.00  120.00  160.00  200.00  |  n_sig(relative error)\n",
      "500      |         49.0%   71.8%   87.2%   96.4%   99.0%  100.0%  |     89.761 (+/-  4.6%) [spline]\n",
      "End time: 2022-01-24 03:39:43.934119\n",
      "Elapsed time: 0:03:35.021649\n",
      "flux: 2.391585221354158e-11\n",
      "Computing Sensitivity for psv4: (3.0, 15, 0.0)\n",
      "Start time: 2022-01-24 03:39:43.935611\n",
      "Using 20 cores.\n",
      "* Starting initial scan for 90% of 250 trials with TS >= 0.048...\n",
      "  n_sig = 20.000 ... frac = 0.84400\n",
      "  n_sig = 40.000 ... frac = 0.96800\n",
      "* Generating batches of 500 trials...\n",
      "n_trials | n_inj    0.00   16.00   32.00   48.00   64.00   80.00  |  n_sig(relative error)\n",
      "500      |         49.4%   78.4%   94.4%   99.2%  100.0%  100.0%  |     25.928 (+/-  4.6%) [spline]\n",
      "End time: 2022-01-24 03:41:06.211085\n",
      "Elapsed time: 0:01:22.275474\n",
      "flux: 9.946522192556303e-12\n",
      "Computing Sensitivity for psv4: (3.0, 15, 0.05235987755982989)\n",
      "Start time: 2022-01-24 03:41:06.217005\n",
      "Using 20 cores.\n",
      "* Starting initial scan for 90% of 250 trials with TS >= 0.048...\n",
      "  n_sig = 20.000 ... frac = 0.54000\n",
      "  n_sig = 40.000 ... frac = 0.67200\n",
      "  n_sig = 60.000 ... frac = 0.72000\n",
      "  n_sig = 80.000 ... frac = 0.80800\n",
      "  n_sig = 100.000 ... frac = 0.88800\n",
      "  n_sig = 120.000 ... frac = 0.90800\n",
      "* Generating batches of 500 trials...\n",
      "n_trials | n_inj    0.00   48.00   96.00  144.00  192.00  240.00  |  n_sig(relative error)\n",
      "500      |         50.8%   69.2%   85.6%   95.0%   98.8%  100.0%  |    114.692 (+/-  4.8%) [spline]\n",
      "End time: 2022-01-24 03:44:54.515703\n",
      "Elapsed time: 0:03:48.298698\n",
      "flux: 4.399802423148397e-11\n",
      "Computing Sensitivity for psv4: (3.0, inf, 0.0)\n",
      "Start time: 2022-01-24 03:44:54.518323\n",
      "Using 20 cores.\n",
      "* Starting initial scan for 90% of 250 trials with TS >= 0.048...\n",
      "  n_sig = 20.000 ... frac = 0.90000\n",
      "* Generating batches of 500 trials...\n",
      "n_trials | n_inj    0.00    8.00   16.00   24.00   32.00   40.00  |  n_sig(relative error)\n",
      "500      |         51.0%   70.0%   84.0%   93.8%   97.8%   99.4%  |     20.287 (+/-  4.1%) [spline]\n",
      "End time: 2022-01-24 03:46:06.690020\n",
      "Elapsed time: 0:01:12.171697\n",
      "flux: 6.810075116615274e-12\n",
      "Computing Sensitivity for psv4: (3.0, inf, 0.05235987755982989)\n",
      "Start time: 2022-01-24 03:46:06.692042\n",
      "Using 20 cores.\n",
      "* Starting initial scan for 90% of 250 trials with TS >= 0.048...\n",
      "  n_sig = 20.000 ... frac = 0.56000\n",
      "  n_sig = 40.000 ... frac = 0.66800\n",
      "  n_sig = 60.000 ... frac = 0.76800\n",
      "  n_sig = 80.000 ... frac = 0.84000\n",
      "  n_sig = 100.000 ... frac = 0.91600\n",
      "* Generating batches of 500 trials...\n",
      "n_trials | n_inj    0.00   40.00   80.00  120.00  160.00  200.00  |  n_sig(relative error)\n",
      "500      |         49.0%   67.6%   82.0%   92.8%   96.6%   99.6%  |    106.351 (+/-  4.6%) [spline]\n",
      "End time: 2022-01-24 03:49:41.617793\n",
      "Elapsed time: 0:03:34.925751\n",
      "flux: 3.570094430364972e-11\n"
     ]
    }
   ],
>>>>>>> Stashed changes
   "source": [
    "sens_dict = {k: {} for k in tr_dict.keys()}\n",
    "\n",
    "for key1, tr_dict_i  in tr_dict.items():\n",
    "    bg = cy.dists.Chi2TSD(bkg_dict[key1])\n",
    "    \n",
    "    for key2, tr in tr_dict_i.items():\n",
    "        print('Computing Sensitivity for {}: {}'.format(key1, key2))\n",
    "        sens = tr.find_n_sig(\n",
    "                # ts, threshold\n",
    "                ts=bg.median(),\n",
    "                # beta, fraction of trials which should exceed the threshold\n",
    "                beta=0.9,\n",
    "                # n_inj step size for initial scan\n",
    "                n_sig_step=20,\n",
    "                # this many trials at a time\n",
    "                batch_size=500,\n",
    "                # tolerance, as estimated relative error\n",
    "                tol=.05,\n",
    "                first_batch_size = 250,\n",
    "                mp_cpus=20,\n",
    "                seed=seed\n",
    "            )\n",
    "        sens['flux'] = tr.to_E2dNdE(sens['n_sig'], E0=1, unit=1e3)\n",
    "        print('flux:', sens['flux'])\n",
    "        sens_dict[key1][key2] = sens"
   ]
  },
  {
   "cell_type": "code",
<<<<<<< Updated upstream
   "execution_count": null,
   "id": "supreme-shape",
=======
   "execution_count": 53,
>>>>>>> Stashed changes
   "metadata": {},
   "outputs": [],
   "source": [
    "for key2 in sens_dict['dnnc'].keys():\n",
    "    ps_sens = sens_dict['psv4'][key2]['flux']\n",
    "    dnnc_sens = sens_dict['dnnc'][key2]['flux']\n",
    "    print('Gamma: {:3.2f} | Cutoff: {:3.2f} TeV | Extension: {:3.3f}'.format(\n",
    "        key2[0], key2[1], np.rad2deg(key2[2]),\n",
    "    ))\n",
    "    print('  PS: {:3.3e} | DNNC: {:3.3e} | DNNC/PS: {:3.3f}'.format(\n",
    "        ps_sens, dnnc_sens, dnnc_sens/ps_sens,\n",
    "    ))"
   ]
  },
  {
   "cell_type": "code",
   "execution_count": null,
   "metadata": {},
   "outputs": [],
   "source": []
  }
 ],
 "metadata": {
  "kernelspec": {
   "display_name": "icerec3",
   "language": "python",
   "name": "icerec3"
  },
  "language_info": {
   "codemirror_mode": {
    "name": "ipython",
    "version": 3
   },
   "file_extension": ".py",
   "mimetype": "text/x-python",
   "name": "python",
   "nbconvert_exporter": "python",
   "pygments_lexer": "ipython3",
   "version": "3.7.5"
  }
 },
 "nbformat": 4,
 "nbformat_minor": 5
}
