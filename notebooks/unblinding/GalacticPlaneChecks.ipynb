{
 "cells": [
  {
   "cell_type": "code",
   "execution_count": null,
   "id": "damaged-trading",
   "metadata": {},
   "outputs": [],
   "source": [
    "%matplotlib inline\n",
    "%load_ext autoreload\n",
    "%autoreload 2\n",
    "\n",
    "#PDFs in BDT and sindec?\n",
    "import os\n",
    "\n",
    "# set env flags to catch BLAS used for scipy/numpy \n",
    "# to only use 1 cpu, n_cpus will be totally controlled by csky\n",
    "if False:\n",
    "    os.environ['MKL_NUM_THREADS'] = \"1\"\n",
    "    os.environ['NUMEXPR_NUM_THREADS'] = \"1\"\n",
    "    os.environ['OMP_NUM_THREADS'] = \"1\"\n",
    "    os.environ['OPENBLAS_NUM_THREADS'] = \"1\"\n",
    "    os.environ['VECLIB_MAXIMUM_THREADS'] = \"1\"\n",
    "\n",
    "import matplotlib as mpl\n",
    "mpl.rcParams['figure.facecolor'] = 'w'\n",
    "mpl.rcParams['savefig.facecolor'] = 'w'\n",
    "import matplotlib.pyplot as plt\n",
    "from matplotlib import colors, cm\n",
    "import csky as cy\n",
    "from csky import cext\n",
    "import numpy as np\n",
    "import astropy\n",
    "#from icecube import astro\n",
    "import histlite as hl\n",
    "import healpy\n",
    "import healpy as hp\n",
    "import socket\n",
    "import pickle\n",
    "import copy\n",
    "healpy.disable_warnings()\n",
    "plt.rc('figure', facecolor = 'w')\n",
    "plt.rc('figure', dpi=100)"
   ]
  },
  {
   "cell_type": "markdown",
   "id": "secure-narrative",
   "metadata": {},
   "source": [
    "## Define Settings"
   ]
  },
  {
   "cell_type": "code",
   "execution_count": null,
   "id": "precious-power",
   "metadata": {},
   "outputs": [],
   "source": [
    "selection_version = 'version-001-p00'\n",
    "\n",
    "host_name = socket.gethostname()\n",
    "\n",
    "if 'cobalt' in host_name:\n",
    "    print('Working on Cobalts')\n",
    "    data_prefix = '/data/user/ssclafani/data/cscd/final'\n",
    "    ana_dir = '/data/user/ssclafani/data/analyses/'\n",
    "    plot_dir = '/data/user/mhuennefeld/data/analyses/DNNCascadeCodeReview/unblinding_checks/plots/unblinding/galactic_plane_checks'\n",
    "    \n",
    "else:\n",
    "    raise ValueError('Unknown host:', host_name)"
   ]
  },
  {
   "cell_type": "code",
   "execution_count": null,
   "id": "complicated-hierarchy",
   "metadata": {},
   "outputs": [],
   "source": [
    "for dir_path in [plot_dir]:\n",
    "    if not os.path.exists(dir_path):\n",
    "        print('Creating directory:', dir_path)\n",
    "        os.makedirs(dir_path)"
   ]
  },
  {
   "cell_type": "markdown",
   "id": "empirical-neighbor",
   "metadata": {},
   "source": [
    "## Load Data"
   ]
  },
  {
   "cell_type": "code",
   "execution_count": null,
   "id": "tutorial-hybrid",
   "metadata": {},
   "outputs": [],
   "source": [
    "repo = cy.selections.Repository()\n",
    "specs = cy.selections.DNNCascadeDataSpecs.DNNC_10yr"
   ]
  },
  {
   "cell_type": "code",
   "execution_count": null,
   "id": "differential-violation",
   "metadata": {},
   "outputs": [],
   "source": [
    "%%time\n",
    "\n",
    "ana = cy.get_analysis(\n",
    "    repo, selection_version, specs, \n",
    "    #gammas=np.r_[0.1:6.01:0.125],\n",
    ")"
   ]
  },
  {
   "cell_type": "code",
   "execution_count": null,
   "id": "essential-parallel",
   "metadata": {},
   "outputs": [],
   "source": [
    "a = ana.anas[0]\n",
    "a.sig"
   ]
  },
  {
   "cell_type": "code",
   "execution_count": null,
   "id": "bulgarian-internet",
   "metadata": {},
   "outputs": [],
   "source": [
    "a.bg_data"
   ]
  },
  {
   "cell_type": "markdown",
   "id": "mobile-convention",
   "metadata": {},
   "source": [
    "## Helpers"
   ]
  },
  {
   "cell_type": "code",
   "execution_count": null,
   "id": "dutch-still",
   "metadata": {},
   "outputs": [],
   "source": [
    "from cycler import cycle\n",
    "from copy import deepcopy\n",
    "\n",
    "soft_colors = cy.plotting.soft_colors\n",
    "colors = plt.rcParams['axes.prop_cycle'].by_key()['color']\n",
    "\n",
    "\n",
    "def get_bias_allt(tr, ntrials=200, n_sigs=np.r_[:101:10], quiet=False):\n",
    "    trials = [\n",
    "        (None if quiet else print(f'\\r{n_sig:4d} ...', end='', flush=True))\n",
    "        or\n",
    "        tr.get_many_fits(ntrials, n_sig=n_sig, logging=False, seed=n_sig)\n",
    "        for n_sig in n_sigs]\n",
    "    if not quiet:\n",
    "        print()\n",
    "    for (n_sig, t) in zip(n_sigs, trials):\n",
    "        t['ntrue'] = np.repeat(n_sig, len(t))\n",
    "    allt = cy.utils.Arrays.concatenate(trials)\n",
    "    return allt\n",
    "\n",
    "def get_color_cycler():\n",
    "    return cycle(colors)\n",
    "\n",
    "def plot_ns_bias(ax, tr, allt, label=''):\n",
    "\n",
    "    n_sigs = np.unique(allt.ntrue)\n",
    "    dns = np.mean(np.diff(n_sigs))\n",
    "    ns_bins = np.r_[n_sigs - 0.5*dns, n_sigs[-1] + 0.5*dns]\n",
    "    expect_kw = dict(color='C0', ls='--', lw=1, zorder=-10)\n",
    "\n",
    "    h = hl.hist((allt.ntrue, allt.ns), bins=(ns_bins, 100))\n",
    "    hl.plot1d(ax, h.contain_project(1),errorbands=True, \n",
    "              drawstyle='default', label=label)\n",
    "    lim = ns_bins[[0, -1]]\n",
    "    ax.set_xlim(ax.set_ylim(lim))\n",
    "    ax.plot(lim, lim, **expect_kw)\n",
    "    ax.set_aspect('equal')\n",
    "\n",
    "    ax.set_xlabel(r'$n_{inj}$')\n",
    "    ax.set_ylabel(r'$n_s$')\n",
    "    ax.grid()\n",
    "\n",
    "def plot_gamma_bias(ax, tr, allt, label=''):\n",
    "\n",
    "    n_sigs = np.unique(allt.ntrue)\n",
    "    dns = np.mean(np.diff(n_sigs))\n",
    "    ns_bins = np.r_[n_sigs - 0.5*dns, n_sigs[-1] + 0.5*dns]\n",
    "    expect_kw = dict(color='C0', ls='--', lw=1, zorder=-10)\n",
    "    expect_gamma = tr.sig_injs[0].flux[0].gamma\n",
    "\n",
    "    h = hl.hist((allt.ntrue, allt.gamma), bins=(ns_bins, 100))\n",
    "    hl.plot1d(ax, h.contain_project(1),errorbands=True, \n",
    "              drawstyle='default', label=label)\n",
    "    lim = ns_bins[[0, -1]]\n",
    "    ax.set_xlim(lim)\n",
    "    ax.set_ylim(1, 4)\n",
    "    ax.axhline(expect_gamma, **expect_kw)\n",
    "\n",
    "    ax.set_xlabel(r'$n_{inj}$')\n",
    "    ax.set_ylabel(r'$\\gamma$')\n",
    "    ax.grid()\n",
    "\n",
    "def plot_bkg_trials(\n",
    "            bg, fig=None, ax=None, \n",
    "            label='{} bg trials', \n",
    "            label_fit=r'$\\chi^2[{:.2f}\\mathrm{{dof}},\\ \\eta={:.3f}]$', \n",
    "            color=colors[0],\n",
    "            density=False,\n",
    "            bins=50,\n",
    "        ):\n",
    "    if ax is None:\n",
    "        fig, ax = plt.subplots(figsize=(6, 4))\n",
    "    \n",
    "    if density:\n",
    "        h = bg.get_hist(bins=bins).normalize()\n",
    "    else:\n",
    "        h = bg.get_hist(bins=bins)\n",
    "    if label is not None:\n",
    "        label = label.format(bg.n_total)\n",
    "    hl.plot1d(ax, h, crosses=True, color=color, label=label)\n",
    "\n",
    "    # compare with the chi2 fit:\n",
    "    if hasattr(bg, 'pdf'):\n",
    "        x = h.centers[0]\n",
    "        norm = h.integrate().values\n",
    "        if label_fit is not None:\n",
    "            label_fit = label_fit.format(bg.ndof, bg.eta)\n",
    "        if density:\n",
    "            ax.semilogy(x, bg.pdf(x), lw=1, ls='--', label=label_fit, color=color)\n",
    "        else:\n",
    "            ax.semilogy(x, norm * bg.pdf(x), lw=1, ls='--', label=label_fit, color=color)\n",
    "\n",
    "    ax.set_xlabel(r'TS')\n",
    "    if density:\n",
    "        ax.set_ylabel(r'Density')\n",
    "    else:\n",
    "        ax.set_ylabel(r'number of trials')\n",
    "    ax.legend()\n",
    "        \n",
    "    return fig, ax"
   ]
  },
  {
   "cell_type": "markdown",
   "id": "exact-acrobat",
   "metadata": {},
   "source": [
    "## Setup Analysis"
   ]
  },
  {
   "cell_type": "code",
   "execution_count": null,
   "id": "corresponding-referral",
   "metadata": {},
   "outputs": [],
   "source": [
    "import sys\n",
    "sys.path.insert(0, '../..')\n",
    "\n",
    "import config as cg\n",
    "\n",
    "cg.base_dir = '/data/user/mhuennefeld/data/analyses/unblinding_v1.0.0/'"
   ]
  },
  {
   "cell_type": "code",
   "execution_count": null,
   "id": "found-religion",
   "metadata": {},
   "outputs": [],
   "source": [
    "def get_gp_tr(template_str, cutoff=np.inf, gamma=None, cpus=20):\n",
    "    cutoff_GeV = cutoff * 1e3\n",
    "    gp_conf = cg.get_gp_conf(\n",
    "        template_str=template_str, gamma=gamma, cutoff_GeV=cutoff_GeV, base_dir=cg.base_dir)\n",
    "    tr = cy.get_trial_runner(gp_conf, ana=ana, mp_cpus=cpus)\n",
    "    return tr\n",
    "\n",
    "def get_template_tr(template, gamma=2.7, cutoff_tev=np.inf, cpus=20):\n",
    "    cutoff_gev = cutoff_tev * 1000.\n",
    "    gp_conf = {\n",
    "        'template': template,\n",
    "        'flux': cy.hyp.PowerLawFlux(gamma, energy_cutoff=cutoff_gev),\n",
    "        'randomize': ['ra'],\n",
    "        'fitter_args': dict(gamma=gamma),\n",
    "        'sigsub': True,\n",
    "        'update_bg': True,\n",
    "        'fast_weight': False,\n",
    "    }\n",
    "    tr = cy.get_trial_runner(gp_conf, ana=ana, mp_cpus=cpus)\n",
    "    return tr\n"
   ]
  },
  {
   "cell_type": "markdown",
   "id": "naval-eligibility",
   "metadata": {},
   "source": [
    "#### Get TrialRunners"
   ]
  },
  {
   "cell_type": "code",
   "execution_count": null,
   "id": "discrete-hierarchy",
   "metadata": {},
   "outputs": [],
   "source": [
    "tr_dict = {\n",
    "    'pi0': get_gp_tr('pi0'),\n",
    "    'kra5': get_gp_tr('kra5'),\n",
    "    'kra50': get_gp_tr('kra50'),\n",
    "}"
   ]
  },
  {
   "cell_type": "markdown",
   "id": "simple-seventh",
   "metadata": {},
   "source": [
    "#### Get bkg fits for each template"
   ]
  },
  {
   "cell_type": "code",
   "execution_count": null,
   "id": "exempt-yorkshire",
   "metadata": {},
   "outputs": [],
   "source": [
    "bkg_file_dict = {\n",
    "    'pi0': '{}/gp/trials/{}/{}/trials.dict'.format(cg.base_dir, 'DNNC', 'pi0'),\n",
    "    'kra5': '{}/gp/trials/{}/{}/trials.dict'.format(cg.base_dir, 'DNNC', 'kra5'),\n",
    "    'kra50': '{}/gp/trials/{}/{}/trials.dict'.format(cg.base_dir, 'DNNC', 'kra50'),\n",
    "}\n",
    "n_bkg_trials = 20000\n",
    "seed = 1337\n",
    "\n",
    "bkg_dict = {}\n",
    "for key, tr in tr_dict.items():\n",
    "    if key in bkg_file_dict:\n",
    "        print('Loading background trials for template {}'.format(key))\n",
    "        sig = np.load(bkg_file_dict[key], allow_pickle=True)\n",
    "        bkg_dict[key] = sig['poisson']['nsig'][0.0]['ts']\n",
    "    \n",
    "    else:\n",
    "        print('Running background trials for template {}'.format(key))\n",
    "        bkg_dict[key] = tr.get_many_fits(\n",
    "            n_trials=n_bkg_trials, seed=seed, mp_cpus=20)\n",
    "        "
   ]
  },
  {
   "cell_type": "markdown",
   "id": "center-anime",
   "metadata": {},
   "source": [
    "#### Get Results for each template"
   ]
  },
  {
   "cell_type": "code",
   "execution_count": null,
   "id": "configured-cocktail",
   "metadata": {},
   "outputs": [],
   "source": [
    "res_dict = {}\n",
    "for key in tr_dict.keys():\n",
    "    f_path = os.path.join(\n",
    "        cg.base_dir, \n",
    "        'gp/results/{}/{}_unblinded.npy'.format(key, key), \n",
    "    )\n",
    "    res_dict[key] = np.load(f_path)"
   ]
  },
  {
   "cell_type": "markdown",
   "id": "short-closing",
   "metadata": {},
   "source": [
    "#### Plot ts distribution"
   ]
  },
  {
   "cell_type": "code",
   "execution_count": null,
   "id": "buried-convenience",
   "metadata": {
    "scrolled": false
   },
   "outputs": [],
   "source": [
    "for key, bg in bkg_dict.items():\n",
    "    bg_tsd = cy.dists.TSD(bg)\n",
    "    fig, ax = plot_bkg_trials(bg_tsd)\n",
    "    ts = res_dict[key][0]\n",
    "    ns = res_dict[key][1]\n",
    "    ax.axvline(\n",
    "        ts, color='0.8', ls='--', lw=2,\n",
    "        label='TS: {:3.3f} | ns: {:3.1f}'.format(ts, ns), \n",
    "    )\n",
    "    ts_5sig = bg_tsd.isf_nsigma(5)\n",
    "    ax.axvline(\n",
    "        ts_5sig, ls='--', lw=1,\n",
    "        label='5-sigma TS: {:3.3f}'.format(ts_5sig), \n",
    "    )\n",
    "    ax.set_title('Template: {}'.format(key))\n",
    "    ax.set_yscale('log')\n",
    "    ax.legend()\n",
    "    fig.savefig('{}/ts_dist_{}.png'.format(plot_dir, key))"
   ]
  },
  {
   "cell_type": "markdown",
   "id": "young-decline",
   "metadata": {},
   "source": [
    "#### Compute Significance"
   ]
  },
  {
   "cell_type": "code",
   "execution_count": null,
   "id": "unexpected-smell",
   "metadata": {},
   "outputs": [],
   "source": [
    "p_val_dict = {}\n",
    "sigma_dict = {}\n",
    "max_n = 10000000\n",
    "for key, bg in bkg_dict.items():\n",
    "    bg_tsd = cy.dists.TSD(bg[:max_n])\n",
    "    p_val_dict[key] = bg_tsd.sf(bg[:max_n])\n",
    "    sigma_dict[key] = bg_tsd.sf_nsigma(bg[:max_n])\n"
   ]
  },
  {
   "cell_type": "markdown",
   "id": "ordinary-gallery",
   "metadata": {},
   "source": [
    "#### Plot Trial Correlation"
   ]
  },
  {
   "cell_type": "code",
   "execution_count": null,
   "id": "fuzzy-indianapolis",
   "metadata": {},
   "outputs": [],
   "source": [
    "mask = np.zeros_like(bkg_dict['pi0'][:max_n])\n",
    "sigma_threshold = 0.5\n",
    "\n",
    "for key, tr in sigma_dict.items():\n",
    "\n",
    "    mask = np.logical_or(mask, sigma_dict[key] > sigma_threshold)\n",
    "    "
   ]
  },
  {
   "cell_type": "code",
   "execution_count": null,
   "id": "quantitative-darwin",
   "metadata": {},
   "outputs": [],
   "source": [
    "import matplotlib as mpl\n",
    "\n",
    "def plot_corr_ax(ax, key1, key2, mask=None, norm=None):\n",
    "    \n",
    "    if mask is None:\n",
    "        mask = np.ones_like(sigma_dict[key1], dtype=bool)\n",
    "        \n",
    "    ax.hist2d(\n",
    "        sigma_dict[key1][mask], sigma_dict[key2][mask],\n",
    "        bins=bins, norm=norm, cmin=1,\n",
    "    )\n",
    "    ax.plot(\n",
    "        (bins[0][0], bins[0][-1]), (bins[0][0], bins[0][-1]), \n",
    "        ls='--', color='0.7', lw=3,\n",
    "    )\n",
    "    ax.set_xlabel('P-value of {}'.format(key1))\n",
    "    ax.set_ylabel('P-value of {}'.format(key2))\n",
    "\n",
    "fig, axes = plt.subplots(3, 1, figsize=(9, 9))\n",
    "\n",
    "bins = (np.linspace(0, 6), np.linspace(0, 6))\n",
    "\n",
    "plot_corr_ax(axes[0], 'pi0', 'kra5', mask=mask)\n",
    "plot_corr_ax(axes[1], 'kra5', 'kra50', mask=mask)\n",
    "plot_corr_ax(axes[2], 'pi0', 'kra50', mask=mask)\n",
    "fig.tight_layout()\n"
   ]
  },
  {
   "cell_type": "code",
   "execution_count": null,
   "id": "effective-swimming",
   "metadata": {},
   "outputs": [],
   "source": [
    "max_nsigma = np.max(\n",
    "    np.array([sigma_dict[k] for k in sigma_dict.keys()]),\n",
    "    axis=0,\n",
    ")\n",
    "\n",
    "fig, ax = plt.subplots()\n",
    "ax.hist(max_nsigma, bins=np.linspace(0, 6, 1000))\n",
    "ax.set_xlabel('Max n-sigma')\n",
    "ax.set_yscale('log')\n",
    "\n",
    "bg_max = cy.dists.TSD(max_nsigma)\n"
   ]
  },
  {
   "cell_type": "code",
   "execution_count": null,
   "id": "spread-dressing",
   "metadata": {},
   "outputs": [],
   "source": [
    "from scipy import stats\n",
    "\n",
    "\n",
    "nsigma_chosen = 4.68\n",
    "pval_chosen = stats.norm.sf(nsigma_chosen)\n",
    "nsigma_corrected = bg_max.sf_nsigma(nsigma_chosen)\n",
    "\n",
    "pval_corrected = bg_max.sf(nsigma_chosen)\n",
    "print(nsigma_corrected, pval_corrected/pval_chosen)\n",
    "print(stats.norm.isf(pval_chosen * 3))\n"
   ]
  },
  {
   "cell_type": "code",
   "execution_count": null,
   "id": "norwegian-morocco",
   "metadata": {},
   "outputs": [],
   "source": [
    "ss_results = np.load(\n",
    "    os.path.join(\n",
    "        cg.base_dir, 'skyscan/results/unblinded_skyscan.npy'),\n",
    "    allow_pickle=True,\n",
    ")[()]\n",
    "ss_trial = ss_results['ss_trial']\n",
    "\n"
   ]
  },
  {
   "cell_type": "code",
   "execution_count": null,
   "id": "bronze-induction",
   "metadata": {},
   "outputs": [],
   "source": [
    "ss_results\n"
   ]
  },
  {
   "cell_type": "code",
   "execution_count": null,
   "id": "frozen-vegetation",
   "metadata": {},
   "outputs": [],
   "source": [
    "# https://www.nasa.gov/mission_pages/GLAST/news/gammaray_best.html\n",
    "# https://www.nasa.gov/images/content/317870main_Fermi_3_month_labeled_new.jpg\n",
    "fermi_sources = {\n",
    "    # ra, dec\n",
    "    'NGC 1275': (049.9506656698585, +41.5116983765094),\n",
    "    '3C 454.3': (343.49061658, +16.14821142),\n",
    "    '47 Tuc': (006.022329, -72.081444),\n",
    "    '0FGL J1813.5-1248': (273.349033, -12.766842),\n",
    "    '0FGL J0614.3-3330': (093.5431162, -33.4983656),\n",
    "    'PKS 0727-115': (112.57963530917, -11.68683347528),\n",
    "    'Vela': (128.5000, -45.8333),\n",
    "    'Geminga': (098.475638, +17.770253),\n",
    "    'Crab': (083.63308, +22.01450),\n",
    "    'LSI +61 303': (040.1319341179735, +61.2293308716971),\n",
    "    'PSR J1836+5925': (279.056921, +59.424936),\n",
    "    'PKS 1502+106': (226.10408242258, +10.49422183753),\n",
    "}"
   ]
  },
  {
   "cell_type": "code",
   "execution_count": null,
   "id": "preceding-lawyer",
   "metadata": {},
   "outputs": [],
   "source": [
    "import utils\n",
    "\n",
    "def plot_skymap(\n",
    "            skymap, outfile=None, figsize=(9, 6),\n",
    "            vmin=None, vmax=None, label=None, norm=None,\n",
    "            cmap=cy.plotting.skymap_cmap,\n",
    "            **kwargs\n",
    "        ):\n",
    "    \"\"\"Plot a skymap\n",
    "\n",
    "    Parameters\n",
    "    ----------\n",
    "    skymap : array_like\n",
    "        The skymap to plot.\n",
    "    outfile : str, optional\n",
    "        The output file path to which to plot if provided.\n",
    "    vmin : float, optional\n",
    "        The minimum value for the colorbar.\n",
    "    vmax : float, optional\n",
    "        The maximum value for the colorbar.\n",
    "    figsize : tuple, optional\n",
    "        The figure size to use.\n",
    "    label : str, optional\n",
    "        The label for the colorbar.\n",
    "\n",
    "    Returns\n",
    "    -------\n",
    "    fig, ax\n",
    "        The matplotlib figure and axis.\n",
    "    \"\"\"\n",
    "    fig, ax = plt.subplots(\n",
    "        subplot_kw=dict(projection='aitoff'), figsize=figsize)\n",
    "    sp = cy.plotting.SkyPlotter(\n",
    "        pc_kw=dict(cmap=cmap, vmin=vmin, vmax=vmax, norm=norm),\n",
    "        **kwargs\n",
    "    )\n",
    "    mesh, cb = sp.plot_map(ax, skymap, n_ticks=2)\n",
    "    kw = dict(color='.5', alpha=.5)\n",
    "    sp.plot_gp(ax, lw=.5, **kw)\n",
    "    sp.plot_gc(ax, **kw)\n",
    "    ax.grid(**kw)\n",
    "    cb.set_label(label)\n",
    "    fig.tight_layout()\n",
    "    if outfile is not None:\n",
    "        fig.savefig(outfile)\n",
    "\n",
    "    return fig, ax, sp\n",
    "\n",
    "\n",
    "cat_dict = {}\n",
    "for cat_str in ['pwn', 'snr', 'unid']:\n",
    "    catalog_file = os.path.join(\n",
    "        cg.catalog_dir, '{}_ESTES_12.pickle'.format(cat_str))\n",
    "    cat_dict[cat_str] = np.load(catalog_file, allow_pickle=True)\n",
    "\n",
    "\n"
   ]
  },
  {
   "cell_type": "markdown",
   "id": "seasonal-detector",
   "metadata": {},
   "source": [
    "#### Plot Gamma"
   ]
  },
  {
   "cell_type": "code",
   "execution_count": null,
   "id": "parental-attempt",
   "metadata": {},
   "outputs": [],
   "source": [
    "cmap = plt.cm.viridis  # define the colormap\n",
    "# extract all colors from the .jet map\n",
    "cmaplist = [cmap(i) for i in range(cmap.N)]\n",
    "# force the first color entry to be grey\n",
    "cmaplist[0] = (.5, .5, .5, 1.0)\n",
    "\n",
    "# create the new map\n",
    "cmap = mpl.colors.LinearSegmentedColormap.from_list(\n",
    "    'Custom cmap', cmaplist, cmap.N)\n",
    "\n",
    "# define the bins and normalize\n",
    "bounds = np.linspace(0, 4, 17)\n",
    "print('bounds', bounds)\n",
    "norm = mpl.colors.BoundaryNorm(bounds, cmap.N)\n",
    "\n",
    "\n",
    "\n",
    "fig, ax, sp = plot_skymap(ss_trial[3], cmap=cmap, norm=norm, label=r'$\\gamma$')\n",
    "#fig, ax, sp = plot_skymap(ss_trial[3], cmap='viridis', label=r'$\\gamma$')\n",
    "\n",
    "for cat_str, cat in cat_dict.items():\n",
    "    \n",
    "    theta = np.pi/2. - np.deg2rad(cat.dec_deg)\n",
    "    phi = np.deg2rad(cat.ra_deg)\n",
    "    x, y = sp.thetaphi_to_mpl(theta, phi)\n",
    "\n",
    "    ax.scatter(x, y, marker='x', color='red', label=cat_str)\n",
    "\n",
    "\n",
    "# plot Fermi Sources\n",
    "for key, (ra_deg, dec_deg) in fermi_sources.items():\n",
    "    theta = np.pi/2. - np.deg2rad(dec_deg)\n",
    "    phi = np.deg2rad(ra_deg)\n",
    "    x, y = sp.thetaphi_to_mpl(theta, phi)\n",
    "    ax.scatter(x, y, marker='+', color='1.0')"
   ]
  },
  {
   "cell_type": "markdown",
   "id": "legislative-james",
   "metadata": {},
   "source": [
    "#### Plot ns"
   ]
  },
  {
   "cell_type": "code",
   "execution_count": null,
   "id": "editorial-pittsburgh",
   "metadata": {},
   "outputs": [],
   "source": [
    "fig, ax, sp = plot_skymap(ss_trial[2], cmap='viridis', label='ns')\n",
    "\n",
    "for cat_str, cat in cat_dict.items():\n",
    "    \n",
    "    theta = np.pi/2. - np.deg2rad(cat.dec_deg)\n",
    "    phi = np.deg2rad(cat.ra_deg)\n",
    "    x, y = sp.thetaphi_to_mpl(theta, phi)\n",
    "\n",
    "    ax.scatter(x, y, marker='x', color='red', label=cat_str)\n",
    "\n",
    "\n",
    "# plot Fermi Sources\n",
    "for key, (ra_deg, dec_deg) in fermi_sources.items():\n",
    "    theta = np.pi/2. - np.deg2rad(dec_deg)\n",
    "    phi = np.deg2rad(ra_deg)\n",
    "    x, y = sp.thetaphi_to_mpl(theta, phi)\n",
    "    ax.scatter(x, y, marker='+', color='1.0')"
   ]
  },
  {
   "cell_type": "markdown",
   "id": "patient-swing",
   "metadata": {},
   "source": [
    "#### Plot N-sigmas"
   ]
  },
  {
   "cell_type": "code",
   "execution_count": null,
   "id": "straight-discovery",
   "metadata": {},
   "outputs": [],
   "source": [
    "ss_nsigmas =  stats.norm.isf(10**-ss_trial[0])\n",
    "\n",
    "\n",
    "cmap = plt.cm.RdBu_r  # define the colormap\n",
    "# extract all colors from the .jet map\n",
    "cmaplist = [cmap(i) for i in range(cmap.N)]\n",
    "# force the first color entry to be grey\n",
    "cmaplist[0] = (.5, .5, .5, 1.0)\n",
    "\n",
    "# create the new map\n",
    "cmap = mpl.colors.LinearSegmentedColormap.from_list(\n",
    "    'Custom cmap', cmaplist, cmap.N)\n",
    "\n",
    "# define the bins and normalize\n",
    "bounds = np.linspace(-4, 4, 18)\n",
    "print('bounds', bounds)\n",
    "norm = mpl.colors.BoundaryNorm(bounds, cmap.N)\n",
    "\n",
    "\n",
    "#fig, ax, sp = plot_skymap(ss_nsigmas, cmap=)\n",
    "fig, ax, sp = plot_skymap(ss_nsigmas, cmap=cmap, norm=norm, label=r'$n\\cdot \\sigma$')\n",
    "\n",
    "# plot catalog\n",
    "for cat_str, cat in cat_dict.items():\n",
    "    \n",
    "    theta = np.pi/2. - np.deg2rad(cat.dec_deg)\n",
    "    phi = np.deg2rad(cat.ra_deg)\n",
    "    x, y = sp.thetaphi_to_mpl(theta, phi)\n",
    "\n",
    "    ax.scatter(x, y, marker='x', color='k', label=cat_str)\n",
    "\n",
    "# plot hottest spots\n",
    "for res_str in ['ipix_max_north', 'ipix_max_south']:\n",
    "    theta, phi = hp.pix2ang(128, ss_results[res_str])\n",
    "    x, y = sp.thetaphi_to_mpl(theta, phi)\n",
    "    ax.scatter(x, y, marker='x', color='0.8')\n",
    "    \n",
    "# plot Fermi Sources\n",
    "for key, (ra_deg, dec_deg) in fermi_sources.items():\n",
    "    theta = np.pi/2. - np.deg2rad(dec_deg)\n",
    "    phi = np.deg2rad(ra_deg)\n",
    "    x, y = sp.thetaphi_to_mpl(theta, phi)\n",
    "    ax.scatter(x, y, marker='+', color='green')\n",
    "\n",
    "\n",
    "fig.savefig('{}/skymap_ns_with_catalog.png'.format(plot_dir))"
   ]
  },
  {
   "cell_type": "code",
   "execution_count": null,
   "id": "explicit-uncertainty",
   "metadata": {},
   "outputs": [],
   "source": [
    "for ipx in np.argsort(ss_nsigmas)[::-1][:5]:\n",
    "    theta, phi = hp.pix2ang(128, ipx)\n",
    "    dec = np.pi/2.  - theta\n",
    "    print(np.rad2deg(dec), np.rad2deg(phi))"
   ]
  },
  {
   "cell_type": "code",
   "execution_count": null,
   "id": "cordless-metro",
   "metadata": {},
   "outputs": [],
   "source": [
    "np.argsort(ss_nsigmas_cpy)[::-1]"
   ]
  },
  {
   "cell_type": "code",
   "execution_count": null,
   "id": "dietary-catch",
   "metadata": {},
   "outputs": [],
   "source": [
    "ra_deg, dec_deg = fermi_sources['Crab']\n",
    "theta = np.pi/2. - np.deg2rad(dec_deg)\n",
    "phi = np.deg2rad(ra_deg)\n",
    "mask_crab = hp.query_disc(\n",
    "    nside=128, \n",
    "    vec=hp.dir2vec(theta=theta, phi=phi), \n",
    "    radius=np.deg2rad(10),\n",
    ")\n",
    "ipx_crab = hp.ang2pix(128, theta=theta, phi=phi)\n",
    "\n",
    "\n",
    "\n",
    "ss_nsigmas_cpy = np.zeros_like(ss_nsigmas)\n",
    "ss_nsigmas_cpy[mask_crab] = np.array(ss_nsigmas[ipix_crab])\n",
    "fig, ax, sp = plot_skymap(ss_nsigmas_cpy, label=r'$n\\cdot \\sigma$')\n",
    "\n",
    "for ipx in np.argsort(ss_nsigmas_cpy)[::-1][:5]:\n",
    "    theta, phi = hp.pix2ang(128, ipx)\n",
    "    dec = np.pi/2.  - theta\n",
    "    print('{:3.3f} {:3.3f} | {:3.3f} $n\\cdot \\sigma$'.format(\n",
    "        np.rad2deg(phi), np.rad2deg(dec), ss_nsigmas_cpy[ipx]))\n",
    "print(fermi_sources['Crab'], ss_nsigmas[ipx_crab])"
   ]
  },
  {
   "cell_type": "code",
   "execution_count": null,
   "id": "gorgeous-argument",
   "metadata": {},
   "outputs": [],
   "source": []
  }
 ],
 "metadata": {
  "kernelspec": {
   "display_name": "tensorflow2.3_py3-v4.1.0_csky",
   "language": "python",
   "name": "tensorflow2.3_py3-v4.1.0_csky"
  },
  "language_info": {
   "codemirror_mode": {
    "name": "ipython",
    "version": 3
   },
   "file_extension": ".py",
   "mimetype": "text/x-python",
   "name": "python",
   "nbconvert_exporter": "python",
   "pygments_lexer": "ipython3",
   "version": "3.7.5"
  }
 },
 "nbformat": 4,
 "nbformat_minor": 5
}
