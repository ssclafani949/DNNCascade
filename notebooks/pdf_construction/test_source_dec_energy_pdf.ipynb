{
 "cells": [
  {
   "cell_type": "code",
   "execution_count": 3,
   "id": "raised-dynamics",
   "metadata": {},
   "outputs": [
    {
     "name": "stdout",
     "output_type": "stream",
     "text": [
      "The autoreload extension is already loaded. To reload it, use:\n",
      "  %reload_ext autoreload\n"
     ]
    }
   ],
   "source": [
    "%matplotlib inline\n",
    "%load_ext autoreload\n",
    "%autoreload 2\n",
    "\n",
    "#PDFs in BDT and sindec?\n",
    "import os\n",
    "\n",
    "# set env flags to catch BLAS used for scipy/numpy \n",
    "# to only use 1 cpu, n_cpus will be totally controlled by csky\n",
    "os.environ['MKL_NUM_THREADS'] = \"1\"\n",
    "os.environ['NUMEXPR_NUM_THREADS'] = \"1\"\n",
    "os.environ['OMP_NUM_THREADS'] = \"1\"\n",
    "os.environ['OPENBLAS_NUM_THREADS'] = \"1\"\n",
    "os.environ['VECLIB_MAXIMUM_THREADS'] = \"1\"\n",
    "\n",
    "import matplotlib as mpl\n",
    "mpl.rcParams['figure.facecolor'] = 'w'\n",
    "mpl.rcParams['savefig.facecolor'] = 'w'\n",
    "import matplotlib.pyplot as plt\n",
    "from matplotlib import colors, cm\n",
    "import csky as cy\n",
    "from csky import cext\n",
    "import numpy as np\n",
    "import pandas as pd\n",
    "import astropy\n",
    "#from icecube import astro\n",
    "import histlite as hl\n",
    "import healpy\n",
    "import pickle\n",
    "import socket\n",
    "healpy.disable_warnings()\n",
    "plt.rc('figure', facecolor = 'w')\n",
    "plt.rc('figure', dpi=100)"
   ]
  },
  {
   "cell_type": "markdown",
   "id": "celtic-clear",
   "metadata": {},
   "source": [
    "## Define Settings"
   ]
  },
  {
   "cell_type": "code",
   "execution_count": 4,
   "id": "impossible-virus",
   "metadata": {},
   "outputs": [
    {
     "name": "stdout",
     "output_type": "stream",
     "text": [
      "Working on Cobalts\n"
     ]
    }
   ],
   "source": [
    "selection_version = 'version-001-p00'\n",
    "\n",
    "host_name = socket.gethostname()\n",
    "\n",
    "if 'cobalt' in host_name:\n",
    "    print('Working on Cobalts')\n",
    "    data_prefix = '/data/user/ssclafani/data/cscd/final'\n",
    "    ana_dir = '/data/user/ssclafani/data/analyses/'\n",
    "    plot_dir = '/home/mhuennefeld/public_html/analyses/DNNCascade/plots/pdf_construction/test_source_dec_energy_pdf'\n",
    "    \n",
    "elif 'phobos' in host_name:\n",
    "    print('Working on Phobos')\n",
    "    data_prefix = '/net/big-tank/POOL/users/mhuennefeld/analyses/DNNCascade/data/cscd/final'\n",
    "    ana_dir = '/net/big-tank/POOL/users/mhuennefeld/analyses/DNNCascade/csky/analyses/'\n",
    "    plot_dir = '/home/mhuennefeld/analyses/DNNCascade/plots/pdf_construction/test_source_dec_energy_pdf'\n",
    "    \n",
    "else:\n",
    "    raise ValueError('Unknown host:', host_name)"
   ]
  },
  {
   "cell_type": "code",
   "execution_count": 5,
   "id": "logical-security",
   "metadata": {},
   "outputs": [],
   "source": [
    "for dir_path in [plot_dir]:\n",
    "    if not os.path.exists(dir_path):\n",
    "        print('Creating directory:', dir_path)\n",
    "        os.makedirs(dir_path)"
   ]
  },
  {
   "cell_type": "markdown",
   "id": "strange-african",
   "metadata": {},
   "source": [
    "## Load Data"
   ]
  },
  {
   "cell_type": "code",
   "execution_count": 6,
   "id": "czech-expense",
   "metadata": {},
   "outputs": [],
   "source": [
    "repo = cy.selections.Repository()\n",
    "specs = cy.selections.DNNCascadeDataSpecs.DNNC_10yr"
   ]
  },
  {
   "cell_type": "code",
   "execution_count": 7,
   "id": "collect-cologne",
   "metadata": {},
   "outputs": [
    {
     "name": "stdout",
     "output_type": "stream",
     "text": [
      "Setting up Analysis for:\n",
      "DNNCascade_10yr\n",
      "Setting up DNNCascade_10yr...\n",
      "Reading /data/ana/analyses/dnn_cascades/version-001-p00/MC_NuGen_bfrv1_2153x.npy ...\n",
      "Reading /data/ana/analyses/dnn_cascades/version-001-p00/IC86_2011_exp.npy ...\n",
      "Reading /data/ana/analyses/dnn_cascades/version-001-p00/IC86_2012_exp.npy ...\n",
      "Reading /data/ana/analyses/dnn_cascades/version-001-p00/IC86_2013_exp.npy ...\n",
      "Reading /data/ana/analyses/dnn_cascades/version-001-p00/IC86_2014_exp.npy ...\n",
      "Reading /data/ana/analyses/dnn_cascades/version-001-p00/IC86_2015_exp.npy ...\n",
      "Reading /data/ana/analyses/dnn_cascades/version-001-p00/IC86_2016_exp.npy ...\n",
      "Reading /data/ana/analyses/dnn_cascades/version-001-p00/IC86_2017_exp.npy ...\n",
      "Reading /data/ana/analyses/dnn_cascades/version-001-p00/IC86_2018_exp.npy ...\n",
      "Reading /data/ana/analyses/dnn_cascades/version-001-p00/IC86_2019_exp.npy ...\n",
      "Reading /data/ana/analyses/dnn_cascades/version-001-p00/IC86_2020_exp.npy ...\n",
      "Reading /data/ana/analyses/dnn_cascades/version-001-p00/GRL/IC86_2011_exp.npy ...\n",
      "Reading /data/ana/analyses/dnn_cascades/version-001-p00/GRL/IC86_2012_exp.npy ...\n",
      "Reading /data/ana/analyses/dnn_cascades/version-001-p00/GRL/IC86_2013_exp.npy ...\n",
      "Reading /data/ana/analyses/dnn_cascades/version-001-p00/GRL/IC86_2014_exp.npy ...\n",
      "Reading /data/ana/analyses/dnn_cascades/version-001-p00/GRL/IC86_2015_exp.npy ...\n",
      "Reading /data/ana/analyses/dnn_cascades/version-001-p00/GRL/IC86_2016_exp.npy ...\n",
      "Reading /data/ana/analyses/dnn_cascades/version-001-p00/GRL/IC86_2017_exp.npy ...\n",
      "Reading /data/ana/analyses/dnn_cascades/version-001-p00/GRL/IC86_2018_exp.npy ...\n",
      "Reading /data/ana/analyses/dnn_cascades/version-001-p00/GRL/IC86_2019_exp.npy ...\n",
      "Reading /data/ana/analyses/dnn_cascades/version-001-p00/GRL/IC86_2020_exp.npy ...\n",
      "Energy PDF Ratio Model...\n",
      "  * gamma = 4.0000 ...\n",
      "Signal Acceptance Model...\n",
      "  * gamma = 4.0000 ...\n",
      "Done.\n",
      "CPU times: user 5.14 s, sys: 170 ms, total: 5.31 s\n",
      "Wall time: 5.26 s\n"
     ]
    }
   ],
   "source": [
    "%%time\n",
    "\n",
    "ana = cy.get_analysis(\n",
    "    repo, selection_version, specs, \n",
    "    #gammas=np.r_[0.1:6.01:0.125],\n",
    ")"
   ]
  },
  {
   "cell_type": "code",
   "execution_count": 8,
   "id": "three-meter",
   "metadata": {},
   "outputs": [
    {
     "data": {
      "text/plain": [
       "Events(398873 items | columns: azimuth, dec, energy, event, log10energy, mjd, ra, run, sigma, sindec, subevent, xdec, xra, true_dec, true_energy, true_ra, oneweight)"
      ]
     },
     "execution_count": 8,
     "metadata": {},
     "output_type": "execute_result"
    }
   ],
   "source": [
    "a = ana.anas[0]\n",
    "a.sig"
   ]
  },
  {
   "cell_type": "code",
   "execution_count": 9,
   "id": "aboriginal-perry",
   "metadata": {},
   "outputs": [
    {
     "data": {
      "text/plain": [
       "Events(59610 items | columns: azimuth, dec, energy, event, log10energy, mjd, ra, run, sigma, sindec, subevent)"
      ]
     },
     "execution_count": 9,
     "metadata": {},
     "output_type": "execute_result"
    }
   ],
   "source": [
    "a.bg_data"
   ]
  },
  {
   "cell_type": "markdown",
   "id": "grand-lobby",
   "metadata": {},
   "source": [
    "## Setup Analysis"
   ]
  },
  {
   "cell_type": "markdown",
   "id": "responsible-fellowship",
   "metadata": {},
   "source": [
    "#### Build PDF\n",
    "\n",
    "When comparing this to the PDFs used in csky, we can see that the $\\sigma$ term is ommitted \n",
    "and that some of the conditionals in the energy PDFs changed. \n",
    "These changes are valid if a set of assumptions is true:\n",
    "\n",
    "1. $S(\\delta, \\alpha| \\sigma, E, \\gamma, \\delta_s, \\alpha_s) \\approx S(\\delta, \\alpha| \\sigma, \\delta_s, \\alpha_s)$. This is valid, if $\\sigma$ \"absorbs\" the energy and spectral index conditionals, or in other words, if the coverage of the PSF (von-Mises/Fisher distribution) holds independent of the event energy or spectral index.\n",
    "\n",
    "2. $\\frac{ S(\\sigma | E, \\gamma, \\delta_s)}{B(\\sigma | E, \\delta)} \\approx 1$. If this ratio is approximately one, then we can ommit the sigma terms. Usually the angular uncertainty $\\sigma$ is mostly a function of energy. If the dependence on $\\delta, \\delta_s, \\gamma$ is weak, this approximation holds.\n",
    "\n",
    "3. $S(E | \\gamma, \\sin{\\delta_s}) \\approx S(E | \\gamma, \\sin{\\delta})$. For simplicity, we typically build the signal energy PDF conditional on the reconstructed event declination $\\delta$ rather than the assumed source declintation $\\delta_s$. For event samples with small angular errors such as track, this is mostly a good assumption. If the event is well reconstructed, $\\delta_s \\approx \\delta$ is valid. Events that are further away from the source for which this approximation does not hold, are heavily down-weighted by the spatial signal term. These events for which this assumption does not hold therefore do not contribute much to the overall likelihood. Therefore, this is usually a good enough approximation, but it may cause issues for event samples with large angular uncertainties such as cascades.\n",
    "\n",
    "Here we will test if fixing assumption 3. will help mitigate bias seen in the PS analysis.\n",
    "We will need to construct the PDF ratio:\n",
    "\n",
    "$S(E | \\gamma, \\sin{\\delta_s}) / B(E | \\sin{\\delta})$"
   ]
  },
  {
   "cell_type": "code",
   "execution_count": 10,
   "id": "extraordinary-andorra",
   "metadata": {},
   "outputs": [],
   "source": [
    "from csky import models\n",
    "from csky.models.grid import EquidistantGridLinearInterpPDF\n",
    "\n",
    "def reweight(ow, energy, gamma, norm=1.0e-18, \n",
    "             e_pivot=1e5, energy_cutoff=None):\n",
    "    \"\"\"Reweight events according to power_law\n",
    "    \"\"\"\n",
    "    n_types = 2.  # Dividing by n_types gives flux per flavor and per type\n",
    "    weight = ow * norm * np.power(energy/e_pivot, -gamma) / n_types\n",
    "    \n",
    "    if energy_cutoff is not None:\n",
    "        weight *= np.exp(-energy / energy_cutoff)\n",
    "    return weight\n"
   ]
  },
  {
   "cell_type": "markdown",
   "id": "linear-albania",
   "metadata": {},
   "source": [
    "##### Signal PDF $S(E | \\gamma, \\sin{\\delta_s})$"
   ]
  },
  {
   "cell_type": "code",
   "execution_count": 36,
   "id": "prime-visitor",
   "metadata": {},
   "outputs": [
    {
     "name": "stdout",
     "output_type": "stream",
     "text": [
      "Building PDF ...\n",
      "  Oversampling 101x for Gamma\n",
      "  Initializing Grid ...\n",
      "    Initial Loss 1.5561705798389706e-05\n",
      "  Starting Minimization ...\n",
      "  Finished Minimization after: 22.765s\n",
      "    Final Loss 1.4885821577187298e-05\n",
      "  Done!\n"
     ]
    }
   ],
   "source": [
    "init_kwargs = {\n",
    "    'observables': ['log10energy'],\n",
    "    'conditionals': ['src->sindec', 'gamma'],\n",
    "\n",
    "    'grid_spec': {\n",
    "        'log10energy': (float(np.log10(400)), 8.1, 15), \n",
    "        'gamma': (1., 4., 50),\n",
    "        'src->sindec': (-1., 1., 15),\n",
    "    },\n",
    "    'min_grid_prob': 1e-7,\n",
    "    'dtype': 'float64',\n",
    "    'minimizer_options': {\n",
    "        'method': 'L-BFGS-B',\n",
    "        'options': dict(iprint=1, gtol=1e-7),\n",
    "    },\n",
    "}\n",
    "grid_model_sig = EquidistantGridLinearInterpPDF(**init_kwargs)\n",
    "grid_model_sig.build_pdf(\n",
    "    df=a.sig,\n",
    "    weights=None, #weights, # needs to be None if conditional on gamma\n",
    ")"
   ]
  },
  {
   "cell_type": "markdown",
   "id": "still-insulation",
   "metadata": {},
   "source": [
    "##### Background PDF $B(E | \\sin \\delta)$"
   ]
  },
  {
   "cell_type": "code",
   "execution_count": 37,
   "id": "infectious-leisure",
   "metadata": {},
   "outputs": [
    {
     "name": "stdout",
     "output_type": "stream",
     "text": [
      "Building PDF ...\n",
      "  Initializing Grid ...\n",
      "    Initial Loss 0.2198992604877053\n",
      "  Starting Minimization ...\n",
      "  Finished Minimization after: 1.530s\n",
      "    Final Loss 0.21679533787871466\n",
      "  Done!\n"
     ]
    }
   ],
   "source": [
    "init_kwargs = {\n",
    "    'observables': ['log10energy'],\n",
    "    'conditionals': ['sindec'],\n",
    "\n",
    "    'grid_spec': {\n",
    "        'log10energy': (float(np.log10(400)), 8.1, 15), \n",
    "        'sindec': (-1., 1., 15),\n",
    "    },\n",
    "    #'gamma_oversampling': 100,\n",
    "    'min_grid_prob': 1e-7,\n",
    "    'dtype': 'float64',\n",
    "    'minimizer_options': {\n",
    "        'method': 'L-BFGS-B',\n",
    "        'options': dict(iprint=1, gtol=1e-6),\n",
    "    },\n",
    "}\n",
    "grid_model_bkg = EquidistantGridLinearInterpPDF(**init_kwargs)\n",
    "grid_model_bkg.build_pdf(df=a.bg_data)\n"
   ]
  },
  {
   "cell_type": "markdown",
   "id": "direct-occasion",
   "metadata": {},
   "source": [
    "##### Ratio Model"
   ]
  },
  {
   "cell_type": "code",
   "execution_count": 38,
   "id": "collected-highway",
   "metadata": {},
   "outputs": [
    {
     "name": "stdout",
     "output_type": "stream",
     "text": [
      "features: {'log10energy': 'log10energy', 'sindec': 'sindec'}\n",
      "parameters: ['gamma', 'log10energy', 'sindec', 'src->sindec']\n",
      "observables: ['log10energy']\n",
      "conditionals: ['gamma', 'sindec', 'src->sindec']\n",
      "update_method: update\n"
     ]
    }
   ],
   "source": [
    "ratio_model_grid = models.PDFRatioWrapper(\n",
    "    m_signal=grid_model_sig,\n",
    "    m_bkg=grid_model_bkg,\n",
    "    #update_method='p_sig',\n",
    "    #update_method='p_inj',\n",
    "    #inj_grid_spec=grid_model_bkg.grid_spec,\n",
    ")\n",
    "\n",
    "print('features:', ratio_model_grid.features)\n",
    "print('parameters:', ratio_model_grid.parameters)\n",
    "print('observables:', ratio_model_grid.observables)\n",
    "print('conditionals:', ratio_model_grid.conditionals)\n",
    "print('update_method:', ratio_model_grid.update_method)\n"
   ]
  },
  {
   "cell_type": "markdown",
   "id": "insured-sharing",
   "metadata": {},
   "source": [
    "#### Construct Trial Runners"
   ]
  },
  {
   "cell_type": "code",
   "execution_count": 48,
   "id": "mental-charter",
   "metadata": {},
   "outputs": [],
   "source": [
    "sindec_randomization_width = 5 #3\n",
    "\n",
    "def get_trial_runner(sindec, gamma, cpus, ra=0., cutoff_TeV=np.inf, sigsub=True):\n",
    "    src = cy.utils.sources(ra, np.arcsin(sindec), deg=False)\n",
    "    cutoff_GeV = cutoff_TeV * 1e3\n",
    "    conf = {\n",
    "        'src' : src, \n",
    "        'flux' : cy.hyp.PowerLawFlux(gamma, energy_cutoff = cutoff_GeV),\n",
    "        'update_bg': True,\n",
    "        'sigsub' :  sigsub,\n",
    "        'randomize' : ['ra', cy.inj.DecRandomizer],\n",
    "        'sindec_bandwidth' : np.radians(5),\n",
    "        'dec_rand_method' : 'gaussian_fixed',\n",
    "        'dec_rand_kwargs' : dict(randomization_width = np.radians(sindec_randomization_width)), # 3\n",
    "        'dec_rand_pole_exlusion' : np.radians(8)\n",
    "    }\n",
    "    tr = cy.get_trial_runner(ana=ana, conf= conf, mp_cpus=cpus)\n",
    "    return tr, src\n",
    "\n",
    "def get_trial_runner_grid(sindec, gamma, cpus, ratio_model=ratio_model_grid, ra=0., cutoff_TeV=np.inf, sigsub=True):\n",
    "    src = cy.utils.sources(ra, np.arcsin(sindec), deg=False)\n",
    "    cutoff_GeV = cutoff_TeV * 1e3\n",
    "    conf = {\n",
    "        'src' : src, \n",
    "        'flux' : cy.hyp.PowerLawFlux(gamma, energy_cutoff = cutoff_GeV),\n",
    "        'update_bg': True,\n",
    "        'sigsub' :  sigsub,\n",
    "        'randomize' : ['ra', cy.inj.DecRandomizer],\n",
    "        'sindec_bandwidth' : np.radians(5),\n",
    "        'dec_rand_method' : 'gaussian_fixed',\n",
    "        'dec_rand_kwargs' : dict(randomization_width = np.radians(sindec_randomization_width)),\n",
    "        'dec_rand_pole_exlusion' : np.radians(8),\n",
    "        \n",
    "        # Modifications for custom energy ratio PDF\n",
    "        cy.pdf.GenericPDFRatioModel: dict(\n",
    "            func = ratio_model,\n",
    "            features = ratio_model.features,\n",
    "            fits = dict(gamma=np.r_[1, 1:4.01:.125, 4]),\n",
    "        ),\n",
    "        'energy': False,\n",
    "    }\n",
    "    tr = cy.get_trial_runner(ana=ana, conf= conf, mp_cpus=cpus)\n",
    "    return tr, src\n",
    "\n",
    "def get_bias_allt(tr, ntrials=200, n_sigs=np.r_[:101:10], quiet=False):\n",
    "    trials = [\n",
    "        (None if quiet else print(f'\\r{n_sig:4d} ...', end='', flush=True))\n",
    "        or\n",
    "        tr.get_many_fits(ntrials, n_sig=n_sig, logging=False, seed=n_sig)\n",
    "        for n_sig in n_sigs]\n",
    "    if not quiet:\n",
    "        print()\n",
    "    for (n_sig, t) in zip(n_sigs, trials):\n",
    "        t['ntrue'] = np.repeat(n_sig, len(t))\n",
    "    allt = cy.utils.Arrays.concatenate(trials)\n",
    "    return allt\n"
   ]
  },
  {
   "cell_type": "markdown",
   "id": "recent-newfoundland",
   "metadata": {},
   "source": [
    "## Plotting Helpers"
   ]
  },
  {
   "cell_type": "code",
   "execution_count": 49,
   "id": "modified-nightmare",
   "metadata": {},
   "outputs": [],
   "source": [
    "\n",
    "def plot_ns_bias(ax, tr, allt, label=''):\n",
    "\n",
    "    n_sigs = np.unique(allt.ntrue)\n",
    "    dns = np.mean(np.diff(n_sigs))\n",
    "    ns_bins = np.r_[n_sigs - 0.5*dns, n_sigs[-1] + 0.5*dns]\n",
    "    expect_kw = dict(color='C0', ls='--', lw=1, zorder=-10)\n",
    "\n",
    "    h = hl.hist((allt.ntrue, allt.ns), bins=(ns_bins, 100))\n",
    "    hl.plot1d(ax, h.contain_project(1),errorbands=True, \n",
    "              drawstyle='default', label=label)\n",
    "    lim = ns_bins[[0, -1]]\n",
    "    ax.set_xlim(ax.set_ylim(lim))\n",
    "    ax.plot(lim, lim, **expect_kw)\n",
    "    ax.set_aspect('equal')\n",
    "\n",
    "    ax.set_xlabel(r'$n_{inj}$')\n",
    "    ax.set_ylabel(r'$n_s$')\n",
    "    ax.grid()\n",
    "\n",
    "def plot_gamma_bias(ax, tr, allt, label=''):\n",
    "\n",
    "    n_sigs = np.unique(allt.ntrue)\n",
    "    dns = np.mean(np.diff(n_sigs))\n",
    "    ns_bins = np.r_[n_sigs - 0.5*dns, n_sigs[-1] + 0.5*dns]\n",
    "    expect_kw = dict(color='C0', ls='--', lw=1, zorder=-10)\n",
    "    expect_gamma = tr.sig_injs[0].flux[0].gamma\n",
    "\n",
    "    h = hl.hist((allt.ntrue, allt.gamma), bins=(ns_bins, 100))\n",
    "    hl.plot1d(ax, h.contain_project(1),errorbands=True, \n",
    "              drawstyle='default', label=label)\n",
    "    lim = ns_bins[[0, -1]]\n",
    "    ax.set_xlim(lim)\n",
    "    ax.set_ylim(1, 4)\n",
    "    ax.axhline(expect_gamma, **expect_kw)\n",
    "\n",
    "    ax.set_xlabel(r'$n_{inj}$')\n",
    "    ax.set_ylabel(r'$\\gamma$')\n",
    "    ax.grid()\n"
   ]
  },
  {
   "cell_type": "markdown",
   "id": "negative-croatia",
   "metadata": {},
   "source": [
    "## Test Bias"
   ]
  },
  {
   "cell_type": "code",
   "execution_count": 47,
   "id": "ordinary-constitutional",
   "metadata": {},
   "outputs": [
    {
     "name": "stdout",
     "output_type": "stream",
     "text": [
      "sindec = -0.6 | gamma = 2 ...\n",
      " 224 ...\n",
      "CPU times: user 716 ms, sys: 21.1 s, total: 21.9 s\n",
      "Wall time: 1min 5s\n"
     ]
    },
    {
     "data": {
      "image/png": "[encoded data removed]",
      "text/plain": [
       "<Figure size 432x288 with 2 Axes>"
      ]
     },
     "metadata": {
      "needs_background": "light"
     },
     "output_type": "display_data"
    }
   ],
   "source": [
    "%%time\n",
    "%matplotlib inline\n",
    "\n",
    "mp_cpus = 20\n",
    "fit_gamma = True\n",
    "\n",
    "runners_to_check = [\n",
    "    #(get_trial_runner_grid, f'$\\Psi$ * E [src-dec]'),\n",
    "    (get_trial_runner, f'$\\Psi$ * E'),\n",
    "]\n",
    "\n",
    "#for tr_gamma in [2., 2.5, 3.]:\n",
    "for tr_gamma in [2]:\n",
    "    #for sindec in np.linspace(-0.99, 0.99, 20):\n",
    "    #for sindec in [ 0, .4]:\n",
    "    #for sindec in [-.95]:\n",
    "    #for sindec in [-.8, -.4, 0, .4, .8]:\n",
    "    #for sindec in [-.95, -.8, -.6, -.4, -.2, 0, .2, .4, .6, .8, .95]:\n",
    "    for sindec in [-0.6]:\n",
    "        print(f'sindec = {sindec} | gamma = {tr_gamma} ...')\n",
    "        \n",
    "        if fit_gamma:\n",
    "            fig, axes = plt.subplots(1, 2)\n",
    "        else:\n",
    "            fig, ax = plt.subplots(1, 1)\n",
    "        for trial_run_func, label in runners_to_check:\n",
    "            trial_runner, src = trial_run_func(\n",
    "                sindec, gamma=tr_gamma, cpus=mp_cpus)\n",
    "            allt_i = get_bias_allt(\n",
    "                trial_runner, ntrials=50, n_sigs=np.r_[:int(120*tr_gamma):int(8*tr_gamma)])\n",
    "            if fit_gamma:\n",
    "                plot_ns_bias(axes[0], trial_runner, allt_i, label=label)\n",
    "                plot_gamma_bias(axes[1], trial_runner, allt_i, label=label)\n",
    "            else:\n",
    "                plot_ns_bias(ax, trial_runner, allt_i, label=label)\n",
    "        if fit_gamma:\n",
    "            axes[0].set(title=rf'$\\sin(\\delta)={sindec:+.2f}$ | $\\gamma={tr_gamma}$')\n",
    "            axes[1].legend(fontsize=8)\n",
    "        else:\n",
    "            ax.set(title=rf'$\\sin(\\delta)={sindec:+.2f}$ | fixed $\\gamma={tr_gamma}$')\n",
    "            ax.legend(fontsize=8)\n",
    "        fig.tight_layout()\n",
    "        fig.savefig('{}/bias_sindec{:2.2f}_gamma{:2.2f}.png'.format(\n",
    "            plot_dir, sindec, tr_gamma))\n"
   ]
  },
  {
   "cell_type": "code",
   "execution_count": null,
   "id": "banned-reconstruction",
   "metadata": {},
   "outputs": [],
   "source": []
  }
 ],
 "metadata": {
  "kernelspec": {
   "display_name": "tensorflow2.3_py3-v4.1.0_csky",
   "language": "python",
   "name": "tensorflow2.3_py3-v4.1.0_csky"
  },
  "language_info": {
   "codemirror_mode": {
    "name": "ipython",
    "version": 3
   },
   "file_extension": ".py",
   "mimetype": "text/x-python",
   "name": "python",
   "nbconvert_exporter": "python",
   "pygments_lexer": "ipython3",
   "version": "3.7.5"
  }
 },
 "nbformat": 4,
 "nbformat_minor": 5
}
