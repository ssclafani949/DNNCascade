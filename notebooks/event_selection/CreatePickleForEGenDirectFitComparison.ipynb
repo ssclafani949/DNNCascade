{
 "cells": [
  {
   "cell_type": "code",
   "execution_count": 1,
   "id": "swiss-logic",
   "metadata": {},
   "outputs": [],
   "source": [
    "%matplotlib inline\n",
    "%load_ext autoreload\n",
    "%autoreload 2\n",
    "\n",
    "import os\n",
    "os.environ['CUDA_VISIBLE_DEVICES'] = '-1'\n",
    "\n",
    "# set env flags to catch BLAS used for scipy/numpy \n",
    "# to only use 1 cpu, n_cpus will be totally controlled by csky\n",
    "os.environ['MKL_NUM_THREADS'] = \"1\"\n",
    "os.environ['NUMEXPR_NUM_THREADS'] = \"1\"\n",
    "os.environ['OMP_NUM_THREADS'] = \"1\"\n",
    "os.environ['OPENBLAS_NUM_THREADS'] = \"1\"\n",
    "os.environ['VECLIB_MAXIMUM_THREADS'] = \"1\"\n",
    "\n",
    "import pandas as pd\n",
    "import numpy as np\n",
    "from tqdm.notebook import tqdm_notebook as tqdm\n",
    "import matplotlib as mpl\n",
    "mpl.rcParams['figure.facecolor'] = 'w'\n",
    "mpl.rcParams['savefig.facecolor'] = 'w'\n",
    "from matplotlib import pyplot as plt\n",
    "%matplotlib inline\n",
    "\n",
    "import glob\n",
    "\n",
    "# suppress natural naming warnings\n",
    "import warnings\n",
    "from tables import NaturalNameWarning\n",
    "warnings.filterwarnings('ignore', category=NaturalNameWarning)"
   ]
  },
  {
   "cell_type": "markdown",
   "id": "preliminary-antarctica",
   "metadata": {},
   "source": [
    "## Defines Settings"
   ]
  },
  {
   "cell_type": "code",
   "execution_count": 2,
   "id": "entitled-marks",
   "metadata": {},
   "outputs": [],
   "source": [
    "selection_version = 'version-001-p00'\n",
    "\n",
    "plot_dir = '/home/mhuennefeld/public_html/analyses/DNNCascade/plots/egen_directfit_comparison/selection_{}'.format(selection_version)\n",
    "df_dir = '/data/ana/PointSource/DNNCascade/analysis/{}/'.format(selection_version)\n"
   ]
  },
  {
   "cell_type": "code",
   "execution_count": 3,
   "id": "touched-department",
   "metadata": {},
   "outputs": [],
   "source": [
    "for dir_path in [plot_dir]:\n",
    "    if not os.path.exists(dir_path):\n",
    "        print('Creating directory:', dir_path)\n",
    "        os.makedirs(dir_path)"
   ]
  },
  {
   "cell_type": "markdown",
   "id": "technological-sunglasses",
   "metadata": {},
   "source": [
    "## Load Data"
   ]
  },
  {
   "cell_type": "code",
   "execution_count": 4,
   "id": "permanent-romantic",
   "metadata": {},
   "outputs": [
    {
     "name": "stdout",
     "output_type": "stream",
     "text": [
      "Loading exp ...\n"
     ]
    }
   ],
   "source": [
    "print('Loading exp ...')\n",
    "df_exp_list = []\n",
    "for y in range(2011, 2021):\n",
    "     df_exp_list.append(pd.read_hdf(\n",
    "        '{}/IC86_{}_exp.hdf'.format(df_dir, y), key='df',\n",
    "    ))\n",
    "df_exp  = pd.concat(df_exp_list, ignore_index=True)\n",
    "df_exp = df_exp.set_index(['I3EventHeader_Run', 'I3EventHeader_Event'], drop=False)\n"
   ]
  },
  {
   "cell_type": "code",
   "execution_count": 79,
   "id": "respected-communication",
   "metadata": {},
   "outputs": [],
   "source": [
    "import csky as cy\n",
    "\n",
    "repo = cy.selections.Repository()\n",
    "specs = cy.selections.MESEDataSpecs.mesc_7yr"
   ]
  },
  {
   "cell_type": "code",
   "execution_count": 80,
   "id": "mediterranean-bargain",
   "metadata": {},
   "outputs": [
    {
     "name": "stdout",
     "output_type": "stream",
     "text": [
      "Setting up Analysis for:\n",
      "MESC_2010_2016\n",
      "Setting up MESC_2010_2016...\n",
      "Reading /data/ana/analyses/mese_cascades/version-001-p02/IC86_2013_MC.npy ...\n",
      "Reading /data/ana/analyses/mese_cascades/version-001-p02/IC79_exp.npy ...\n",
      "Reading /data/ana/analyses/mese_cascades/version-001-p02/IC86_2011_exp.npy ...\n",
      "Reading /data/ana/analyses/mese_cascades/version-001-p02/IC86_2012_exp.npy ...\n",
      "Reading /data/ana/analyses/mese_cascades/version-001-p02/IC86_2013_exp.npy ...\n",
      "Reading /data/ana/analyses/mese_cascades/version-001-p02/IC86_2014_exp.npy ...\n",
      "Reading /data/ana/analyses/mese_cascades/version-001-p02/IC86_2015_exp.npy ...\n",
      "Reading /data/ana/analyses/mese_cascades/version-001-p02/IC86_2016_exp.npy ...\n",
      "Reading /data/ana/analyses/mese_cascades/version-001-p02/GRL/IC79_exp.npy ...\n",
      "Reading /data/ana/analyses/mese_cascades/version-001-p02/GRL/IC86_2011_exp.npy ...\n",
      "Reading /data/ana/analyses/mese_cascades/version-001-p02/GRL/IC86_2012_exp.npy ...\n",
      "Reading /data/ana/analyses/mese_cascades/version-001-p02/GRL/IC86_2013_exp.npy ...\n",
      "Reading /data/ana/analyses/mese_cascades/version-001-p02/GRL/IC86_2014_exp.npy ...\n",
      "Reading /data/ana/analyses/mese_cascades/version-001-p02/GRL/IC86_2015_exp.npy ...\n",
      "Reading /data/ana/analyses/mese_cascades/version-001-p02/GRL/IC86_2016_exp.npy ...\n",
      "Energy PDF Ratio Model...\n",
      "  * gamma = 4.0000 ...\n",
      "Signal Acceptance Model...\n",
      "  * gamma = 4.0000 ...\n",
      "Done.\n",
      "CPU times: user 9.35 s, sys: 217 ms, total: 9.57 s\n",
      "Wall time: 9.53 s\n"
     ]
    }
   ],
   "source": [
    "%%time\n",
    "\n",
    "ana = cy.get_analysis(repo, 'version-001-p02', specs)"
   ]
  },
  {
   "cell_type": "code",
   "execution_count": 81,
   "id": "japanese-israeli",
   "metadata": {},
   "outputs": [
    {
     "data": {
      "text/plain": [
       "Events(1980 items | columns: azimuth, dec, energy, event, log10energy, mjd, ra, run, sigma, sindec, subevent)"
      ]
     },
     "execution_count": 81,
     "metadata": {},
     "output_type": "execute_result"
    }
   ],
   "source": [
    "a = ana.anas[0]\n",
    "a.bg_data"
   ]
  },
  {
   "cell_type": "code",
   "execution_count": 98,
   "id": "spectacular-advertising",
   "metadata": {},
   "outputs": [
    {
     "data": {
      "text/html": [
       "<div>\n",
       "<style scoped>\n",
       "    .dataframe tbody tr th:only-of-type {\n",
       "        vertical-align: middle;\n",
       "    }\n",
       "\n",
       "    .dataframe tbody tr th {\n",
       "        vertical-align: top;\n",
       "    }\n",
       "\n",
       "    .dataframe thead th {\n",
       "        text-align: right;\n",
       "    }\n",
       "</style>\n",
       "<table border=\"1\" class=\"dataframe\">\n",
       "  <thead>\n",
       "    <tr style=\"text-align: right;\">\n",
       "      <th></th>\n",
       "      <th></th>\n",
       "      <th>azimuth</th>\n",
       "      <th>dec</th>\n",
       "      <th>sindec</th>\n",
       "      <th>energy</th>\n",
       "      <th>log10energy</th>\n",
       "      <th>event</th>\n",
       "      <th>mjd</th>\n",
       "      <th>ra</th>\n",
       "      <th>run</th>\n",
       "      <th>sigma</th>\n",
       "      <th>subevent</th>\n",
       "      <th>zenith</th>\n",
       "      <th>I3EventHeader_Run</th>\n",
       "      <th>I3EventHeader_Event</th>\n",
       "    </tr>\n",
       "    <tr>\n",
       "      <th>I3EventHeader_Run</th>\n",
       "      <th>I3EventHeader_Event</th>\n",
       "      <th></th>\n",
       "      <th></th>\n",
       "      <th></th>\n",
       "      <th></th>\n",
       "      <th></th>\n",
       "      <th></th>\n",
       "      <th></th>\n",
       "      <th></th>\n",
       "      <th></th>\n",
       "      <th></th>\n",
       "      <th></th>\n",
       "      <th></th>\n",
       "      <th></th>\n",
       "      <th></th>\n",
       "    </tr>\n",
       "  </thead>\n",
       "  <tbody>\n",
       "    <tr>\n",
       "      <th>115975</th>\n",
       "      <th>40600729</th>\n",
       "      <td>3.310363</td>\n",
       "      <td>1.263701</td>\n",
       "      <td>0.953216</td>\n",
       "      <td>11994.861328</td>\n",
       "      <td>4.078995</td>\n",
       "      <td>40600729</td>\n",
       "      <td>55347.509998</td>\n",
       "      <td>5.806866</td>\n",
       "      <td>115975</td>\n",
       "      <td>0.181260</td>\n",
       "      <td>1.0</td>\n",
       "      <td>2.834497</td>\n",
       "      <td>115975</td>\n",
       "      <td>40600729</td>\n",
       "    </tr>\n",
       "    <tr>\n",
       "      <th rowspan=\"2\" valign=\"top\">115994</th>\n",
       "      <th>2538090</th>\n",
       "      <td>1.492745</td>\n",
       "      <td>0.236737</td>\n",
       "      <td>0.234532</td>\n",
       "      <td>70022.054688</td>\n",
       "      <td>4.845235</td>\n",
       "      <td>2538090</td>\n",
       "      <td>55351.322214</td>\n",
       "      <td>0.226998</td>\n",
       "      <td>115994</td>\n",
       "      <td>0.157607</td>\n",
       "      <td>1.0</td>\n",
       "      <td>1.807534</td>\n",
       "      <td>115994</td>\n",
       "      <td>2538090</td>\n",
       "    </tr>\n",
       "    <tr>\n",
       "      <th>29874216</th>\n",
       "      <td>3.602833</td>\n",
       "      <td>-0.010473</td>\n",
       "      <td>-0.010472</td>\n",
       "      <td>166558.453125</td>\n",
       "      <td>5.221567</td>\n",
       "      <td>29874216</td>\n",
       "      <td>55351.465966</td>\n",
       "      <td>5.305788</td>\n",
       "      <td>115994</td>\n",
       "      <td>0.161367</td>\n",
       "      <td>1.0</td>\n",
       "      <td>1.560324</td>\n",
       "      <td>115994</td>\n",
       "      <td>29874216</td>\n",
       "    </tr>\n",
       "    <tr>\n",
       "      <th>115995</th>\n",
       "      <th>36172422</th>\n",
       "      <td>5.024653</td>\n",
       "      <td>0.849182</td>\n",
       "      <td>0.750740</td>\n",
       "      <td>1966.362183</td>\n",
       "      <td>3.293664</td>\n",
       "      <td>36172422</td>\n",
       "      <td>55351.834496</td>\n",
       "      <td>6.205850</td>\n",
       "      <td>115995</td>\n",
       "      <td>0.873051</td>\n",
       "      <td>1.0</td>\n",
       "      <td>2.419978</td>\n",
       "      <td>115995</td>\n",
       "      <td>36172422</td>\n",
       "    </tr>\n",
       "    <tr>\n",
       "      <th>116024</th>\n",
       "      <th>45544264</th>\n",
       "      <td>5.620123</td>\n",
       "      <td>-0.028565</td>\n",
       "      <td>-0.028561</td>\n",
       "      <td>51636.796875</td>\n",
       "      <td>4.712959</td>\n",
       "      <td>45544264</td>\n",
       "      <td>55354.823179</td>\n",
       "      <td>5.590685</td>\n",
       "      <td>116024</td>\n",
       "      <td>0.086546</td>\n",
       "      <td>1.0</td>\n",
       "      <td>1.542232</td>\n",
       "      <td>116024</td>\n",
       "      <td>45544264</td>\n",
       "    </tr>\n",
       "    <tr>\n",
       "      <th>...</th>\n",
       "      <th>...</th>\n",
       "      <td>...</td>\n",
       "      <td>...</td>\n",
       "      <td>...</td>\n",
       "      <td>...</td>\n",
       "      <td>...</td>\n",
       "      <td>...</td>\n",
       "      <td>...</td>\n",
       "      <td>...</td>\n",
       "      <td>...</td>\n",
       "      <td>...</td>\n",
       "      <td>...</td>\n",
       "      <td>...</td>\n",
       "      <td>...</td>\n",
       "      <td>...</td>\n",
       "    </tr>\n",
       "    <tr>\n",
       "      <th rowspan=\"2\" valign=\"top\">129497</th>\n",
       "      <th>30635325</th>\n",
       "      <td>3.441858</td>\n",
       "      <td>-1.394667</td>\n",
       "      <td>-0.984529</td>\n",
       "      <td>214765.718750</td>\n",
       "      <td>5.331965</td>\n",
       "      <td>30635325</td>\n",
       "      <td>57884.213293</td>\n",
       "      <td>3.467206</td>\n",
       "      <td>129497</td>\n",
       "      <td>0.095539</td>\n",
       "      <td>1.0</td>\n",
       "      <td>0.176129</td>\n",
       "      <td>129497</td>\n",
       "      <td>30635325</td>\n",
       "    </tr>\n",
       "    <tr>\n",
       "      <th>33733832</th>\n",
       "      <td>1.373300</td>\n",
       "      <td>0.352983</td>\n",
       "      <td>0.345698</td>\n",
       "      <td>1605.827759</td>\n",
       "      <td>3.205699</td>\n",
       "      <td>33733832</td>\n",
       "      <td>57884.226865</td>\n",
       "      <td>5.621270</td>\n",
       "      <td>129497</td>\n",
       "      <td>1.574404</td>\n",
       "      <td>1.0</td>\n",
       "      <td>1.923779</td>\n",
       "      <td>129497</td>\n",
       "      <td>33733832</td>\n",
       "    </tr>\n",
       "    <tr>\n",
       "      <th>129498</th>\n",
       "      <th>71692545</th>\n",
       "      <td>1.568269</td>\n",
       "      <td>-0.031419</td>\n",
       "      <td>-0.031414</td>\n",
       "      <td>790.580566</td>\n",
       "      <td>2.897946</td>\n",
       "      <td>71692545</td>\n",
       "      <td>57884.727392</td>\n",
       "      <td>2.296632</td>\n",
       "      <td>129498</td>\n",
       "      <td>1.061956</td>\n",
       "      <td>1.0</td>\n",
       "      <td>1.539377</td>\n",
       "      <td>129498</td>\n",
       "      <td>71692545</td>\n",
       "    </tr>\n",
       "    <tr>\n",
       "      <th>129500</th>\n",
       "      <th>12101878</th>\n",
       "      <td>4.569687</td>\n",
       "      <td>0.767704</td>\n",
       "      <td>0.694485</td>\n",
       "      <td>1407.813232</td>\n",
       "      <td>3.148545</td>\n",
       "      <td>12101878</td>\n",
       "      <td>57885.132929</td>\n",
       "      <td>1.850250</td>\n",
       "      <td>129500</td>\n",
       "      <td>0.836218</td>\n",
       "      <td>1.0</td>\n",
       "      <td>2.338500</td>\n",
       "      <td>129500</td>\n",
       "      <td>12101878</td>\n",
       "    </tr>\n",
       "    <tr>\n",
       "      <th>129510</th>\n",
       "      <th>63482845</th>\n",
       "      <td>1.873998</td>\n",
       "      <td>-1.049390</td>\n",
       "      <td>-0.867120</td>\n",
       "      <td>57437.976562</td>\n",
       "      <td>4.759199</td>\n",
       "      <td>63482845</td>\n",
       "      <td>57888.696142</td>\n",
       "      <td>1.862824</td>\n",
       "      <td>129510</td>\n",
       "      <td>0.106427</td>\n",
       "      <td>1.0</td>\n",
       "      <td>0.521406</td>\n",
       "      <td>129510</td>\n",
       "      <td>63482845</td>\n",
       "    </tr>\n",
       "  </tbody>\n",
       "</table>\n",
       "<p>1980 rows × 14 columns</p>\n",
       "</div>"
      ],
      "text/plain": [
       "                                        azimuth       dec    sindec  \\\n",
       "I3EventHeader_Run I3EventHeader_Event                                 \n",
       "115975            40600729             3.310363  1.263701  0.953216   \n",
       "115994            2538090              1.492745  0.236737  0.234532   \n",
       "                  29874216             3.602833 -0.010473 -0.010472   \n",
       "115995            36172422             5.024653  0.849182  0.750740   \n",
       "116024            45544264             5.620123 -0.028565 -0.028561   \n",
       "...                                         ...       ...       ...   \n",
       "129497            30635325             3.441858 -1.394667 -0.984529   \n",
       "                  33733832             1.373300  0.352983  0.345698   \n",
       "129498            71692545             1.568269 -0.031419 -0.031414   \n",
       "129500            12101878             4.569687  0.767704  0.694485   \n",
       "129510            63482845             1.873998 -1.049390 -0.867120   \n",
       "\n",
       "                                              energy  log10energy     event  \\\n",
       "I3EventHeader_Run I3EventHeader_Event                                         \n",
       "115975            40600729              11994.861328     4.078995  40600729   \n",
       "115994            2538090               70022.054688     4.845235   2538090   \n",
       "                  29874216             166558.453125     5.221567  29874216   \n",
       "115995            36172422               1966.362183     3.293664  36172422   \n",
       "116024            45544264              51636.796875     4.712959  45544264   \n",
       "...                                              ...          ...       ...   \n",
       "129497            30635325             214765.718750     5.331965  30635325   \n",
       "                  33733832               1605.827759     3.205699  33733832   \n",
       "129498            71692545                790.580566     2.897946  71692545   \n",
       "129500            12101878               1407.813232     3.148545  12101878   \n",
       "129510            63482845              57437.976562     4.759199  63482845   \n",
       "\n",
       "                                                mjd        ra     run  \\\n",
       "I3EventHeader_Run I3EventHeader_Event                                   \n",
       "115975            40600729             55347.509998  5.806866  115975   \n",
       "115994            2538090              55351.322214  0.226998  115994   \n",
       "                  29874216             55351.465966  5.305788  115994   \n",
       "115995            36172422             55351.834496  6.205850  115995   \n",
       "116024            45544264             55354.823179  5.590685  116024   \n",
       "...                                             ...       ...     ...   \n",
       "129497            30635325             57884.213293  3.467206  129497   \n",
       "                  33733832             57884.226865  5.621270  129497   \n",
       "129498            71692545             57884.727392  2.296632  129498   \n",
       "129500            12101878             57885.132929  1.850250  129500   \n",
       "129510            63482845             57888.696142  1.862824  129510   \n",
       "\n",
       "                                          sigma  subevent    zenith  \\\n",
       "I3EventHeader_Run I3EventHeader_Event                                 \n",
       "115975            40600729             0.181260       1.0  2.834497   \n",
       "115994            2538090              0.157607       1.0  1.807534   \n",
       "                  29874216             0.161367       1.0  1.560324   \n",
       "115995            36172422             0.873051       1.0  2.419978   \n",
       "116024            45544264             0.086546       1.0  1.542232   \n",
       "...                                         ...       ...       ...   \n",
       "129497            30635325             0.095539       1.0  0.176129   \n",
       "                  33733832             1.574404       1.0  1.923779   \n",
       "129498            71692545             1.061956       1.0  1.539377   \n",
       "129500            12101878             0.836218       1.0  2.338500   \n",
       "129510            63482845             0.106427       1.0  0.521406   \n",
       "\n",
       "                                       I3EventHeader_Run  I3EventHeader_Event  \n",
       "I3EventHeader_Run I3EventHeader_Event                                          \n",
       "115975            40600729                        115975             40600729  \n",
       "115994            2538090                         115994              2538090  \n",
       "                  29874216                        115994             29874216  \n",
       "115995            36172422                        115995             36172422  \n",
       "116024            45544264                        116024             45544264  \n",
       "...                                                  ...                  ...  \n",
       "129497            30635325                        129497             30635325  \n",
       "                  33733832                        129497             33733832  \n",
       "129498            71692545                        129498             71692545  \n",
       "129500            12101878                        129500             12101878  \n",
       "129510            63482845                        129510             63482845  \n",
       "\n",
       "[1980 rows x 14 columns]"
      ]
     },
     "execution_count": 98,
     "metadata": {},
     "output_type": "execute_result"
    }
   ],
   "source": [
    "df_exp_mesc = a.bg_data.as_dataframe\n",
    "df_exp_mesc['zenith'] = df_exp_mesc['dec'] + np.pi/2. # Note: this is not quite exact!\n",
    "df_exp_mesc['I3EventHeader_Run'] = df_exp_mesc['run']\n",
    "df_exp_mesc['I3EventHeader_Event'] = df_exp_mesc['event']\n",
    "df_exp_mesc = df_exp_mesc.set_index(['I3EventHeader_Run', 'I3EventHeader_Event'], drop=False)\n",
    "df_exp_mesc"
   ]
  },
  {
   "cell_type": "markdown",
   "id": "gross-developer",
   "metadata": {},
   "source": [
    "## Select HESE Events"
   ]
  },
  {
   "cell_type": "code",
   "execution_count": 5,
   "id": "approved-metro",
   "metadata": {},
   "outputs": [],
   "source": [
    "hese_events = \"\"\"127225.4732666\n",
    "124256.6592218\n",
    "124625.77850022\n",
    "125365.30022811\n",
    "126099.12931336\n",
    "129541.4261345\n",
    "129866.5123331\n",
    "115994.29874216\n",
    "128619.66564632\n",
    "118549.11722208\n",
    "126865.46801086\n",
    "125335.34854587\n",
    "128027.64761685\n",
    "129497.30635325\n",
    "116698.10198436\n",
    "129112.14865593\n",
    "126283.47286594\n",
    "119352.56498321\n",
    "119316.36556705\n",
    "119404.80750561\n",
    "124927.17485033\n",
    "125979.54250116\n",
    "118381.19162840\n",
    "129402.8407152\n",
    "124098.27598000\n",
    "119842.82622124\n",
    "123326.18647949\n",
    "124333.60375689\n",
    "118545.63733662\n",
    "120398.25772043\n",
    "119214.8606380\n",
    "129997.40790411\n",
    "121679.36086773\n",
    "120638.2924273\n",
    "127339.64954567\n",
    "130111.70719303\n",
    "118607.40435683\n",
    "120867.9198123\n",
    "118283.9445773\n",
    "115994.2538090\n",
    "130219.10092093\n",
    "128224.10435404\n",
    "119595.30769232\n",
    "128809.57127218\n",
    "130241.31728846\n",
    "124852.18750800\n",
    "128239.72790735\n",
    "120421.44633110\n",
    "125975.22186251\n",
    "119470.48424887\n",
    "118435.58198553\n",
    "129316.30230768\n",
    "128747.42700916\n",
    "124244.7608824\n",
    "125914.75630389\n",
    "129510.63482845\n",
    "129678.27285925\n",
    "122649.63903532\n",
    "124571.17513088\n",
    "128782.62371492\n",
    "126320.6425207\n",
    "119674.8449256\n",
    "118145.5142726\n",
    "117371.31623515\n",
    "128695.52259779\n",
    "124648.7756176\n",
    "126090.33142246\n",
    "128973.69101495\n",
    "123217.66529770\n",
    "121240.72944671\n",
    "118178.66452255\n",
    "126406.63228689\n",
    "124455.8202640\n",
    "119474.33152537\n",
    "130171.34032434\"\"\"\n",
    "\n",
    "hese_events = hese_events.split('\\n')\n",
    "hese_runs = [int(h.split('.')[0]) for h in hese_events]\n",
    "hese_event = [int(h.split('.')[1]) for h in hese_events]\n",
    "hese_idx = ([(int(h.split('.')[0]), int(h.split('.')[1])) for h in hese_events])\n"
   ]
  },
  {
   "cell_type": "code",
   "execution_count": 97,
   "id": "descending-poison",
   "metadata": {},
   "outputs": [
    {
     "data": {
      "text/plain": [
       "(61, 52)"
      ]
     },
     "execution_count": 97,
     "metadata": {},
     "output_type": "execute_result"
    }
   ],
   "source": [
    "df_sel = df_exp.loc[df_exp.index.intersection(hese_idx)]\n",
    "df_sel_mesc = df_exp_mesc.loc[df_exp_mesc.index.intersection(df_sel.index)]\n",
    "len(df_sel), len(df_sel_mesc)"
   ]
  },
  {
   "cell_type": "code",
   "execution_count": 122,
   "id": "different-landscape",
   "metadata": {},
   "outputs": [],
   "source": [
    "key_trafo = {\n",
    "    'zen': 'egen_zen',\n",
    "    'azi': 'egen_az',\n",
    "    'angErr': 'egen_ang_esterr',\n",
    "    'I3EventHeader_Run': 'run',\n",
    "    'I3EventHeader_Event': 'event',\n",
    "}\n",
    "key_trafo_mesc = {\n",
    "    'zenith': 'mesc7yr_zen',\n",
    "    'azimuth': 'mesc7yr_az',\n",
    "    'sigma': 'mesc7yr_ang_esterr',\n",
    "    'I3EventHeader_Run': 'run',\n",
    "    'I3EventHeader_Event': 'event',\n",
    "}"
   ]
  },
  {
   "cell_type": "markdown",
   "id": "approximate-withdrawal",
   "metadata": {},
   "source": [
    "#### Define Method to obtain 50% contaiment contour"
   ]
  },
  {
   "cell_type": "code",
   "execution_count": 123,
   "id": "assumed-hollow",
   "metadata": {},
   "outputs": [
    {
     "data": {
      "application/vnd.jupyter.widget-view+json": {
       "model_id": "37f4b081f8b1405a8bb49ec7465854b2",
       "version_major": 2,
       "version_minor": 0
      },
      "text/plain": [
       "  0%|          | 0/10 [00:00<?, ?it/s]"
      ]
     },
     "metadata": {},
     "output_type": "display_data"
    },
    {
     "name": "stdout",
     "output_type": "stream",
     "text": [
      "[0.         0.11111111 0.22222222 0.33333333 0.44444444 0.55555556\n",
      " 0.66666667 0.77777778 0.88888889 1.        ] [0.         0.11079075 0.2222222  0.33333332 0.44444484 0.55555506\n",
      " 0.66666677 0.77777758 0.88888865 1.        ]\n",
      "[0.         0.11111111 0.22222222 0.33333333 0.44444444 0.55555556\n",
      " 0.66666667 0.77777778 0.88888889 1.        ] [0.99989847 0.99711625 0.88666984 0.01003913 0.17684176 0.56359086\n",
      " 0.70391389 0.71406721 0.67680558 0.62361466]\n"
     ]
    }
   ],
   "source": [
    "from dnn_cascade_selection.utils.notebook import ps_pdf\n",
    "from scipy.stats import vonmises\n",
    "from scipy.optimize import minimize\n",
    "\n",
    "\n",
    "def von_mises_in_dPsi_ppf(q, sigma, x0=0.5):\n",
    "    \"\"\"PPF in dPsi (minimized via scipy.optimize.minimize)\n",
    "    \"\"\"\n",
    "    norm = ps_pdf.von_mises_in_dPsi_cdf(np.deg2rad(180), sigma=sigma)\n",
    "    \n",
    "    def loss(x):\n",
    "        if np.any(x < 0):\n",
    "            return np.inf\n",
    "            \n",
    "        return np.sum((ps_pdf.von_mises_in_dPsi_cdf(x, sigma=sigma)/norm - q)**2)\n",
    "    \n",
    "    result = minimize(loss, x0=np.zeros_like(q) + x0)\n",
    "    return result.x\n",
    "\n",
    "def von_mises_in_dPsi_ppf_grid(\n",
    "            q, sigma, \n",
    "            grid=np.deg2rad(np.r_[0:40:1, 40:80:2, 80:100:4, 100:181:8]),\n",
    "            with_fit=True,\n",
    "        ):\n",
    "    \"\"\"PPF in dPsi (minimized on grid plus optional scipy minimizer)\n",
    "    \"\"\"\n",
    "    q = np.atleast_1d(q)\n",
    "    sigma = np.atleast_1d(sigma)\n",
    "    norm = ps_pdf.von_mises_in_dPsi_cdf(np.deg2rad(180), sigma=sigma)\n",
    "    \n",
    "    assert len(q) == len(sigma)\n",
    "    def loss(x, sigma, q):\n",
    "        v = ps_pdf.von_mises_in_dPsi_cdf(x, sigma=sigma)\n",
    "        return (ps_pdf.von_mises_in_dPsi_cdf(x, sigma=sigma)/norm - q)**2\n",
    "    \n",
    "    x_vals = np.empty_like(q)\n",
    "    \n",
    "    for i, (q_i, sigma_i) in tqdm(enumerate(zip(q, sigma)), total=len(sigma)):\n",
    "        sigma_i_exp = np.ones_like(grid) * sigma_i\n",
    "        q_i_exp = np.ones_like(grid) * q_i\n",
    "        losses = loss(x=grid, sigma=sigma_i_exp, q=q_i_exp)\n",
    "        \n",
    "        min_index = np.argmin(losses)\n",
    "        min_x = grid[min_index]\n",
    "        \n",
    "        if with_fit:\n",
    "            min_x = von_mises_in_dPsi_ppf(q_i, sigma_i, x0=min_x)\n",
    "        x_vals[i] = min_x\n",
    "    \n",
    "    return x_vals\n",
    "\n",
    "def get_von_mises_50p_containment(sigma):\n",
    "    return von_mises_in_dPsi_ppf_grid(\n",
    "        q=np.ones_like(sigma) * 0.5,\n",
    "        sigma=sigma,\n",
    "    )\n",
    "\n",
    "def get_von_mises_90p_containment(sigma):\n",
    "    return von_mises_in_dPsi_ppf_grid(\n",
    "        q=np.ones_like(sigma) * 0.9,\n",
    "        sigma=sigma,\n",
    "    )\n",
    "\n",
    "sigma = np.deg2rad(np.linspace(1, 40, 10))\n",
    "q = np.linspace(0, 1, 10)\n",
    "\n",
    "print(q, ps_pdf.von_mises_in_dPsi_cdf(von_mises_in_dPsi_ppf_grid(q, sigma=sigma), sigma=sigma))\n",
    "print(q, ps_pdf.von_mises_in_dPsi_cdf(von_mises_in_dPsi_ppf(q, sigma=sigma), sigma=sigma))\n",
    "                                      "
   ]
  },
  {
   "cell_type": "markdown",
   "id": "gothic-review",
   "metadata": {},
   "source": [
    "#### Save Data"
   ]
  },
  {
   "cell_type": "code",
   "execution_count": 124,
   "id": "formed-kingdom",
   "metadata": {},
   "outputs": [
    {
     "data": {
      "text/plain": [
       "True"
      ]
     },
     "execution_count": 124,
     "metadata": {},
     "output_type": "execute_result"
    }
   ],
   "source": [
    "df_exp_mesc.loc[(115975, 40600729)]\n",
    "(115975, 40600729) in df_exp_mesc.index"
   ]
  },
  {
   "cell_type": "code",
   "execution_count": 150,
   "id": "blank-cheese",
   "metadata": {},
   "outputs": [
    {
     "name": "stdout",
     "output_type": "stream",
     "text": [
      "Index not in MESC 7yr: (120398, 25772043)\n",
      "Index not in MESC 7yr: (127339, 64954567)\n",
      "Index not in MESC 7yr: (129316, 30230768)\n",
      "Index not in MESC 7yr: (129541, 4261345)\n",
      "Index not in MESC 7yr: (129678, 27285925)\n",
      "Index not in MESC 7yr: (129866, 5123331)\n",
      "Index not in MESC 7yr: (129997, 40790411)\n",
      "Index not in MESC 7yr: (130171, 34032434)\n",
      "Index not in MESC 7yr: (130241, 31728846)\n",
      "Calculating contours for: egen_ang_esterr\n"
     ]
    },
    {
     "data": {
      "application/vnd.jupyter.widget-view+json": {
       "model_id": "a1ede03df3c546d7af6bf11976da9ef4",
       "version_major": 2,
       "version_minor": 0
      },
      "text/plain": [
       "  0%|          | 0/61 [00:00<?, ?it/s]"
      ]
     },
     "metadata": {},
     "output_type": "display_data"
    },
    {
     "data": {
      "application/vnd.jupyter.widget-view+json": {
       "model_id": "db655e9082a542239cde8b7ca0101bd4",
       "version_major": 2,
       "version_minor": 0
      },
      "text/plain": [
       "  0%|          | 0/61 [00:00<?, ?it/s]"
      ]
     },
     "metadata": {},
     "output_type": "display_data"
    },
    {
     "name": "stdout",
     "output_type": "stream",
     "text": [
      "Calculating contours for: mesc7yr_ang_esterr\n"
     ]
    },
    {
     "data": {
      "application/vnd.jupyter.widget-view+json": {
       "model_id": "843431871dcf493084711c23a8ec8050",
       "version_major": 2,
       "version_minor": 0
      },
      "text/plain": [
       "  0%|          | 0/61 [00:00<?, ?it/s]"
      ]
     },
     "metadata": {},
     "output_type": "display_data"
    },
    {
     "name": "stderr",
     "output_type": "stream",
     "text": [
      "/mnt/lfs7/user/mhuennefeld/software/repositories/dnn_cascade_selection/dnn_cascade_selection/utils/notebook/ps_pdf.py:124: IntegrationWarning: Extremely bad integrand behavior occurs at some points of the\n",
      "  integration interval.\n",
      "  von_mises_in_dPsi_pdf, a=0, b=x_i, args=(sigma_i,))\n",
      "/mnt/lfs7/user/mhuennefeld/software/repositories/dnn_cascade_selection/dnn_cascade_selection/utils/notebook/ps_pdf.py:124: IntegrationWarning: The occurrence of roundoff error is detected, which prevents \n",
      "  the requested tolerance from being achieved.  The error may be \n",
      "  underestimated.\n",
      "  von_mises_in_dPsi_pdf, a=0, b=x_i, args=(sigma_i,))\n",
      "/mnt/lfs7/user/mhuennefeld/software/repositories/dnn_cascade_selection/dnn_cascade_selection/utils/notebook/ps_pdf.py:124: IntegrationWarning: Extremely bad integrand behavior occurs at some points of the\n",
      "  integration interval.\n",
      "  von_mises_in_dPsi_pdf, a=0, b=x_i, args=(sigma_i,))\n",
      "/mnt/lfs7/user/mhuennefeld/software/repositories/dnn_cascade_selection/dnn_cascade_selection/utils/notebook/ps_pdf.py:124: IntegrationWarning: The occurrence of roundoff error is detected, which prevents \n",
      "  the requested tolerance from being achieved.  The error may be \n",
      "  underestimated.\n",
      "  von_mises_in_dPsi_pdf, a=0, b=x_i, args=(sigma_i,))\n",
      "/mnt/lfs7/user/mhuennefeld/software/repositories/dnn_cascade_selection/dnn_cascade_selection/utils/notebook/ps_pdf.py:124: IntegrationWarning: Extremely bad integrand behavior occurs at some points of the\n",
      "  integration interval.\n",
      "  von_mises_in_dPsi_pdf, a=0, b=x_i, args=(sigma_i,))\n",
      "/mnt/lfs7/user/mhuennefeld/software/repositories/dnn_cascade_selection/dnn_cascade_selection/utils/notebook/ps_pdf.py:124: IntegrationWarning: The occurrence of roundoff error is detected, which prevents \n",
      "  the requested tolerance from being achieved.  The error may be \n",
      "  underestimated.\n",
      "  von_mises_in_dPsi_pdf, a=0, b=x_i, args=(sigma_i,))\n"
     ]
    },
    {
     "data": {
      "application/vnd.jupyter.widget-view+json": {
       "model_id": "d708214e61c24fc4b05dde5cf6c93a67",
       "version_major": 2,
       "version_minor": 0
      },
      "text/plain": [
       "  0%|          | 0/61 [00:00<?, ?it/s]"
      ]
     },
     "metadata": {},
     "output_type": "display_data"
    },
    {
     "name": "stderr",
     "output_type": "stream",
     "text": [
      "/mnt/lfs7/user/mhuennefeld/software/repositories/dnn_cascade_selection/dnn_cascade_selection/utils/notebook/ps_pdf.py:124: IntegrationWarning: Extremely bad integrand behavior occurs at some points of the\n",
      "  integration interval.\n",
      "  von_mises_in_dPsi_pdf, a=0, b=x_i, args=(sigma_i,))\n",
      "/mnt/lfs7/user/mhuennefeld/software/repositories/dnn_cascade_selection/dnn_cascade_selection/utils/notebook/ps_pdf.py:124: IntegrationWarning: The occurrence of roundoff error is detected, which prevents \n",
      "  the requested tolerance from being achieved.  The error may be \n",
      "  underestimated.\n",
      "  von_mises_in_dPsi_pdf, a=0, b=x_i, args=(sigma_i,))\n",
      "/mnt/lfs7/user/mhuennefeld/software/repositories/dnn_cascade_selection/dnn_cascade_selection/utils/notebook/ps_pdf.py:124: IntegrationWarning: Extremely bad integrand behavior occurs at some points of the\n",
      "  integration interval.\n",
      "  von_mises_in_dPsi_pdf, a=0, b=x_i, args=(sigma_i,))\n",
      "/mnt/lfs7/user/mhuennefeld/software/repositories/dnn_cascade_selection/dnn_cascade_selection/utils/notebook/ps_pdf.py:124: IntegrationWarning: The occurrence of roundoff error is detected, which prevents \n",
      "  the requested tolerance from being achieved.  The error may be \n",
      "  underestimated.\n",
      "  von_mises_in_dPsi_pdf, a=0, b=x_i, args=(sigma_i,))\n"
     ]
    }
   ],
   "source": [
    "import pickle\n",
    "from copy import deepcopy\n",
    "\n",
    "# add DNNCascade data\n",
    "data = {}\n",
    "for k, k_dest in key_trafo.items():\n",
    "    data[k_dest] = df_sel[k].values\n",
    "\n",
    "mesc_data = {k_dest: [] for k, k_dest in key_trafo_mesc.items()}\n",
    "    \n",
    "# add MESC7yr data\n",
    "for run, event in zip(data['run'], data['event']):\n",
    "    idx = (run, event)\n",
    "    if idx in df_exp_mesc.index:\n",
    "        for k, k_dest in key_trafo_mesc.items():\n",
    "            mesc_data[k_dest].append(df_exp_mesc.loc[idx][k])\n",
    "    else:\n",
    "        print('Index not in MESC 7yr:', idx)\n",
    "        for k, k_dest in key_trafo_mesc.items():\n",
    "            if k_dest == 'run':\n",
    "                mesc_data[k_dest].append(run)\n",
    "            elif k_dest == 'event':\n",
    "                mesc_data[k_dest].append(event)\n",
    "            else:\n",
    "                mesc_data[k_dest].append(np.nan)\n",
    "                \n",
    "# sanity check     \n",
    "assert np.allclose(data['run'], mesc_data['run']), (data['run'], mesc_data['run'])\n",
    "assert np.allclose(data['event'], mesc_data['event']), (data['event'], mesc_data['event'])\n",
    "\n",
    "for k, k_dest in key_trafo_mesc.items():\n",
    "    if k_dest not in ['run', 'event']:\n",
    "        data[k_dest] = mesc_data[k_dest]\n",
    "\n",
    "# compute 50% and 90% contours\n",
    "for ang_err_key in ['egen_ang_esterr', 'mesc7yr_ang_esterr']:\n",
    "    print('Calculating contours for: {}'.format(ang_err_key))\n",
    "    data[ang_err_key + '_50percent'] = get_von_mises_50p_containment(data[ang_err_key])\n",
    "    data[ang_err_key + '_90percent'] = get_von_mises_90p_containment(data[ang_err_key])\n",
    "\n",
    "for k, vals in data.items():\n",
    "    data[k] = np.array(vals)\n",
    "\n",
    "with open(os.path.join(plot_dir, 'hese_cascades.pkl'), 'wb') as f:\n",
    "        pickle.dump(data, f, protocol=2)"
   ]
  },
  {
   "cell_type": "code",
   "execution_count": 169,
   "id": "collective-rendering",
   "metadata": {},
   "outputs": [
    {
     "name": "stdout",
     "output_type": "stream",
     "text": [
      "egen_zen\n",
      "egen_az\n",
      "egen_ang_esterr\n",
      "run\n",
      "event\n",
      "mesc7yr_zen\n",
      "mesc7yr_az\n",
      "mesc7yr_ang_esterr\n",
      "egen_ang_esterr_50percent\n",
      "egen_ang_esterr_90percent\n",
      "mesc7yr_ang_esterr_50percent\n",
      "mesc7yr_ang_esterr_90percent\n"
     ]
    }
   ],
   "source": [
    "for k in list(data.keys()):\n",
    "    print(k)\n"
   ]
  },
  {
   "cell_type": "markdown",
   "id": "civil-ballot",
   "metadata": {},
   "source": [
    "## Some Basic Plots"
   ]
  },
  {
   "cell_type": "code",
   "execution_count": 168,
   "id": "former-treat",
   "metadata": {},
   "outputs": [
    {
     "name": "stderr",
     "output_type": "stream",
     "text": [
      "/home/mhuennefeld/software/virtualenvs/tensorflow2.3_py3-v4.1.0_csky/lib/python3.7/site-packages/ipykernel_launcher.py:2: RuntimeWarning: invalid value encountered in sqrt\n",
      "  \n"
     ]
    },
    {
     "data": {
      "image/png": "[encoded data removed]",
      "text/plain": [
       "<Figure size 432x288 with 1 Axes>"
      ]
     },
     "metadata": {
      "needs_background": "light"
     },
     "output_type": "display_data"
    },
    {
     "data": {
      "image/png": "[encoded data removed]",
      "text/plain": [
       "<Figure size 432x288 with 1 Axes>"
      ]
     },
     "metadata": {
      "needs_background": "light"
     },
     "output_type": "display_data"
    }
   ],
   "source": [
    "residuals = data['mesc7yr_zen'] - data['egen_zen']\n",
    "sigma = np.sqrt(data['mesc7yr_ang_esterr']**2 - data['egen_ang_esterr']**2)\n",
    "\n",
    "bins = np.linspace(-60, 60, 30)\n",
    "fig, ax = plt.subplots(figsize=(6, 4))\n",
    "ax.hist(np.rad2deg(residuals), bins=bins)\n",
    "ax.set_xlabel(r'$\\theta_\\mathrm{MESC7yr} - \\theta_\\mathrm{DNNCascade}$  / °')\n",
    "ax.set_ylabel('Number of events')\n",
    "fig.tight_layout()\n",
    "fig.savefig(os.path.join(plot_dir, 'residuals_zenith.png'))\n",
    "\n",
    "bins = np.linspace(-5, 5, 15)\n",
    "fig, ax = plt.subplots(figsize=(6, 4))\n",
    "ax.hist(residuals/sigma, bins=bins)\n",
    "ax.set_xlabel(r'$\\theta_\\mathrm{MESC7yr} - \\theta_\\mathrm{DNNCascade}$ / $\\sqrt{\\sigma_\\mathrm{MESC7yr}^2 + \\sigma_\\mathrm{DNNCascade}^2}$')\n",
    "ax.set_ylabel('Number of events')\n",
    "fig.tight_layout()\n",
    "fig.savefig(os.path.join(plot_dir, 'residuals_zenith_relative.png'))"
   ]
  },
  {
   "cell_type": "code",
   "execution_count": 167,
   "id": "powerful-worse",
   "metadata": {},
   "outputs": [
    {
     "name": "stderr",
     "output_type": "stream",
     "text": [
      "/home/mhuennefeld/software/virtualenvs/tensorflow2.3_py3-v4.1.0_csky/lib/python3.7/site-packages/ipykernel_launcher.py:1: RuntimeWarning: invalid value encountered in sqrt\n",
      "  \"\"\"Entry point for launching an IPython kernel.\n"
     ]
    },
    {
     "data": {
      "image/png": "[encoded data removed]",
      "text/plain": [
       "<Figure size 432x288 with 1 Axes>"
      ]
     },
     "metadata": {
      "needs_background": "light"
     },
     "output_type": "display_data"
    },
    {
     "data": {
      "image/png": "[encoded data removed]",
      "text/plain": [
       "<Figure size 432x288 with 1 Axes>"
      ]
     },
     "metadata": {
      "needs_background": "light"
     },
     "output_type": "display_data"
    }
   ],
   "source": [
    "sigma = np.sqrt(data['mesc7yr_ang_esterr']**2 - data['egen_ang_esterr']**2)\n",
    "residuals = data['mesc7yr_az'] - data['egen_az']\n",
    "\n",
    "bins = np.linspace(-60, 60, 30)\n",
    "fig, ax = plt.subplots(figsize=(6, 4))\n",
    "ax.hist(np.rad2deg(residuals), bins=bins)\n",
    "ax.set_xlabel(r'$\\phi_\\mathrm{MESC7yr} - \\phi_\\mathrm{DNNCascade}$ / °')\n",
    "ax.set_ylabel('Number of events')\n",
    "fig.tight_layout()\n",
    "fig.savefig(os.path.join(plot_dir, 'residuals_azimuth.png'))\n",
    "\n",
    "bins = np.linspace(-5, 5, 15)\n",
    "fig, ax = plt.subplots(figsize=(6, 4))\n",
    "ax.hist(residuals/sigma, bins=bins)\n",
    "ax.set_xlabel(r'$\\phi_\\mathrm{MESC7yr} - \\phi_\\mathrm{DNNCascade}$ / $\\sqrt{\\sigma_\\mathrm{MESC7yr}^2 + \\sigma_\\mathrm{DNNCascade}^2}$')\n",
    "ax.set_ylabel('Number of events')\n",
    "fig.tight_layout()\n",
    "fig.savefig(os.path.join(plot_dir, 'residuals_azimuth_relative.png'))\n"
   ]
  },
  {
   "cell_type": "code",
   "execution_count": 166,
   "id": "traditional-kenya",
   "metadata": {},
   "outputs": [
    {
     "name": "stderr",
     "output_type": "stream",
     "text": [
      "/home/mhuennefeld/software/virtualenvs/tensorflow2.3_py3-v4.1.0_csky/lib/python3.7/site-packages/ipykernel_launcher.py:3: RuntimeWarning: invalid value encountered in sqrt\n",
      "  This is separate from the ipykernel package so we can avoid doing imports until\n"
     ]
    },
    {
     "data": {
      "image/png": "[encoded data removed]",
      "text/plain": [
       "<Figure size 432x288 with 1 Axes>"
      ]
     },
     "metadata": {
      "needs_background": "light"
     },
     "output_type": "display_data"
    },
    {
     "data": {
      "image/png": "[encoded data removed]",
      "text/plain": [
       "<Figure size 432x288 with 1 Axes>"
      ]
     },
     "metadata": {
      "needs_background": "light"
     },
     "output_type": "display_data"
    }
   ],
   "source": [
    "from dnn_cascade_selection.utils.notebook import coordinates as coord\n",
    "\n",
    "sigma = np.sqrt(data['mesc7yr_ang_esterr']**2 - data['egen_ang_esterr']**2)\n",
    "opening_angle = coord.get_angle_deviation(\n",
    "    azimuth1=data['mesc7yr_az'],\n",
    "    zenith1=data['mesc7yr_zen'],\n",
    "    azimuth2=data['egen_az'],\n",
    "    zenith2=data['egen_zen'],\n",
    ")\n",
    "\n",
    "\n",
    "bins = np.linspace(0, 60, 30)\n",
    "fig, ax = plt.subplots(figsize=(6, 4))\n",
    "ax.hist(np.rad2deg(opening_angle), bins=bins)\n",
    "ax.set_xlabel(r'$\\Psi(\\mathrm{MESC7yr, DNNCascade})$ / °')\n",
    "ax.set_ylabel('Number of events')\n",
    "ax.set_title('Opening Angle')\n",
    "fig.tight_layout()\n",
    "fig.savefig(os.path.join(plot_dir, 'residuals_angle.png'))\n",
    "\n",
    "bins = np.linspace(0, 5, 10)\n",
    "fig, ax = plt.subplots(figsize=(6, 4))\n",
    "ax.hist(opening_angle/sigma, bins=bins)\n",
    "ax.set_xlabel(r'$\\Psi(\\mathrm{MESC7yr, DNNCascade})$ / $\\sqrt{\\sigma_\\mathrm{MESC7yr}^2 + \\sigma_\\mathrm{DNNCascade}^2}$')\n",
    "ax.set_ylabel('Number of events')\n",
    "ax.set_title('Opening Angle')\n",
    "fig.tight_layout()\n",
    "fig.savefig(os.path.join(plot_dir, 'residuals_angle_relative.png'))"
   ]
  },
  {
   "cell_type": "code",
   "execution_count": null,
   "id": "interracial-snake",
   "metadata": {},
   "outputs": [],
   "source": []
  }
 ],
 "metadata": {
  "kernelspec": {
   "display_name": "tensorflow2.3_py3-v4.1.0_csky",
   "language": "python",
   "name": "tensorflow2.3_py3-v4.1.0_csky"
  },
  "language_info": {
   "codemirror_mode": {
    "name": "ipython",
    "version": 3
   },
   "file_extension": ".py",
   "mimetype": "text/x-python",
   "name": "python",
   "nbconvert_exporter": "python",
   "pygments_lexer": "ipython3",
   "version": "3.7.5"
  }
 },
 "nbformat": 4,
 "nbformat_minor": 5
}
