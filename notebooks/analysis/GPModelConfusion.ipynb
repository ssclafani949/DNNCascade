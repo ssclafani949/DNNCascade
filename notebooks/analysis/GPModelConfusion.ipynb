{
 "cells": [
  {
   "cell_type": "code",
   "execution_count": null,
   "id": "hispanic-projection",
   "metadata": {},
   "outputs": [],
   "source": [
    "%matplotlib inline\n",
    "%load_ext autoreload\n",
    "%autoreload 2\n",
    "\n",
    "#PDFs in BDT and sindec?\n",
    "import os\n",
    "\n",
    "# set env flags to catch BLAS used for scipy/numpy \n",
    "# to only use 1 cpu, n_cpus will be totally controlled by csky\n",
    "if False:\n",
    "    os.environ['MKL_NUM_THREADS'] = \"1\"\n",
    "    os.environ['NUMEXPR_NUM_THREADS'] = \"1\"\n",
    "    os.environ['OMP_NUM_THREADS'] = \"1\"\n",
    "    os.environ['OPENBLAS_NUM_THREADS'] = \"1\"\n",
    "    os.environ['VECLIB_MAXIMUM_THREADS'] = \"1\"\n",
    "\n",
    "import matplotlib as mpl\n",
    "mpl.rcParams['figure.facecolor'] = 'w'\n",
    "mpl.rcParams['savefig.facecolor'] = 'w'\n",
    "import matplotlib.pyplot as plt\n",
    "from matplotlib import colors, cm\n",
    "import csky as cy\n",
    "from csky import cext\n",
    "import numpy as np\n",
    "import astropy\n",
    "#from icecube import astro\n",
    "import histlite as hl\n",
    "import healpy\n",
    "import socket\n",
    "import pickle\n",
    "import copy\n",
    "healpy.disable_warnings()\n",
    "plt.rc('figure', facecolor = 'w')\n",
    "plt.rc('figure', dpi=100)"
   ]
  },
  {
   "cell_type": "markdown",
   "id": "promising-investigator",
   "metadata": {},
   "source": [
    "## Define Settings"
   ]
  },
  {
   "cell_type": "code",
   "execution_count": null,
   "id": "acquired-milwaukee",
   "metadata": {},
   "outputs": [],
   "source": [
    "# Note: this notebook has not been re-run with this patch version yet.\n",
    "# That means that the current plots are still based on version-001-p00\n",
    "selection_version = 'version-001-p01' \n",
    "\n",
    "host_name = socket.gethostname()\n",
    "\n",
    "if 'cobalt' in host_name:\n",
    "    print('Working on Cobalts')\n",
    "    data_prefix = '/data/user/ssclafani/data/cscd/final'\n",
    "    ana_dir = '/data/user/ssclafani/data/analyses/'\n",
    "    plot_dir = '/home/mhuennefeld/public_html/analyses/DNNCascade/plots/review/gp_model_confusion'\n",
    "    \n",
    "elif 'phobos' in host_name:\n",
    "    print('Working on Phobos')\n",
    "    data_prefix = '/net/big-tank/POOL/users/mhuennefeld/analyses/DNNCascade/data/cscd/final'\n",
    "    ana_dir = '/net/big-tank/POOL/users/mhuennefeld/analyses/DNNCascade/csky/analyses/'\n",
    "    plot_dir = '/home/mhuennefeld/analyses/DNNCascade/plots/review/gp_model_confusion'\n",
    "    \n",
    "else:\n",
    "    raise ValueError('Unknown host:', host_name)"
   ]
  },
  {
   "cell_type": "code",
   "execution_count": null,
   "id": "endless-alabama",
   "metadata": {},
   "outputs": [],
   "source": [
    "for dir_path in [plot_dir]:\n",
    "    if not os.path.exists(dir_path):\n",
    "        print('Creating directory:', dir_path)\n",
    "        os.makedirs(dir_path)"
   ]
  },
  {
   "cell_type": "markdown",
   "id": "regulated-burns",
   "metadata": {},
   "source": [
    "## Load Data"
   ]
  },
  {
   "cell_type": "code",
   "execution_count": null,
   "id": "impressed-change",
   "metadata": {},
   "outputs": [],
   "source": [
    "repo = cy.selections.Repository()\n",
    "specs = cy.selections.DNNCascadeDataSpecs.DNNC_10yr"
   ]
  },
  {
   "cell_type": "code",
   "execution_count": null,
   "id": "sporting-container",
   "metadata": {},
   "outputs": [],
   "source": [
    "%%time\n",
    "\n",
    "ana = cy.get_analysis(\n",
    "    repo, selection_version, specs, \n",
    "    #gammas=np.r_[0.1:6.01:0.125],\n",
    ")"
   ]
  },
  {
   "cell_type": "code",
   "execution_count": null,
   "id": "imported-finnish",
   "metadata": {},
   "outputs": [],
   "source": [
    "a = ana.anas[0]\n",
    "a.sig"
   ]
  },
  {
   "cell_type": "code",
   "execution_count": null,
   "id": "seven-canal",
   "metadata": {},
   "outputs": [],
   "source": [
    "a.bg_data"
   ]
  },
  {
   "cell_type": "markdown",
   "id": "conceptual-general",
   "metadata": {},
   "source": [
    "## Helpers"
   ]
  },
  {
   "cell_type": "code",
   "execution_count": null,
   "id": "published-butterfly",
   "metadata": {},
   "outputs": [],
   "source": [
    "from cycler import cycle\n",
    "from copy import deepcopy\n",
    "\n",
    "soft_colors = cy.plotting.soft_colors\n",
    "colors = plt.rcParams['axes.prop_cycle'].by_key()['color']\n",
    "\n",
    "\n",
    "def get_bias_allt(tr, ntrials=200, n_sigs=np.r_[:101:10], quiet=False):\n",
    "    trials = [\n",
    "        (None if quiet else print(f'\\r{n_sig:4d} ...', end='', flush=True))\n",
    "        or\n",
    "        tr.get_many_fits(ntrials, n_sig=n_sig, logging=False, seed=n_sig)\n",
    "        for n_sig in n_sigs]\n",
    "    if not quiet:\n",
    "        print()\n",
    "    for (n_sig, t) in zip(n_sigs, trials):\n",
    "        t['ntrue'] = np.repeat(n_sig, len(t))\n",
    "    allt = cy.utils.Arrays.concatenate(trials)\n",
    "    return allt\n",
    "\n",
    "def get_color_cycler():\n",
    "    return cycle(colors)\n",
    "\n",
    "def plot_ns_bias(ax, tr, allt, label=''):\n",
    "\n",
    "    n_sigs = np.unique(allt.ntrue)\n",
    "    dns = np.mean(np.diff(n_sigs))\n",
    "    ns_bins = np.r_[n_sigs - 0.5*dns, n_sigs[-1] + 0.5*dns]\n",
    "    expect_kw = dict(color='C0', ls='--', lw=1, zorder=-10)\n",
    "\n",
    "    h = hl.hist((allt.ntrue, allt.ns), bins=(ns_bins, 100))\n",
    "    hl.plot1d(ax, h.contain_project(1),errorbands=True, \n",
    "              drawstyle='default', label=label)\n",
    "    lim = ns_bins[[0, -1]]\n",
    "    ax.set_xlim(ax.set_ylim(lim))\n",
    "    ax.plot(lim, lim, **expect_kw)\n",
    "    ax.set_aspect('equal')\n",
    "\n",
    "    ax.set_xlabel(r'$n_{inj}$')\n",
    "    ax.set_ylabel(r'$n_s$')\n",
    "    ax.grid()\n",
    "\n",
    "def plot_gamma_bias(ax, tr, allt, label=''):\n",
    "\n",
    "    n_sigs = np.unique(allt.ntrue)\n",
    "    dns = np.mean(np.diff(n_sigs))\n",
    "    ns_bins = np.r_[n_sigs - 0.5*dns, n_sigs[-1] + 0.5*dns]\n",
    "    expect_kw = dict(color='C0', ls='--', lw=1, zorder=-10)\n",
    "    expect_gamma = tr.sig_injs[0].flux[0].gamma\n",
    "\n",
    "    h = hl.hist((allt.ntrue, allt.gamma), bins=(ns_bins, 100))\n",
    "    hl.plot1d(ax, h.contain_project(1),errorbands=True, \n",
    "              drawstyle='default', label=label)\n",
    "    lim = ns_bins[[0, -1]]\n",
    "    ax.set_xlim(lim)\n",
    "    ax.set_ylim(1, 4)\n",
    "    ax.axhline(expect_gamma, **expect_kw)\n",
    "\n",
    "    ax.set_xlabel(r'$n_{inj}$')\n",
    "    ax.set_ylabel(r'$\\gamma$')\n",
    "    ax.grid()\n",
    "\n",
    "def plot_bkg_trials(\n",
    "            bg, fig=None, ax=None, \n",
    "            label='{} bg trials', \n",
    "            label_fit=r'$\\chi^2[{:.2f}\\mathrm{{dof}},\\ \\eta={:.3f}]$', \n",
    "            color=colors[0],\n",
    "            density=False,\n",
    "            bins=50,\n",
    "        ):\n",
    "    if ax is None:\n",
    "        fig, ax = plt.subplots(figsize=(6, 4))\n",
    "    \n",
    "    if density:\n",
    "        h = bg.get_hist(bins=bins).normalize()\n",
    "    else:\n",
    "        h = bg.get_hist(bins=bins)\n",
    "    if label is not None:\n",
    "        label = label.format(bg.n_total)\n",
    "    hl.plot1d(ax, h, crosses=True, color=color, label=label)\n",
    "\n",
    "    # compare with the chi2 fit:\n",
    "    if hasattr(bg, 'pdf'):\n",
    "        x = h.centers[0]\n",
    "        norm = h.integrate().values\n",
    "        if label_fit is not None:\n",
    "            label_fit = label_fit.format(bg.ndof, bg.eta)\n",
    "        if density:\n",
    "            ax.semilogy(x, bg.pdf(x), lw=1, ls='--', label=label_fit, color=color)\n",
    "        else:\n",
    "            ax.semilogy(x, norm * bg.pdf(x), lw=1, ls='--', label=label_fit, color=color)\n",
    "\n",
    "    ax.set_xlabel(r'TS')\n",
    "    if density:\n",
    "        ax.set_ylabel(r'Density')\n",
    "    else:\n",
    "        ax.set_ylabel(r'number of trials')\n",
    "    ax.legend()\n",
    "        \n",
    "    return fig, ax"
   ]
  },
  {
   "cell_type": "markdown",
   "id": "respective-laugh",
   "metadata": {},
   "source": [
    "## Create new templates"
   ]
  },
  {
   "cell_type": "markdown",
   "id": "grave-vacuum",
   "metadata": {},
   "source": [
    "#### Disc Template"
   ]
  },
  {
   "cell_type": "code",
   "execution_count": null,
   "id": "sized-customer",
   "metadata": {},
   "outputs": [],
   "source": [
    "import healpy as hp\n",
    "\n",
    "nside = 128\n",
    "width_deg = 1\n",
    "smearing_deg = 5\n",
    "template_disc_gal = np.zeros(hp.nside2npix(nside))\n",
    "pix_disc = hp.query_strip(nside=nside, theta1=np.pi/2.-np.deg2rad(width_deg), theta2=np.pi/2. + np.deg2rad(width_deg))\n",
    "template_disc_gal[pix_disc] = 1.\n",
    "\n",
    "# smear with Gaussian\n",
    "template_disc_gal = hp.smoothing(template_disc_gal, sigma=np.deg2rad(smearing_deg))\n",
    "\n",
    "# transform from galactic to equatorial coordinates\n",
    "r = hp.Rotator(coord='GC')  # Transforms galactic to equatorial coordinates\n",
    "theta_gal, phi_gal = hp.pix2ang(nside, np.arange(hp.nside2npix(nside))) #theta, phi\n",
    "phi_gal = 1.754*np.pi - phi_gal # no clue why this makes it align....\n",
    "theta_ecl, phi_ecl = r(theta_gal, phi_gal)  # Apply the conversion\n",
    "print('phi_ecl', phi_ecl)\n",
    "print(np.max(phi_ecl), np.min(phi_ecl))\n",
    "\n",
    "template_disc = healpy.get_interp_val(template_disc_gal, theta_ecl, phi_ecl)\n",
    "\n",
    "#skyplot = cy.plotting.SkyPlot(m=np.log10(template_disc), title='Template: GalacticPlane', unit=r'$\\log_{10}(PDF)$')\n",
    "skyplot = cy.plotting.SkyPlot(m=template_disc, title='Template: GalacticPlane', unit=r'PDF')\n",
    "skyplot.show_gp()\n",
    "skyplot.show_gc()\n",
    "skyplot.fig.tight_layout()\n",
    "skyplot.fig.savefig('{}/skymap_template_gp.png'.format(plot_dir))"
   ]
  },
  {
   "cell_type": "markdown",
   "id": "bibliographic-valentine",
   "metadata": {},
   "source": [
    "#### GC template"
   ]
  },
  {
   "cell_type": "code",
   "execution_count": null,
   "id": "hybrid-opinion",
   "metadata": {},
   "outputs": [],
   "source": [
    "import healpy as hp\n",
    "\n",
    "nside = 128\n",
    "smearing_deg = 5\n",
    "\n",
    "r = hp.Rotator(coord='GC')  # Transforms galactic to equatorial coordinates\n",
    "theta, phi = r(np.pi/2., 0.)  # Apply the conversion\n",
    "template_gc = np.zeros(hp.nside2npix(nside))\n",
    "template_gc[hp.ang2pix(nside=nside, theta=theta, phi=phi)] = 1.\n",
    "\n",
    "# smear with Gaussian\n",
    "template_gc = hp.smoothing(template_gc, sigma=np.deg2rad(smearing_deg))\n",
    "floor = 1e-7\n",
    "template_gc[template_gc < floor] = floor\n",
    "\n",
    "#skyplot = cy.plotting.SkyPlot(m=np.log10(template_gc), title='Template: GalacticCenter', unit=r'$\\log_{10}(PDF)$')\n",
    "skyplot = cy.plotting.SkyPlot(m=template_gc, title='Template: GalacticCenter', unit=r'PDF')\n",
    "skyplot.show_gp()\n",
    "skyplot.show_gc()\n",
    "skyplot.fig.tight_layout()\n",
    "skyplot.fig.savefig('{}/skymap_template_gc.png'.format(plot_dir))\n"
   ]
  },
  {
   "cell_type": "code",
   "execution_count": null,
   "id": "residential-crown",
   "metadata": {},
   "outputs": [],
   "source": [
    "template_pi0 = cg.template_repo.get_template('Fermi-LAT_pi0_map')\n",
    "\n",
    "skyplot = cy.plotting.SkyPlot(m=np.log10(template_pi0))\n",
    "#skyplot = cy.plotting.SkyPlot(m=template_pi0)\n",
    "skyplot.show_gp()\n",
    "skyplot.show_gc()"
   ]
  },
  {
   "cell_type": "markdown",
   "id": "encouraging-demonstration",
   "metadata": {},
   "source": [
    "## Setup Analysis"
   ]
  },
  {
   "cell_type": "code",
   "execution_count": null,
   "id": "voluntary-opportunity",
   "metadata": {},
   "outputs": [],
   "source": [
    "import sys\n",
    "sys.path.insert(0, '../..')\n",
    "\n",
    "import config as cg\n",
    "\n",
    "cg.base_dir = '/data/user/mhuennefeld/data/analyses/baseline_analysis__v-1.0.0-rc1/'"
   ]
  },
  {
   "cell_type": "code",
   "execution_count": null,
   "id": "incorrect-slovakia",
   "metadata": {},
   "outputs": [],
   "source": [
    "def get_gp_tr(template_str, cutoff=np.inf, gamma=None, cpus=20):\n",
    "    cutoff_GeV = cutoff * 1e3\n",
    "    gp_conf = cg.get_gp_conf(\n",
    "        template_str=template_str, gamma=gamma, cutoff_GeV=cutoff_GeV, base_dir=cg.base_dir)\n",
    "    tr = cy.get_trial_runner(gp_conf, ana=ana, mp_cpus=cpus)\n",
    "    return tr\n",
    "\n",
    "def get_template_tr(template, gamma=2.7, cutoff_tev=np.inf, cpus=20):\n",
    "    cutoff_gev = cutoff_tev * 1000.\n",
    "    gp_conf = {\n",
    "        'template': template,\n",
    "        'flux': cy.hyp.PowerLawFlux(gamma, energy_cutoff=cutoff_gev),\n",
    "        'randomize': ['ra'],\n",
    "        'fitter_args': dict(gamma=gamma),\n",
    "        'sigsub': True,\n",
    "        'update_bg': True,\n",
    "        'fast_weight': False,\n",
    "    }\n",
    "    tr = cy.get_trial_runner(gp_conf, ana=ana, mp_cpus=cpus)\n",
    "    return tr\n"
   ]
  },
  {
   "cell_type": "markdown",
   "id": "little-radio",
   "metadata": {},
   "source": [
    "#### Get trial runners"
   ]
  },
  {
   "cell_type": "code",
   "execution_count": null,
   "id": "reasonable-southwest",
   "metadata": {},
   "outputs": [],
   "source": [
    "tr_dict = {\n",
    "    'pi0': get_gp_tr('pi0'),\n",
    "    'kra5': get_gp_tr('kra5'),\n",
    "    'kra50': get_gp_tr('kra50'),\n",
    "    'GalacticCenter': get_template_tr(template_gc),\n",
    "    'GalacticPlane': get_template_tr(template_disc),\n",
    "    'pi0_gamma2': get_template_tr(template_pi0, gamma=2.),\n",
    "    'pi0_gamma3_10TeV': get_template_tr(template_pi0, gamma=3., cutoff_tev=10),\n",
    "}"
   ]
  },
  {
   "cell_type": "markdown",
   "id": "detected-packet",
   "metadata": {},
   "source": [
    "#### Get bkg fits for each template"
   ]
  },
  {
   "cell_type": "code",
   "execution_count": null,
   "id": "large-image",
   "metadata": {},
   "outputs": [],
   "source": [
    "bkg_file_dict = {\n",
    "    'pi0': '{}/gp/trials/{}/{}/trials.dict'.format(cg.base_dir, 'DNNC', 'pi0'),\n",
    "    'kra5': '{}/gp/trials/{}/{}/trials.dict'.format(cg.base_dir, 'DNNC', 'kra5'),\n",
    "    'kra50': '{}/gp/trials/{}/{}/trials.dict'.format(cg.base_dir, 'DNNC', 'kra50'),\n",
    "}\n",
    "n_bkg_trials = 20000\n",
    "seed = 1337\n",
    "\n",
    "bkg_dict = {}\n",
    "for key, tr in tr_dict.items():\n",
    "    if key in bkg_file_dict:\n",
    "        print('Loading background trials for template {}'.format(key))\n",
    "        sig = np.load(bkg_file_dict[key], allow_pickle=True)\n",
    "        bkg_dict[key] = cy.dists.TSD(sig['poisson']['nsig'][0.0]['ts'])\n",
    "    \n",
    "    else:\n",
    "        print('Running background trials for template {}'.format(key))\n",
    "        bkg_dict[key] = cy.dists.Chi2TSD(tr.get_many_fits(\n",
    "            n_trials=n_bkg_trials, seed=seed, mp_cpus=20))\n",
    "        "
   ]
  },
  {
   "cell_type": "code",
   "execution_count": null,
   "id": "antique-specialist",
   "metadata": {},
   "outputs": [],
   "source": [
    "for key, bg in bkg_dict.items():\n",
    "    fig, ax = plot_bkg_trials(bg)\n",
    "    ax.set_title('Template: {}'.format(key))\n",
    "    ax.set_yscale('log')\n",
    "    "
   ]
  },
  {
   "cell_type": "markdown",
   "id": "existing-shield",
   "metadata": {},
   "source": [
    "#### Define n-sigma ns for each template"
   ]
  },
  {
   "cell_type": "code",
   "execution_count": null,
   "id": "comprehensive-output",
   "metadata": {},
   "outputs": [],
   "source": [
    "nsigma = 5\n",
    "\n",
    "if nsigma == 5:\n",
    "    ns_dict = {\n",
    "        'pi0': 752, #540,\n",
    "        'kra5': 281, #230,\n",
    "        'kra50': 233, #278,\n",
    "    }\n",
    "    \n",
    "elif nsigma == 4:\n",
    "    ns_dict = {\n",
    "        'pi0': 590,\n",
    "        'kra5': 222,\n",
    "        'kra50': 184,\n",
    "    }\n",
    "    \n",
    "elif nsigma == 3:\n",
    "    ns_dict = {\n",
    "        'pi0': 433,\n",
    "        'kra5': 161,\n",
    "        'kra50': 133,\n",
    "    }\n",
    "else:\n",
    "    raise ValueError(nsigma)\n",
    "\n",
    "print('Using nsigma = ', nsigma)"
   ]
  },
  {
   "cell_type": "markdown",
   "id": "detailed-robert",
   "metadata": {},
   "source": [
    "#### Compute nsigma for new templates"
   ]
  },
  {
   "cell_type": "code",
   "execution_count": null,
   "id": "aquatic-metadata",
   "metadata": {},
   "outputs": [],
   "source": [
    "for key, tr in tr_dict.items():\n",
    "    if key not in ns_dict:\n",
    "        print('Computing ns for {} sigma for template {}'.format(nsigma, key))\n",
    "        \n",
    "        template_sens = tr.find_n_sig(\n",
    "            bkg_dict[key].isf_nsigma(nsigma),\n",
    "            0.5, #percent above threshold (0.5 for dp)\n",
    "            n_sig_step=50,\n",
    "            batch_size = 1000, \n",
    "            tol = 0.02,\n",
    "        )\n",
    "        ns_dict[key] = template_sens['n_sig']\n",
    "        "
   ]
  },
  {
   "cell_type": "code",
   "execution_count": null,
   "id": "comic-rating",
   "metadata": {},
   "outputs": [],
   "source": [
    "ns_dict"
   ]
  },
  {
   "cell_type": "markdown",
   "id": "bored-effect",
   "metadata": {},
   "source": [
    "#### Get trials for each template"
   ]
  },
  {
   "cell_type": "code",
   "execution_count": null,
   "id": "italic-bottom",
   "metadata": {},
   "outputs": [],
   "source": [
    "from tqdm.notebook import tqdm_notebook as tqdm\n",
    "\n",
    "n_trials = 100\n",
    "seed = 42\n",
    "trials_dict = {}\n",
    "\n",
    "for key, tr in tr_dict.items():\n",
    "    \n",
    "    n_sig = ns_dict[key]\n",
    "    trials = []\n",
    "    \n",
    "    print('Injecting {} signal events for template {}'.format(n_sig, key))\n",
    "    for i in tqdm(range(n_trials), total=n_trials):\n",
    "        trials.append(tr.get_one_trial(n_sig=n_sig, poisson=True, seed=seed + i))\n",
    "    \n",
    "    trials_dict[key] = trials\n",
    "    "
   ]
  },
  {
   "cell_type": "markdown",
   "id": "distinct-compression",
   "metadata": {},
   "source": [
    "#### Get fits for each template combination"
   ]
  },
  {
   "cell_type": "code",
   "execution_count": null,
   "id": "coordinate-genre",
   "metadata": {
    "scrolled": true
   },
   "outputs": [],
   "source": [
    "ts_dict = {}\n",
    "for key_inj, tr_inj in tr_dict.items():\n",
    "    \n",
    "    for key, tr in tr_dict.items():\n",
    "        print('Computing TS values for injection {} and testing with {}'.format(key_inj, key))\n",
    "\n",
    "        ts_values = []\n",
    "        n_values = len(trials_dict[key_inj])\n",
    "        for trial in tqdm(trials_dict[key_inj], total=n_values):\n",
    "            ts_values.append(tr.get_one_fit_from_trial(trial)) \n",
    "        \n",
    "        ts_values = np.array(ts_values)\n",
    "        ts_dict[(key_inj, key)] = cy.utils.Arrays({\n",
    "          'ts': ts_values[:, 0],  \n",
    "          'ns': ts_values[:, 1],  \n",
    "        })\n",
    "\n",
    "\n"
   ]
  },
  {
   "cell_type": "markdown",
   "id": "generic-front",
   "metadata": {},
   "source": [
    "#### Compute significance"
   ]
  },
  {
   "cell_type": "code",
   "execution_count": null,
   "id": "broke-future",
   "metadata": {},
   "outputs": [],
   "source": [
    "p_val_dict = {}\n",
    "sigma_dict = {}\n",
    "for key, ts_values in ts_dict.items():\n",
    "    bg = bkg_dict[key[1]]\n",
    "    max_bg_ts = np.max(bg.values)\n",
    "    mask_above = ts_values.ts > max_bg_ts\n",
    "    ts = np.array(ts_values.ts)\n",
    "    if np.sum(mask_above) > 0:\n",
    "        print('Setting {} ts values to max bkg ts value of {}.'.format(\n",
    "            np.sum(mask_above), max_bg_ts))\n",
    "        ts[mask_above] = max_bg_ts\n",
    "    p_val_dict[key] = bg.sf(ts)\n",
    "    sigma_dict[key] = bg.sf_nsigma(ts)\n"
   ]
  },
  {
   "cell_type": "markdown",
   "id": "editorial-russell",
   "metadata": {},
   "source": [
    "#### Plot Distributions"
   ]
  },
  {
   "cell_type": "code",
   "execution_count": null,
   "id": "heard-contrary",
   "metadata": {},
   "outputs": [],
   "source": [
    "from itertools import cycle\n",
    "\n",
    "def plot_model_confusion(template_keys, testing_keys=None, bins=np.linspace(0, 6, 20)):\n",
    "    n_keys = len(template_keys)\n",
    "    \n",
    "    if testing_keys is None:\n",
    "        testing_keys = template_keys\n",
    "        \n",
    "    fig, axes = plt.subplots(n_keys, 1, figsize=(9, 3*n_keys), sharex=True)\n",
    "    \n",
    "    if n_keys <= 5:\n",
    "        color_cycle = cycle(soft_colors)\n",
    "    else:\n",
    "        color_cycle = cycle(plt.rcParams['axes.prop_cycle'].by_key()['color'])\n",
    "\n",
    "    for i, key_inj in enumerate(template_keys):\n",
    "\n",
    "        ax = axes[i]\n",
    "        ax.set_title('Injection template: {}'.format(key_inj))\n",
    "\n",
    "        for j, key in enumerate(testing_keys):\n",
    "            sigmas = sigma_dict[(key_inj, key)]\n",
    "            if not np.isfinite(sigmas).all():\n",
    "                raise ValueError(sigmas)\n",
    "            color = next(color_cycle)\n",
    "            ax.hist(\n",
    "                sigmas, bins=bins, \n",
    "                histtype='step',\n",
    "                color=color,\n",
    "                label=r'Testing: {}'.format(key) + ' [$\\sigma_{50\\%}$ = ' + '{:3.2f}]'.format(np.median(sigmas)),\n",
    "            )\n",
    "            ax.axvline(np.median(sigmas), color=color, ls='--')\n",
    "\n",
    "        ax.plot(np.inf, np.inf, color='0.7', ls='--', label='Median $\\sigma$')\n",
    "        ax.legend(loc='upper left')\n",
    "        ax.set_ylabel('Frequency')\n",
    "\n",
    "    axes[-1].set_xlabel('Significance in $\\sigma$')\n",
    "\n",
    "    fig.tight_layout()\n",
    "    return fig\n",
    "\n",
    "if False:\n",
    "    fig = plot_model_confusion(template_keys=['pi0', 'kra5', 'kra50'])\n",
    "    fig.savefig('{}/model_confusion_nsigma_{:3.2f}.png'.format(plot_dir, nsigma))\n",
    "\n",
    "fig = plot_model_confusion(template_keys=list(tr_dict.keys()))\n",
    "fig.savefig('{}/model_confusion_nsigma_{:3.2f}_all.png'.format(plot_dir, nsigma))\n",
    "\n",
    "fig = plot_model_confusion(\n",
    "    template_keys=['GalacticCenter', 'GalacticPlane', 'pi0_gamma2', 'pi0_gamma3_10TeV'], \n",
    "    testing_keys=['pi0', 'kra5', 'kra50'],\n",
    ")\n",
    "fig.savefig('{}/model_confusion_nsigma_{:3.2f}_sys.png'.format(plot_dir, nsigma))\n",
    "\n"
   ]
  },
  {
   "cell_type": "markdown",
   "id": "stunning-adult",
   "metadata": {},
   "source": [
    "#### Scatter Plot between KRA-gamma 5 PeV and Pi0"
   ]
  },
  {
   "cell_type": "code",
   "execution_count": null,
   "id": "instant-jersey",
   "metadata": {},
   "outputs": [],
   "source": [
    "\n",
    "for m1, m2 in [['pi0', 'kra5'], ['pi0', 'kra50'], ['kra5', 'kra50']]:\n",
    "    \n",
    "    fig, axes = plt.subplots(2, 1, figsize=(6, 8), sharex=True)\n",
    "    bins = (np.linspace(1., 6., 15), np.linspace(1., 6., 15))\n",
    "\n",
    "    # injection of pi0\n",
    "    axes[0].hist2d(sigma_dict[(m1, m1)], sigma_dict[(m1, m2)], bins=bins, cmin=1)\n",
    "    axes[0].set_title('Injection template: {}'.format(m1))\n",
    "\n",
    "    axes[1].hist2d(sigma_dict[(m2, m1)], sigma_dict[(m2, m2)], bins=bins, cmin=1)\n",
    "    axes[1].set_title('Injection template: {}'.format(m2))\n",
    "\n",
    "    axes[0].set_ylabel('$n\\cdot \\sigma$ tested with {}'.format(m2))\n",
    "    axes[1].set_ylabel('$n\\cdot \\sigma$ tested with {}'.format(m2))\n",
    "    axes[-1].set_xlabel('$n\\cdot \\sigma$ tested with {}'.format(m1))\n",
    "\n",
    "    for ax in axes:\n",
    "        ax.plot((bins[0][0], bins[0][-1]), (bins[0][0], bins[0][-1]), ls='--', color='0.8', lw=2)\n",
    "\n",
    "    fig.tight_layout()\n",
    "    fig.savefig('{}/model_confusion_correlation_{}_{}_nsigma_{:3.2f}.png'.format(plot_dir, m1, m2, nsigma))\n",
    "    \n",
    "    "
   ]
  },
  {
   "cell_type": "code",
   "execution_count": null,
   "id": "victorian-right",
   "metadata": {},
   "outputs": [],
   "source": []
  }
 ],
 "metadata": {
  "kernelspec": {
   "display_name": "tensorflow2.3_py3-v4.1.0_csky",
   "language": "python",
   "name": "tensorflow2.3_py3-v4.1.0_csky"
  },
  "language_info": {
   "codemirror_mode": {
    "name": "ipython",
    "version": 3
   },
   "file_extension": ".py",
   "mimetype": "text/x-python",
   "name": "python",
   "nbconvert_exporter": "python",
   "pygments_lexer": "ipython3",
   "version": "3.7.5"
  }
 },
 "nbformat": 4,
 "nbformat_minor": 5
}
