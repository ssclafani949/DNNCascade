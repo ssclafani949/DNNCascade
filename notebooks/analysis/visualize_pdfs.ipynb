{
 "cells": [
  {
   "cell_type": "code",
   "execution_count": null,
   "id": "hispanic-projection",
   "metadata": {},
   "outputs": [],
   "source": [
    "%matplotlib inline\n",
    "%load_ext autoreload\n",
    "%autoreload 2\n",
    "\n",
    "#PDFs in BDT and sindec?\n",
    "import os\n",
    "\n",
    "# set env flags to catch BLAS used for scipy/numpy \n",
    "# to only use 1 cpu, n_cpus will be totally controlled by csky\n",
    "os.environ['MKL_NUM_THREADS'] = \"1\"\n",
    "os.environ['NUMEXPR_NUM_THREADS'] = \"1\"\n",
    "os.environ['OMP_NUM_THREADS'] = \"1\"\n",
    "os.environ['OPENBLAS_NUM_THREADS'] = \"1\"\n",
    "os.environ['VECLIB_MAXIMUM_THREADS'] = \"1\"\n",
    "\n",
    "import matplotlib as mpl\n",
    "mpl.rcParams['figure.facecolor'] = 'w'\n",
    "mpl.rcParams['savefig.facecolor'] = 'w'\n",
    "import matplotlib.pyplot as plt\n",
    "from matplotlib import colors, cm\n",
    "import csky as cy\n",
    "from csky import cext\n",
    "import numpy as np\n",
    "import astropy\n",
    "#from icecube import astro\n",
    "import histlite as hl\n",
    "import healpy\n",
    "import pickle\n",
    "import socket\n",
    "healpy.disable_warnings()\n",
    "plt.rc('figure', facecolor = 'w')\n",
    "plt.rc('figure', dpi=100)"
   ]
  },
  {
   "cell_type": "markdown",
   "id": "promising-investigator",
   "metadata": {},
   "source": [
    "## Define Settings"
   ]
  },
  {
   "cell_type": "code",
   "execution_count": null,
   "id": "acquired-milwaukee",
   "metadata": {},
   "outputs": [],
   "source": [
    "selection_version = 'version-001-p01'\n",
    "\n",
    "host_name = socket.gethostname()\n",
    "\n",
    "if 'cobalt' in host_name:\n",
    "    print('Working on Cobalts')\n",
    "    data_prefix = '/data/user/ssclafani/data/cscd/final'\n",
    "    ana_dir = '/data/user/ssclafani/data/analyses/'\n",
    "    plot_dir = '/home/mhuennefeld/public_html/analyses/DNNCascade/plots/review/visualize_pdfs'\n",
    "    \n",
    "elif 'phobos' in host_name:\n",
    "    print('Working on Phobos')\n",
    "    data_prefix = '/net/big-tank/POOL/users/mhuennefeld/analyses/DNNCascade/data/cscd/final'\n",
    "    ana_dir = '/net/big-tank/POOL/users/mhuennefeld/analyses/DNNCascade/csky/analyses/'\n",
    "    plot_dir = '/home/mhuennefeld/analyses/DNNCascade/plots/review/visualize_pdfs'\n",
    "    \n",
    "else:\n",
    "    raise ValueError('Unknown host:', host_name)"
   ]
  },
  {
   "cell_type": "code",
   "execution_count": null,
   "id": "endless-alabama",
   "metadata": {},
   "outputs": [],
   "source": [
    "for dir_path in [plot_dir]:\n",
    "    if not os.path.exists(dir_path):\n",
    "        print('Creating directory:', dir_path)\n",
    "        os.makedirs(dir_path)"
   ]
  },
  {
   "cell_type": "markdown",
   "id": "regulated-burns",
   "metadata": {},
   "source": [
    "## Load Data"
   ]
  },
  {
   "cell_type": "code",
   "execution_count": null,
   "id": "impressed-change",
   "metadata": {},
   "outputs": [],
   "source": [
    "repo = cy.selections.Repository()\n",
    "specs = cy.selections.DNNCascadeDataSpecs.DNNC_10yr"
   ]
  },
  {
   "cell_type": "code",
   "execution_count": null,
   "id": "sporting-container",
   "metadata": {},
   "outputs": [],
   "source": [
    "%%time\n",
    "\n",
    "ana = cy.get_analysis(\n",
    "    repo, selection_version, specs, \n",
    "    #gammas=np.r_[0.1:6.01:0.125],\n",
    ")"
   ]
  },
  {
   "cell_type": "code",
   "execution_count": null,
   "id": "imported-finnish",
   "metadata": {},
   "outputs": [],
   "source": [
    "a = ana.anas[0]\n",
    "a.sig"
   ]
  },
  {
   "cell_type": "code",
   "execution_count": null,
   "id": "seven-canal",
   "metadata": {},
   "outputs": [],
   "source": [
    "a.bg_data"
   ]
  },
  {
   "cell_type": "markdown",
   "id": "encouraging-demonstration",
   "metadata": {},
   "source": [
    "## Visualize PDFs"
   ]
  },
  {
   "cell_type": "code",
   "execution_count": null,
   "id": "classified-association",
   "metadata": {},
   "outputs": [],
   "source": [
    "from cycler import cycle\n",
    "\n",
    "colors = plt.rcParams['axes.prop_cycle'].by_key()['color']\n",
    "\n",
    "def get_color_cycler():\n",
    "    return cycle(colors)"
   ]
  },
  {
   "cell_type": "code",
   "execution_count": null,
   "id": "copyrighted-warrior",
   "metadata": {},
   "outputs": [],
   "source": [
    "fig, ax = plt.subplots(figsize=(6, 4))\n",
    "hl.plot1d (ax, a.bg_space_param.h, crosses=True, color='k', label='histogram')\n",
    "sd = np.linspace (-1, 1, 300)\n",
    "ax.plot (sd, a.bg_space_param(sindec=sd), label='spline')\n",
    "ax.set_ylim(0)\n",
    "ax.set_title('Background Space PDF')\n",
    "ax.set_xlabel(r'$\\sin(\\delta)$')\n",
    "ax.set_ylabel(r'probability density')\n",
    "ax.legend(loc='lower left')\n",
    "plt.tight_layout()\n",
    "fig.savefig(os.path.join(plot_dir, 'background_space_pdf.png'))\n"
   ]
  },
  {
   "cell_type": "markdown",
   "id": "fatty-resource",
   "metadata": {},
   "source": [
    "#### Energy PDF Ratio"
   ]
  },
  {
   "cell_type": "code",
   "execution_count": null,
   "id": "functioning-civilization",
   "metadata": {},
   "outputs": [],
   "source": [
    "gammas = np.r_[1:4.01]\n",
    "fig, axs = plt.subplots(2, 2, figsize=(10,9))\n",
    "for (ax, gamma) in zip(axs.ravel(), gammas):\n",
    "    eprm = a.energy_pdf_ratio_model\n",
    "    ss = dict(zip(eprm.gammas, eprm.ss_hl))\n",
    "    things = hl.plot2d(ax, ss[gamma].eval(bins=100),\n",
    "                       vmin=1e-3, vmax=1e3, log=True, cbar=dict(label=r'$S/B$'), cmap='RdBu_r')\n",
    "    ax.set_title('{} :  $\\gamma$ : {}'.format(a.plot_key, gamma))\n",
    "    ax.set_xlabel(r'sin($\\delta$)')\n",
    "    ax.set_ylabel(r'$\\log_{10}(E)$')\n",
    "plt.tight_layout()\n",
    "fig.savefig(os.path.join(plot_dir, 'energy_pdf_ratio.png'))\n",
    "\n"
   ]
  },
  {
   "cell_type": "markdown",
   "id": "uniform-inclusion",
   "metadata": {},
   "source": [
    "#### 1D Energy PDF Slices"
   ]
  },
  {
   "cell_type": "code",
   "execution_count": null,
   "id": "prime-publicity",
   "metadata": {},
   "outputs": [],
   "source": [
    "add_splines = False\n",
    "\n",
    "for gamma in [2., 2.5, 3.0]:\n",
    "\n",
    "    # get index of corresponding signal histogram\n",
    "    gamma_idx = np.searchsorted(a.energy_pdf_ratio_model.gammas, gamma)\n",
    "\n",
    "    sindec_bins = a.energy_pdf_ratio_model.hkw['bins'][0]\n",
    "    sindec_mids = sindec_bins[:-1] + 0.5 * np.diff(sindec_bins)\n",
    "\n",
    "    fig, axes = plt.subplots(3, 3, figsize=(10, 10), sharex=True, sharey=True)\n",
    "    for i, (ax, sindec) in enumerate(zip(axes.flatten(), sindec_mids)):\n",
    "        hist_bg = a.energy_pdf_ratio_model.h_bg.get_slice(i, axis=0)\n",
    "        hist_sig = a.energy_pdf_ratio_model.hs_sig[gamma_idx].get_slice(i, axis=0)\n",
    "    \n",
    "        \n",
    "        if not add_splines:\n",
    "            hl.plot1d(ax, hist_bg, crosses=False, color=colors[1], label='Background')\n",
    "            hl.plot1d(ax, hist_sig, crosses=False, color=colors[0], label='Signal')\n",
    "        else:\n",
    "            hl.plot1d(ax, hist_bg, crosses=True, color='k')\n",
    "            hl.plot1d(ax, hist_sig, crosses=True, color='k')\n",
    "\n",
    "            x = np.linspace(2, 7.5, 300)\n",
    "\n",
    "            # Add splines\n",
    "            skw = dict(s=0, k=2, log=True)\n",
    "            s_bkg = hist_bg.spline_fit(**skw).spline\n",
    "            s_sig = hist_sig.spline_fit(**skw).spline\n",
    "\n",
    "            ax.plot(x, np.exp(s_bkg(x)), color=colors[0], label='Background')\n",
    "            ax.plot(x, np.exp(s_sig(x)), color=colors[1], label='Signal')\n",
    "        \n",
    "\n",
    "        ax.set_title('$\\delta$: {:3.1f} | $\\sin(\\delta)$: {:3.3f}'.format(np.rad2deg(np.arcsin(sindec)), sindec))\n",
    "        ax.set_yscale('log')\n",
    "\n",
    "        if i == 0:\n",
    "            ax.legend()\n",
    "            ax.set_ylim(0, 1.4)\n",
    "        \n",
    "    for ax in axes[-1, :]:\n",
    "        ax.set_xlabel(r'$\\log_{10}(E [GeV] )$')\n",
    "    for ax in axes[:, 0]:\n",
    "        ax.set_ylabel('probability density')\n",
    "\n",
    "    fig.suptitle('Gamma $\\gamma$: {:3.2f}'.format(gamma))\n",
    "    fig.tight_layout()\n",
    "    fig.savefig(os.path.join(plot_dir, 'energy_slices_gamma_{:3.3f}.png'.format(gamma)))\n"
   ]
  },
  {
   "cell_type": "code",
   "execution_count": null,
   "id": "sensitive-center",
   "metadata": {},
   "outputs": [],
   "source": [
    "fig, axs = plt.subplots(2, 3, figsize=(10,6))\n",
    "axs = np.ravel(axs)\n",
    "for (i, a) in enumerate(ana):\n",
    "    ax = axs[i]\n",
    "    eprm = a.energy_pdf_ratio_model\n",
    "    hs_ratio = dict(zip(eprm.gammas, eprm.hs_ratio))\n",
    "    things = hl.plot2d(ax, hs_ratio[gamma].eval(bins=100),\n",
    "                       vmin=1e-2, vmax=1e2, log=True, cbar=True, cmap='RdBu_r')\n",
    "    ax.set_title(a.plot_key)\n",
    "    things['colorbar'].set_label(r'$S/B$')\n",
    "    ax.set_xlabel(r'$\\sin(\\delta)$')\n",
    "    ax.set_ylabel(r'$\\log_{10}(E[{GeV}])$')\n",
    "plt.tight_layout()\n",
    "axs[-1].set_visible(False)"
   ]
  },
  {
   "cell_type": "code",
   "execution_count": null,
   "id": "protective-istanbul",
   "metadata": {},
   "outputs": [],
   "source": []
  }
 ],
 "metadata": {
  "kernelspec": {
   "display_name": "tensorflow2.3_py3-v4.1.0_csky",
   "language": "python",
   "name": "tensorflow2.3_py3-v4.1.0_csky"
  },
  "language_info": {
   "codemirror_mode": {
    "name": "ipython",
    "version": 3
   },
   "file_extension": ".py",
   "mimetype": "text/x-python",
   "name": "python",
   "nbconvert_exporter": "python",
   "pygments_lexer": "ipython3",
   "version": "3.7.5"
  }
 },
 "nbformat": 4,
 "nbformat_minor": 5
}
