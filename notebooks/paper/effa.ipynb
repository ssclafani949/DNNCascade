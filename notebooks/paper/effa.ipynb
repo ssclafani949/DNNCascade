{
 "cells": [
  {
   "cell_type": "code",
   "execution_count": null,
   "metadata": {},
   "outputs": [],
   "source": [
    "import csky as cy\n",
    "import numpy as np\n",
    "import matplotlib.pyplot as plt\n",
    "import histlite as hl\n",
    "import matplotlib as mpl\n",
    "plt.rc('font', size=16)\n",
    "'''plt.rcParams.update({\n",
    "    \"text.usetex\": True,\n",
    "    \"font.family\": \"sans-serif\",\n",
    "    \"font.sans-serif\": [\"Helvetica\"]})'''\n",
    "plt.rcParams['axes.facecolor']='w'\n",
    "plt.rcParams['savefig.facecolor']='w'\n",
    "mpl.rcParams['text.usetex'] = True\n",
    "mpl.rcParams['text.latex.preamble'] = [r'\\usepackage{amsmath}']"
   ]
  },
  {
   "cell_type": "code",
   "execution_count": null,
   "metadata": {},
   "outputs": [],
   "source": [
    "repo = cy.selections.Repository()"
   ]
  },
  {
   "cell_type": "code",
   "execution_count": null,
   "metadata": {},
   "outputs": [],
   "source": [
    "specs = cy.selections.PSDataSpecs.IC86v3_2017"
   ]
  },
  {
   "cell_type": "code",
   "execution_count": null,
   "metadata": {},
   "outputs": [],
   "source": [
    "ana = cy.get_analysis(repo, 'version-003-p02', specs)"
   ]
  },
  {
   "cell_type": "code",
   "execution_count": null,
   "metadata": {},
   "outputs": [],
   "source": [
    "a = ana.anas[0]"
   ]
  },
  {
   "cell_type": "code",
   "execution_count": null,
   "metadata": {},
   "outputs": [],
   "source": []
  },
  {
   "cell_type": "code",
   "execution_count": null,
   "metadata": {},
   "outputs": [],
   "source": [
    "colors = {}\n",
    "colors['PSTracks'] = 'grey'\n",
    "colors['GFU'] = 'C0'\n",
    "colors['NT'] = 'C1'"
   ]
  },
  {
   "cell_type": "code",
   "execution_count": null,
   "metadata": {},
   "outputs": [],
   "source": [
    "plt.rcParams['axes.facecolor']='w'\n",
    "plt.rcParams['savefig.facecolor']='w'"
   ]
  },
  {
   "cell_type": "code",
   "execution_count": null,
   "metadata": {},
   "outputs": [],
   "source": [
    "def effa_plot(ax, ana, dec_deg_min = -90, dec_deg_max = 90, label = 'MISC', color = 'k', ls = '-'):\n",
    "    a = ana.anas[-1]\n",
    "    mask = (a.sig.dec < np.radians(dec_deg_max)) & (a.sig.dec > np.radians(dec_deg_min))\n",
    "    \n",
    "    dlogE=.2 #.1\n",
    "    solid_angle=2*np.pi*(np.sin(np.radians(dec_deg_max))-np.sin(np.radians(dec_deg_min)))\n",
    "    area= 1/ (1e4*np.log(10)) * (a.sig.oneweight[mask] / ( a.sig.true_energy[mask] *  solid_angle *  dlogE))\n",
    "    if 'GRECO' in label:\n",
    "        bins = np.arange(.5,6,dlogE)\n",
    "    else:\n",
    "        bins=np.arange(2,7.01,dlogE)\n",
    "    h = hl.hist(np.log10(a.sig.true_energy[mask]), weights=area, bins=bins);\n",
    "    hl.plot1d(h, histtype='step', linewidth=2, color=color, label=label, ls = ls)\n",
    "    ax.semilogy()\n",
    "\n",
    "    ax.grid()\n",
    "    ax.legend(loc='lower right')\n",
    "    ax.set_ylabel('$A_\\mathsf{Eff}$($m^2$)')\n",
    "    ax.set_xlabel('log$_{10}$(E) [GeV]')\n",
    "    if 'GRECO' in label:\n",
    "        ax.set_xlim(.5,6)\n",
    "        ax.set_ylim((1e-8,1e2))\n",
    "    else:\n",
    "        ax.set_xlim((2,7))\n",
    "        ax.set_ylim((1e-4,1e3))\n",
    "    plt.tight_layout()\n",
    "    return h"
   ]
  },
  {
   "cell_type": "code",
   "execution_count": null,
   "metadata": {},
   "outputs": [],
   "source": [
    "def event_rate(ana):\n",
    "    a = ana.anas[-1]\n",
    "    sig = a.sig\n",
    "    event_rate = len(a.data.ra) / a.bg_livetime\n",
    "    print('Event Rate {:.3} Hz'.format(event_rate))\n",
    "    print('{:3f} Events / year'.format(len(a.data.ra) / a.bg_livetime * 86400 * 365))\n",
    "    \n",
    "    mask = a.data.dec > np.radians(-5)\n",
    "    \n",
    "    event_rate = len(a.data.ra[mask]) / a.bg_livetime\n",
    "    print('Northern Event Rate {:.3} Hz'.format(event_rate))\n",
    "    print('{:3f} Events / year'.format(len(a.data.ra[mask]) / a.bg_livetime * 86400 * 365))\n",
    "\n",
    "    mask = a.data.dec < np.radians(-5)\n",
    "\n",
    "    event_rate = len(a.data.ra[mask]) / a.bg_livetime\n",
    "    print('Southern Event Rate {:.3} Hz'.format(event_rate))\n",
    "    print('{:3f} Events / year'.format(len(a.data.ra[mask]) / a.bg_livetime * 86400 * 365))\n"
   ]
  },
  {
   "cell_type": "code",
   "execution_count": null,
   "metadata": {},
   "outputs": [],
   "source": [
    "def effa_plot_notlogged(ax, ana, dec_deg_min = -90, dec_deg_max = 90, label = 'MISC', color = 'k', ls = '-'):\n",
    "    a = ana.anas[-1]\n",
    "    mask = (a.sig.dec < np.radians(dec_deg_max)) & (a.sig.dec > np.radians(dec_deg_min))\n",
    "    \n",
    "    dlogE=.1 #.1\n",
    "    bins = 10**np.arange(2,7,dlogE)\n",
    "    solid_angle=2*np.pi*(np.sin(np.radians(dec_deg_max))-np.sin(np.radians(dec_deg_min)))\n",
    "    area= 1/ (1e4*np.log(10)) * (a.sig.oneweight[mask] / ( a.sig.true_energy[mask] *  solid_angle *  dlogE))\n",
    "\n",
    "    h = hl.hist((a.sig.true_energy[mask]), weights=area, bins=bins);\n",
    "    hl.plot1d(h, histtype='step', linewidth=2, color=color, label=label, ls = ls, log=True)\n",
    "    ax.loglog()\n",
    "\n",
    "    ax.grid()\n",
    "    ax.legend(loc='lower right')\n",
    "    ax.set_ylabel('$A_\\mathsf{Eff}$($m^2$)')\n",
    "    ax.set_xlabel('log$_{10}$(E) [GeV]')\n",
    "\n",
    "    ax.set_xlim((10**2,10**7))\n",
    "    ax.set_ylim((1e-4,1e3))\n",
    "    plt.tight_layout()\n",
    "    return h"
   ]
  },
  {
   "cell_type": "code",
   "execution_count": null,
   "metadata": {},
   "outputs": [],
   "source": []
  },
  {
   "cell_type": "code",
   "execution_count": null,
   "metadata": {},
   "outputs": [],
   "source": [
    "plot_dir = cy.utils.ensure_dir('/home/ssclafani/public_html/DNNC/paperplots/Fig2')\n"
   ]
  },
  {
   "cell_type": "code",
   "execution_count": null,
   "metadata": {},
   "outputs": [],
   "source": [
    "plt.rc ('font', size=16)\n",
    "fig, ax1 = plt.subplots(1,1, figsize=(5,5))\n",
    "label = 'PSTracks'\n",
    "dec_deg_min = -5\n",
    "dec_deg_max = 90\n",
    "#ps_northern_hist = effa_plot(ax1, ana, dec_deg_min = dec_deg_min, dec_deg_max = dec_deg_max, label = 'PSTracks-v4-North', color = 'C0', ls='-')\n",
    "\n",
    "ps_southern_hist = effa_plot(ax1,ana, dec_deg_min = dec_deg_min, dec_deg_max = dec_deg_max, label = 'PSTracks-v4-South', color = 'C0', ls = '-.')\n",
    "plt.grid()\n",
    "\n",
    "\n",
    "\n",
    "#cy.plotting.saving (plot_dir, 'effa_{}_{}_{}'.format(label, str(dec_deg_min).replace('-', 'm'), str(dec_deg_max).replace('-', 'm')))\n"
   ]
  },
  {
   "cell_type": "code",
   "execution_count": null,
   "metadata": {},
   "outputs": [],
   "source": [
    "fig, ax1 = plt.subplots(1,1, figsize=(5,5))\n",
    "label = 'PSTracks'\n",
    "\n",
    "dec_deg_min = -90\n",
    "dec_deg_max = -5\n",
    "#ps_southern_hist = effa_plot(ax1,ana, dec_deg_min = dec_deg_min, dec_deg_max = dec_deg_max, label = 'PSTracks-v4-South', color = 'C0', ls = '-.')\n",
    "plt.grid()\n",
    "\n",
    "ps_southern_hist = effa_plot_notlogged(ax1,ana, dec_deg_min = dec_deg_min, dec_deg_max = dec_deg_max, label = 'Lin', color = 'red', ls = '-.')\n",
    "\n",
    "'''\n",
    "#fig, ax = plt.subplots()\n",
    "SolidAngle=2*np.pi*(np.sin(np.radians(dec_deg_max))-np.sin(np.radians(dec_deg_min)))\n",
    "mask = (a.sig.dec < np.radians(dec_deg_max)) & (a.sig.dec > np.radians(dec_deg_min))\n",
    "\n",
    "Weight=a.sig.oneweight[mask]*(1/SolidAngle)*1e-4\n",
    "\n",
    "h2,edges=np.histogram(np.log10(a.sig.true_energy[mask]),weights=Weight,bins=np.arange(2,8.01,.01))\n",
    "lin_edges=10**edges\n",
    "widths=lin_edges[1:]-lin_edges[:-1]\n",
    "h2/=widths\n",
    "centers2=(edges[:-1]+edges[1:])/2\n",
    "'''\n",
    "#ax1.semilogy(centers2,h2);\n",
    "#plt.ylim(1e-3,1e4)\n",
    "plt.xlim(1e2,1e8)"
   ]
  },
  {
   "cell_type": "code",
   "execution_count": null,
   "metadata": {},
   "outputs": [],
   "source": [
    "fig, ax1 = plt.subplots(1,1, figsize=(5,5))\n",
    "x = effa_plot_notlogged(ax1,ana, dec_deg_min = -90, \n",
    "                                       dec_deg_max = -45, label = ' ', color = 'C0', ls = '-.')\n"
   ]
  },
  {
   "cell_type": "code",
   "execution_count": null,
   "metadata": {},
   "outputs": [],
   "source": [
    "fig, ax1 = plt.subplots(1,1, figsize=(5,5))\n",
    "y = effa_plot_notlogged(ax1,ana, dec_deg_min = -45, \n",
    "                                       dec_deg_max = -5, label = ' ', color = 'C0', ls = '-.')\n"
   ]
  },
  {
   "cell_type": "code",
   "execution_count": null,
   "metadata": {},
   "outputs": [],
   "source": [
    "fig, ax = plt.subplots()\n",
    "hl.plot1d(ax, (x+y)/2, log=True)\n",
    "hl.plot1d(ax, ps_southern_hist)\n",
    "plt.loglog()"
   ]
  },
  {
   "cell_type": "code",
   "execution_count": null,
   "metadata": {},
   "outputs": [],
   "source": []
  },
  {
   "cell_type": "code",
   "execution_count": null,
   "metadata": {},
   "outputs": [],
   "source": [
    "fig, ax1 = plt.subplots(1,1, figsize=(5,5))\n",
    "ps_southern_hist = effa_plot_notlogged(ax1,ana, dec_deg_min = dec_deg_min, \n",
    "                                       dec_deg_max = dec_deg_max, label = 'PSTracks-v4-South', color = 'C0', ls = '-.')\n"
   ]
  },
  {
   "cell_type": "code",
   "execution_count": null,
   "metadata": {},
   "outputs": [],
   "source": []
  },
  {
   "cell_type": "code",
   "execution_count": null,
   "metadata": {},
   "outputs": [],
   "source": []
  },
  {
   "cell_type": "code",
   "execution_count": null,
   "metadata": {},
   "outputs": [],
   "source": [
    "dndenorm = 1.66\n",
    "dndegamma = 2.53"
   ]
  },
  {
   "cell_type": "code",
   "execution_count": null,
   "metadata": {},
   "outputs": [],
   "source": [
    "fig, ax = plt.subplots()\n",
    "dlogE = .1\n",
    "bins=10**np.arange(2,6.01,dlogE)\n",
    "dec_deg_max = -5\n",
    "dec_deg_min = -90\n",
    "mask = (a.sig.dec < np.radians(dec_deg_max)) & (a.sig.dec > np.radians(dec_deg_min))\n",
    "\n",
    "h_dNdE_tracks = hl.hist((a.sig[mask].true_energy), \n",
    "                        365*86400*dndenorm*1e-18*a.sig[mask].oneweight*(a.sig[mask].true_energy/1e5)**-dndegamma, \n",
    "                        bins=bins)\n",
    "tot_tracks = sum(365*86400*dndenorm*1e-18*a.sig[mask].oneweight*(a.sig[mask].true_energy/1e5)**-dndegamma)\n",
    "hl.plot1d(ax, h_dNdE_tracks, label = r'tracks_expected events', color = 'mediumslateblue')\n",
    "plt.loglog()"
   ]
  },
  {
   "cell_type": "code",
   "execution_count": null,
   "metadata": {},
   "outputs": [],
   "source": [
    "specs = cy.selections.MESEDataSpecs.mesc_7yr\n",
    "ana = cy.get_analysis(repo, 'version-001-p02', specs)"
   ]
  },
  {
   "cell_type": "code",
   "execution_count": null,
   "metadata": {},
   "outputs": [],
   "source": [
    "plt.rc ('font', size=16)\n",
    "fig, ax1 = plt.subplots(1,1, figsize=(5,5))\n",
    "label = 'MESC'\n",
    "dec_deg_min = -5\n",
    "dec_deg_max = 90\n",
    "#mese_northern_hist = effa_plot(ax1, ana, dec_deg_min = dec_deg_min, \n",
    "#                               dec_deg_max = dec_deg_max, label = 'MESC-North', color = 'brown', ls='-')\n",
    "\n",
    "dec_deg_min = -90\n",
    "dec_deg_max = -5\n",
    "mese_southern_hist = effa_plot_notlogged(ax1,ana, dec_deg_min = dec_deg_min, \n",
    "                               dec_deg_max = dec_deg_max, label = 'MESC-South', color = 'brown', ls = '-.')\n",
    "\n",
    "\n",
    "\n",
    "\n",
    "#plot_dir = cy.utils.ensure_dir('/home/ssclafani/public_html/TechLead/DataSet_Plots/{}'.format(label))\n",
    "#cy.plotting.saving (plot_dir, 'effa_{}_{}_{}'.format(label, str(dec_deg_min).replace('-', 'm'), str(dec_deg_max).replace('-', 'm')))\n"
   ]
  },
  {
   "cell_type": "code",
   "execution_count": null,
   "metadata": {},
   "outputs": [],
   "source": [
    "a = ana.anas[-1]"
   ]
  },
  {
   "cell_type": "code",
   "execution_count": null,
   "metadata": {},
   "outputs": [],
   "source": [
    "fig, ax = plt.subplots()\n",
    "bins=10**np.arange(2,6.01,dlogE)\n",
    "\n",
    "dec_deg_max = -5\n",
    "dec_deg_min = -90\n",
    "mask = (a.sig.dec < np.radians(dec_deg_max)) & (a.sig.dec > np.radians(dec_deg_min))\n",
    "h_dNdE_mese = hl.hist((a.sig[mask].true_energy), \n",
    "                      365*86400*dndenorm*1e-18*a.sig[mask].oneweight*(a.sig[mask].true_energy/1e5)**-dndegamma, \n",
    "                      bins=bins)\n",
    "tot_mese = sum(365*86400*dndenorm*1e-18*a.sig[mask].oneweight*(a.sig[mask].true_energy/1e5)**-dndegamma)\n",
    "hl.plot1d(ax, h_dNdE_mese, label = r'mese_expected events', color = 'mediumslateblue')\n",
    "plt.loglog()"
   ]
  },
  {
   "cell_type": "code",
   "execution_count": null,
   "metadata": {},
   "outputs": [],
   "source": []
  },
  {
   "cell_type": "code",
   "execution_count": null,
   "metadata": {},
   "outputs": [],
   "source": [
    "repo = (cy.selections.Repository(local_root='/data/user/ssclafani/data/analyses'))"
   ]
  },
  {
   "cell_type": "code",
   "execution_count": null,
   "metadata": {},
   "outputs": [],
   "source": [
    "#specs = [Cascades]\n",
    "specs = cy.selections.DNNCascadeDataSpecs.DNNC_10yr\n",
    "ana = cy.get_analysis (repo, 'version-001-p01', specs)"
   ]
  },
  {
   "cell_type": "code",
   "execution_count": null,
   "metadata": {},
   "outputs": [],
   "source": [
    "a = ana.anas[-1]\n",
    "mask = (a.data.log10energy > 5) & (a.data.dec > np.radians(-5))\n",
    "sum(mask)"
   ]
  },
  {
   "cell_type": "code",
   "execution_count": null,
   "metadata": {},
   "outputs": [],
   "source": [
    "plt.rc ('font', size=16)\n",
    "fig, ax1 = plt.subplots(1,1, figsize=(5,5))\n",
    "label = 'DNNCascade'\n",
    "#dec_deg_min = -5\n",
    "#dec_deg_max = 90\n",
    "#DNNC_northern_hist = effa_plot(ax1, ana, dec_deg_min = dec_deg_min, dec_deg_max = dec_deg_max, label = 'DNNC-v0-North', color = 'C3', ls='-')\n",
    "\n",
    "dec_deg_min = -90\n",
    "dec_deg_max = -5\n",
    "DNNC_southern_hist = effa_plot_notlogged(ax1,ana, dec_deg_min = dec_deg_min, dec_deg_max = dec_deg_max, label = 'DNNC-v0-South', color = 'C3', ls = '-.')\n",
    "\n",
    "\n",
    "\n",
    "\n",
    "#plot_dir = cy.utils.ensure_dir('/home/ssclafani/public_html/TechLead/DataSet_Plots/{}'.format(label))\n",
    "#cy.plotting.saving (plot_dir, 'effa_{}_{}_{}'.format(label, str(dec_deg_min).replace('-', 'm'), str(dec_deg_max).replace('-', 'm')))\n"
   ]
  },
  {
   "cell_type": "code",
   "execution_count": null,
   "metadata": {},
   "outputs": [],
   "source": [
    "fig, ax = plt.subplots()\n",
    "bins=10**np.arange(2,6.01,dlogE)\n",
    "dec_deg_max = -5\n",
    "dec_deg_min = -90\n",
    "mask = (a.sig.dec < np.radians(dec_deg_max)) & (a.sig.dec > np.radians(dec_deg_min))\n",
    "h_dNdE_dnnc = hl.hist((a.sig[mask].true_energy), \n",
    "                      365*86400*dndenorm*1e-18*a.sig[mask].oneweight*(a.sig[mask].true_energy/1e5)**-dndegamma, \n",
    "                      bins=bins)\n",
    "tot_dnnc =sum(365*86400*dndenorm*1e-18*a.sig[mask].oneweight*(a.sig[mask].true_energy/1e5)**-dndegamma)\n",
    "hl.plot1d(ax, h_dNdE_dnnc, label = r'dnnc_expected events', color = 'mediumslateblue')\n",
    "plt.loglog()"
   ]
  },
  {
   "cell_type": "code",
   "execution_count": null,
   "metadata": {},
   "outputs": [],
   "source": [
    "soft_colors = cy.plotting.soft_colors"
   ]
  },
  {
   "cell_type": "code",
   "execution_count": null,
   "metadata": {},
   "outputs": [],
   "source": [
    "fig, ax = plt.subplots()\n",
    "hl.plot1d(ax, h_dNdE_dnnc, label = r'dnnc {:.3f}'.format(tot_dnnc), color = 'C0')\n",
    "hl.plot1d(ax, h_dNdE_tracks, label = r'tracks {:.3f}'.format(tot_tracks), color = 'C1')\n",
    "hl.plot1d(ax, h_dNdE_mese, label = r'mese {:.3f}'.format(tot_mese), color = 'C2')\n",
    "plt.loglog()\n",
    "plt.legend()\n",
    "plt.ylabel('Expected Events per year (E$^{-3}$)')\n",
    "#plt.xlim(3,7)"
   ]
  },
  {
   "cell_type": "code",
   "execution_count": null,
   "metadata": {},
   "outputs": [],
   "source": [
    "import seaborn as sns"
   ]
  },
  {
   "cell_type": "code",
   "execution_count": null,
   "metadata": {},
   "outputs": [],
   "source": [
    "colors = sns.color_palette('bright', n_colors=10)"
   ]
  },
  {
   "cell_type": "code",
   "execution_count": null,
   "metadata": {},
   "outputs": [],
   "source": [
    "colors = ['#0B3D53', '#FF7F0E',  '#5C9FC9']"
   ]
  },
  {
   "cell_type": "code",
   "execution_count": null,
   "metadata": {},
   "outputs": [],
   "source": [
    "h_dNdE_dnnc.integrate().values"
   ]
  },
  {
   "cell_type": "code",
   "execution_count": null,
   "metadata": {},
   "outputs": [],
   "source": [
    "plt.rc('font', size=18)\n",
    "label = 'ps_tracks_cascades'\n",
    "fig, (ax1, ax2) = plt.subplots(1, 2, figsize = (12,6))\n",
    "\n",
    "\n",
    "hl.plot1d(ax1, ps_southern_hist, label=r'Tracks [\\textsf{IceCube (2020)}]', \n",
    "          color = 'grey', lw=3, ls='-', zorder=-1, vectorized=True)\n",
    "hl.plot1d(ax1, mese_southern_hist, label=r' Cascades [\\textsf{IceCube (2019)}]', \n",
    "          color = colors[2], lw=3, ls='-', zorder=-1,  vectorized=True)\n",
    "hl.plot1d(ax1, DNNC_southern_hist, label=r'\\textsf{This Work}', color = colors[0], lw=4,ls='-',  vectorized=True)\n",
    "\n",
    "hl.plot1d(ax2, h_dNdE_dnnc, lw=4, label = r'n$_{{signal}}$: {:.1f}'.format(tot_dnnc), color = colors[0],  vectorized=True)\n",
    "hl.plot1d(ax2, h_dNdE_mese,lw=3,  label = r'n$_{{signal}}$: {:.1f}'.format(tot_mese), color = colors[2],  vectorized=True)\n",
    "hl.plot1d(ax2, h_dNdE_tracks, lw=3, label = r'n$_{{signal}}$: {:.1f}'.format(tot_tracks), color = 'grey',  vectorized=True)\n",
    "\n",
    "\n",
    "ax2.loglog()\n",
    "ax2.set_ylabel(r'N$_\\textsf{Astro}$ [year$^{-1}$] (-90$^\\circ$ $<$ $\\delta$ $<$ -5$^\\circ$)')\n",
    "\n",
    "ax2.set_ylim(1e-2,20)\n",
    "ax2.set_yticks([1e-2, 1e-1, 1,10])\n",
    "#fig.suptitle('-90$^\\circ$ $<$ $\\delta$ $<$ -5$^\\circ$')\n",
    "\n",
    "handles, labels = ax1.get_legend_handles_labels()\n",
    "ax1.legend(handles[::-1], labels[::-1])#, loc='lower right')\n",
    "\n",
    "ax1.set_ylabel('A$_\\mathsf{Eff}$ [m$^2$] (-90$^\\circ$ $<$ $\\delta$ $<$ -5$^\\circ$)')\n",
    "ax2.set_xlabel(r'E$_\\nu$ [GeV]')\n",
    "ax1.set_xlabel(r'E$_\\nu$ [GeV]')\n",
    "\n",
    "\n",
    "ax1.loglog()\n",
    "ax1.set_xlim(700, 1e6)\n",
    "ax2.set_xlim(700, 1e6)\n",
    "\n",
    "ax1.set_ylim(1e-5,2e2)\n",
    "#ax1.set_yticks('both')\n",
    "#ax1.text(1.8, 700, 'IceCube Preliminary', c='r')\n",
    "plt.tight_layout()\n",
    "#plot_dir = cy.utils.ensure_dir('/home/ssclafani/public_html/TechLead/DataSet_Plots/{}'.format(label))\n",
    "cy.plotting.saving (plot_dir, 'effa_{}_bothaxis'.format(label), dpi=400)"
   ]
  },
  {
   "cell_type": "code",
   "execution_count": null,
   "metadata": {},
   "outputs": [],
   "source": []
  },
  {
   "cell_type": "code",
   "execution_count": null,
   "metadata": {},
   "outputs": [],
   "source": []
  },
  {
   "cell_type": "code",
   "execution_count": null,
   "metadata": {},
   "outputs": [],
   "source": []
  },
  {
   "cell_type": "code",
   "execution_count": null,
   "metadata": {},
   "outputs": [],
   "source": []
  },
  {
   "cell_type": "code",
   "execution_count": null,
   "metadata": {},
   "outputs": [],
   "source": [
    "plt.rc('font', size=15)\n",
    "label = 'ps_tracks_cascades'\n",
    "fig, (ax1, ax2) = plt.subplots(2, 1, figsize = (6,6), \n",
    "                               gridspec_kw = {'height_ratios':[3, 1]}, sharex=True)\n",
    "\n",
    "\n",
    "hl.plot1d(ax1, ps_southern_hist, label=r'Tracks [\\textsf{Aartsen et al.(2020)}]', \n",
    "          color = 'grey', lw=2, ls='-', zorder=-1)\n",
    "hl.plot1d(ax1, mese_southern_hist, label=r' Cascades [\\textsf{Aartsen et al.(2019)}]', \n",
    "          color = colors[2], lw=2, ls='-', zorder=-1)\n",
    "hl.plot1d(ax1, DNNC_southern_hist, label=r'\\textsf{This Work}', color = colors[0], lw=3,ls='-')\n",
    "\n",
    "\n",
    "\n",
    "#hl.plot1d(ax2, DNNC_southern_hist /ps_southern_hist, color = 'grey', \n",
    "#          lw=2, ls='-', log=True)\n",
    "#hl.plot1d(ax2, DNNC_southern_hist / mese_southern_hist    , \n",
    "#          color = colors[2], ls='-', lw=2, log=True)\n",
    "\n",
    "#dnnc_N = h_dNdE_dnnc.integrate().values\n",
    "#tracks_N = h_dNdE_tracks.integrate().values\n",
    "#mese_N = h_dNdE_mese.integrate().values\n",
    "\n",
    "hl.plot1d(ax2, h_dNdE_dnnc, lw=3, label = r'n$_{{signal}}$: {:.1f}'.format(tot_dnnc), color = colors[0])\n",
    "hl.plot1d(ax2, h_dNdE_mese,lw=2,  label = r'n$_{{signal}}$: {:.1f}'.format(tot_mese), color = colors[2])\n",
    "hl.plot1d(ax2, h_dNdE_tracks, lw=2, label = r'n$_{{signal}}$: {:.1f}'.format(tot_tracks), color = 'grey')\n",
    "\n",
    "\n",
    "#ax2.axhline(1,lw =3, color=colors[0])\n",
    "ax2.semilogy()\n",
    "#ax2.set_ylabel(r'dN$_\\textsf{Astro}$/dE [year$^{-1}$]')\n",
    "ax2.set_ylabel(r'$\\frac{\\textsf{dN}_\\textsf{Astro}}{\\textsf{dE}_\\nu}$ [year$^{-1}$]')\n",
    "ax2.set_ylim(1e-2,20)\n",
    "ax2.set_yticks([1e-2, 1e-1, 1,10])\n",
    "#ax2.legend()\n",
    "#ax2.set_ylim(1,500)\n",
    "#ax2.set_yticks([1,10,100])\n",
    "\n",
    "#ax2.set_ylabel(r'$\\frac{\\textsf{This Work}}{\\textsf{Other}}$')\n",
    "ax1.set_title('-90$^\\circ$ $<$ $\\delta$ $<$ -5$^\\circ$')\n",
    "\n",
    "handles, labels = ax1.get_legend_handles_labels()\n",
    "ax1.legend(handles[::-1], labels[::-1])#, loc='lower right')\n",
    "\n",
    "#ax1.legend(loc='lower right', ncol = 1,)\n",
    "ax1.set_ylabel('A$_\\mathsf{Eff}$ [m$^2$]')\n",
    "ax2.set_xlabel(r'E$_\\nu$ [GeV]')\n",
    "\n",
    "\n",
    "ax1.loglog()\n",
    "ax1.set_xlim(500, 1e6)\n",
    "\n",
    "ax1.set_ylim(.4e-4,2e2)\n",
    "#ax1.set_yticks('both')\n",
    "#ax1.text(1.8, 700, 'IceCube Preliminary', c='r')\n",
    "plt.tight_layout()\n",
    "#plot_dir = cy.utils.ensure_dir('/home/ssclafani/public_html/TechLead/DataSet_Plots/{}'.format(label))\n",
    "cy.plotting.saving (plot_dir, 'effa_{}_South'.format(label))"
   ]
  },
  {
   "cell_type": "code",
   "execution_count": null,
   "metadata": {},
   "outputs": [],
   "source": []
  },
  {
   "cell_type": "code",
   "execution_count": null,
   "metadata": {},
   "outputs": [],
   "source": []
  },
  {
   "cell_type": "code",
   "execution_count": null,
   "metadata": {},
   "outputs": [],
   "source": []
  },
  {
   "cell_type": "code",
   "execution_count": null,
   "metadata": {},
   "outputs": [],
   "source": []
  },
  {
   "cell_type": "code",
   "execution_count": null,
   "metadata": {},
   "outputs": [],
   "source": []
  },
  {
   "cell_type": "code",
   "execution_count": null,
   "metadata": {},
   "outputs": [],
   "source": []
  },
  {
   "cell_type": "code",
   "execution_count": null,
   "metadata": {},
   "outputs": [],
   "source": []
  },
  {
   "cell_type": "code",
   "execution_count": null,
   "metadata": {},
   "outputs": [],
   "source": []
  }
 ],
 "metadata": {
  "kernelspec": {
   "display_name": "icerec3",
   "language": "python",
   "name": "icerec3"
  },
  "language_info": {
   "codemirror_mode": {
    "name": "ipython",
    "version": 3
   },
   "file_extension": ".py",
   "mimetype": "text/x-python",
   "name": "python",
   "nbconvert_exporter": "python",
   "pygments_lexer": "ipython3",
   "version": "3.7.5"
  }
 },
 "nbformat": 4,
 "nbformat_minor": 4
}
