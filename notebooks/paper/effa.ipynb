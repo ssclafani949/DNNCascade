{
 "cells": [
  {
   "cell_type": "code",
   "execution_count": 1,
   "metadata": {},
   "outputs": [
    {
     "name": "stderr",
     "output_type": "stream",
     "text": [
      "/home/ssclafani/.vens/py3_venv/lib/python3.7/site-packages/ipykernel_launcher.py:14: MatplotlibDeprecationWarning: Support for setting the 'text.latex.preamble' or 'pgf.preamble' rcParam to a list of strings is deprecated since 3.3 and will be removed two minor releases later; set it to a single string instead.\n",
      "  \n"
     ]
    }
   ],
   "source": [
    "import csky as cy\n",
    "import numpy as np\n",
    "import matplotlib.pyplot as plt\n",
    "import histlite as hl\n",
    "import matplotlib as mpl\n",
    "plt.rc('font', size=16)\n",
    "'''plt.rcParams.update({\n",
    "    \"text.usetex\": True,\n",
    "    \"font.family\": \"sans-serif\",\n",
    "    \"font.sans-serif\": [\"Helvetica\"]})'''\n",
    "plt.rcParams['axes.facecolor']='w'\n",
    "plt.rcParams['savefig.facecolor']='w'\n",
    "mpl.rcParams['text.usetex'] = True\n",
    "mpl.rcParams['text.latex.preamble'] = [r'\\usepackage{amsmath}']"
   ]
  },
  {
   "cell_type": "code",
   "execution_count": 2,
   "metadata": {},
   "outputs": [],
   "source": [
    "repo = cy.selections.Repository()"
   ]
  },
  {
   "cell_type": "code",
   "execution_count": 3,
   "metadata": {},
   "outputs": [],
   "source": [
    "specs = cy.selections.PSDataSpecs.IC86v3_2017"
   ]
  },
  {
   "cell_type": "code",
   "execution_count": 4,
   "metadata": {},
   "outputs": [
    {
     "name": "stdout",
     "output_type": "stream",
     "text": [
      "Setting up Analysis for:\n",
      "IC86v3_2017\n",
      "Setting up IC86v3_2017...\n",
      "Reading /data/ana/analyses/ps_tracks/version-003-p02/IC86_2012_MC.npy ...\n",
      "Reading /data/ana/analyses/ps_tracks/version-003-p02/IC86_2017_exp.npy ...\n",
      "Reading /data/ana/analyses/ps_tracks/version-003-p02/GRL/IC86_2017_exp.npy ...\n",
      "Energy PDF Ratio Model...\n",
      "  * gamma = 4.0000 ...\n",
      "Signal Acceptance Model...\n",
      "  * gamma = 4.0000 ...\n",
      "Done.\n"
     ]
    }
   ],
   "source": [
    "ana = cy.get_analysis(repo, 'version-003-p02', specs)"
   ]
  },
  {
   "cell_type": "code",
   "execution_count": 5,
   "metadata": {},
   "outputs": [],
   "source": [
    "a = ana.anas[0]"
   ]
  },
  {
   "cell_type": "code",
   "execution_count": 6,
   "metadata": {},
   "outputs": [],
   "source": [
    "colors = {}\n",
    "colors['PSTracks'] = 'grey'\n",
    "colors['GFU'] = 'C0'\n",
    "colors['NT'] = 'C1'"
   ]
  },
  {
   "cell_type": "code",
   "execution_count": 7,
   "metadata": {},
   "outputs": [],
   "source": [
    "plt.rcParams['axes.facecolor']='w'\n",
    "plt.rcParams['savefig.facecolor']='w'"
   ]
  },
  {
   "cell_type": "code",
   "execution_count": 8,
   "metadata": {},
   "outputs": [],
   "source": [
    "def effa_plot(ax, ana, dec_deg_min = -90, dec_deg_max = 90, label = 'MISC', color = 'k', ls = '-'):\n",
    "    a = ana.anas[-1]\n",
    "    mask = (a.sig.dec < np.radians(dec_deg_max)) & (a.sig.dec > np.radians(dec_deg_min))\n",
    "    \n",
    "    dlogE=.2 #.1\n",
    "    solid_angle=2*np.pi*(np.sin(np.radians(dec_deg_max))-np.sin(np.radians(dec_deg_min)))\n",
    "    area= 1/ (1e4*np.log(10)) * (a.sig.oneweight[mask] / ( a.sig.true_energy[mask] *  solid_angle *  dlogE))\n",
    "    if 'GRECO' in label:\n",
    "        bins = np.arange(.5,6,dlogE)\n",
    "    else:\n",
    "        bins=np.arange(2,7.01,dlogE)\n",
    "    h = hl.hist(np.log10(a.sig.true_energy[mask]), weights=area, bins=bins);\n",
    "    hl.plot1d(h, histtype='step', linewidth=2, color=color, label=label, ls = ls)\n",
    "    ax.semilogy()\n",
    "\n",
    "    ax.grid()\n",
    "    ax.legend(loc='lower right')\n",
    "    ax.set_ylabel('$A_\\mathsf{Eff}$($m^2$)')\n",
    "    ax.set_xlabel('log$_{10}$(E) [GeV]')\n",
    "    if 'GRECO' in label:\n",
    "        ax.set_xlim(.5,6)\n",
    "        ax.set_ylim((1e-8,1e2))\n",
    "    else:\n",
    "        ax.set_xlim((2,7))\n",
    "        ax.set_ylim((1e-4,1e3))\n",
    "    plt.tight_layout()\n",
    "    return h"
   ]
  },
  {
   "cell_type": "code",
   "execution_count": 9,
   "metadata": {},
   "outputs": [],
   "source": [
    "def event_rate(ana):\n",
    "    a = ana.anas[-1]\n",
    "    sig = a.sig\n",
    "    event_rate = len(a.data.ra) / a.bg_livetime\n",
    "    print('Event Rate {:.3} Hz'.format(event_rate))\n",
    "    print('{:3f} Events / year'.format(len(a.data.ra) / a.bg_livetime * 86400 * 365))\n",
    "    \n",
    "    mask = a.data.dec > np.radians(-5)\n",
    "    \n",
    "    event_rate = len(a.data.ra[mask]) / a.bg_livetime\n",
    "    print('Northern Event Rate {:.3} Hz'.format(event_rate))\n",
    "    print('{:3f} Events / year'.format(len(a.data.ra[mask]) / a.bg_livetime * 86400 * 365))\n",
    "\n",
    "    mask = a.data.dec < np.radians(-5)\n",
    "\n",
    "    event_rate = len(a.data.ra[mask]) / a.bg_livetime\n",
    "    print('Southern Event Rate {:.3} Hz'.format(event_rate))\n",
    "    print('{:3f} Events / year'.format(len(a.data.ra[mask]) / a.bg_livetime * 86400 * 365))\n"
   ]
  },
  {
   "cell_type": "code",
   "execution_count": 10,
   "metadata": {},
   "outputs": [],
   "source": [
    "def effa_plot_notlogged(ax, ana, dec_deg_min = -90, dec_deg_max = 90, label = 'MISC', color = 'k', ls = '-'):\n",
    "    a = ana.anas[-1]\n",
    "    mask = (a.sig.dec < np.radians(dec_deg_max)) & (a.sig.dec > np.radians(dec_deg_min))\n",
    "    \n",
    "    dlogE=.1 #.1\n",
    "    bins = 10**np.arange(2,7,dlogE)\n",
    "    solid_angle=2*np.pi*(np.sin(np.radians(dec_deg_max))-np.sin(np.radians(dec_deg_min)))\n",
    "    area= 1/ (1e4*np.log(10)) * (a.sig.oneweight[mask] / ( a.sig.true_energy[mask] *  solid_angle *  dlogE))\n",
    "\n",
    "    h = hl.hist((a.sig.true_energy[mask]), weights=area, bins=bins);\n",
    "    hl.plot1d(h, histtype='step', linewidth=2, color=color, label=label, ls = ls, log=True)\n",
    "    ax.loglog()\n",
    "\n",
    "    ax.grid()\n",
    "    ax.legend(loc='lower right')\n",
    "    ax.set_ylabel('$A_\\mathsf{Eff}$($m^2$)')\n",
    "    ax.set_xlabel('log$_{10}$(E) [GeV]')\n",
    "\n",
    "    ax.set_xlim((10**2,10**7))\n",
    "    ax.set_ylim((1e-4,1e3))\n",
    "    plt.tight_layout()\n",
    "    return h"
   ]
  },
  {
   "cell_type": "code",
   "execution_count": null,
   "metadata": {},
   "outputs": [],
   "source": []
  },
  {
   "cell_type": "code",
   "execution_count": 11,
   "metadata": {},
   "outputs": [],
   "source": [
    "embargo_label = True\n",
    "if embargo_label:\n",
    "    plot_dir = cy.utils.ensure_dir('/home/ssclafani/plots/paperplots_embargo/Fig2')\n",
    "else:\n",
    "    plot_dir = cy.utils.ensure_dir('/home/ssclafani/plots/paperplots/Fig2')\n"
   ]
  },
  {
   "cell_type": "code",
   "execution_count": 12,
   "metadata": {},
   "outputs": [
    {
     "data": {
      "image/png": "[encoded data removed]",
      "text/plain": [
       "<Figure size 360x360 with 1 Axes>"
      ]
     },
     "metadata": {
      "needs_background": "light"
     },
     "output_type": "display_data"
    }
   ],
   "source": [
    "plt.rc ('font', size=16)\n",
    "fig, ax1 = plt.subplots(1,1, figsize=(5,5))\n",
    "label = 'PSTracks'\n",
    "dec_deg_min = -5\n",
    "dec_deg_max = 90\n",
    "#ps_northern_hist = effa_plot(ax1, ana, dec_deg_min = dec_deg_min, dec_deg_max = dec_deg_max, label = 'PSTracks-v4-North', color = 'C0', ls='-')\n",
    "\n",
    "ps_southern_hist = effa_plot(ax1,ana, dec_deg_min = dec_deg_min, dec_deg_max = dec_deg_max, label = 'PSTracks-v4-South', color = 'C0', ls = '-.')\n",
    "plt.grid()\n",
    "\n",
    "\n",
    "\n",
    "#cy.plotting.saving (plot_dir, 'effa_{}_{}_{}'.format(label, str(dec_deg_min).replace('-', 'm'), str(dec_deg_max).replace('-', 'm')))\n"
   ]
  },
  {
   "cell_type": "code",
   "execution_count": 13,
   "metadata": {},
   "outputs": [
    {
     "data": {
      "text/plain": [
       "(100.0, 100000000.0)"
      ]
     },
     "execution_count": 13,
     "metadata": {},
     "output_type": "execute_result"
    },
    {
     "data": {
      "image/png": "[encoded data removed]",
      "text/plain": [
       "<Figure size 360x360 with 1 Axes>"
      ]
     },
     "metadata": {
      "needs_background": "light"
     },
     "output_type": "display_data"
    }
   ],
   "source": [
    "fig, ax1 = plt.subplots(1,1, figsize=(5,5))\n",
    "label = 'PSTracks'\n",
    "\n",
    "dec_deg_min = -90\n",
    "dec_deg_max = -5\n",
    "#ps_southern_hist = effa_plot(ax1,ana, dec_deg_min = dec_deg_min, dec_deg_max = dec_deg_max, label = 'PSTracks-v4-South', color = 'C0', ls = '-.')\n",
    "plt.grid()\n",
    "\n",
    "ps_southern_hist = effa_plot_notlogged(ax1,ana, dec_deg_min = dec_deg_min, dec_deg_max = dec_deg_max, label = 'Lin', color = 'red', ls = '-.')\n",
    "\n",
    "'''\n",
    "#fig, ax = plt.subplots()\n",
    "SolidAngle=2*np.pi*(np.sin(np.radians(dec_deg_max))-np.sin(np.radians(dec_deg_min)))\n",
    "mask = (a.sig.dec < np.radians(dec_deg_max)) & (a.sig.dec > np.radians(dec_deg_min))\n",
    "\n",
    "Weight=a.sig.oneweight[mask]*(1/SolidAngle)*1e-4\n",
    "\n",
    "h2,edges=np.histogram(np.log10(a.sig.true_energy[mask]),weights=Weight,bins=np.arange(2,8.01,.01))\n",
    "lin_edges=10**edges\n",
    "widths=lin_edges[1:]-lin_edges[:-1]\n",
    "h2/=widths\n",
    "centers2=(edges[:-1]+edges[1:])/2\n",
    "'''\n",
    "#ax1.semilogy(centers2,h2);\n",
    "#plt.ylim(1e-3,1e4)\n",
    "plt.xlim(1e2,1e8)"
   ]
  },
  {
   "cell_type": "code",
   "execution_count": 14,
   "metadata": {},
   "outputs": [
    {
     "data": {
      "image/png": "[encoded data removed]",
      "text/plain": [
       "<Figure size 360x360 with 1 Axes>"
      ]
     },
     "metadata": {
      "needs_background": "light"
     },
     "output_type": "display_data"
    }
   ],
   "source": [
    "fig, ax1 = plt.subplots(1,1, figsize=(5,5))\n",
    "x = effa_plot_notlogged(ax1,ana, dec_deg_min = -90, \n",
    "                                       dec_deg_max = -45, label = ' ', color = 'C0', ls = '-.')\n"
   ]
  },
  {
   "cell_type": "code",
   "execution_count": 15,
   "metadata": {},
   "outputs": [
    {
     "data": {
      "image/png": "[encoded data removed]",
      "text/plain": [
       "<Figure size 360x360 with 1 Axes>"
      ]
     },
     "metadata": {
      "needs_background": "light"
     },
     "output_type": "display_data"
    }
   ],
   "source": [
    "fig, ax1 = plt.subplots(1,1, figsize=(5,5))\n",
    "y = effa_plot_notlogged(ax1,ana, dec_deg_min = -45, \n",
    "                                       dec_deg_max = -5, label = ' ', color = 'C0', ls = '-.')\n"
   ]
  },
  {
   "cell_type": "code",
   "execution_count": 16,
   "metadata": {},
   "outputs": [
    {
     "data": {
      "text/plain": [
       "[]"
      ]
     },
     "execution_count": 16,
     "metadata": {},
     "output_type": "execute_result"
    },
    {
     "data": {
      "image/png": "[encoded data removed]",
      "text/plain": [
       "<Figure size 432x288 with 1 Axes>"
      ]
     },
     "metadata": {
      "needs_background": "light"
     },
     "output_type": "display_data"
    }
   ],
   "source": [
    "fig, ax = plt.subplots()\n",
    "hl.plot1d(ax, (x+y)/2, log=True)\n",
    "hl.plot1d(ax, ps_southern_hist)\n",
    "plt.loglog()"
   ]
  },
  {
   "cell_type": "code",
   "execution_count": 17,
   "metadata": {},
   "outputs": [
    {
     "data": {
      "image/png": "[encoded data removed]",
      "text/plain": [
       "<Figure size 360x360 with 1 Axes>"
      ]
     },
     "metadata": {
      "needs_background": "light"
     },
     "output_type": "display_data"
    }
   ],
   "source": [
    "fig, ax1 = plt.subplots(1,1, figsize=(5,5))\n",
    "ps_southern_hist = effa_plot_notlogged(ax1,ana, dec_deg_min = dec_deg_min, \n",
    "                                       dec_deg_max = dec_deg_max, label = 'PSTracks-v4-South', color = 'C0', ls = '-.')\n"
   ]
  },
  {
   "cell_type": "code",
   "execution_count": 18,
   "metadata": {},
   "outputs": [],
   "source": [
    "dndenorm = 1.66\n",
    "dndegamma = 2.53"
   ]
  },
  {
   "cell_type": "code",
   "execution_count": 19,
   "metadata": {},
   "outputs": [
    {
     "data": {
      "text/plain": [
       "[]"
      ]
     },
     "execution_count": 19,
     "metadata": {},
     "output_type": "execute_result"
    },
    {
     "data": {
      "image/png": "[encoded data removed]",
      "text/plain": [
       "<Figure size 432x288 with 1 Axes>"
      ]
     },
     "metadata": {
      "needs_background": "light"
     },
     "output_type": "display_data"
    }
   ],
   "source": [
    "fig, ax = plt.subplots()\n",
    "dlogE = .1\n",
    "bins=10**np.arange(2,6.01,dlogE)\n",
    "dec_deg_max = -5\n",
    "dec_deg_min = -90\n",
    "mask = (a.sig.dec < np.radians(dec_deg_max)) & (a.sig.dec > np.radians(dec_deg_min))\n",
    "\n",
    "h_dNdE_tracks = hl.hist((a.sig[mask].true_energy), \n",
    "                        365*86400*dndenorm*1e-18*a.sig[mask].oneweight*(a.sig[mask].true_energy/1e5)**-dndegamma, \n",
    "                        bins=bins)\n",
    "tot_tracks = sum(365*86400*dndenorm*1e-18*a.sig[mask].oneweight*(a.sig[mask].true_energy/1e5)**-dndegamma)\n",
    "hl.plot1d(ax, h_dNdE_tracks, label = r'tracks_expected events', color = 'mediumslateblue')\n",
    "plt.loglog()"
   ]
  },
  {
   "cell_type": "code",
   "execution_count": 20,
   "metadata": {},
   "outputs": [
    {
     "name": "stdout",
     "output_type": "stream",
     "text": [
      "Setting up Analysis for:\n",
      "MESC_2010_2016\n",
      "Setting up MESC_2010_2016...\n",
      "Reading /data/ana/analyses/mese_cascades/version-001-p02/IC86_2013_MC.npy ...\n",
      "Reading /data/ana/analyses/mese_cascades/version-001-p02/IC79_exp.npy ...\n",
      "Reading /data/ana/analyses/mese_cascades/version-001-p02/IC86_2011_exp.npy ...\n",
      "Reading /data/ana/analyses/mese_cascades/version-001-p02/IC86_2012_exp.npy ...\n",
      "Reading /data/ana/analyses/mese_cascades/version-001-p02/IC86_2013_exp.npy ...\n",
      "Reading /data/ana/analyses/mese_cascades/version-001-p02/IC86_2014_exp.npy ...\n",
      "Reading /data/ana/analyses/mese_cascades/version-001-p02/IC86_2015_exp.npy ...\n",
      "Reading /data/ana/analyses/mese_cascades/version-001-p02/IC86_2016_exp.npy ...\n",
      "Reading /data/ana/analyses/mese_cascades/version-001-p02/GRL/IC79_exp.npy ...\n",
      "Reading /data/ana/analyses/mese_cascades/version-001-p02/GRL/IC86_2011_exp.npy ...\n",
      "Reading /data/ana/analyses/mese_cascades/version-001-p02/GRL/IC86_2012_exp.npy ...\n",
      "Reading /data/ana/analyses/mese_cascades/version-001-p02/GRL/IC86_2013_exp.npy ...\n",
      "Reading /data/ana/analyses/mese_cascades/version-001-p02/GRL/IC86_2014_exp.npy ...\n",
      "Reading /data/ana/analyses/mese_cascades/version-001-p02/GRL/IC86_2015_exp.npy ...\n",
      "Reading /data/ana/analyses/mese_cascades/version-001-p02/GRL/IC86_2016_exp.npy ...\n",
      "Energy PDF Ratio Model...\n",
      "  * gamma = 4.0000 ...\n",
      "Signal Acceptance Model...\n",
      "  * gamma = 4.0000 ...\n",
      "Done.\n"
     ]
    }
   ],
   "source": [
    "specs = cy.selections.MESEDataSpecs.mesc_7yr\n",
    "ana = cy.get_analysis(repo, 'version-001-p02', specs)"
   ]
  },
  {
   "cell_type": "code",
   "execution_count": 21,
   "metadata": {},
   "outputs": [
    {
     "data": {
      "image/png": "[encoded data removed]",
      "text/plain": [
       "<Figure size 360x360 with 1 Axes>"
      ]
     },
     "metadata": {
      "needs_background": "light"
     },
     "output_type": "display_data"
    }
   ],
   "source": [
    "plt.rc ('font', size=16)\n",
    "fig, ax1 = plt.subplots(1,1, figsize=(5,5))\n",
    "label = 'MESC'\n",
    "dec_deg_min = -5\n",
    "dec_deg_max = 90\n",
    "#mese_northern_hist = effa_plot(ax1, ana, dec_deg_min = dec_deg_min, \n",
    "#                               dec_deg_max = dec_deg_max, label = 'MESC-North', color = 'brown', ls='-')\n",
    "\n",
    "dec_deg_min = -90\n",
    "dec_deg_max = -5\n",
    "mese_southern_hist = effa_plot_notlogged(ax1,ana, dec_deg_min = dec_deg_min, \n",
    "                               dec_deg_max = dec_deg_max, label = 'MESC-South', color = 'brown', ls = '-.')\n",
    "\n",
    "\n",
    "\n",
    "\n",
    "#plot_dir = cy.utils.ensure_dir('/home/ssclafani/public_html/TechLead/DataSet_Plots/{}'.format(label))\n",
    "#cy.plotting.saving (plot_dir, 'effa_{}_{}_{}'.format(label, str(dec_deg_min).replace('-', 'm'), str(dec_deg_max).replace('-', 'm')))\n"
   ]
  },
  {
   "cell_type": "code",
   "execution_count": 22,
   "metadata": {},
   "outputs": [],
   "source": [
    "a = ana.anas[-1]"
   ]
  },
  {
   "cell_type": "code",
   "execution_count": 23,
   "metadata": {},
   "outputs": [
    {
     "data": {
      "text/plain": [
       "[]"
      ]
     },
     "execution_count": 23,
     "metadata": {},
     "output_type": "execute_result"
    },
    {
     "data": {
      "image/png": "[encoded data removed]",
      "text/plain": [
       "<Figure size 432x288 with 1 Axes>"
      ]
     },
     "metadata": {
      "needs_background": "light"
     },
     "output_type": "display_data"
    }
   ],
   "source": [
    "fig, ax = plt.subplots()\n",
    "bins=10**np.arange(2,6.01,dlogE)\n",
    "\n",
    "dec_deg_max = -5\n",
    "dec_deg_min = -90\n",
    "mask = (a.sig.dec < np.radians(dec_deg_max)) & (a.sig.dec > np.radians(dec_deg_min))\n",
    "h_dNdE_mese = hl.hist((a.sig[mask].true_energy), \n",
    "                      365*86400*dndenorm*1e-18*a.sig[mask].oneweight*(a.sig[mask].true_energy/1e5)**-dndegamma, \n",
    "                      bins=bins)\n",
    "tot_mese = sum(365*86400*dndenorm*1e-18*a.sig[mask].oneweight*(a.sig[mask].true_energy/1e5)**-dndegamma)\n",
    "hl.plot1d(ax, h_dNdE_mese, label = r'mese_expected events', color = 'mediumslateblue')\n",
    "plt.loglog()"
   ]
  },
  {
   "cell_type": "code",
   "execution_count": null,
   "metadata": {},
   "outputs": [],
   "source": []
  },
  {
   "cell_type": "code",
   "execution_count": 24,
   "metadata": {},
   "outputs": [],
   "source": [
    "repo = cy.selections.Repository()"
   ]
  },
  {
   "cell_type": "code",
   "execution_count": 25,
   "metadata": {},
   "outputs": [
    {
     "name": "stdout",
     "output_type": "stream",
     "text": [
      "Setting up Analysis for:\n",
      "DNNCascade_10yr\n",
      "Setting up DNNCascade_10yr...\n",
      "Reading /data/ana/analyses/dnn_cascades/version-001-p01/MC_NuGen_bfrv1_2153x.npy ...\n",
      "Reading /data/ana/analyses/dnn_cascades/version-001-p01/IC86_2011_exp.npy ...\n",
      "Reading /data/ana/analyses/dnn_cascades/version-001-p01/IC86_2012_exp.npy ...\n",
      "Reading /data/ana/analyses/dnn_cascades/version-001-p01/IC86_2013_exp.npy ...\n",
      "Reading /data/ana/analyses/dnn_cascades/version-001-p01/IC86_2014_exp.npy ...\n",
      "Reading /data/ana/analyses/dnn_cascades/version-001-p01/IC86_2015_exp.npy ...\n",
      "Reading /data/ana/analyses/dnn_cascades/version-001-p01/IC86_2016_exp.npy ...\n",
      "Reading /data/ana/analyses/dnn_cascades/version-001-p01/IC86_2017_exp.npy ...\n",
      "Reading /data/ana/analyses/dnn_cascades/version-001-p01/IC86_2018_exp.npy ...\n",
      "Reading /data/ana/analyses/dnn_cascades/version-001-p01/IC86_2019_exp.npy ...\n",
      "Reading /data/ana/analyses/dnn_cascades/version-001-p01/IC86_2020_exp.npy ...\n",
      "Reading /data/ana/analyses/dnn_cascades/version-001-p01/GRL/IC86_2011_exp.npy ...\n",
      "Reading /data/ana/analyses/dnn_cascades/version-001-p01/GRL/IC86_2012_exp.npy ...\n",
      "Reading /data/ana/analyses/dnn_cascades/version-001-p01/GRL/IC86_2013_exp.npy ...\n",
      "Reading /data/ana/analyses/dnn_cascades/version-001-p01/GRL/IC86_2014_exp.npy ...\n",
      "Reading /data/ana/analyses/dnn_cascades/version-001-p01/GRL/IC86_2015_exp.npy ...\n",
      "Reading /data/ana/analyses/dnn_cascades/version-001-p01/GRL/IC86_2016_exp.npy ...\n",
      "Reading /data/ana/analyses/dnn_cascades/version-001-p01/GRL/IC86_2017_exp.npy ...\n",
      "Reading /data/ana/analyses/dnn_cascades/version-001-p01/GRL/IC86_2018_exp.npy ...\n",
      "Reading /data/ana/analyses/dnn_cascades/version-001-p01/GRL/IC86_2019_exp.npy ...\n",
      "Reading /data/ana/analyses/dnn_cascades/version-001-p01/GRL/IC86_2020_exp.npy ...\n",
      "Energy PDF Ratio Model...\n",
      "  * gamma = 4.0000 ...\n",
      "Signal Acceptance Model...\n",
      "  * gamma = 4.0000 ...\n",
      "Done.\n"
     ]
    }
   ],
   "source": [
    "#specs = [Cascades]\n",
    "specs = cy.selections.DNNCascadeDataSpecs.DNNC_10yr\n",
    "ana = cy.get_analysis (repo, 'version-001-p01', specs)"
   ]
  },
  {
   "cell_type": "code",
   "execution_count": 26,
   "metadata": {},
   "outputs": [],
   "source": [
    "a = ana[0]"
   ]
  },
  {
   "cell_type": "code",
   "execution_count": 27,
   "metadata": {},
   "outputs": [
    {
     "name": "stdout",
     "output_type": "stream",
     "text": [
      "Events(59592 items | columns: azimuth, dec, energy, event, log10energy, mjd, ra, run, sigma, sindec, subevent)\n"
     ]
    }
   ],
   "source": [
    "print(a.data)"
   ]
  },
  {
   "cell_type": "code",
   "execution_count": 28,
   "metadata": {},
   "outputs": [
    {
     "data": {
      "text/plain": [
       "53"
      ]
     },
     "execution_count": 28,
     "metadata": {},
     "output_type": "execute_result"
    }
   ],
   "source": [
    "a = ana.anas[-1]\n",
    "mask = (a.data.log10energy > 5) & (a.data.dec > np.radians(-5))\n",
    "sum(mask)"
   ]
  },
  {
   "cell_type": "code",
   "execution_count": 29,
   "metadata": {},
   "outputs": [
    {
     "data": {
      "image/png": "[encoded data removed]",
      "text/plain": [
       "<Figure size 360x360 with 1 Axes>"
      ]
     },
     "metadata": {
      "needs_background": "light"
     },
     "output_type": "display_data"
    }
   ],
   "source": [
    "plt.rc ('font', size=16)\n",
    "fig, ax1 = plt.subplots(1,1, figsize=(5,5))\n",
    "label = 'DNNCascade'\n",
    "#dec_deg_min = -5\n",
    "#dec_deg_max = 90\n",
    "#DNNC_northern_hist = effa_plot(ax1, ana, dec_deg_min = dec_deg_min, dec_deg_max = dec_deg_max, label = 'DNNC-v0-North', color = 'C3', ls='-')\n",
    "\n",
    "dec_deg_min = -90\n",
    "dec_deg_max = -5\n",
    "DNNC_southern_hist = effa_plot_notlogged(ax1,ana, dec_deg_min = dec_deg_min, dec_deg_max = dec_deg_max, label = 'DNNC-v0-South', color = 'C3', ls = '-.')\n",
    "\n",
    "\n",
    "\n",
    "\n",
    "#plot_dir = cy.utils.ensure_dir('/home/ssclafani/public_html/TechLead/DataSet_Plots/{}'.format(label))\n",
    "#cy.plotting.saving (plot_dir, 'effa_{}_{}_{}'.format(label, str(dec_deg_min).replace('-', 'm'), str(dec_deg_max).replace('-', 'm')))\n"
   ]
  },
  {
   "cell_type": "code",
   "execution_count": 30,
   "metadata": {},
   "outputs": [
    {
     "data": {
      "text/plain": [
       "[]"
      ]
     },
     "execution_count": 30,
     "metadata": {},
     "output_type": "execute_result"
    },
    {
     "data": {
      "image/png": "[encoded data removed]",
      "text/plain": [
       "<Figure size 432x288 with 1 Axes>"
      ]
     },
     "metadata": {
      "needs_background": "light"
     },
     "output_type": "display_data"
    }
   ],
   "source": [
    "fig, ax = plt.subplots()\n",
    "bins=10**np.arange(2,6.01,dlogE)\n",
    "dec_deg_max = -5\n",
    "dec_deg_min = -90\n",
    "mask = (a.sig.dec < np.radians(dec_deg_max)) & (a.sig.dec > np.radians(dec_deg_min))\n",
    "h_dNdE_dnnc = hl.hist((a.sig[mask].true_energy), \n",
    "                      365*86400*dndenorm*1e-18*a.sig[mask].oneweight*(a.sig[mask].true_energy/1e5)**-dndegamma, \n",
    "                      bins=bins)\n",
    "tot_dnnc =sum(365*86400*dndenorm*1e-18*a.sig[mask].oneweight*(a.sig[mask].true_energy/1e5)**-dndegamma)\n",
    "hl.plot1d(ax, h_dNdE_dnnc, label = r'dnnc_expected events', color = 'mediumslateblue')\n",
    "plt.loglog()"
   ]
  },
  {
   "cell_type": "code",
   "execution_count": 31,
   "metadata": {},
   "outputs": [],
   "source": [
    "soft_colors = cy.plotting.soft_colors"
   ]
  },
  {
   "cell_type": "code",
   "execution_count": 32,
   "metadata": {},
   "outputs": [
    {
     "data": {
      "text/plain": [
       "Text(0, 0.5, 'Expected Events per year (E$^{-3}$)')"
      ]
     },
     "execution_count": 32,
     "metadata": {},
     "output_type": "execute_result"
    },
    {
     "data": {
      "image/png": "[encoded data removed]",
      "text/plain": [
       "<Figure size 432x288 with 1 Axes>"
      ]
     },
     "metadata": {
      "needs_background": "light"
     },
     "output_type": "display_data"
    }
   ],
   "source": [
    "fig, ax = plt.subplots()\n",
    "hl.plot1d(ax, h_dNdE_dnnc, label = r'dnnc {:.3f}'.format(tot_dnnc), color = 'C0')\n",
    "hl.plot1d(ax, h_dNdE_tracks, label = r'tracks {:.3f}'.format(tot_tracks), color = 'C1')\n",
    "hl.plot1d(ax, h_dNdE_mese, label = r'mese {:.3f}'.format(tot_mese), color = 'C2')\n",
    "plt.loglog()\n",
    "plt.legend()\n",
    "plt.ylabel('Expected Events per year (E$^{-3}$)')\n",
    "#plt.xlim(3,7)"
   ]
  },
  {
   "cell_type": "code",
   "execution_count": 33,
   "metadata": {},
   "outputs": [],
   "source": [
    "import seaborn as sns"
   ]
  },
  {
   "cell_type": "code",
   "execution_count": 34,
   "metadata": {},
   "outputs": [],
   "source": [
    "colors = sns.color_palette('bright', n_colors=10)"
   ]
  },
  {
   "cell_type": "code",
   "execution_count": 35,
   "metadata": {},
   "outputs": [],
   "source": [
    "colors = ['#0B3D53', '#FF7F0E',  '#5C9FC9']"
   ]
  },
  {
   "cell_type": "code",
   "execution_count": 36,
   "metadata": {},
   "outputs": [
    {
     "data": {
      "text/plain": [
       "array(1119118.13037048)"
      ]
     },
     "execution_count": 36,
     "metadata": {},
     "output_type": "execute_result"
    }
   ],
   "source": [
    "h_dNdE_dnnc.integrate().values"
   ]
  },
  {
   "cell_type": "code",
   "execution_count": 49,
   "metadata": {},
   "outputs": [
    {
     "name": "stdout",
     "output_type": "stream",
     "text": [
      "-> /home/ssclafani/plots/paperplots_embargo/Fig2/effa_ps_tracks_cascades_bothaxis\n"
     ]
    },
    {
     "data": {
      "image/png": "[encoded data removed]",
      "text/plain": [
       "<Figure size 864x432 with 2 Axes>"
      ]
     },
     "metadata": {
      "needs_background": "light"
     },
     "output_type": "display_data"
    }
   ],
   "source": [
    "plt.rc('font', size=18)\n",
    "label = 'ps_tracks_cascades'\n",
    "fig, (ax1, ax2) = plt.subplots(1, 2, figsize = (12,6))\n",
    "\n",
    "\n",
    "hl.plot1d(ax1, ps_southern_hist, label=r'Tracks [\\textsf{IceCube (2020)}]', \n",
    "          color = 'grey', lw=3, ls='-', zorder=-1, vectorized=True)\n",
    "hl.plot1d(ax1, mese_southern_hist, label=r' Cascades [\\textsf{IceCube (2019)}]', \n",
    "          color = colors[2], lw=3, ls='-', zorder=-1,  vectorized=True)\n",
    "hl.plot1d(ax1, DNNC_southern_hist, label=r'\\textsf{This Work}', color = colors[0], lw=4,ls='-',  vectorized=True)\n",
    "\n",
    "hl.plot1d(ax2, h_dNdE_dnnc, lw=4, label = r'n$_{{signal}}$: {:.1f}'.format(tot_dnnc), color = colors[0],  vectorized=True)\n",
    "hl.plot1d(ax2, h_dNdE_mese,lw=3,  label = r'n$_{{signal}}$: {:.1f}'.format(tot_mese), color = colors[2],  vectorized=True)\n",
    "hl.plot1d(ax2, h_dNdE_tracks, lw=3, label = r'n$_{{signal}}$: {:.1f}'.format(tot_tracks), color = 'grey',  vectorized=True)\n",
    "\n",
    "\n",
    "ax2.loglog()\n",
    "ax2.set_ylabel(r'N$_\\textsf{Astro}$ [year$^{-1}$] (-90$^\\circ$ $<$ $\\delta$ $<$ -5$^\\circ$)')\n",
    "\n",
    "ax2.set_ylim(1e-2,20)\n",
    "ax2.set_yticks([1e-2, 1e-1, 1,10])\n",
    "#fig.suptitle('-90$^\\circ$ $<$ $\\delta$ $<$ -5$^\\circ$')\n",
    "\n",
    "handles, labels = ax1.get_legend_handles_labels()\n",
    "ax1.legend(handles[::-1], labels[::-1])#, loc='lower right')\n",
    "\n",
    "ax1.set_ylabel('A$_\\mathsf{Eff}$ [m$^2$] (-90$^\\circ$ $<$ $\\delta$ $<$ -5$^\\circ$)')\n",
    "ax2.set_xlabel(r'E$_\\nu$ [GeV]')\n",
    "ax1.set_xlabel(r'E$_\\nu$ [GeV]')\n",
    "\n",
    "\n",
    "ax1.loglog()\n",
    "ax1.set_xlim(700, 1e6)\n",
    "ax2.set_xlim(700, 1e6)\n",
    "\n",
    "ax1.set_ylim(1e-5,2e2)\n",
    "if embargo_label:\n",
    "    ax1.text(1e3, 100, r'Under Embargo, Not For Proceedings', \n",
    "             weight='bold', c='r', alpha=1,size=16)\n",
    "    ax2.text(1e3, 1.2e-2, r'Under Embargo, Not For Proceedings', \n",
    "             weight='bold', c='r', alpha=1,size=16)  \n",
    "#ax1.set_yticks('both')\n",
    "#ax1.text(1.8, 700, 'IceCube Preliminary', c='r')\n",
    "plt.tight_layout()\n",
    "#plot_dir = cy.utils.ensure_dir('/home/ssclafani/public_html/TechLead/DataSet_Plots/{}'.format(label))\n",
    "cy.plotting.saving (plot_dir, 'effa_{}_bothaxis'.format(label), dpi=400)"
   ]
  },
  {
   "cell_type": "code",
   "execution_count": 38,
   "metadata": {},
   "outputs": [],
   "source": [
    "#systematics\n",
    "import pandas as pd\n"
   ]
  },
  {
   "cell_type": "code",
   "execution_count": 39,
   "metadata": {},
   "outputs": [],
   "source": [
    "sys = pd.read_hdf('/data/ana/PointSource/DNNCascade/analysis/version-001-p01/systematics/SnowStorm_Spice321/MC_NuGen_snowstorm_214xx.hdf',)"
   ]
  },
  {
   "cell_type": "code",
   "execution_count": 40,
   "metadata": {},
   "outputs": [
    {
     "name": "stdout",
     "output_type": "stream",
     "text": [
      "Reweighting Snowstorm set\n",
      "1.0 1.0 1.0\n",
      "2217128 2217128 2217128.0\n"
     ]
    }
   ],
   "source": [
    "priors_dict = {\n",
    "   #'Absorption': [.9, 0.95], #[0.9, 1.0],\n",
    "    #'Scattering': [1.05, 1.1], #[0.9, 1.1],\n",
    "    #'AnisotropyScale': [0, 2], #[0., 2.],\n",
    "    #'DOMEfficiency': [0.9,0.95],\n",
    "    #'HoleIceForward_Unified_00': [-1, 0.00], #[-0.65, 0.65],\n",
    "   # 'HoleIceForward_Unified_01': [-0.2, -0.0], #[-0.2, 0.2],\n",
    "}\n",
    "snowstorm_simulation_range = {\n",
    "    'Scattering': [0.9, 1.1],\n",
    "    'Absorption': [0.9, 1.1],\n",
    "    'AnisotropyScale': [0., 2.],\n",
    "    'DOMEfficiency': [0.9, 1.1],\n",
    "    'HoleIceForward_Unified_00': [-1.0, 1.0],\n",
    "    'HoleIceForward_Unified_01': [-0.2, 0.2],\n",
    "}\n",
    "\n",
    "def rename_snowstorm_params(df):\n",
    "    parameter_names=[\n",
    "        'Scattering', 'Absorption', 'AnisotropyScale', \n",
    "        'DOMEfficiency', 'HoleIceForward_Unified_00', \n",
    "        'HoleIceForward_Unified_01',\n",
    "    ]\n",
    "    for i, param in enumerate(parameter_names):\n",
    "        df[param] = df['SnowstormParameters_{:05d}'.format(i)]\n",
    "\n",
    "def get_snowstorm_multiplier(\n",
    "        df,\n",
    "        priors_dict,\n",
    "        simulation_range=snowstorm_simulation_range,\n",
    "        verbose=False,\n",
    "    ):\n",
    "    \"\"\"Reweight snowstorm\n",
    "    \n",
    "    Parameters\n",
    "    ----------\n",
    "    df: DataFrame or dict\n",
    "        The dataframe or dictionary containing the SnowStorm\n",
    "        parameters. \n",
    "    priors_dict : dict\n",
    "        A dictionary with uniform Snowstorm priors defined\n",
    "        as a tuple of (min, max).\n",
    "    \"\"\"\n",
    "    w_multiplier = 1.0\n",
    "    mask = np.ones_like(df[list(simulation_range.keys())[0]], dtype=bool)\n",
    "    for name, prior in priors_dict.items():\n",
    "        \n",
    "        prior_orig = simulation_range[name]\n",
    "        assert prior[1] >= prior[0] and prior_orig[1] >= prior_orig[0]\n",
    "        assert prior[0] >= prior_orig[0] and prior[0] <= prior_orig[1]\n",
    "        assert prior[1] >= prior_orig[0] and prior[1] <= prior_orig[1]\n",
    "        \n",
    "        range_sim = prior_orig[1] - prior_orig[0]\n",
    "        range_new = prior[1] - prior[0]\n",
    "        w_multiplier *= range_sim / range_new\n",
    "        mask = np.logical_and(mask, df[name] >= prior[0])\n",
    "        mask = np.logical_and(mask, df[name] <= prior[1])\n",
    "    \n",
    "    \n",
    "    snowstorm_multiplier = np.ones_like(mask) * mask.astype(float) * w_multiplier\n",
    "    if verbose:\n",
    "        print(np.sum(mask) / float(len(mask)), 1./w_multiplier, w_multiplier)\n",
    "        print(np.sum(mask), len(mask), np.sum(snowstorm_multiplier))\n",
    "    return snowstorm_multiplier\n",
    "        \n",
    "\n",
    "print('Reweighting Snowstorm set')\n",
    "rename_snowstorm_params(sys)\n",
    "sys['snowstorm_multiplier'] = get_snowstorm_multiplier(\n",
    "    df=sys,\n",
    "    priors_dict=priors_dict,\n",
    "    verbose=True,\n",
    ")\n",
    "\n"
   ]
  },
  {
   "cell_type": "code",
   "execution_count": 41,
   "metadata": {},
   "outputs": [
    {
     "name": "stderr",
     "output_type": "stream",
     "text": [
      "/home/ssclafani/.vens/py3_venv/lib/python3.7/site-packages/pandas/core/computation/expressions.py:201: UserWarning: evaluating in Python space because the '*' operator is not supported by numexpr for the bool dtype, use '&' instead\n",
      "  f\"evaluating in Python space because the {repr(op_str)} \"\n"
     ]
    },
    {
     "data": {
      "image/png": "[encoded data removed]",
      "text/plain": [
       "<Figure size 360x360 with 1 Axes>"
      ]
     },
     "metadata": {
      "needs_background": "light"
     },
     "output_type": "display_data"
    }
   ],
   "source": [
    "fig, ax = plt.subplots(figsize=(5,5))\n",
    "dec_deg_max = -5\n",
    "dec_deg_min = -90\n",
    "mask = (sys.dec < np.radians(dec_deg_max)) & (sys.dec > np.radians(dec_deg_min))\n",
    "\n",
    "dlogE=.1 #.1\n",
    "bins = 10**np.arange(2,7,dlogE)\n",
    "solid_angle=2*np.pi*(np.sin(np.radians(dec_deg_max))-np.sin(np.radians(dec_deg_min)))\n",
    "area= 1/ (1e4*np.log(10)) * (sys['snowstorm_multiplier'][mask] * sys.ow[mask] / ( sys.trueE[mask] *  solid_angle *  dlogE))\n",
    "\n",
    "h = hl.hist((sys.trueE[mask]), weights=area, bins=bins);\n",
    "hl.plot1d(h, histtype='step', linewidth=2, color='C0', label='sys', ls = '-', log=True)\n",
    "ax.loglog()\n",
    "\n",
    "ax.grid()\n",
    "ax.legend(loc='lower right')\n",
    "ax.set_ylabel('$A_\\mathsf{Eff}$($m^2$)')\n",
    "ax.set_xlabel('log$_{10}$(E) [GeV]')\n",
    "\n",
    "ax.set_xlim((10**2,10**7))\n",
    "ax.set_ylim((1e-4,1e3))\n",
    "plt.tight_layout()\n"
   ]
  },
  {
   "cell_type": "code",
   "execution_count": 42,
   "metadata": {},
   "outputs": [
    {
     "data": {
      "text/plain": [
       "<matplotlib.lines.Line2D at 0x7fe88e8d9a10>"
      ]
     },
     "execution_count": 42,
     "metadata": {},
     "output_type": "execute_result"
    },
    {
     "data": {
      "image/png": "[encoded data removed]",
      "text/plain": [
       "<Figure size 576x576 with 2 Axes>"
      ]
     },
     "metadata": {
      "needs_background": "light"
     },
     "output_type": "display_data"
    }
   ],
   "source": [
    "fig, (ax1,ax2)  = plt.subplots(2,1 , figsize=(8,8), sharex=True,  gridspec_kw={\"height_ratios\":[2,1]})\n",
    "hl.plot1d(ax1, DNNC_southern_hist, label='Baseline');\n",
    "hl.plot1d(ax1, h, label='SystematicsScat greater 1.05')\n",
    "ax1.loglog()\n",
    "ax1.legend()\n",
    "ax1.set_ylabel('Aeff [m$^2$]')\n",
    "ax1.set_xlim(500,1e7)\n",
    "\n",
    "hl.plot1d(ax2, h/DNNC_southern_hist)\n",
    "ax2.semilogx()\n",
    "ax2.set_ylim(.8,1.20)\n",
    "ax2.set_yticks([.8,.9,1.0,1.1,1.2])\n",
    "ax2.grid()\n",
    "ax2.set_ylabel('Ratio sys/baseline')\n",
    "ax2.axhline(1.0, ls='--', c='k')"
   ]
  },
  {
   "cell_type": "code",
   "execution_count": 43,
   "metadata": {
    "scrolled": true
   },
   "outputs": [
    {
     "name": "stdout",
     "output_type": "stream",
     "text": [
      "bin energy : 1e+02 ratio : inf \n",
      "bin energy : 1.26e+02 ratio : nan \n",
      "bin energy : 1.58e+02 ratio : 1.56 \n",
      "bin energy : 2e+02 ratio : inf \n",
      "bin energy : 2.51e+02 ratio : inf \n",
      "bin energy : 3.16e+02 ratio : 2.73 \n",
      "bin energy : 3.98e+02 ratio : 1.42 \n",
      "bin energy : 5.01e+02 ratio : 1.17 \n",
      "bin energy : 6.31e+02 ratio : 0.963 \n",
      "bin energy : 7.94e+02 ratio : 0.962 \n",
      "bin energy : 1e+03 ratio : 0.989 \n",
      "bin energy : 1.26e+03 ratio : 0.986 \n",
      "bin energy : 1.58e+03 ratio : 0.97 \n",
      "bin energy : 2e+03 ratio : 0.999 \n",
      "bin energy : 2.51e+03 ratio : 0.974 \n",
      "bin energy : 3.16e+03 ratio : 0.972 \n",
      "bin energy : 3.98e+03 ratio : 0.967 \n",
      "bin energy : 5.01e+03 ratio : 0.964 \n",
      "bin energy : 6.31e+03 ratio : 0.948 \n",
      "bin energy : 7.94e+03 ratio : 0.961 \n",
      "bin energy : 1e+04 ratio : 0.964 \n",
      "bin energy : 1.26e+04 ratio : 0.974 \n",
      "bin energy : 1.58e+04 ratio : 0.961 \n",
      "bin energy : 2e+04 ratio : 0.982 \n",
      "bin energy : 2.51e+04 ratio : 0.965 \n",
      "bin energy : 3.16e+04 ratio : 0.936 \n",
      "bin energy : 3.98e+04 ratio : 0.95 \n",
      "bin energy : 5.01e+04 ratio : 0.934 \n",
      "bin energy : 6.31e+04 ratio : 0.941 \n",
      "bin energy : 7.94e+04 ratio : 0.961 \n",
      "bin energy : 1e+05 ratio : 0.968 \n",
      "bin energy : 1.26e+05 ratio : 0.984 \n",
      "bin energy : 1.58e+05 ratio : 0.948 \n",
      "bin energy : 2e+05 ratio : 0.931 \n",
      "bin energy : 2.51e+05 ratio : 0.968 \n",
      "bin energy : 3.16e+05 ratio : 0.937 \n",
      "bin energy : 3.98e+05 ratio : 0.95 \n",
      "bin energy : 5.01e+05 ratio : 0.953 \n",
      "bin energy : 6.31e+05 ratio : 1.04 \n",
      "bin energy : 7.94e+05 ratio : 0.92 \n",
      "bin energy : 1e+06 ratio : 1.01 \n",
      "bin energy : 1.26e+06 ratio : 0.955 \n",
      "bin energy : 1.58e+06 ratio : 0.961 \n",
      "bin energy : 2e+06 ratio : 0.928 \n",
      "bin energy : 2.51e+06 ratio : 1.05 \n",
      "bin energy : 3.16e+06 ratio : 0.915 \n",
      "bin energy : 3.98e+06 ratio : 1.0 \n",
      "bin energy : 5.01e+06 ratio : 1.1 \n",
      "bin energy : 6.31e+06 ratio : 1.08 \n"
     ]
    }
   ],
   "source": [
    "hratio = (h/DNNC_southern_hist)\n",
    "for i in range(len((hratio.values))):\n",
    "    print('bin energy : {:.3} ratio : {:.3} '.format(  hratio.bins[0][i], hratio.values[i] ))"
   ]
  },
  {
   "cell_type": "code",
   "execution_count": 44,
   "metadata": {},
   "outputs": [
    {
     "data": {
      "text/plain": [
       "array([1.00000000e+02, 1.25892541e+02, 1.58489319e+02, 1.99526231e+02,\n",
       "       2.51188643e+02, 3.16227766e+02, 3.98107171e+02, 5.01187234e+02,\n",
       "       6.30957344e+02, 7.94328235e+02, 1.00000000e+03, 1.25892541e+03,\n",
       "       1.58489319e+03, 1.99526231e+03, 2.51188643e+03, 3.16227766e+03,\n",
       "       3.98107171e+03, 5.01187234e+03, 6.30957344e+03, 7.94328235e+03,\n",
       "       1.00000000e+04, 1.25892541e+04, 1.58489319e+04, 1.99526231e+04,\n",
       "       2.51188643e+04, 3.16227766e+04, 3.98107171e+04, 5.01187234e+04,\n",
       "       6.30957344e+04, 7.94328235e+04, 1.00000000e+05, 1.25892541e+05,\n",
       "       1.58489319e+05, 1.99526231e+05, 2.51188643e+05, 3.16227766e+05,\n",
       "       3.98107171e+05, 5.01187234e+05, 6.30957344e+05, 7.94328235e+05,\n",
       "       1.00000000e+06, 1.25892541e+06, 1.58489319e+06, 1.99526231e+06,\n",
       "       2.51188643e+06, 3.16227766e+06, 3.98107171e+06, 5.01187234e+06,\n",
       "       6.30957344e+06, 7.94328235e+06])"
      ]
     },
     "execution_count": 44,
     "metadata": {},
     "output_type": "execute_result"
    }
   ],
   "source": [
    "hratio.bins[0]"
   ]
  },
  {
   "cell_type": "code",
   "execution_count": null,
   "metadata": {},
   "outputs": [],
   "source": []
  },
  {
   "cell_type": "code",
   "execution_count": null,
   "metadata": {},
   "outputs": [],
   "source": []
  },
  {
   "cell_type": "code",
   "execution_count": 45,
   "metadata": {},
   "outputs": [
    {
     "name": "stdout",
     "output_type": "stream",
     "text": [
      "-> /home/ssclafani/plots/paperplots_embargo/Fig2/effa_ps_tracks_cascades_South\n"
     ]
    },
    {
     "data": {
      "image/png": "[encoded data removed]",
      "text/plain": [
       "<Figure size 432x432 with 2 Axes>"
      ]
     },
     "metadata": {
      "needs_background": "light"
     },
     "output_type": "display_data"
    }
   ],
   "source": [
    "plt.rc('font', size=15)\n",
    "label = 'ps_tracks_cascades'\n",
    "fig, (ax1, ax2) = plt.subplots(2, 1, figsize = (6,6), \n",
    "                               gridspec_kw = {'height_ratios':[3, 1]}, sharex=True)\n",
    "\n",
    "\n",
    "hl.plot1d(ax1, ps_southern_hist, label=r'Tracks [\\textsf{Aartsen et al.(2020)}]', \n",
    "          color = 'grey', lw=2, ls='-', zorder=-1)\n",
    "hl.plot1d(ax1, mese_southern_hist, label=r' Cascades [\\textsf{Aartsen et al.(2019)}]', \n",
    "          color = colors[2], lw=2, ls='-', zorder=-1)\n",
    "hl.plot1d(ax1, DNNC_southern_hist, label=r'\\textsf{This Work}', color = colors[0], lw=3,ls='-')\n",
    "\n",
    "\n",
    "\n",
    "#hl.plot1d(ax2, DNNC_southern_hist /ps_southern_hist, color = 'grey', \n",
    "#          lw=2, ls='-', log=True)\n",
    "#hl.plot1d(ax2, DNNC_southern_hist / mese_southern_hist    , \n",
    "#          color = colors[2], ls='-', lw=2, log=True)\n",
    "\n",
    "#dnnc_N = h_dNdE_dnnc.integrate().values\n",
    "#tracks_N = h_dNdE_tracks.integrate().values\n",
    "#mese_N = h_dNdE_mese.integrate().values\n",
    "\n",
    "hl.plot1d(ax2, h_dNdE_dnnc, lw=3, label = r'n$_{{signal}}$: {:.1f}'.format(tot_dnnc), color = colors[0])\n",
    "hl.plot1d(ax2, h_dNdE_mese,lw=2,  label = r'n$_{{signal}}$: {:.1f}'.format(tot_mese), color = colors[2])\n",
    "hl.plot1d(ax2, h_dNdE_tracks, lw=2, label = r'n$_{{signal}}$: {:.1f}'.format(tot_tracks), color = 'grey')\n",
    "\n",
    "\n",
    "#ax2.axhline(1,lw =3, color=colors[0])\n",
    "ax2.semilogy()\n",
    "#ax2.set_ylabel(r'dN$_\\textsf{Astro}$/dE [year$^{-1}$]')\n",
    "ax2.set_ylabel(r'$\\frac{\\textsf{dN}_\\textsf{Astro}}{\\textsf{dE}_\\nu}$ [year$^{-1}$]')\n",
    "ax2.set_ylim(1e-2,20)\n",
    "ax2.set_yticks([1e-2, 1e-1, 1,10])\n",
    "#ax2.legend()\n",
    "#ax2.set_ylim(1,500)\n",
    "#ax2.set_yticks([1,10,100])\n",
    "\n",
    "#ax2.set_ylabel(r'$\\frac{\\textsf{This Work}}{\\textsf{Other}}$')\n",
    "ax1.set_title('-90$^\\circ$ $<$ $\\delta$ $<$ -5$^\\circ$')\n",
    "\n",
    "handles, labels = ax1.get_legend_handles_labels()\n",
    "ax1.legend(handles[::-1], labels[::-1])#, loc='lower right')\n",
    "\n",
    "#ax1.legend(loc='lower right', ncol = 1,)\n",
    "ax1.set_ylabel('A$_\\mathsf{Eff}$ [m$^2$]')\n",
    "ax2.set_xlabel(r'E$_\\nu$ [GeV]')\n",
    "\n",
    "\n",
    "ax1.loglog()\n",
    "ax1.set_xlim(500, 1e6)\n",
    "\n",
    "ax1.set_ylim(.4e-4,2e2)\n",
    "#ax1.set_yticks('both')\n",
    "#ax1.text(1.8, 700, 'IceCube Preliminary', c='r')\n",
    "plt.tight_layout()\n",
    "#plot_dir = cy.utils.ensure_dir('/home/ssclafani/public_html/TechLead/DataSet_Plots/{}'.format(label))\n",
    "cy.plotting.saving (plot_dir, 'effa_{}_South'.format(label))"
   ]
  },
  {
   "cell_type": "code",
   "execution_count": null,
   "metadata": {},
   "outputs": [],
   "source": []
  },
  {
   "cell_type": "code",
   "execution_count": null,
   "metadata": {},
   "outputs": [],
   "source": []
  },
  {
   "cell_type": "code",
   "execution_count": null,
   "metadata": {},
   "outputs": [],
   "source": []
  },
  {
   "cell_type": "code",
   "execution_count": null,
   "metadata": {},
   "outputs": [],
   "source": []
  },
  {
   "cell_type": "code",
   "execution_count": null,
   "metadata": {},
   "outputs": [],
   "source": []
  },
  {
   "cell_type": "code",
   "execution_count": null,
   "metadata": {},
   "outputs": [],
   "source": []
  },
  {
   "cell_type": "code",
   "execution_count": null,
   "metadata": {},
   "outputs": [],
   "source": []
  },
  {
   "cell_type": "code",
   "execution_count": null,
   "metadata": {},
   "outputs": [],
   "source": []
  }
 ],
 "metadata": {
  "kernelspec": {
   "display_name": "icerec3",
   "language": "python",
   "name": "icerec3"
  },
  "language_info": {
   "codemirror_mode": {
    "name": "ipython",
    "version": 3
   },
   "file_extension": ".py",
   "mimetype": "text/x-python",
   "name": "python",
   "nbconvert_exporter": "python",
   "pygments_lexer": "ipython3",
   "version": "3.7.5"
  }
 },
 "nbformat": 4,
 "nbformat_minor": 4
}
