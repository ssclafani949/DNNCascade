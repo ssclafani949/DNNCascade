{
 "cells": [
  {
   "cell_type": "code",
   "execution_count": 1,
   "metadata": {},
   "outputs": [],
   "source": [
    "# Calculate Upper Limits for Each source in the unblinded source list and format as a latex table"
   ]
  },
  {
   "cell_type": "code",
   "execution_count": 2,
   "metadata": {},
   "outputs": [],
   "source": [
    "import csky as cy\n",
    "import pandas as pd\n",
    "import numpy as np"
   ]
  },
  {
   "cell_type": "code",
   "execution_count": 3,
   "metadata": {},
   "outputs": [
    {
     "name": "stdout",
     "output_type": "stream",
     "text": [
      "Running as User: ssclafani on Hostname: cobalt05.icecube.wisc.edu\n"
     ]
    }
   ],
   "source": [
    "import sys\n",
    "sys.path.insert(0, '../..')\n",
    "\n",
    "import config as cg\n",
    "import trials as trials\n",
    "cg.base_dir = '/data/user/mhuennefeld/data/analyses/unblinding_v1.0.0/'"
   ]
  },
  {
   "cell_type": "code",
   "execution_count": 4,
   "metadata": {},
   "outputs": [],
   "source": [
    "base_dir = '/data/user/ssclafani/data/analyses/baseline_unblind_v1.0.0/'"
   ]
  },
  {
   "cell_type": "code",
   "execution_count": 5,
   "metadata": {},
   "outputs": [],
   "source": [
    "results = np.load(base_dir + 'ps/results/fulllist_unblinded.npy', \n",
    "                  allow_pickle=True)"
   ]
  },
  {
   "cell_type": "code",
   "execution_count": 6,
   "metadata": {},
   "outputs": [],
   "source": [
    "source_list = pd.read_pickle('../../catalogs/Source_List_DNNC.pickle')"
   ]
  },
  {
   "cell_type": "code",
   "execution_count": 7,
   "metadata": {},
   "outputs": [],
   "source": [
    "RA = source_list.to_numpy()[:,1]\n",
    "DEC = source_list.to_numpy()[:,2]"
   ]
  },
  {
   "cell_type": "code",
   "execution_count": 8,
   "metadata": {},
   "outputs": [],
   "source": [
    "repo = cy.selections.Repository(local_root='/data/user/ssclafani/data/analyses')\n",
    "specs = cy.selections.DNNCascadeDataSpecs.DNNC_10yr"
   ]
  },
  {
   "cell_type": "code",
   "execution_count": 9,
   "metadata": {},
   "outputs": [],
   "source": [
    "selection_version = 'version-001-p00'"
   ]
  },
  {
   "cell_type": "code",
   "execution_count": 10,
   "metadata": {},
   "outputs": [
    {
     "name": "stdout",
     "output_type": "stream",
     "text": [
      "Setting up Analysis for:\n",
      "DNNCascade_10yr\n",
      "Setting up DNNCascade_10yr...\n",
      "Reading /data/user/ssclafani/data/analyses/dnn_cascades/version-001-p00/MC_NuGen_bfrv1_2153x.npy ...\n",
      "Reading /data/user/ssclafani/data/analyses/dnn_cascades/version-001-p00/IC86_2011_exp.npy ...\n",
      "Reading /data/user/ssclafani/data/analyses/dnn_cascades/version-001-p00/IC86_2012_exp.npy ...\n",
      "Reading /data/user/ssclafani/data/analyses/dnn_cascades/version-001-p00/IC86_2013_exp.npy ...\n",
      "Reading /data/user/ssclafani/data/analyses/dnn_cascades/version-001-p00/IC86_2014_exp.npy ...\n",
      "Reading /data/user/ssclafani/data/analyses/dnn_cascades/version-001-p00/IC86_2015_exp.npy ...\n",
      "Reading /data/user/ssclafani/data/analyses/dnn_cascades/version-001-p00/IC86_2016_exp.npy ...\n",
      "Reading /data/user/ssclafani/data/analyses/dnn_cascades/version-001-p00/IC86_2017_exp.npy ...\n",
      "Reading /data/user/ssclafani/data/analyses/dnn_cascades/version-001-p00/IC86_2018_exp.npy ...\n",
      "Reading /data/user/ssclafani/data/analyses/dnn_cascades/version-001-p00/IC86_2019_exp.npy ...\n",
      "Reading /data/user/ssclafani/data/analyses/dnn_cascades/version-001-p00/IC86_2020_exp.npy ...\n",
      "Reading /data/user/ssclafani/data/analyses/dnn_cascades/version-001-p00/GRL/IC86_2011_exp.npy ...\n",
      "Reading /data/user/ssclafani/data/analyses/dnn_cascades/version-001-p00/GRL/IC86_2012_exp.npy ...\n",
      "Reading /data/user/ssclafani/data/analyses/dnn_cascades/version-001-p00/GRL/IC86_2013_exp.npy ...\n",
      "Reading /data/user/ssclafani/data/analyses/dnn_cascades/version-001-p00/GRL/IC86_2014_exp.npy ...\n",
      "Reading /data/user/ssclafani/data/analyses/dnn_cascades/version-001-p00/GRL/IC86_2015_exp.npy ...\n",
      "Reading /data/user/ssclafani/data/analyses/dnn_cascades/version-001-p00/GRL/IC86_2016_exp.npy ...\n",
      "Reading /data/user/ssclafani/data/analyses/dnn_cascades/version-001-p00/GRL/IC86_2017_exp.npy ...\n",
      "Reading /data/user/ssclafani/data/analyses/dnn_cascades/version-001-p00/GRL/IC86_2018_exp.npy ...\n",
      "Reading /data/user/ssclafani/data/analyses/dnn_cascades/version-001-p00/GRL/IC86_2019_exp.npy ...\n",
      "Reading /data/user/ssclafani/data/analyses/dnn_cascades/version-001-p00/GRL/IC86_2020_exp.npy ...\n",
      "Energy PDF Ratio Model...\n",
      "  * gamma = 4.0000 ...\n",
      "Signal Acceptance Model...\n",
      "  * gamma = 4.0000 ...\n",
      "Done.\n",
      "CPU times: user 5.44 s, sys: 149 ms, total: 5.59 s\n",
      "Wall time: 5.5 s\n"
     ]
    }
   ],
   "source": [
    "%%time\n",
    "\n",
    "ana = cy.get_analysis(\n",
    "    repo, selection_version, specs, \n",
    "    #gammas=np.r_[0.1:6.01:0.125],\n",
    ")"
   ]
  },
  {
   "cell_type": "code",
   "execution_count": null,
   "metadata": {},
   "outputs": [],
   "source": []
  },
  {
   "cell_type": "code",
   "execution_count": 18,
   "metadata": {},
   "outputs": [
    {
     "data": {
      "text/plain": [
       "\u001b[0;31mSignature:\u001b[0m \u001b[0mcy\u001b[0m\u001b[0;34m.\u001b[0m\u001b[0mutils\u001b[0m\u001b[0;34m.\u001b[0m\u001b[0msources\u001b[0m\u001b[0;34m(\u001b[0m\u001b[0mra\u001b[0m\u001b[0;34m,\u001b[0m \u001b[0mdec\u001b[0m\u001b[0;34m,\u001b[0m \u001b[0;34m**\u001b[0m\u001b[0mkw\u001b[0m\u001b[0;34m)\u001b[0m\u001b[0;34m\u001b[0m\u001b[0;34m\u001b[0m\u001b[0m\n",
       "\u001b[0;31mDocstring:\u001b[0m Convenience wrapper for constructing :class:`Sources` instances.\n",
       "\u001b[0;31mFile:\u001b[0m      /mnt/lfs7/user/ssclafani/software/external/csky/csky/utils.py\n",
       "\u001b[0;31mType:\u001b[0m      function\n"
      ]
     },
     "metadata": {},
     "output_type": "display_data"
    }
   ],
   "source": [
    "cy.utils.sources()"
   ]
  },
  {
   "cell_type": "code",
   "execution_count": null,
   "metadata": {
    "scrolled": true
   },
   "outputs": [
    {
     "name": "stdout",
     "output_type": "stream",
     "text": [
      "0\n",
      "Start time: 2022-01-30 11:55:40.409146\n",
      "Using 18 cores.\n",
      "* Starting initial scan for 90% of 50 trials with TS >= 8.913...\n",
      "  n_sig = 10.000 ... frac = 0.34000\n",
      "  n_sig = 20.000 ... frac = 0.88000\n",
      "  n_sig = 30.000 ... frac = 0.94000\n",
      "* Generating batches of 1000 trials...\n",
      "n_trials | n_inj    0.00   12.00   24.00   36.00   48.00   60.00  |  n_sig(relative error)\n",
      "1000     |          0.8%   51.0%   92.6%   98.7%  100.0%  100.0%  |     22.818 (+/-  2.2%) [chi2.cdf]\n",
      "2000     |          0.9%   50.1%   92.2%   98.9%  100.0%  100.0%  |     23.005 (+/-  1.3%) [chi2.cdf]\n",
      "End time: 2022-01-30 12:00:38.138443\n",
      "Elapsed time: 0:04:57.729297\n",
      "Start time: 2022-01-30 12:00:38.211811\n",
      "Using 18 cores.\n",
      "* Starting initial scan for 90% of 50 trials with TS >= 0.002...\n",
      "  n_sig = 10.000 ... frac = 1.00000\n",
      "* Generating batches of 1000 trials...\n",
      "n_trials | n_inj    0.00    4.00    8.00   12.00   16.00   20.00  |  n_sig(relative error)\n",
      "1000     |         71.2%   89.8%   96.9%   98.6%   99.6%"
     ]
    }
   ],
   "source": [
    "%%time\n",
    "tss = []\n",
    "pre_trial_p = []\n",
    "nss = []\n",
    "gammas = [] \n",
    "ul90_ns = []\n",
    "ul90_flux = []\n",
    "\n",
    "for i, result in enumerate(results[0]):\n",
    "    if i % 5 == 0:\n",
    "        print(i)\n",
    "    src = cy.utils.sources(ra=np.deg2rad(float(RA[i])), dec=np.deg2rad(float(DEC[i])))\n",
    "    conf = cg.get_ps_conf(src, gamma=2.0)\n",
    "    tr = cy.get_trial_runner(ana = ana, conf=conf)\n",
    "    name = 'ts_{:04}'.format(i)\n",
    "    ul = tr.find_n_sig(ts=result[0], beta=0.9, tol=.02, \n",
    "                       batch_size=1000, mp_cpus=18, n_sig_step=10, logging=True)\n",
    "    ul90_ns.append(ul['n_sig'])\n",
    "    ul90_flux.append(tr.to_E2dNdE(ul['n_sig'], E0=100, unit=1e3))\n",
    "    tss.append(result[0])\n",
    "    nss.append(result[1])\n",
    "    gammas.append(result[2])\n",
    "    pre_trial_p.append(result[3])\n",
    "    \n",
    "    "
   ]
  },
  {
   "cell_type": "code",
   "execution_count": null,
   "metadata": {},
   "outputs": [],
   "source": []
  }
 ],
 "metadata": {
  "kernelspec": {
   "display_name": "icerec3",
   "language": "python",
   "name": "icerec3"
  },
  "language_info": {
   "codemirror_mode": {
    "name": "ipython",
    "version": 3
   },
   "file_extension": ".py",
   "mimetype": "text/x-python",
   "name": "python",
   "nbconvert_exporter": "python",
   "pygments_lexer": "ipython3",
   "version": "3.7.5"
  }
 },
 "nbformat": 4,
 "nbformat_minor": 4
}
