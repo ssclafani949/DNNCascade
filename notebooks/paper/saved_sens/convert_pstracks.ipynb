{
 "cells": [
  {
   "cell_type": "code",
   "execution_count": 2,
   "metadata": {},
   "outputs": [],
   "source": [
    "import numpy as np\n",
    "import csky as cy"
   ]
  },
  {
   "cell_type": "code",
   "execution_count": 3,
   "metadata": {},
   "outputs": [],
   "source": [
    "repo = cy.selections.Repository()\n",
    "version = 'version-003-p02'\n",
    "specs = cy.selections.PSDataSpecs.ps_v3"
   ]
  },
  {
   "cell_type": "code",
   "execution_count": 5,
   "metadata": {},
   "outputs": [
    {
     "name": "stdout",
     "output_type": "stream",
     "text": [
      "Setting up Analysis for:\n",
      "IC86v3_2012_2017\n",
      "Setting up IC86v3_2012_2017...\n",
      "Reading /data/ana/analyses/ps_tracks/version-003-p02/IC86_2012_MC.npy ...\n",
      "Reading /data/ana/analyses/ps_tracks/version-003-p02/IC86_2012_exp.npy ...\n",
      "Reading /data/ana/analyses/ps_tracks/version-003-p02/IC86_2013_exp.npy ...\n",
      "Reading /data/ana/analyses/ps_tracks/version-003-p02/IC86_2014_exp.npy ...\n",
      "Reading /data/ana/analyses/ps_tracks/version-003-p02/IC86_2015_exp.npy ...\n",
      "Reading /data/ana/analyses/ps_tracks/version-003-p02/IC86_2016_exp.npy ...\n",
      "Reading /data/ana/analyses/ps_tracks/version-003-p02/IC86_2017_exp.npy ...\n",
      "Reading /data/ana/analyses/ps_tracks/version-003-p02/GRL/IC86_2012_exp.npy ...\n",
      "Reading /data/ana/analyses/ps_tracks/version-003-p02/GRL/IC86_2013_exp.npy ...\n",
      "Reading /data/ana/analyses/ps_tracks/version-003-p02/GRL/IC86_2014_exp.npy ...\n",
      "Reading /data/ana/analyses/ps_tracks/version-003-p02/GRL/IC86_2015_exp.npy ...\n",
      "Reading /data/ana/analyses/ps_tracks/version-003-p02/GRL/IC86_2016_exp.npy ...\n",
      "Reading /data/ana/analyses/ps_tracks/version-003-p02/GRL/IC86_2017_exp.npy ...\n",
      "Energy PDF Ratio Model...\n",
      "  * gamma = 4.0000 ...\n",
      "Signal Acceptance Model...\n",
      "  * gamma = 4.0000 ...\n",
      "Done.\n"
     ]
    }
   ],
   "source": [
    "ana = cy.get_analysis(repo, version, specs)"
   ]
  },
  {
   "cell_type": "code",
   "execution_count": 37,
   "metadata": {},
   "outputs": [],
   "source": [
    "pstracks_10yr = np.loadtxt('pstracks_10yr_E3.txt')\n",
    "pstracks_flux = pstracks_10yr[:,1]\n",
    "pstracks_sd = pstracks_10yr[:,0]"
   ]
  },
  {
   "cell_type": "code",
   "execution_count": 38,
   "metadata": {},
   "outputs": [
    {
     "name": "stdout",
     "output_type": "stream",
     "text": [
      "82.4122842257485447\r"
     ]
    }
   ],
   "source": [
    "fluxs = []\n",
    "for i,dec in enumerate(np.arcsin(pstracks_sd)):\n",
    "    print(np.degrees(dec), end='\\r', flush=True)\n",
    "    src = cy.utils.sources(0, dec=dec)\n",
    "    tr = cy.get_trial_runner(ana=ana, src=src, flux=cy.hyp.PowerLawFlux(3))\n",
    "    ns = tr.to_ns(pstracks_flux[i], E0=1, unit=1e3)\n",
    "    flux_100TeV = tr.to_E2dNdE(ns, E0=100, unit=1e3)\n",
    "    fluxs.append(flux_100TeV)"
   ]
  },
  {
   "cell_type": "code",
   "execution_count": 43,
   "metadata": {},
   "outputs": [],
   "source": [
    "np.save('pstracks10yr_E3_100TeV_conversion.npy', fluxs)"
   ]
  },
  {
   "cell_type": "code",
   "execution_count": 39,
   "metadata": {},
   "outputs": [],
   "source": [
    "import matplotlib.pyplot as plt"
   ]
  },
  {
   "cell_type": "code",
   "execution_count": 40,
   "metadata": {},
   "outputs": [
    {
     "data": {
      "text/plain": [
       "[<matplotlib.lines.Line2D at 0x7f9dc18742d0>]"
      ]
     },
     "execution_count": 40,
     "metadata": {},
     "output_type": "execute_result"
    },
    {
     "data": {
      "image/png": "[encoded data removed]",
      "text/plain": [
       "<Figure size 432x288 with 1 Axes>"
      ]
     },
     "metadata": {
      "needs_background": "light"
     },
     "output_type": "display_data"
    }
   ],
   "source": [
    "plt.semilogy(pstracks_sd, fluxs, )"
   ]
  },
  {
   "cell_type": "code",
   "execution_count": null,
   "metadata": {},
   "outputs": [],
   "source": []
  }
 ],
 "metadata": {
  "kernelspec": {
   "display_name": "icerec3",
   "language": "python",
   "name": "icerec3"
  },
  "language_info": {
   "codemirror_mode": {
    "name": "ipython",
    "version": 3
   },
   "file_extension": ".py",
   "mimetype": "text/x-python",
   "name": "python",
   "nbconvert_exporter": "python",
   "pygments_lexer": "ipython3",
   "version": "3.7.5"
  }
 },
 "nbformat": 4,
 "nbformat_minor": 4
}
