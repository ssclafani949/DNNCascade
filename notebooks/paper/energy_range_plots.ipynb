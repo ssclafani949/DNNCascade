{
 "cells": [
  {
   "cell_type": "code",
   "execution_count": 1,
   "metadata": {},
   "outputs": [],
   "source": [
    "import csky as cy\n",
    "import numpy as np\n",
    "import pandas as pd\n",
    "import os\n",
    "import matplotlib.pyplot as plt\n",
    "import scipy"
   ]
  },
  {
   "cell_type": "code",
   "execution_count": 2,
   "metadata": {},
   "outputs": [],
   "source": [
    "emins = np.round(np.linspace(500,10000, 21 ), 2)\n",
    "emaxs = np.round(np.logspace(4.6,8,21), 2)\n"
   ]
  },
  {
   "cell_type": "code",
   "execution_count": 3,
   "metadata": {},
   "outputs": [],
   "source": [
    "#template pi0"
   ]
  },
  {
   "cell_type": "code",
   "execution_count": 4,
   "metadata": {},
   "outputs": [],
   "source": [
    "def get_flux(template, minmax='min', nsigma=None):\n",
    "    fluxs = []\n",
    "    if minmax == 'min':\n",
    "        emax = 1e8\n",
    "        emins = np.round(np.linspace(500,10000, 21 ), 2)\n",
    "        fluxs = []\n",
    "        for emin in emins:\n",
    "            base_dir = '/data/user/ssclafani/data/analyses/test_erange/{}/limited_Erange/'.format(template)\n",
    "            if nsigma:\n",
    "                if os.path.exists(base_dir + 'Emin_{:.4}_Emax_{:.4}_dp_{}.npy'.format(emin, emax, nsigma)):\n",
    "                    sens = np.load(base_dir + 'Emin_{:.4}_Emax_{:.4}_dp_{}.npy'.format(emin, emax, nsigma), allow_pickle=True)[()]\n",
    "                else:\n",
    "                    print('Missing {:.4} {:.4}'.format(emin, emax))\n",
    "            else:\n",
    "                sens = np.load(base_dir + 'Emin_{:.4}_Emax_{:.4}_sens.npy'.format(emin, emax), allow_pickle=True)[()]\n",
    "            if template == 'pi0':\n",
    "                    flux = sens['fluxE2_100TeV']\n",
    "                    fluxs.append(flux)\n",
    "            else:\n",
    "                flux = sens['model_norm']\n",
    "                fluxs.append(flux)\n",
    "\n",
    "    elif minmax == 'max':\n",
    "        emin = 500.0\n",
    "        emaxs = np.round(np.logspace(4.6,8,21), 2)\n",
    "        fluxs = []\n",
    "        for emax in emaxs:\n",
    "            base_dir = '/data/user/ssclafani/data/analyses/erange_test/gp/{}/limited_Erange/'.format(template)\n",
    "            if nsigma:\n",
    "                if os.path.exists(base_dir + 'Emin_500.0_Emax_{:.4}_dp_{}.npy'.format(emin, emax, nsigma)):\n",
    "                    sens = np.load(base_dir + 'Emin_500.0_Emax_{:.4}_dp_{}.npy'.format(emin, emax, nsigma), allow_pickle=True)[()]\n",
    "                else:\n",
    "                    print('Missing {:.4} {:.4}'.format(emin, emax))\n",
    "            else:\n",
    "            \n",
    "                sens = np.load(base_dir + 'Emin_500.0_Emax_{:.4}_sens.npy'.format(emax), allow_pickle=True)[()]\n",
    "            if template == 'pi0':\n",
    "                flux = sens['fluxE2_100TeV']\n",
    "                fluxs.append(flux)\n",
    "            else:\n",
    "                flux = sens['model_norm']\n",
    "                fluxs.append(flux) \n",
    "    return fluxs"
   ]
  },
  {
   "cell_type": "code",
   "execution_count": 5,
   "metadata": {},
   "outputs": [],
   "source": [
    "fluxs = get_flux('pi0', 'min')"
   ]
  },
  {
   "cell_type": "code",
   "execution_count": 6,
   "metadata": {},
   "outputs": [
    {
     "name": "stdout",
     "output_type": "stream",
     "text": [
      "5%: 1515.57\n",
      "16%: 3596.10\n"
     ]
    },
    {
     "data": {
      "text/plain": [
       "Text(0, 0.5, 'flux')"
      ]
     },
     "execution_count": 6,
     "metadata": {},
     "output_type": "execute_result"
    },
    {
     "data": {
      "image/png": "[encoded data removed]",
      "text/plain": [
       "<Figure size 432x288 with 1 Axes>"
      ]
     },
     "metadata": {
      "needs_background": "light"
     },
     "output_type": "display_data"
    }
   ],
   "source": [
    "pi0sens = .6e-11\n",
    "plt.scatter(np.log10(emins), fluxs)\n",
    "p = np.polyfit(np.log10(emins), fluxs, 4)\n",
    "predict = np.poly1d(p)\n",
    "\n",
    "xspace = np.linspace(2.7,4,5000)\n",
    "ypred = predict(xspace)\n",
    "xvals = np.array([predict(x) / (pi0sens*1.05) for x in xspace])\n",
    "idx = np.argmin(np.abs(1 - xvals))\n",
    "val_5 = xspace[idx]\n",
    "\n",
    "#print(predict(val_5)/(pi0sens*1.05))\n",
    "print('5%: {:.2f}'.format(10**val_5))\n",
    "plt.plot(xspace, ypred)\n",
    "plt.axhline(pi0sens, c='r', ls='--', label='baseline')\n",
    "plt.axhline(pi0sens*1.05, c='r', ls='-', label='1.05')\n",
    "plt.axhline(pi0sens*1.16, c='r', ls=':', label='1.16')\n",
    "\n",
    "xvals = np.array([predict(x) / (pi0sens*1.16) for x in xspace])\n",
    "idx = np.argmin(np.abs(1 - xvals))\n",
    "val_16 = xspace[idx]\n",
    "\n",
    "#print(predict(val_16)/(pi0sens*1.16))\n",
    "print('16%: {:.2f}'.format(10**val_16))\n",
    "plt.xlabel('log10(E)')\n",
    "plt.legend()\n",
    "plt.grid()\n",
    "plt.ylabel('flux')"
   ]
  },
  {
   "cell_type": "code",
   "execution_count": 7,
   "metadata": {},
   "outputs": [],
   "source": [
    "fluxs = get_flux('pi0', 'max')"
   ]
  },
  {
   "cell_type": "code",
   "execution_count": 8,
   "metadata": {},
   "outputs": [
    {
     "name": "stdout",
     "output_type": "stream",
     "text": [
      "5%: 281896.72\n",
      "16%: 98695.84\n"
     ]
    },
    {
     "data": {
      "text/plain": [
       "Text(0.5, 0, 'log10(E)')"
      ]
     },
     "execution_count": 8,
     "metadata": {},
     "output_type": "execute_result"
    },
    {
     "data": {
      "image/png": "[encoded data removed]",
      "text/plain": [
       "<Figure size 432x288 with 1 Axes>"
      ]
     },
     "metadata": {
      "needs_background": "light"
     },
     "output_type": "display_data"
    }
   ],
   "source": [
    "pi0sens = .6e-11\n",
    "plt.scatter(np.log10(emaxs), fluxs)\n",
    "p = np.polyfit(np.log10(emaxs), fluxs, 4)\n",
    "predict = np.poly1d(p)\n",
    "\n",
    "xspace = np.linspace(4.5,8,5000)\n",
    "ypred = predict(xspace)\n",
    "xvals = np.array([predict(x) / (pi0sens*1.05) for x in xspace])\n",
    "idx = np.argmin(np.abs(1 - xvals))\n",
    "val_5 = xspace[idx]\n",
    "\n",
    "#print(predict(val_5)/(pi0sens*1.05))\n",
    "print('5%: {:.2f}'.format(10**val_5))\n",
    "plt.plot(xspace, ypred)\n",
    "plt.axhline(pi0sens, c='r', ls='--')\n",
    "plt.axhline(pi0sens*1.05, c='r', ls='-')\n",
    "plt.axhline(pi0sens*1.16, c='r', ls=':')\n",
    "\n",
    "ypred = predict(xspace)\n",
    "xvals = np.array([predict(x) / (pi0sens*1.16) for x in xspace])\n",
    "idx = np.argmin(np.abs(1 - xvals))\n",
    "val_16 = xspace[idx]\n",
    "\n",
    "#print(predict(val_16)/(pi0sens*1.16))\n",
    "print('16%: {:.2f}'.format(10**val_16))\n",
    "plt.xlabel('log10(E)')"
   ]
  },
  {
   "cell_type": "code",
   "execution_count": null,
   "metadata": {},
   "outputs": [],
   "source": []
  },
  {
   "cell_type": "code",
   "execution_count": 9,
   "metadata": {},
   "outputs": [],
   "source": [
    "fluxs = get_flux('kra5', 'min')"
   ]
  },
  {
   "cell_type": "code",
   "execution_count": 10,
   "metadata": {},
   "outputs": [
    {
     "name": "stdout",
     "output_type": "stream",
     "text": [
      "5%: 5219.44\n",
      "16%: 10189.47\n"
     ]
    },
    {
     "data": {
      "text/plain": [
       "Text(0, 0.5, 'log10(E)')"
      ]
     },
     "execution_count": 10,
     "metadata": {},
     "output_type": "execute_result"
    },
    {
     "data": {
      "image/png": "[encoded data removed]",
      "text/plain": [
       "<Figure size 432x288 with 1 Axes>"
      ]
     },
     "metadata": {
      "needs_background": "light"
     },
     "output_type": "display_data"
    }
   ],
   "source": [
    "kra5sens = .1696\n",
    "plt.scatter(np.log10(emins), fluxs)\n",
    "p = np.polyfit(np.log10(emins), fluxs, 3)\n",
    "predict = np.poly1d(p)\n",
    "\n",
    "xspace = np.linspace(2.7,4.25,5000)\n",
    "ypred = predict(xspace)\n",
    "xvals = np.array([predict(x) / (kra5sens*1.05) for x in xspace])\n",
    "idx = np.argmin(np.abs(1 - xvals))\n",
    "val_5 = xspace[idx]\n",
    "\n",
    "#print(predict(3.7)/(kra5sens*1.05))\n",
    "print('5%: {:.2f}'.format(10**val_5))\n",
    "\n",
    "plt.plot(xspace, ypred)\n",
    "plt.axhline(kra5sens, c='r', ls='--')\n",
    "plt.axhline(kra5sens*1.05, c='r', ls='-')\n",
    "plt.axhline(kra5sens*1.16, c='r', ls=':')\n",
    "\n",
    "ypred = predict(xspace)\n",
    "xvals = np.array([predict(x) / (kra5sens*1.16) for x in xspace])\n",
    "idx = np.argmin(np.abs(1 - xvals))\n",
    "val_16 = xspace[idx]\n",
    "\n",
    "#print(predict(4.02)/(kra5sens*1.16))\n",
    "print('16%: {:.2f}'.format(10**val_16))\n",
    "plt.ylabel('log10(E)')"
   ]
  },
  {
   "cell_type": "code",
   "execution_count": null,
   "metadata": {},
   "outputs": [],
   "source": []
  },
  {
   "cell_type": "code",
   "execution_count": 11,
   "metadata": {},
   "outputs": [],
   "source": [
    "fluxs = get_flux('kra5', 'max')"
   ]
  },
  {
   "cell_type": "code",
   "execution_count": 12,
   "metadata": {},
   "outputs": [
    {
     "name": "stdout",
     "output_type": "stream",
     "text": [
      "5%: 145088.28\n",
      "16%: 80943.44\n"
     ]
    },
    {
     "data": {
      "image/png": "[encoded data removed]",
      "text/plain": [
       "<Figure size 432x288 with 1 Axes>"
      ]
     },
     "metadata": {
      "needs_background": "light"
     },
     "output_type": "display_data"
    }
   ],
   "source": [
    "plt.scatter(np.log10(emaxs), fluxs)\n",
    "p = np.polyfit(np.log10(emaxs), fluxs, 5)\n",
    "predict = np.poly1d(p)\n",
    "\n",
    "xspace = np.linspace(4.5,8,5000)\n",
    "ypred = predict(xspace)\n",
    "xvals = np.array([predict(x) / (kra5sens*1.05) for x in xspace])\n",
    "idx = np.argmin(np.abs(1 - xvals))\n",
    "val_5 = xspace[idx]\n",
    "\n",
    "#print(predict(5.2)/(kra5sens*1.05))\n",
    "print('5%: {:.2f}'.format(10**val_5))\n",
    "\n",
    "plt.plot(xspace, ypred)\n",
    "plt.axhline(kra5sens, c='r', ls='--')\n",
    "plt.axhline(kra5sens*1.05, c='r', ls='-')\n",
    "plt.axhline(kra5sens*1.16, c='r', ls=':')\n",
    "\n",
    "xvals = np.array([predict(x) / (kra5sens*1.16) for x in xspace])\n",
    "idx = np.argmin(np.abs(1 - xvals))\n",
    "val_16 = xspace[idx]\n",
    "\n",
    "#print(predict(4.02)/(kra5sens*1.16))\n",
    "print('16%: {:.2f}'.format(10**val_16))\n"
   ]
  },
  {
   "cell_type": "code",
   "execution_count": null,
   "metadata": {},
   "outputs": [],
   "source": []
  },
  {
   "cell_type": "code",
   "execution_count": 13,
   "metadata": {},
   "outputs": [],
   "source": [
    "fluxs = get_flux('kra50', 'min')"
   ]
  },
  {
   "cell_type": "code",
   "execution_count": 14,
   "metadata": {},
   "outputs": [
    {
     "name": "stdout",
     "output_type": "stream",
     "text": [
      "5%: 6944.94\n",
      "16%: 18207.57\n"
     ]
    },
    {
     "data": {
      "image/png": "[encoded data removed]",
      "text/plain": [
       "<Figure size 432x288 with 1 Axes>"
      ]
     },
     "metadata": {
      "needs_background": "light"
     },
     "output_type": "display_data"
    }
   ],
   "source": [
    "kra50sens = .122\n",
    "plt.scatter(np.log10(emins), fluxs)\n",
    "p = np.polyfit(np.log10(emins), fluxs, 3)\n",
    "predict = np.poly1d(p)\n",
    "\n",
    "xspace = np.linspace(3, 4.5,5000)\n",
    "ypred = predict(xspace)\n",
    "xvals = np.array([predict(x) / (kra50sens*1.05) for x in xspace])\n",
    "idx = np.argmin(np.abs(1 - xvals))\n",
    "val_5 = xspace[idx]\n",
    "\n",
    "print('5%: {:.2f}'.format(10**val_5))\n",
    "plt.plot(xspace, ypred)\n",
    "plt.axhline(kra50sens, c='r', ls='--')\n",
    "plt.axhline(kra50sens*1.05, c='r', ls='-')\n",
    "plt.axhline(kra50sens*1.16, c='r', ls=':')\n",
    "\n",
    "xvals = np.array([predict(x) / (kra50sens*1.16) for x in xspace])\n",
    "idx = np.argmin(np.abs(1 - xvals))\n",
    "val_16 = xspace[idx]\n",
    "\n",
    "#print(predict(4.02)/(kra5sens*1.16))\n",
    "print('16%: {:.2f}'.format(10**val_16))\n"
   ]
  },
  {
   "cell_type": "code",
   "execution_count": null,
   "metadata": {},
   "outputs": [],
   "source": []
  },
  {
   "cell_type": "code",
   "execution_count": 15,
   "metadata": {},
   "outputs": [],
   "source": [
    "fluxs = get_flux('kra50', 'max')"
   ]
  },
  {
   "cell_type": "code",
   "execution_count": 16,
   "metadata": {},
   "outputs": [
    {
     "name": "stdout",
     "output_type": "stream",
     "text": [
      "5%: 356706.04\n",
      "16%: 162420.98\n"
     ]
    },
    {
     "data": {
      "image/png": "[encoded data removed]",
      "text/plain": [
       "<Figure size 432x288 with 1 Axes>"
      ]
     },
     "metadata": {
      "needs_background": "light"
     },
     "output_type": "display_data"
    }
   ],
   "source": [
    "kra50sens = .122\n",
    "xspace  = np.linspace(4.5,8,5000)\n",
    "plt.scatter(np.log10(emaxs), fluxs)\n",
    "p = np.polyfit(np.log10(emaxs), fluxs, 4)\n",
    "predict = np.poly1d(p)\n",
    "\n",
    "ypred = predict(xspace)\n",
    "xvals = np.array([predict(x) / (kra50sens*1.05) for x in xspace])\n",
    "idx = np.argmin(np.abs(1 - xvals))\n",
    "val_5 = xspace[idx]\n",
    "\n",
    "print('5%: {:.2f}'.format(10**val_5))\n",
    "plt.plot(xspace, ypred)\n",
    "plt.axhline(kra50sens, c='r', ls='--')\n",
    "plt.axhline(kra50sens*1.05, c='r', ls='-')\n",
    "plt.axhline(kra50sens*1.16, c='r', ls=':')\n",
    "\n",
    "xvals = np.array([predict(x) / (kra50sens*1.16) for x in xspace])\n",
    "idx = np.argmin(np.abs(1 - xvals))\n",
    "val_16 = xspace[idx]\n",
    "print('16%: {:.2f}'.format(10**val_16))\n"
   ]
  },
  {
   "cell_type": "code",
   "execution_count": null,
   "metadata": {},
   "outputs": [],
   "source": []
  },
  {
   "cell_type": "code",
   "execution_count": 17,
   "metadata": {},
   "outputs": [],
   "source": [
    "#5sigma\n"
   ]
  },
  {
   "cell_type": "code",
   "execution_count": 18,
   "metadata": {},
   "outputs": [
    {
     "name": "stdout",
     "output_type": "stream",
     "text": [
      "Missing 975.0 1e+08\n"
     ]
    }
   ],
   "source": [
    "fluxs = get_flux('pi0', 'min', nsigma=5)"
   ]
  },
  {
   "cell_type": "code",
   "execution_count": 19,
   "metadata": {},
   "outputs": [
    {
     "name": "stdout",
     "output_type": "stream",
     "text": [
      "1.0013205168252337\n",
      "1778.2794100389228\n",
      "1.009245797143991\n",
      "3630.780547701014\n"
     ]
    },
    {
     "data": {
      "image/png": "[encoded data removed]",
      "text/plain": [
       "<Figure size 432x288 with 1 Axes>"
      ]
     },
     "metadata": {
      "needs_background": "light"
     },
     "output_type": "display_data"
    }
   ],
   "source": [
    "pi0sens = min(fluxs)\n",
    "plt.scatter(np.log10(emins), fluxs)\n",
    "p = np.polyfit(np.log10(emins), fluxs, 3)\n",
    "predict = np.poly1d(p)\n",
    "ypred = predict(np.linspace(2.7,4,1000))\n",
    "print(predict(3.25)/(pi0sens*1.05))\n",
    "print(10**3.25)\n",
    "plt.plot(np.linspace(2.7,4,1000), ypred)\n",
    "plt.axhline(pi0sens, c='r', ls='--')\n",
    "plt.axhline(pi0sens*1.05, c='r', ls='-')\n",
    "plt.axhline(pi0sens*1.16, c='r', ls=':')\n",
    "print(predict(3.56)/(pi0sens*1.16))\n",
    "print(10**3.56)\n",
    "plt.xlabel('log10(E)')\n",
    "plt.grid()"
   ]
  },
  {
   "cell_type": "code",
   "execution_count": null,
   "metadata": {},
   "outputs": [],
   "source": []
  },
  {
   "cell_type": "code",
   "execution_count": 20,
   "metadata": {},
   "outputs": [],
   "source": [
    "fluxs = get_flux('kra5', 'min', nsigma=5)"
   ]
  },
  {
   "cell_type": "code",
   "execution_count": 21,
   "metadata": {},
   "outputs": [
    {
     "name": "stdout",
     "output_type": "stream",
     "text": [
      "1.0099616250042949\n",
      "5011.872336272725\n",
      "1.0033631700836871\n",
      "9549.92586021436\n"
     ]
    },
    {
     "data": {
      "text/plain": [
       "Text(0, 0.5, 'log10(E)')"
      ]
     },
     "execution_count": 21,
     "metadata": {},
     "output_type": "execute_result"
    },
    {
     "data": {
      "image/png": "[encoded data removed]",
      "text/plain": [
       "<Figure size 432x288 with 1 Axes>"
      ]
     },
     "metadata": {
      "needs_background": "light"
     },
     "output_type": "display_data"
    }
   ],
   "source": [
    "kra50sens = min(fluxs)\n",
    "xrange  = np.linspace(2.7,4.25,100)\n",
    "plt.scatter(np.log10(emins), fluxs)\n",
    "p = np.polyfit(np.log10(emins), fluxs, 4)\n",
    "predict = np.poly1d(p)\n",
    "ypred = predict(xrange)\n",
    "print(predict(3.7)/(kra50sens*1.05))\n",
    "print(10**3.7)\n",
    "plt.plot(xrange, ypred)\n",
    "plt.axhline(kra50sens, c='r', ls='--')\n",
    "plt.axhline(kra50sens*1.05, c='r', ls='-')\n",
    "plt.axhline(kra50sens*1.16, c='r', ls=':')\n",
    "print(predict(3.98)/(kra50sens*1.16))\n",
    "print(10**3.98)\n",
    "plt.ylabel('log10(E)')"
   ]
  },
  {
   "cell_type": "code",
   "execution_count": 22,
   "metadata": {},
   "outputs": [],
   "source": [
    "fluxs = get_flux('kra50', 'min', nsigma=5)"
   ]
  },
  {
   "cell_type": "code",
   "execution_count": 23,
   "metadata": {},
   "outputs": [
    {
     "name": "stdout",
     "output_type": "stream",
     "text": [
      "1.000034801887316\n",
      "6309.57344480193\n",
      "1.0005109670296297\n",
      "13182.567385564074\n"
     ]
    },
    {
     "data": {
      "text/plain": [
       "Text(0, 0.5, 'log10(E)')"
      ]
     },
     "execution_count": 23,
     "metadata": {},
     "output_type": "execute_result"
    },
    {
     "data": {
      "image/png": "[encoded data removed]",
      "text/plain": [
       "<Figure size 432x288 with 1 Axes>"
      ]
     },
     "metadata": {
      "needs_background": "light"
     },
     "output_type": "display_data"
    }
   ],
   "source": [
    "kra50sens = min(fluxs)\n",
    "xrange  = np.linspace(2.65,4.3,100)\n",
    "plt.scatter(np.log10(emins), fluxs)\n",
    "p = np.polyfit(np.log10(emins), fluxs, 4)\n",
    "predict = np.poly1d(p)\n",
    "ypred = predict(xrange)\n",
    "print(predict(3.8)/(kra50sens*1.05))\n",
    "print(10**3.8)\n",
    "plt.plot(xrange, ypred)\n",
    "plt.axhline(kra50sens, c='r', ls='--')\n",
    "plt.axhline(kra50sens*1.05, c='r', ls='-')\n",
    "plt.axhline(kra50sens*1.16, c='r', ls=':')\n",
    "print(predict(4.12)/(kra50sens*1.16))\n",
    "print(10**4.12)\n",
    "plt.ylabel('log10(E)')"
   ]
  },
  {
   "cell_type": "code",
   "execution_count": 24,
   "metadata": {},
   "outputs": [
    {
     "name": "stdout",
     "output_type": "stream",
     "text": [
      "Missing 500.0 3.981e+04\n"
     ]
    },
    {
     "ename": "UnboundLocalError",
     "evalue": "local variable 'sens' referenced before assignment",
     "output_type": "error",
     "traceback": [
      "\u001b[0;31m---------------------------------------------------------------------------\u001b[0m",
      "\u001b[0;31mUnboundLocalError\u001b[0m                         Traceback (most recent call last)",
      "\u001b[0;32m<ipython-input-24-3733efb6e437>\u001b[0m in \u001b[0;36m<module>\u001b[0;34m\u001b[0m\n\u001b[0;32m----> 1\u001b[0;31m \u001b[0mfluxs\u001b[0m \u001b[0;34m=\u001b[0m \u001b[0mget_flux\u001b[0m\u001b[0;34m(\u001b[0m\u001b[0;34m'kra5'\u001b[0m\u001b[0;34m,\u001b[0m \u001b[0;34m'max'\u001b[0m\u001b[0;34m,\u001b[0m \u001b[0mnsigma\u001b[0m\u001b[0;34m=\u001b[0m\u001b[0;36m5\u001b[0m\u001b[0;34m)\u001b[0m\u001b[0;34m\u001b[0m\u001b[0;34m\u001b[0m\u001b[0m\n\u001b[0m",
      "\u001b[0;32m<ipython-input-4-5bcff5287be8>\u001b[0m in \u001b[0;36mget_flux\u001b[0;34m(template, minmax, nsigma)\u001b[0m\n\u001b[1;32m     39\u001b[0m                 \u001b[0mfluxs\u001b[0m\u001b[0;34m.\u001b[0m\u001b[0mappend\u001b[0m\u001b[0;34m(\u001b[0m\u001b[0mflux\u001b[0m\u001b[0;34m)\u001b[0m\u001b[0;34m\u001b[0m\u001b[0;34m\u001b[0m\u001b[0m\n\u001b[1;32m     40\u001b[0m             \u001b[0;32melse\u001b[0m\u001b[0;34m:\u001b[0m\u001b[0;34m\u001b[0m\u001b[0;34m\u001b[0m\u001b[0m\n\u001b[0;32m---> 41\u001b[0;31m                 \u001b[0mflux\u001b[0m \u001b[0;34m=\u001b[0m \u001b[0msens\u001b[0m\u001b[0;34m[\u001b[0m\u001b[0;34m'model_norm'\u001b[0m\u001b[0;34m]\u001b[0m\u001b[0;34m\u001b[0m\u001b[0;34m\u001b[0m\u001b[0m\n\u001b[0m\u001b[1;32m     42\u001b[0m                 \u001b[0mfluxs\u001b[0m\u001b[0;34m.\u001b[0m\u001b[0mappend\u001b[0m\u001b[0;34m(\u001b[0m\u001b[0mflux\u001b[0m\u001b[0;34m)\u001b[0m\u001b[0;34m\u001b[0m\u001b[0;34m\u001b[0m\u001b[0m\n\u001b[1;32m     43\u001b[0m     \u001b[0;32mreturn\u001b[0m \u001b[0mfluxs\u001b[0m\u001b[0;34m\u001b[0m\u001b[0;34m\u001b[0m\u001b[0m\n",
      "\u001b[0;31mUnboundLocalError\u001b[0m: local variable 'sens' referenced before assignment"
     ]
    }
   ],
   "source": [
    "fluxs = get_flux('kra5', 'max', nsigma=5)"
   ]
  },
  {
   "cell_type": "code",
   "execution_count": null,
   "metadata": {},
   "outputs": [],
   "source": []
  }
 ],
 "metadata": {
  "kernelspec": {
   "display_name": "icerec3",
   "language": "python",
   "name": "icerec3"
  },
  "language_info": {
   "codemirror_mode": {
    "name": "ipython",
    "version": 3
   },
   "file_extension": ".py",
   "mimetype": "text/x-python",
   "name": "python",
   "nbconvert_exporter": "python",
   "pygments_lexer": "ipython3",
   "version": "3.7.5"
  }
 },
 "nbformat": 4,
 "nbformat_minor": 4
}
