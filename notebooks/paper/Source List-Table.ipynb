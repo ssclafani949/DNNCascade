{
 "cells": [
  {
   "cell_type": "code",
   "execution_count": 1,
   "metadata": {},
   "outputs": [],
   "source": [
    "# Calculate Upper Limits for Each source in the unblinded source list and format as a latex table"
   ]
  },
  {
   "cell_type": "code",
   "execution_count": 2,
   "metadata": {},
   "outputs": [],
   "source": [
    "import csky as cy\n",
    "import pandas as pd\n",
    "import numpy as np"
   ]
  },
  {
   "cell_type": "code",
   "execution_count": 3,
   "metadata": {},
   "outputs": [
    {
     "name": "stdout",
     "output_type": "stream",
     "text": [
      "Running as User: ssclafani on Hostname: cobalt06.icecube.wisc.edu\n"
     ]
    },
    {
     "name": "stderr",
     "output_type": "stream",
     "text": [
      "WARNING: AstropyDeprecationWarning: The disable_warnings function is deprecated and may be removed in a future version. [trials]\n"
     ]
    }
   ],
   "source": [
    "import sys\n",
    "import os\n",
    "sys.path.insert(0, '../..')\n",
    "\n",
    "import config as cg\n",
    "import trials as trials\n",
    "#cg.base_dir = '/data/user/mhuennefeld/data/analyses/unblinding_v1.0.0/'"
   ]
  },
  {
   "cell_type": "code",
   "execution_count": 4,
   "metadata": {},
   "outputs": [],
   "source": [
    "base_dir = '/data/user/ssclafani/data/analyses/baseline_unblind_v1.0.1/'"
   ]
  },
  {
   "cell_type": "code",
   "execution_count": 5,
   "metadata": {},
   "outputs": [],
   "source": [
    "results = np.load(base_dir + 'ps/results/fulllist_unblinded.npy', \n",
    "                  allow_pickle=True)"
   ]
  },
  {
   "cell_type": "code",
   "execution_count": 6,
   "metadata": {},
   "outputs": [],
   "source": [
    "source_list = pd.read_pickle('../../catalogs/Source_List_DNNC.pickle')"
   ]
  },
  {
   "cell_type": "code",
   "execution_count": 7,
   "metadata": {},
   "outputs": [],
   "source": [
    "RA = source_list.to_numpy()[:,1]\n",
    "DEC = source_list.to_numpy()[:,2]"
   ]
  },
  {
   "cell_type": "code",
   "execution_count": 8,
   "metadata": {},
   "outputs": [],
   "source": [
    "repo = cy.selections.Repository(local_root='/data/user/ssclafani/data/analyses')\n",
    "specs = cy.selections.DNNCascadeDataSpecs.DNNC_10yr"
   ]
  },
  {
   "cell_type": "code",
   "execution_count": 9,
   "metadata": {},
   "outputs": [],
   "source": [
    "selection_version = 'version-001-p01'"
   ]
  },
  {
   "cell_type": "code",
   "execution_count": 10,
   "metadata": {},
   "outputs": [
    {
     "name": "stdout",
     "output_type": "stream",
     "text": [
      "Setting up Analysis for:\n",
      "DNNCascade_10yr\n",
      "Setting up DNNCascade_10yr...\n",
      "Reading /data/user/ssclafani/data/analyses/dnn_cascades/version-001-p01/MC_NuGen_bfrv1_2153x.npy ...\n",
      "Reading /data/user/ssclafani/data/analyses/dnn_cascades/version-001-p01/IC86_2011_exp.npy ...\n",
      "Reading /data/user/ssclafani/data/analyses/dnn_cascades/version-001-p01/IC86_2012_exp.npy ...\n",
      "Reading /data/user/ssclafani/data/analyses/dnn_cascades/version-001-p01/IC86_2013_exp.npy ...\n",
      "Reading /data/user/ssclafani/data/analyses/dnn_cascades/version-001-p01/IC86_2014_exp.npy ...\n",
      "Reading /data/user/ssclafani/data/analyses/dnn_cascades/version-001-p01/IC86_2015_exp.npy ...\n",
      "Reading /data/user/ssclafani/data/analyses/dnn_cascades/version-001-p01/IC86_2016_exp.npy ...\n",
      "Reading /data/user/ssclafani/data/analyses/dnn_cascades/version-001-p01/IC86_2017_exp.npy ...\n",
      "Reading /data/user/ssclafani/data/analyses/dnn_cascades/version-001-p01/IC86_2018_exp.npy ...\n",
      "Reading /data/user/ssclafani/data/analyses/dnn_cascades/version-001-p01/IC86_2019_exp.npy ...\n",
      "Reading /data/user/ssclafani/data/analyses/dnn_cascades/version-001-p01/IC86_2020_exp.npy ...\n",
      "Reading /data/user/ssclafani/data/analyses/dnn_cascades/version-001-p01/GRL/IC86_2011_exp.npy ...\n",
      "Reading /data/user/ssclafani/data/analyses/dnn_cascades/version-001-p01/GRL/IC86_2012_exp.npy ...\n",
      "Reading /data/user/ssclafani/data/analyses/dnn_cascades/version-001-p01/GRL/IC86_2013_exp.npy ...\n",
      "Reading /data/user/ssclafani/data/analyses/dnn_cascades/version-001-p01/GRL/IC86_2014_exp.npy ...\n",
      "Reading /data/user/ssclafani/data/analyses/dnn_cascades/version-001-p01/GRL/IC86_2015_exp.npy ...\n",
      "Reading /data/user/ssclafani/data/analyses/dnn_cascades/version-001-p01/GRL/IC86_2016_exp.npy ...\n",
      "Reading /data/user/ssclafani/data/analyses/dnn_cascades/version-001-p01/GRL/IC86_2017_exp.npy ...\n",
      "Reading /data/user/ssclafani/data/analyses/dnn_cascades/version-001-p01/GRL/IC86_2018_exp.npy ...\n",
      "Reading /data/user/ssclafani/data/analyses/dnn_cascades/version-001-p01/GRL/IC86_2019_exp.npy ...\n",
      "Reading /data/user/ssclafani/data/analyses/dnn_cascades/version-001-p01/GRL/IC86_2020_exp.npy ...\n",
      "Energy PDF Ratio Model...\n",
      "  * gamma = 4.0000 ...\n",
      "Signal Acceptance Model...\n",
      "  * gamma = 4.0000 ...\n",
      "Done.\n",
      "CPU times: user 5.4 s, sys: 107 ms, total: 5.5 s\n",
      "Wall time: 5.46 s\n"
     ]
    }
   ],
   "source": [
    "%%time\n",
    "\n",
    "ana = cy.get_analysis(\n",
    "    repo, selection_version, specs, \n",
    "    #gammas=np.r_[0.1:6.01:0.125],\n",
    ")"
   ]
  },
  {
   "cell_type": "code",
   "execution_count": 11,
   "metadata": {},
   "outputs": [],
   "source": [
    "UL2 = np.load('/home/ssclafani/DNNCascade/notebooks/unblinding/sourcelist_UL90_E2_patch_01.npy', allow_pickle=True)\n",
    "UL3 = np.load('/home/ssclafani/DNNCascade/notebooks/unblinding/sourcelist_UL90_E3_patch_01.npy', allow_pickle=True)\n",
    "\n",
    "E2_decs = np.load('/data/ana/analyses/NuSources/2021_DNNCascade_analyses/baseline_analysis/ps/trials/DNNC/ps_sens_decs_E200_nofit.npy')\n",
    "E2_fluxs = np.load('/data/ana/analyses/NuSources/2021_DNNCascade_analyses/baseline_analysis/ps/trials/DNNC/ps_sens_flux_E200_nofit.npy')\n",
    "\n",
    "E3_decs = np.load('/data/ana/analyses/NuSources/2021_DNNCascade_analyses/baseline_analysis/ps/trials/DNNC/ps_sens_decs_E300.npy')\n",
    "E3_fluxs = np.load('/data/ana/analyses/NuSources/2021_DNNCascade_analyses/baseline_analysis/ps/trials/DNNC/ps_sens_flux_E300.npy')\n",
    "\n",
    "\n",
    "e2_sens = np.interp(np.linspace(-1,1,1000),E2_decs, E2_fluxs)\n",
    "\n",
    "src_list_file = os.path.join(cg.catalog_dir, 'Source_List_DNNC.npy')\n",
    "sourcelist = np.load(src_list_file, allow_pickle=True)\n",
    "\n",
    "def get_plotting_flux(gamma):\n",
    "    sindec = []\n",
    "    fs = []\n",
    "    if gamma == 2:\n",
    "        UL = UL2\n",
    "        decs = E2_decs\n",
    "        fluxs = E2_fluxs\n",
    "    elif gamma == 3:\n",
    "        UL = UL3\n",
    "        decs = E3_decs\n",
    "        fluxs = E3_fluxs\n",
    "        \n",
    "    for i, source in enumerate(sourcelist):\n",
    "            sindec.append(np.sin(np.radians(source[2])))\n",
    "            dec = source[2]\n",
    "            rounddec = np.round(dec, 0)\n",
    "            if rounddec in decs:\n",
    "                f = fluxs[np.argwhere(rounddec == decs)][0]\n",
    "                #print(rounddec, f)\n",
    "            else:\n",
    "                \n",
    "                high = fluxs[np.argwhere(rounddec + 1 == decs)][0]\n",
    "                low = fluxs[np.argwhere(rounddec - 1 == decs)][0]\n",
    "                f = (high + low) / 2\n",
    "                #print(rounddec, low, high, f)\n",
    "            fs.append(f)\n",
    "    fs = np.concatenate(fs)\n",
    "\n",
    "    plot_flux = []\n",
    "    for i, UL in enumerate (UL):\n",
    "        plot_flux.append(max(UL, fs[i]))\n",
    "    return plot_flux, sindec\n",
    "\n"
   ]
  },
  {
   "cell_type": "code",
   "execution_count": 12,
   "metadata": {},
   "outputs": [],
   "source": [
    "plot_flux_2, sindec = get_plotting_flux(2)\n",
    "plot_flux_3, sindec = get_plotting_flux(3)"
   ]
  },
  {
   "cell_type": "code",
   "execution_count": null,
   "metadata": {},
   "outputs": [],
   "source": []
  },
  {
   "cell_type": "code",
   "execution_count": 13,
   "metadata": {
    "scrolled": true
   },
   "outputs": [
    {
     "name": "stdout",
     "output_type": "stream",
     "text": [
      "0\n",
      "5\n",
      "10\n",
      "15\n",
      "20\n",
      "25\n",
      "30\n",
      "35\n",
      "40\n",
      "45\n",
      "50\n",
      "55\n",
      "60\n",
      "65\n",
      "70\n",
      "75\n",
      "80\n",
      "85\n",
      "90\n",
      "95\n",
      "100\n",
      "105\n",
      "CPU times: user 4.36 ms, sys: 95 µs, total: 4.45 ms\n",
      "Wall time: 3.56 ms\n"
     ]
    }
   ],
   "source": [
    "%%time\n",
    "tss = []\n",
    "pre_trial_p = []\n",
    "nss = []\n",
    "gammas = [] \n",
    "ul90_ns = []\n",
    "ul90_flux = []\n",
    "\n",
    "for i, result in enumerate(results[0]):\n",
    "    if i % 5 == 0:\n",
    "        print(i)\n",
    "    #src = cy.utils.sources(ra=np.deg2rad(float(RA[i])), dec=np.deg2rad(float(DEC[i])))\n",
    "    #conf = cg.get_ps_conf(src, gamma=2.0)\n",
    "    #tr = cy.get_trial_runner(ana = ana, conf=conf)\n",
    "    #name = 'ts_{:04}'.format(i)\n",
    "    #ul = tr.find_n_sig(ts=result[0], beta=0.9, tol=.02, \n",
    "    #                   batch_size=1000, mp_cpus=18, n_sig_step=10, logging=True)\n",
    "    #ul90_ns.append(ul['n_sig'])\n",
    "    #ul90_flux.append(tr.to_E2dNdE(ul['n_sig'], E0=100, unit=1e3))\n",
    "    tss.append(result[0])\n",
    "    nss.append(result[1])\n",
    "    gammas.append(result[2])\n",
    "    pre_trial_p.append(result[3])\n",
    "    \n",
    "    "
   ]
  },
  {
   "cell_type": "code",
   "execution_count": 14,
   "metadata": {},
   "outputs": [],
   "source": [
    "names = source_list.SRC.to_numpy()"
   ]
  },
  {
   "cell_type": "code",
   "execution_count": 15,
   "metadata": {},
   "outputs": [
    {
     "data": {
      "text/plain": [
       "3.3449307915003384e-12"
      ]
     },
     "execution_count": 15,
     "metadata": {},
     "output_type": "execute_result"
    }
   ],
   "source": [
    "UL2[0]"
   ]
  },
  {
   "cell_type": "code",
   "execution_count": 16,
   "metadata": {},
   "outputs": [
    {
     "data": {
      "text/plain": [
       "(0.0, 0.7385395)"
      ]
     },
     "execution_count": 16,
     "metadata": {},
     "output_type": "execute_result"
    }
   ],
   "source": [
    "tss[4], pre_trial_p[4]"
   ]
  },
  {
   "cell_type": "code",
   "execution_count": 17,
   "metadata": {},
   "outputs": [
    {
     "name": "stdout",
     "output_type": "stream",
     "text": [
      "Source Number & Source Name & RA & Dec & ns & gamma & pvalue$_{pre}$ & $\\Phi_2$ & $\\Phi_3$\n",
      "1 & G343.1-2.3 & 257.0 & -44.3  & 77.6 & 2.9  & 0.011 & 3.34 & 1.58 \\\\\n",
      "2 & HESS J0835-455 & 128.3 & -45.2  & 0.2 & 2.0  & 0.719 & 0.59 & 0.28 \\\\\n",
      "3 & PKS 0426-380 & 67.2 & -37.9  & 3.0 & 2.3  & 0.640 & 0.81 & 0.42 \\\\\n",
      "4 & PKS 2155-304 & 329.7 & -30.2  & 61.5 & 4.0  & 0.249 & 1.52 & 1.02 \\\\\n",
      "5 & Mkn 421 & 166.1 & 38.2  & 0.0 & -- & -- & 1.13 & 0.32 \\\\\n",
      "6 & PKS 0537-441 & 84.7 & -44.1  & 1.1 & 1.8  & 0.576 & 0.89 & 0.45 \\\\\n",
      "7 & PKS 0447-439 & 72.4 & -43.8  & 0.7 & 2.1  & 0.698 & 0.62 & 0.31 \\\\\n",
      "8 & BL Lac & 330.7 & 42.3  & 7.6 & 1.6  & 0.340 & 2.73 & 0.77 \\\\\n",
      "9 & PG 1553+113 & 238.9 & 11.2  & 0.0 & -- & -- & 0.68 & 0.35 \\\\\n",
      "10 & TXS 0518+211 & 80.4 & 21.2  & 149.3 & 3.4  & 0.035 & 4.24 & 1.59 \\\\\n",
      "11 & PKS 0235+164 & 39.7 & 16.6  & 0.0 & -- & -- & 0.67 & 0.31 \\\\\n",
      "12 & PKS 1424+240 & 216.8 & 23.8  & 7.7 & 1.3  & 0.095 & 3.55 & 1.26 \\\\\n",
      "13 & 3C 66A & 35.7 & 43.0  & 85.8 & 3.7  & 0.238 & 3.44 & 0.89 \\\\\n",
      "14 & TXS 0506+056 & 77.4 & 5.7  & 0.0 & -- & -- & 0.61 & 0.39 \\\\\n",
      "15 & AP Librae & 229.4 & -24.4  & 0.3 & 1.0  & 0.725 & 0.61 & 0.34 \\\\\n",
      "16 & S5 0716+71 & 110.5 & 71.3  & 1.9 & 1.0  & 0.532 & 3.94 & 0.58 \\\\\n",
      "17 & B2 1215+30 & 184.5 & 30.1  & 5.2 & 2.2  & 0.573 & 1.80 & 0.53 \\\\\n",
      "18 & MH 2136-428 & 324.9 & -42.6  & 0.0 & -- & -- & 0.53 & 0.27 \\\\\n",
      "19 & PKS 2233-148 & 339.1 & -14.6  & 25.8 & 4.0  & 0.584 & 0.93 & 0.65 \\\\\n",
      "20 & Mkn 501 & 253.5 & 39.8  & 4.1 & 1.0  & 0.514 & 2.09 & 0.60 \\\\\n",
      "21 & PMN J1603-4904 & 241.0 & -49.1  & 84.5 & 3.1  & 0.010 & 3.49 & 1.59 \\\\\n",
      "22 & S2 0109+22 & 18.0 & 22.8  & 147.8 & 4.0  & 0.077 & 3.75 & 1.31 \\\\\n",
      "23 & PKS 0301-243 & 45.9 & -24.1  & 44.3 & 3.6  & 0.405 & 1.37 & 0.76 \\\\\n",
      "24 & 4C +01.28 & 164.6 & 1.6  & 16.1 & 1.2  & 0.025 & 3.27 & 2.42 \\\\\n",
      "25 & PKS 0700-661 & 105.1 & -66.2  & 28.8 & 2.9  & 0.239 & 1.72 & 0.82 \\\\\n",
      "26 & TXS 0628-240 & 97.7 & -24.1  & 0.9 & 3.0  & 0.746 & 0.55 & 0.31 \\\\\n",
      "27 & PKS 0823-223 & 126.5 & -22.5  & 2.0 & 2.0  & 0.553 & 1.01 & 0.58 \\\\\n",
      "28 & PKS 0735+17 & 114.5 & 17.7  & 63.6 & 4.0  & 0.376 & 2.16 & 0.91 \\\\\n",
      "29 & PMN J1329-5608 & 202.3 & -56.1  & 40.3 & 4.0  & 0.276 & 1.48 & 0.77 \\\\\n",
      "30 & PMN J0531-4827 & 83.0 & -48.5  & 0.0 & -- & -- & 0.55 & 0.26 \\\\\n",
      "31 & MG1 J021114+1051 & 32.8 & 10.9  & 28.7 & 4.0  & 0.622 & 1.22 & 0.66 \\\\\n",
      "32 & PKS 1440-389 & 221.0 & -39.1  & 11.0 & 1.0  & 0.175 & 2.07 & 1.10 \\\\\n",
      "33 & OT 081 & 267.9 & 9.6  & 35.2 & 2.8  & 0.356 & 1.88 & 1.10 \\\\\n",
      "34 & OJ 287 & 133.7 & 20.1  & 28.6 & 2.7  & 0.473 & 1.84 & 0.74 \\\\\n",
      "35 & PKS 1101-536 & 166.0 & -54.0  & 0.0 & -- & -- & 0.46 & 0.23 \\\\\n",
      "36 & TXS 0141+268 & 26.2 & 27.1  & 1.4 & 3.2  & 0.706 & 1.17 & 0.37 \\\\\n",
      "37 & 1H 1013+498 & 153.8 & 49.4  & 4.2 & 2.6  & 0.676 & 1.65 & 0.36 \\\\\n",
      "38 & PKS 0048-09 & 12.7 & -9.5  & 115.2 & 3.6  & 0.089 & 2.35 & 1.68 \\\\\n",
      "39 & PMN J1650-5044 & 252.6 & -50.8  & 88.1 & 2.9  & 0.002 & 4.02 & 1.93 \\\\\n",
      "40 & PKS 0118-272 & 20.1 & -27.0  & 44.8 & 3.9  & 0.378 & 1.38 & 0.82 \\\\\n",
      "41 & 1H 1914-194 & 289.4 & -19.4  & 26.9 & 2.5  & 0.152 & 2.30 & 1.26 \\\\\n",
      "42 & PKS 0332-403 & 53.6 & -40.1  & 9.8 & 2.4  & 0.481 & 1.13 & 0.59 \\\\\n",
      "43 & OJ 014 & 122.9 & 1.8  & 2.6 & 4.0  & 0.771 & 0.57 & 0.39 \\\\\n",
      "44 & PMN J1918-4111 & 289.6 & -41.2  & 54.6 & 3.7  & 0.256 & 1.72 & 0.89 \\\\\n",
      "45 & PKS 1936-623 & 295.3 & -62.2  & 26.6 & 4.0  & 0.420 & 1.19 & 0.55 \\\\\n",
      "46 & 1H 1720+117 & 261.3 & 11.9  & 6.8 & 2.7  & 0.712 & 0.91 & 0.49 \\\\\n",
      "47 & PMN J1610-6649 & 242.7 & -66.8  & 10.1 & 2.9  & 0.588 & 0.84 & 0.41 \\\\\n",
      "48 & PMN J0334-3725 & 53.6 & -37.4  & 10.7 & 2.4  & 0.456 & 1.25 & 0.65 \\\\\n",
      "49 & TXS 1714-336 & 259.4 & -33.7  & 67.7 & 2.9  & 0.028 & 2.68 & 1.54 \\\\\n",
      "50 & PKS 2005-489 & 302.4 & -48.8  & 0.0 & -- & -- & 0.54 & 0.26 \\\\\n",
      "51 & PKS B1056-113 & 164.8 & -11.6  & 19.6 & 2.1  & 0.096 & 2.27 & 1.66 \\\\\n",
      "52 & RGB J2243+203 & 341.0 & 20.4  & 163.1 & 4.0  & 0.022 & 4.53 & 1.82 \\\\\n",
      "53 & 1ES 1959+650 & 300.0 & 65.1  & 150.0 & 4.0  & 0.071 & 7.30 & 1.14 \\\\\n",
      "54 & S4 0814+42 & 124.6 & 42.4  & 15.4 & 4.0  & 0.568 & 1.74 & 0.49 \\\\\n",
      "55 & KUV 00311-1938 & 8.4 & -19.4  & 109.8 & 3.6  & 0.063 & 2.91 & 1.61 \\\\\n",
      "56 & PMN J2250-2806 & 342.7 & -28.1  & 59.1 & 4.0  & 0.244 & 1.62 & 1.05 \\\\\n",
      "57 & 1RXS J130421.2-435308 & 196.1 & -43.9  & 7.1 & 2.3  & 0.473 & 1.11 & 0.57 \\\\\n",
      "58 & PMN J0810-7530 & 122.8 & -75.5  & 16.5 & 4.0  & 0.598 & 0.79 & 0.44 \\\\\n",
      "59 & 3C 454.3 & 343.5 & 16.2  & 106.2 & 4.0  & 0.188 & 2.67 & 1.25 \\\\\n",
      "60 & PKS 1424-41 & 217.0 & -42.1  & 10.1 & 1.0  & 0.280 & 1.63 & 0.83 \\\\\n",
      "61 & 3C 279 & 194.0 & -5.8  & 10.1 & 1.0  & 0.120 & 1.90 & 1.63 \\\\\n",
      "62 & CTA 102 & 338.2 & 11.7  & 129.6 & 4.0  & 0.102 & 3.09 & 1.60 \\\\\n",
      "63 & PKS 1510-089 & 228.2 & -9.1  & 4.8 & 1.0  & 0.212 & 1.79 & 1.34 \\\\\n",
      "64 & PKS 0454-234 & 74.3 & -23.4  & 0.0 & -- & -- & 0.55 & 0.30 \\\\\n",
      "65 & PKS 1502+106 & 226.1 & 10.5  & 8.7 & 1.0  & 0.422 & 1.79 & 0.99 \\\\\n",
      "66 & PKS 1830-211 & 278.4 & -21.1  & 70.4 & 2.8  & 0.033 & 3.07 & 1.68 \\\\\n",
      "67 & PKS 2326-502 & 352.3 & -49.9  & 6.6 & 2.1  & 0.265 & 1.66 & 0.84 \\\\\n",
      "68 & PKS 0727-11 & 112.6 & -11.7  & 8.2 & 2.6  & 0.598 & 0.83 & 0.65 \\\\\n",
      "69 & 4C +21.35 & 186.2 & 21.4  & 11.4 & 1.5  & 0.162 & 3.09 & 1.15 \\\\\n",
      "70 & PMN J2345-1555 & 356.3 & -15.9  & 11.9 & 3.3  & 0.646 & 0.78 & 0.53 \\\\\n",
      "71 & 4C +01.02 & 17.2 & 1.6  & 74.8 & 3.8  & 0.336 & 1.66 & 1.18 \\\\\n",
      "72 & PKS 2023-07 & 306.4 & -7.6  & 122.8 & 3.5  & 0.060 & 2.32 & 1.76 \\\\\n",
      "73 & Ton 599 & 179.9 & 29.2  & 14.5 & 2.4  & 0.405 & 2.49 & 0.74 \\\\\n",
      "74 & 4C +38.41 & 248.8 & 38.1  & 3.5 & 1.0  & 0.573 & 1.84 & 0.54 \\\\\n",
      "75 & PKS 1244-255 & 191.7 & -25.8  & 3.9 & 1.0  & 0.128 & 2.04 & 1.28 \\\\\n",
      "76 & B2 1520+31 & 230.5 & 31.7  & 9.3 & 1.0  & 0.013 & 6.59 & 1.93 \\\\\n",
      "77 & PKS 1124-186 & 171.8 & -19.0  & 0.0 & -- & -- & 0.56 & 0.33 \\\\\n",
      "78 & 4C +28.07 & 39.5 & 28.8  & 0.0 & -- & -- & 1.15 & 0.36 \\\\\n",
      "79 & PKS 1730-13 & 263.3 & -13.1  & 51.2 & 2.7  & 0.128 & 2.27 & 1.59 \\\\\n",
      "80 & PKS 0805-07 & 122.1 & -7.9  & 2.4 & 2.3  & 0.676 & 0.69 & 0.53 \\\\\n",
      "81 & PKS 0208-512 & 32.7 & -51.0  & 4.9 & 1.8  & 0.144 & 1.97 & 1.03 \\\\\n",
      "82 & PKS 0336-01 & 54.9 & -1.8  & 11.0 & 4.0  & 0.729 & 0.62 & 0.47 \\\\\n",
      "83 & PKS 0502+049 & 76.3 & 5.0  & 0.0 & -- & -- & 0.61 & 0.39 \\\\\n",
      "84 & PKS 0402-362 & 61.0 & -36.1  & 2.2 & 2.2  & 0.672 & 0.71 & 0.38 \\\\\n",
      "85 & PMN J1802-3940 & 270.7 & -39.7  & 76.7 & 3.1  & 0.043 & 2.81 & 1.39 \\\\\n",
      "86 & PKS 1622-253 & 246.4 & -25.5  & 36.6 & 2.6  & 0.089 & 2.26 & 1.36 \\\\\n",
      "87 & PKS 2052-47 & 314.1 & -47.2  & 0.0 & -- & -- & 0.55 & 0.26 \\\\\n",
      "88 & 3C 273 & 187.3 & 2.0  & 11.3 & 1.0  & 0.227 & 2.01 & 1.41 \\\\\n",
      "89 & PKS 2142-75 & 326.8 & -75.6  & 2.6 & 1.0  & 0.744 & 0.49 & 0.26 \\\\\n",
      "90 & MG1 J123931+0443 & 189.9 & 4.7  & 9.3 & 1.0  & 0.217 & 2.21 & 1.42 \\\\\n",
      "91 & MG2 J201534+3710 & 303.9 & 37.2  & 113.6 & 3.1  & 0.039 & 5.29 & 1.51 \\\\\n",
      "92 & Galactic Centre & 266.4 & -29.0  & 58.7 & 2.7  & 0.022 & 2.79 & 1.67 \\\\\n",
      "93 & PKS 2247-131 & 342.5 & -12.8  & 7.3 & 4.0  & 0.709 & 0.62 & 0.46 \\\\\n",
      "94 & NGC 1275 & 50.0 & 41.5  & 29.3 & 3.3  & 0.529 & 2.01 & 0.57 \\\\\n",
      "95 & PKS 0521-36 & 80.7 & -36.5  & 5.7 & 2.0  & 0.237 & 1.75 & 1.00 \\\\\n",
      "96 & Cen A & 201.0 & -43.5  & 9.4 & 2.4  & 0.398 & 1.30 & 0.66 \\\\\n",
      "97 & LMC & 80.0 & -68.8  & 31.5 & 4.0  & 0.327 & 1.38 & 0.71 \\\\\n",
      "98 & SMC & 14.5 & -72.8  & 43.1 & 1.0  & 0.174 & 1.77 & 0.94 \\\\\n",
      "99 & NGC 4945 & 196.4 & -49.5  & 7.3 & 2.4  & 0.425 & 1.28 & 0.63 \\\\\n",
      "100 & NGC 253 & 11.9 & -25.3  & 51.4 & 3.8  & 0.328 & 1.43 & 0.88 \\\\\n",
      "101 & NGC 1068 & 40.7 & -0.0  & 87.1 & 4.0  & 0.252 & 1.88 & 1.36 \\\\\n",
      "102 & M 82 & 148.9 & 69.7  & 22.9 & 2.9  & 0.564 & 3.44 & 0.53 \\\\\n",
      "103 & Arp 220 & 233.7 & 23.5  & 15.2 & 1.0  & 0.009 & 5.18 & 2.03 \\\\\n",
      "104 & M 31 & 10.8 & 41.2  & 18.2 & 2.9  & 0.487 & 2.21 & 0.62 \\\\\n",
      "105 & NGC 3424 & 162.9 & 32.9  & 0.0 & -- & -- & 1.19 & 0.34 \\\\\n",
      "106 & IC 678 & 168.6 & 6.6  & 19.2 & 1.8  & 0.005 & 4.55 & 2.85 \\\\\n",
      "107 & NGC 5380 & 209.3 & 37.5  & 10.6 & 1.0  & 0.249 & 3.30 & 0.93 \\\\\n",
      "108 & Arp 299 & 172.1 & 58.5  & 0.0 & -- & -- & 1.25 & 0.23 \\\\\n",
      "109 & NGC 2146 & 94.5 & 78.3  & 4.2 & 1.0  & 0.445 & 4.71 & 0.73 \\\\\n"
     ]
    }
   ],
   "source": [
    "print(r'Source Number & Source Name & RA & Dec & ns & gamma & pvalue$_{pre}$ & $\\Phi_2$ & $\\Phi_3$')\n",
    "for i, ts in enumerate(tss):\n",
    "    if ts == 0:\n",
    "        print('{} & {} & {:.1f} & {:.1f}  & {:.1f} & -- & -- & {:.2f} & {:.2f} \\\\\\\\'.format(\n",
    "            i+1, names[i], RA[i], DEC[i], nss[i], UL2[i]*1e12, UL3[i]*1e12))\n",
    "    else:\n",
    "        print('{} & {} & {:.1f} & {:.1f}  & {:.1f} & {:.1f}  & {:.3f} & {:.2f} & {:.2f} \\\\\\\\'.format(\n",
    "            i+1, names[i], RA[i], DEC[i], nss[i], gammas[i], pre_trial_p[i], UL2[i]*1e12, UL3[i]*1e12))\n",
    "    "
   ]
  },
  {
   "cell_type": "code",
   "execution_count": null,
   "metadata": {},
   "outputs": [],
   "source": []
  },
  {
   "cell_type": "code",
   "execution_count": null,
   "metadata": {},
   "outputs": [],
   "source": []
  },
  {
   "cell_type": "code",
   "execution_count": 18,
   "metadata": {},
   "outputs": [
    {
     "name": "stdout",
     "output_type": "stream",
     "text": [
      "Source Number & Source Name & RA & Dec & TS & ns & gamma & pvalue$_{pre}$\n",
      "0 & G343.1-2.3 & 257.0 & -44.3 & 8.9  & 77.6 & 2.9  & 0.0109 \\\\\n",
      "1 & HESS J0835-455 & 128.3 & -45.2 & 0.0  & 0.2 & 2.0  & 0.7190 \\\\\n",
      "2 & PKS 0426-380 & 67.2 & -37.9 & 0.1  & 3.0 & 2.3  & 0.6402 \\\\\n",
      "3 & PKS 2155-304 & 329.7 & -30.2 & 1.7  & 61.5 & 4.0  & 0.2487 \\\\\n",
      "4 & Mkn 421 & 166.1 & 38.2 & 0.0  & -- & -- & -- \\\\\n",
      "5 & PKS 0537-441 & 84.7 & -44.1 & 0.2  & 1.1 & 1.8  & 0.5761 \\\\\n",
      "6 & PKS 0447-439 & 72.4 & -43.8 & 0.0  & 0.7 & 2.1  & 0.6978 \\\\\n",
      "7 & BL Lac & 330.7 & 42.3 & 0.8  & 7.6 & 1.6  & 0.3396 \\\\\n",
      "8 & PG 1553+113 & 238.9 & 11.2 & 0.0  & -- & -- & -- \\\\\n",
      "9 & TXS 0518+211 & 80.4 & 21.2 & 5.3  & 149.3 & 3.4  & 0.0355 \\\\\n",
      "10 & PKS 0235+164 & 39.7 & 16.6 & 0.0  & -- & -- & -- \\\\\n",
      "11 & PKS 1424+240 & 216.8 & 23.8 & 3.4  & 7.7 & 1.3  & 0.0950 \\\\\n",
      "12 & 3C 66A & 35.7 & 43.0 & 1.4  & 85.8 & 3.7  & 0.2381 \\\\\n",
      "13 & TXS 0506+056 & 77.4 & 5.7 & 0.0  & -- & -- & -- \\\\\n",
      "14 & AP Librae & 229.4 & -24.4 & 0.0  & 0.3 & 1.0  & 0.7248 \\\\\n",
      "15 & S5 0716+71 & 110.5 & 71.3 & 0.4  & 1.9 & 1.0  & 0.5322 \\\\\n",
      "16 & B2 1215+30 & 184.5 & 30.1 & 0.1  & 5.2 & 2.2  & 0.5732 \\\\\n",
      "17 & MH 2136-428 & 324.9 & -42.6 & 0.0  & -- & -- & -- \\\\\n",
      "18 & PKS 2233-148 & 339.1 & -14.6 & 0.2  & 25.8 & 4.0  & 0.5837 \\\\\n",
      "19 & Mkn 501 & 253.5 & 39.8 & 0.3  & 4.1 & 1.0  & 0.5143 \\\\\n",
      "20 & PMN J1603-4904 & 241.0 & -49.1 & 9.1  & 84.5 & 3.1  & 0.0104 \\\\\n",
      "21 & S2 0109+22 & 18.0 & 22.8 & 3.8  & 147.8 & 4.0  & 0.0775 \\\\\n",
      "22 & PKS 0301-243 & 45.9 & -24.1 & 0.8  & 44.3 & 3.6  & 0.4054 \\\\\n",
      "23 & 4C +01.28 & 164.6 & 1.6 & 6.0  & 16.1 & 1.2  & 0.0252 \\\\\n",
      "24 & PKS 0700-661 & 105.1 & -66.2 & 2.2  & 28.8 & 2.9  & 0.2388 \\\\\n",
      "25 & TXS 0628-240 & 97.7 & -24.1 & 0.0  & 0.9 & 3.0  & 0.7462 \\\\\n",
      "26 & PKS 0823-223 & 126.5 & -22.5 & 0.3  & 2.0 & 2.0  & 0.5532 \\\\\n",
      "27 & PKS 0735+17 & 114.5 & 17.7 & 1.0  & 63.6 & 4.0  & 0.3765 \\\\\n",
      "28 & PMN J1329-5608 & 202.3 & -56.1 & 1.6  & 40.3 & 4.0  & 0.2764 \\\\\n",
      "29 & PMN J0531-4827 & 83.0 & -48.5 & 0.0  & -- & -- & -- \\\\\n",
      "30 & MG1 J021114+1051 & 32.8 & 10.9 & 0.2  & 28.7 & 4.0  & 0.6220 \\\\\n",
      "31 & PKS 1440-389 & 221.0 & -39.1 & 2.9  & 11.0 & 1.0  & 0.1752 \\\\\n",
      "32 & OT 081 & 267.9 & 9.6 & 1.1  & 35.2 & 2.8  & 0.3561 \\\\\n",
      "33 & OJ 287 & 133.7 & 20.1 & 0.6  & 28.6 & 2.7  & 0.4731 \\\\\n",
      "34 & PKS 1101-536 & 166.0 & -54.0 & 0.0  & -- & -- & -- \\\\\n",
      "35 & TXS 0141+268 & 26.2 & 27.1 & 0.0  & 1.4 & 3.2  & 0.7055 \\\\\n",
      "36 & 1H 1013+498 & 153.8 & 49.4 & 0.0  & 4.2 & 2.6  & 0.6759 \\\\\n",
      "37 & PKS 0048-09 & 12.7 & -9.5 & 3.8  & 115.2 & 3.6  & 0.0889 \\\\\n",
      "38 & PMN J1650-5044 & 252.6 & -50.8 & 12.9  & 88.1 & 2.9  & 0.0023 \\\\\n",
      "39 & PKS 0118-272 & 20.1 & -27.0 & 0.9  & 44.8 & 3.9  & 0.3779 \\\\\n",
      "40 & 1H 1914-194 & 289.4 & -19.4 & 2.8  & 26.9 & 2.5  & 0.1516 \\\\\n",
      "41 & PKS 0332-403 & 53.6 & -40.1 & 0.5  & 9.8 & 2.4  & 0.4813 \\\\\n",
      "42 & OJ 014 & 122.9 & 1.8 & 0.0  & 2.6 & 4.0  & 0.7708 \\\\\n",
      "43 & PMN J1918-4111 & 289.6 & -41.2 & 1.9  & 54.6 & 3.7  & 0.2562 \\\\\n",
      "44 & PKS 1936-623 & 295.3 & -62.2 & 0.7  & 26.6 & 4.0  & 0.4197 \\\\\n",
      "45 & 1H 1720+117 & 261.3 & 11.9 & 0.0  & 6.8 & 2.7  & 0.7124 \\\\\n",
      "46 & PMN J1610-6649 & 242.7 & -66.8 & 0.2  & 10.1 & 2.9  & 0.5882 \\\\\n",
      "47 & PMN J0334-3725 & 53.6 & -37.4 & 0.6  & 10.7 & 2.4  & 0.4558 \\\\\n",
      "48 & TXS 1714-336 & 259.4 & -33.7 & 6.3  & 67.7 & 2.9  & 0.0277 \\\\\n",
      "49 & PKS 2005-489 & 302.4 & -48.8 & 0.0  & -- & -- & -- \\\\\n",
      "50 & PKS B1056-113 & 164.8 & -11.6 & 3.8  & 19.6 & 2.1  & 0.0965 \\\\\n",
      "51 & RGB J2243+203 & 341.0 & 20.4 & 6.2  & 163.1 & 4.0  & 0.0224 \\\\\n",
      "52 & 1ES 1959+650 & 300.0 & 65.1 & 3.9  & 150.0 & 4.0  & 0.0709 \\\\\n",
      "53 & S4 0814+42 & 124.6 & 42.4 & 0.1  & 15.4 & 4.0  & 0.5677 \\\\\n",
      "54 & KUV 00311-1938 & 8.4 & -19.4 & 5.0  & 109.8 & 3.6  & 0.0629 \\\\\n",
      "55 & PMN J2250-2806 & 342.7 & -28.1 & 1.7  & 59.1 & 4.0  & 0.2444 \\\\\n",
      "56 & 1RXS J130421.2-435308 & 196.1 & -43.9 & 0.5  & 7.1 & 2.3  & 0.4727 \\\\\n",
      "57 & PMN J0810-7530 & 122.8 & -75.5 & 0.2  & 16.5 & 4.0  & 0.5977 \\\\\n",
      "58 & 3C 454.3 & 343.5 & 16.2 & 2.2  & 106.2 & 4.0  & 0.1876 \\\\\n",
      "59 & PKS 1424-41 & 217.0 & -42.1 & 1.7  & 10.1 & 1.0  & 0.2805 \\\\\n",
      "60 & 3C 279 & 194.0 & -5.8 & 3.1  & 10.1 & 1.0  & 0.1197 \\\\\n",
      "61 & CTA 102 & 338.2 & 11.7 & 3.3  & 129.6 & 4.0  & 0.1018 \\\\\n",
      "62 & PKS 1510-089 & 228.2 & -9.1 & 2.1  & 4.8 & 1.0  & 0.2123 \\\\\n",
      "63 & PKS 0454-234 & 74.3 & -23.4 & 0.0  & -- & -- & -- \\\\\n",
      "64 & PKS 1502+106 & 226.1 & 10.5 & 0.8  & 8.7 & 1.0  & 0.4219 \\\\\n",
      "65 & PKS 1830-211 & 278.4 & -21.1 & 6.1  & 70.4 & 2.8  & 0.0326 \\\\\n",
      "66 & PKS 2326-502 & 352.3 & -49.9 & 1.8  & 6.6 & 2.1  & 0.2647 \\\\\n",
      "67 & PKS 0727-11 & 112.6 & -11.7 & 0.2  & 8.2 & 2.6  & 0.5978 \\\\\n",
      "68 & 4C +21.35 & 186.2 & 21.4 & 2.4  & 11.4 & 1.5  & 0.1622 \\\\\n",
      "69 & PMN J2345-1555 & 356.3 & -15.9 & 0.1  & 11.9 & 3.3  & 0.6464 \\\\\n",
      "70 & 4C +01.02 & 17.2 & 1.6 & 1.2  & 74.8 & 3.8  & 0.3359 \\\\\n",
      "71 & PKS 2023-07 & 306.4 & -7.6 & 4.5  & 122.8 & 3.5  & 0.0603 \\\\\n",
      "72 & Ton 599 & 179.9 & 29.2 & 0.5  & 14.5 & 2.4  & 0.4051 \\\\\n",
      "73 & 4C +38.41 & 248.8 & 38.1 & 0.2  & 3.5 & 1.0  & 0.5731 \\\\\n",
      "74 & PKS 1244-255 & 191.7 & -25.8 & 3.0  & 3.9 & 1.0  & 0.1285 \\\\\n",
      "75 & B2 1520+31 & 230.5 & 31.7 & 7.8  & 9.3 & 1.0  & 0.0125 \\\\\n",
      "76 & PKS 1124-186 & 171.8 & -19.0 & 0.0  & -- & -- & -- \\\\\n",
      "77 & 4C +28.07 & 39.5 & 28.8 & 0.0  & -- & -- & -- \\\\\n",
      "78 & PKS 1730-13 & 263.3 & -13.1 & 3.2  & 51.2 & 2.7  & 0.1282 \\\\\n",
      "79 & PKS 0805-07 & 122.1 & -7.9 & 0.1  & 2.4 & 2.3  & 0.6760 \\\\\n",
      "80 & PKS 0208-512 & 32.7 & -51.0 & 3.1  & 4.9 & 1.8  & 0.1444 \\\\\n",
      "81 & PKS 0336-01 & 54.9 & -1.8 & 0.0  & 11.0 & 4.0  & 0.7293 \\\\\n",
      "82 & PKS 0502+049 & 76.3 & 5.0 & 0.0  & -- & -- & -- \\\\\n",
      "83 & PKS 0402-362 & 61.0 & -36.1 & 0.1  & 2.2 & 2.2  & 0.6718 \\\\\n",
      "84 & PMN J1802-3940 & 270.7 & -39.7 & 5.8  & 76.7 & 3.1  & 0.0428 \\\\\n",
      "85 & PKS 1622-253 & 246.4 & -25.5 & 3.8  & 36.6 & 2.6  & 0.0890 \\\\\n",
      "86 & PKS 2052-47 & 314.1 & -47.2 & 0.0  & -- & -- & -- \\\\\n",
      "87 & 3C 273 & 187.3 & 2.0 & 1.9  & 11.3 & 1.0  & 0.2269 \\\\\n",
      "88 & PKS 2142-75 & 326.8 & -75.6 & 0.0  & 2.6 & 1.0  & 0.7440 \\\\\n",
      "89 & MG1 J123931+0443 & 189.9 & 4.7 & 1.9  & 9.3 & 1.0  & 0.2173 \\\\\n",
      "90 & MG2 J201534+3710 & 303.9 & 37.2 & 5.1  & 113.6 & 3.1  & 0.0389 \\\\\n",
      "91 & Galactic Centre & 266.4 & -29.0 & 6.4  & 58.7 & 2.7  & 0.0225 \\\\\n",
      "92 & PKS 2247-131 & 342.5 & -12.8 & 0.0  & 7.3 & 4.0  & 0.7094 \\\\\n",
      "93 & NGC 1275 & 50.0 & 41.5 & 0.2  & 29.3 & 3.3  & 0.5289 \\\\\n",
      "94 & PKS 0521-36 & 80.7 & -36.5 & 2.1  & 5.7 & 2.0  & 0.2369 \\\\\n",
      "95 & Cen A & 201.0 & -43.5 & 0.9  & 9.4 & 2.4  & 0.3981 \\\\\n",
      "96 & LMC & 80.0 & -68.8 & 1.3  & 31.5 & 4.0  & 0.3273 \\\\\n",
      "97 & SMC & 14.5 & -72.8 & 2.7  & 43.1 & 1.0  & 0.1739 \\\\\n",
      "98 & NGC 4945 & 196.4 & -49.5 & 0.8  & 7.3 & 2.4  & 0.4246 \\\\\n",
      "99 & NGC 253 & 11.9 & -25.3 & 1.2  & 51.4 & 3.8  & 0.3280 \\\\\n",
      "100 & NGC 1068 & 40.7 & -0.0 & 1.7  & 87.1 & 4.0  & 0.2524 \\\\\n",
      "101 & M 82 & 148.9 & 69.7 & 0.3  & 22.9 & 2.9  & 0.5637 \\\\\n",
      "102 & Arp 220 & 233.7 & 23.5 & 8.2  & 15.2 & 1.0  & 0.0089 \\\\\n",
      "103 & M 31 & 10.8 & 41.2 & 0.3  & 18.2 & 2.9  & 0.4871 \\\\\n",
      "104 & NGC 3424 & 162.9 & 32.9 & 0.0  & -- & -- & -- \\\\\n",
      "105 & IC 678 & 168.6 & 6.6 & 9.1  & 19.2 & 1.8  & 0.0052 \\\\\n",
      "106 & NGC 5380 & 209.3 & 37.5 & 1.5  & 10.6 & 1.0  & 0.2487 \\\\\n",
      "107 & Arp 299 & 172.1 & 58.5 & 0.0  & -- & -- & -- \\\\\n",
      "108 & NGC 2146 & 94.5 & 78.3 & 0.7  & 4.2 & 1.0  & 0.4453 \\\\\n"
     ]
    }
   ],
   "source": [
    "print(r'Source Number & Source Name & RA & Dec & TS & ns & gamma & pvalue$_{pre}$')\n",
    "for i, ts in enumerate(tss):\n",
    "    if ts == 0:\n",
    "        print('{} & {} & {:.1f} & {:.1f} & {:.1f}  & -- & -- & -- \\\\\\\\'.format(i, names[i], RA[i], DEC[i], tss[i], nss[i], gammas[i], pre_trial_p[i]))\n",
    "    else:\n",
    "        print('{} & {} & {:.1f} & {:.1f} & {:.1f}  & {:.1f} & {:.1f}  & {:.4f} \\\\\\\\'.format(i, names[i], RA[i], DEC[i], tss[i], nss[i], gammas[i], pre_trial_p[i]))\n",
    "    "
   ]
  },
  {
   "cell_type": "code",
   "execution_count": null,
   "metadata": {},
   "outputs": [],
   "source": []
  }
 ],
 "metadata": {
  "kernelspec": {
   "display_name": "icerec3",
   "language": "python",
   "name": "icerec3"
  },
  "language_info": {
   "codemirror_mode": {
    "name": "ipython",
    "version": 3
   },
   "file_extension": ".py",
   "mimetype": "text/x-python",
   "name": "python",
   "nbconvert_exporter": "python",
   "pygments_lexer": "ipython3",
   "version": "3.7.5"
  }
 },
 "nbformat": 4,
 "nbformat_minor": 4
}
