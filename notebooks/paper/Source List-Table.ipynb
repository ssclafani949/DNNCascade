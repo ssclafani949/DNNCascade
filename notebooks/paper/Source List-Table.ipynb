{
 "cells": [
  {
   "cell_type": "code",
   "execution_count": 1,
   "metadata": {},
   "outputs": [],
   "source": [
    "# Calculate Upper Limits for Each source in the unblinded source list and format as a latex table"
   ]
  },
  {
   "cell_type": "code",
   "execution_count": 2,
   "metadata": {},
   "outputs": [],
   "source": [
    "import csky as cy\n",
    "import pandas as pd\n",
    "import numpy as np"
   ]
  },
  {
   "cell_type": "code",
   "execution_count": 3,
   "metadata": {},
   "outputs": [
    {
     "name": "stdout",
     "output_type": "stream",
     "text": [
      "Running as User: ssclafani on Hostname: cobalt05.icecube.wisc.edu\n"
     ]
    }
   ],
   "source": [
    "import sys\n",
    "sys.path.insert(0, '../..')\n",
    "\n",
    "import config as cg\n",
    "import trials as trials\n",
    "cg.base_dir = '/data/user/mhuennefeld/data/analyses/unblinding_v1.0.0/'"
   ]
  },
  {
   "cell_type": "code",
   "execution_count": 4,
   "metadata": {},
   "outputs": [],
   "source": [
    "base_dir = '/data/user/ssclafani/data/analyses/baseline_unblind_v1.0.0/'"
   ]
  },
  {
   "cell_type": "code",
   "execution_count": 5,
   "metadata": {},
   "outputs": [],
   "source": [
    "results = np.load(base_dir + 'ps/results/fulllist_unblinded.npy', \n",
    "                  allow_pickle=True)"
   ]
  },
  {
   "cell_type": "code",
   "execution_count": 6,
   "metadata": {},
   "outputs": [],
   "source": [
    "source_list = pd.read_pickle('../../catalogs/Source_List_DNNC.pickle')"
   ]
  },
  {
   "cell_type": "code",
   "execution_count": 7,
   "metadata": {},
   "outputs": [],
   "source": [
    "RA = source_list.to_numpy()[:,1]\n",
    "DEC = source_list.to_numpy()[:,2]"
   ]
  },
  {
   "cell_type": "code",
   "execution_count": 8,
   "metadata": {},
   "outputs": [],
   "source": [
    "repo = cy.selections.Repository(local_root='/data/user/ssclafani/data/analyses')\n",
    "specs = cy.selections.DNNCascadeDataSpecs.DNNC_10yr"
   ]
  },
  {
   "cell_type": "code",
   "execution_count": 9,
   "metadata": {},
   "outputs": [],
   "source": [
    "selection_version = 'version-001-p00'"
   ]
  },
  {
   "cell_type": "code",
   "execution_count": 10,
   "metadata": {},
   "outputs": [
    {
     "name": "stdout",
     "output_type": "stream",
     "text": [
      "Setting up Analysis for:\n",
      "DNNCascade_10yr\n",
      "Setting up DNNCascade_10yr...\n",
      "Reading /data/user/ssclafani/data/analyses/dnn_cascades/version-001-p00/MC_NuGen_bfrv1_2153x.npy ...\n",
      "Reading /data/user/ssclafani/data/analyses/dnn_cascades/version-001-p00/IC86_2011_exp.npy ...\n",
      "Reading /data/user/ssclafani/data/analyses/dnn_cascades/version-001-p00/IC86_2012_exp.npy ...\n",
      "Reading /data/user/ssclafani/data/analyses/dnn_cascades/version-001-p00/IC86_2013_exp.npy ...\n",
      "Reading /data/user/ssclafani/data/analyses/dnn_cascades/version-001-p00/IC86_2014_exp.npy ...\n",
      "Reading /data/user/ssclafani/data/analyses/dnn_cascades/version-001-p00/IC86_2015_exp.npy ...\n",
      "Reading /data/user/ssclafani/data/analyses/dnn_cascades/version-001-p00/IC86_2016_exp.npy ...\n",
      "Reading /data/user/ssclafani/data/analyses/dnn_cascades/version-001-p00/IC86_2017_exp.npy ...\n",
      "Reading /data/user/ssclafani/data/analyses/dnn_cascades/version-001-p00/IC86_2018_exp.npy ...\n",
      "Reading /data/user/ssclafani/data/analyses/dnn_cascades/version-001-p00/IC86_2019_exp.npy ...\n",
      "Reading /data/user/ssclafani/data/analyses/dnn_cascades/version-001-p00/IC86_2020_exp.npy ...\n",
      "Reading /data/user/ssclafani/data/analyses/dnn_cascades/version-001-p00/GRL/IC86_2011_exp.npy ...\n",
      "Reading /data/user/ssclafani/data/analyses/dnn_cascades/version-001-p00/GRL/IC86_2012_exp.npy ...\n",
      "Reading /data/user/ssclafani/data/analyses/dnn_cascades/version-001-p00/GRL/IC86_2013_exp.npy ...\n",
      "Reading /data/user/ssclafani/data/analyses/dnn_cascades/version-001-p00/GRL/IC86_2014_exp.npy ...\n",
      "Reading /data/user/ssclafani/data/analyses/dnn_cascades/version-001-p00/GRL/IC86_2015_exp.npy ...\n",
      "Reading /data/user/ssclafani/data/analyses/dnn_cascades/version-001-p00/GRL/IC86_2016_exp.npy ...\n",
      "Reading /data/user/ssclafani/data/analyses/dnn_cascades/version-001-p00/GRL/IC86_2017_exp.npy ...\n",
      "Reading /data/user/ssclafani/data/analyses/dnn_cascades/version-001-p00/GRL/IC86_2018_exp.npy ...\n",
      "Reading /data/user/ssclafani/data/analyses/dnn_cascades/version-001-p00/GRL/IC86_2019_exp.npy ...\n",
      "Reading /data/user/ssclafani/data/analyses/dnn_cascades/version-001-p00/GRL/IC86_2020_exp.npy ...\n",
      "Energy PDF Ratio Model...\n",
      "  * gamma = 4.0000 ...\n",
      "Signal Acceptance Model...\n",
      "  * gamma = 4.0000 ...\n",
      "Done.\n",
      "CPU times: user 6.26 s, sys: 194 ms, total: 6.46 s\n",
      "Wall time: 6.39 s\n"
     ]
    }
   ],
   "source": [
    "%%time\n",
    "\n",
    "ana = cy.get_analysis(\n",
    "    repo, selection_version, specs, \n",
    "    #gammas=np.r_[0.1:6.01:0.125],\n",
    ")"
   ]
  },
  {
   "cell_type": "code",
   "execution_count": null,
   "metadata": {},
   "outputs": [],
   "source": []
  },
  {
   "cell_type": "code",
   "execution_count": 12,
   "metadata": {
    "scrolled": true
   },
   "outputs": [
    {
     "name": "stdout",
     "output_type": "stream",
     "text": [
      "0\n",
      "5\n",
      "10\n",
      "15\n",
      "20\n",
      "25\n",
      "30\n",
      "35\n",
      "40\n",
      "45\n",
      "50\n",
      "55\n",
      "60\n",
      "65\n",
      "70\n",
      "75\n",
      "80\n",
      "85\n",
      "90\n",
      "95\n",
      "100\n",
      "105\n",
      "CPU times: user 930 µs, sys: 1.01 ms, total: 1.94 ms\n",
      "Wall time: 1.39 ms\n"
     ]
    }
   ],
   "source": [
    "%%time\n",
    "tss = []\n",
    "pre_trial_p = []\n",
    "nss = []\n",
    "gammas = [] \n",
    "ul90_ns = []\n",
    "ul90_flux = []\n",
    "\n",
    "for i, result in enumerate(results[0]):\n",
    "    if i % 5 == 0:\n",
    "        print(i)\n",
    "    #src = cy.utils.sources(ra=np.deg2rad(float(RA[i])), dec=np.deg2rad(float(DEC[i])))\n",
    "    #conf = cg.get_ps_conf(src, gamma=2.0)\n",
    "    #tr = cy.get_trial_runner(ana = ana, conf=conf)\n",
    "    #name = 'ts_{:04}'.format(i)\n",
    "    #ul = tr.find_n_sig(ts=result[0], beta=0.9, tol=.02, \n",
    "    #                   batch_size=1000, mp_cpus=18, n_sig_step=10, logging=True)\n",
    "    #ul90_ns.append(ul['n_sig'])\n",
    "    #ul90_flux.append(tr.to_E2dNdE(ul['n_sig'], E0=100, unit=1e3))\n",
    "    tss.append(result[0])\n",
    "    nss.append(result[1])\n",
    "    gammas.append(result[2])\n",
    "    pre_trial_p.append(result[3])\n",
    "    \n",
    "    "
   ]
  },
  {
   "cell_type": "code",
   "execution_count": 44,
   "metadata": {},
   "outputs": [],
   "source": [
    "#names = source_list['Names']"
   ]
  },
  {
   "cell_type": "code",
   "execution_count": 45,
   "metadata": {},
   "outputs": [],
   "source": [
    "#names = names.to_numpy()"
   ]
  },
  {
   "cell_type": "code",
   "execution_count": 46,
   "metadata": {},
   "outputs": [],
   "source": [
    "names = source_list.SRC.to_numpy()"
   ]
  },
  {
   "cell_type": "code",
   "execution_count": 48,
   "metadata": {},
   "outputs": [
    {
     "name": "stdout",
     "output_type": "stream",
     "text": [
      "Source Number & Source Name & RA & Dec & TS & ns & gamma & pvalue$_{pre}$\n",
      "0 & G343.1-2.3 & 257.0 & -44.3 & 8.9  & 77.5 & 2.9  & 0.0110 \\\\\n",
      "1 & HESS J0835-455 & 128.3 & -45.2 & 0.0  & 0.2 & 2.0  & 0.7190 \\\\\n",
      "2 & PKS 0426-380 & 67.2 & -37.9 & 0.1  & 3.0 & 2.3  & 0.6404 \\\\\n",
      "3 & PKS 2155-304 & 329.7 & -30.2 & 1.7  & 61.3 & 4.0  & 0.2504 \\\\\n",
      "4 & Mkn 421 & 166.1 & 38.2 & 0.0  & -- & -- & -- \\\\\n",
      "5 & PKS 0537-441 & 84.7 & -44.1 & 0.2  & 1.1 & 1.8  & 0.5762 \\\\\n",
      "6 & PKS 0447-439 & 72.4 & -43.8 & 0.0  & 0.7 & 2.1  & 0.6979 \\\\\n",
      "7 & BL Lac & 330.7 & 42.3 & 0.8  & 7.6 & 1.6  & 0.3398 \\\\\n",
      "8 & PG 1553+113 & 238.9 & 11.2 & 0.0  & -- & -- & -- \\\\\n",
      "9 & TXS 0518+211 & 80.4 & 21.2 & 5.3  & 149.3 & 3.4  & 0.0355 \\\\\n",
      "10 & PKS 0235+164 & 39.7 & 16.6 & 0.0  & -- & -- & -- \\\\\n",
      "11 & PKS 1424+240 & 216.8 & 23.8 & 3.4  & 7.7 & 1.3  & 0.0944 \\\\\n",
      "12 & 3C 66A & 35.7 & 43.0 & 1.5  & 86.3 & 3.7  & 0.2366 \\\\\n",
      "13 & TXS 0506+056 & 77.4 & 5.7 & 0.0  & -- & -- & -- \\\\\n",
      "14 & AP Librae & 229.4 & -24.4 & 0.0  & 0.3 & 1.0  & 0.7247 \\\\\n",
      "15 & S5 0716+71 & 110.5 & 71.3 & 0.3  & 1.9 & 1.0  & 0.5351 \\\\\n",
      "16 & B2 1215+30 & 184.5 & 30.1 & 0.1  & 5.2 & 2.2  & 0.5735 \\\\\n",
      "17 & MH 2136-428 & 324.9 & -42.6 & 0.0  & -- & -- & -- \\\\\n",
      "18 & PKS 2233-148 & 339.1 & -14.6 & 0.2  & 25.4 & 4.0  & 0.5865 \\\\\n",
      "19 & Mkn 501 & 253.5 & 39.8 & 0.3  & 4.3 & 1.0  & 0.5030 \\\\\n",
      "20 & PMN J1603-4904 & 241.0 & -49.1 & 9.1  & 84.5 & 3.1  & 0.0104 \\\\\n",
      "21 & S2 0109+22 & 18.0 & 22.8 & 3.9  & 148.7 & 4.0  & 0.0758 \\\\\n",
      "22 & PKS 0301-243 & 45.9 & -24.1 & 0.8  & 44.1 & 3.6  & 0.4067 \\\\\n",
      "23 & 4C +01.28 & 164.6 & 1.6 & 6.0  & 16.1 & 1.2  & 0.0253 \\\\\n",
      "24 & PKS 0700-661 & 105.1 & -66.2 & 2.2  & 28.9 & 2.9  & 0.2386 \\\\\n",
      "25 & TXS 0628-240 & 97.7 & -24.1 & 0.0  & 1.0 & 3.0  & 0.7454 \\\\\n",
      "26 & PKS 0823-223 & 126.5 & -22.5 & 0.3  & 2.0 & 2.0  & 0.5527 \\\\\n",
      "27 & PKS 0735+17 & 114.5 & 17.7 & 1.0  & 65.5 & 4.0  & 0.3646 \\\\\n",
      "28 & PMN J1329-5608 & 202.3 & -56.1 & 1.6  & 40.4 & 4.0  & 0.2752 \\\\\n",
      "29 & PMN J0531-4827 & 83.0 & -48.5 & 0.0  & -- & -- & -- \\\\\n",
      "30 & MG1 J021114+1051 & 32.8 & 10.9 & 0.2  & 29.3 & 4.0  & 0.6188 \\\\\n",
      "31 & PKS 1440-389 & 221.0 & -39.1 & 2.9  & 11.0 & 1.0  & 0.1751 \\\\\n",
      "32 & OT 081 & 267.9 & 9.6 & 1.0  & 34.9 & 2.8  & 0.3587 \\\\\n",
      "33 & OJ 287 & 133.7 & 20.1 & 0.6  & 29.4 & 2.7  & 0.4671 \\\\\n",
      "34 & PKS 1101-536 & 166.0 & -54.0 & 0.0  & -- & -- & -- \\\\\n",
      "35 & TXS 0141+268 & 26.2 & 27.1 & 0.0  & 1.7 & 3.3  & 0.7034 \\\\\n",
      "36 & 1H 1013+498 & 153.8 & 49.4 & 0.0  & 4.2 & 2.6  & 0.6756 \\\\\n",
      "37 & PKS 0048-09 & 12.7 & -9.5 & 3.8  & 115.0 & 3.6  & 0.0897 \\\\\n",
      "38 & PMN J1650-5044 & 252.6 & -50.8 & 12.9  & 88.1 & 2.9  & 0.0023 \\\\\n",
      "39 & PKS 0118-272 & 20.1 & -27.0 & 0.9  & 44.6 & 3.9  & 0.3791 \\\\\n",
      "40 & 1H 1914-194 & 289.4 & -19.4 & 2.8  & 26.8 & 2.5  & 0.1518 \\\\\n",
      "41 & PKS 0332-403 & 53.6 & -40.1 & 0.5  & 9.8 & 2.4  & 0.4815 \\\\\n",
      "42 & OJ 014 & 122.9 & 1.8 & 0.0  & 4.8 & 4.0  & 0.7598 \\\\\n",
      "43 & PMN J1918-4111 & 289.6 & -41.2 & 1.9  & 54.4 & 3.7  & 0.2573 \\\\\n",
      "44 & PKS 1936-623 & 295.3 & -62.2 & 0.7  & 26.5 & 4.0  & 0.4209 \\\\\n",
      "45 & 1H 1720+117 & 261.3 & 11.9 & 0.0  & 6.5 & 2.7  & 0.7151 \\\\\n",
      "46 & PMN J1610-6649 & 242.7 & -66.8 & 0.2  & 10.1 & 2.9  & 0.5887 \\\\\n",
      "47 & PMN J0334-3725 & 53.6 & -37.4 & 0.6  & 10.7 & 2.4  & 0.4560 \\\\\n",
      "48 & TXS 1714-336 & 259.4 & -33.7 & 6.3  & 67.6 & 2.9  & 0.0279 \\\\\n",
      "49 & PKS 2005-489 & 302.4 & -48.8 & 0.0  & -- & -- & -- \\\\\n",
      "50 & PKS B1056-113 & 164.8 & -11.6 & 3.8  & 19.6 & 2.1  & 0.0966 \\\\\n",
      "51 & RGB J2243+203 & 341.0 & 20.4 & 6.2  & 162.2 & 4.0  & 0.0230 \\\\\n",
      "52 & 1ES 1959+650 & 300.0 & 65.1 & 3.9  & 149.5 & 4.0  & 0.0719 \\\\\n",
      "53 & S4 0814+42 & 124.6 & 42.4 & 0.1  & 15.9 & 4.0  & 0.5637 \\\\\n",
      "54 & KUV 00311-1938 & 8.4 & -19.4 & 4.9  & 109.6 & 3.6  & 0.0633 \\\\\n",
      "55 & PMN J2250-2806 & 342.7 & -28.1 & 1.7  & 58.9 & 4.0  & 0.2456 \\\\\n",
      "56 & 1RXS J130421.2-435308 & 196.1 & -43.9 & 0.5  & 7.1 & 2.3  & 0.4727 \\\\\n",
      "57 & PMN J0810-7530 & 122.8 & -75.5 & 0.2  & 16.6 & 4.0  & 0.5966 \\\\\n",
      "58 & 3C 454.3 & 343.5 & 16.2 & 2.2  & 105.2 & 4.0  & 0.1920 \\\\\n",
      "59 & PKS 1424-41 & 217.0 & -42.1 & 1.7  & 10.1 & 1.0  & 0.2804 \\\\\n",
      "60 & 3C 279 & 194.0 & -5.8 & 3.1  & 10.1 & 1.0  & 0.1195 \\\\\n",
      "61 & CTA 102 & 338.2 & 11.7 & 3.3  & 128.4 & 4.0  & 0.1051 \\\\\n",
      "62 & PKS 1510-089 & 228.2 & -9.1 & 2.1  & 4.8 & 1.0  & 0.2121 \\\\\n",
      "63 & PKS 0454-234 & 74.3 & -23.4 & 0.0  & -- & -- & -- \\\\\n",
      "64 & PKS 1502+106 & 226.1 & 10.5 & 0.8  & 8.8 & 1.0  & 0.4177 \\\\\n",
      "65 & PKS 1830-211 & 278.4 & -21.1 & 6.1  & 70.2 & 2.8  & 0.0328 \\\\\n",
      "66 & PKS 2326-502 & 352.3 & -49.9 & 1.8  & 6.6 & 2.1  & 0.2647 \\\\\n",
      "67 & PKS 0727-11 & 112.6 & -11.7 & 0.2  & 8.5 & 2.6  & 0.5924 \\\\\n",
      "68 & 4C +21.35 & 186.2 & 21.4 & 2.4  & 11.4 & 1.5  & 0.1621 \\\\\n",
      "69 & PMN J2345-1555 & 356.3 & -15.9 & 0.1  & 11.7 & 3.3  & 0.6475 \\\\\n",
      "70 & 4C +01.02 & 17.2 & 1.6 & 1.1  & 74.4 & 3.8  & 0.3385 \\\\\n",
      "71 & PKS 2023-07 & 306.4 & -7.6 & 4.5  & 122.5 & 3.5  & 0.0610 \\\\\n",
      "72 & Ton 599 & 179.9 & 29.2 & 0.5  & 14.5 & 2.4  & 0.4056 \\\\\n",
      "73 & 4C +38.41 & 248.8 & 38.1 & 0.2  & 3.8 & 1.0  & 0.5612 \\\\\n",
      "74 & PKS 1244-255 & 191.7 & -25.8 & 3.0  & 3.9 & 1.0  & 0.1284 \\\\\n",
      "75 & B2 1520+31 & 230.5 & 31.7 & 7.8  & 9.3 & 1.0  & 0.0123 \\\\\n",
      "76 & PKS 1124-186 & 171.8 & -19.0 & 0.0  & -- & -- & -- \\\\\n",
      "77 & 4C +28.07 & 39.5 & 28.8 & 0.0  & -- & -- & -- \\\\\n",
      "78 & PKS 1730-13 & 263.3 & -13.1 & 3.2  & 51.0 & 2.7  & 0.1290 \\\\\n",
      "79 & PKS 0805-07 & 122.1 & -7.9 & 0.1  & 2.5 & 2.3  & 0.6732 \\\\\n",
      "80 & PKS 0208-512 & 32.7 & -51.0 & 3.1  & 4.9 & 1.8  & 0.1444 \\\\\n",
      "81 & PKS 0336-01 & 54.9 & -1.8 & 0.0  & 10.3 & 4.0  & 0.7332 \\\\\n",
      "82 & PKS 0502+049 & 76.3 & 5.0 & 0.0  & -- & -- & -- \\\\\n",
      "83 & PKS 0402-362 & 61.0 & -36.1 & 0.1  & 2.2 & 2.2  & 0.6720 \\\\\n",
      "84 & PMN J1802-3940 & 270.7 & -39.7 & 5.8  & 76.6 & 3.1  & 0.0430 \\\\\n",
      "85 & PKS 1622-253 & 246.4 & -25.5 & 3.8  & 36.5 & 2.6  & 0.0893 \\\\\n",
      "86 & PKS 2052-47 & 314.1 & -47.2 & 0.0  & -- & -- & -- \\\\\n",
      "87 & 3C 273 & 187.3 & 2.0 & 1.9  & 11.3 & 1.0  & 0.2264 \\\\\n",
      "88 & PKS 2142-75 & 326.8 & -75.6 & 0.0  & 2.6 & 1.0  & 0.7439 \\\\\n",
      "89 & MG1 J123931+0443 & 189.9 & 4.7 & 1.9  & 9.3 & 1.0  & 0.2168 \\\\\n",
      "90 & MG2 J201534+3710 & 303.9 & 37.2 & 5.1  & 113.6 & 3.1  & 0.0389 \\\\\n",
      "91 & Galactic Centre & 266.4 & -29.0 & 6.4  & 58.6 & 2.7  & 0.0226 \\\\\n",
      "92 & PKS 2247-131 & 342.5 & -12.8 & 0.0  & 6.9 & 4.0  & 0.7120 \\\\\n",
      "93 & NGC 1275 & 50.0 & 41.5 & 0.2  & 29.6 & 3.3  & 0.5276 \\\\\n",
      "94 & PKS 0521-36 & 80.7 & -36.5 & 2.1  & 5.7 & 2.0  & 0.2370 \\\\\n",
      "95 & Cen A & 201.0 & -43.5 & 0.9  & 9.4 & 2.4  & 0.3982 \\\\\n",
      "96 & LMC & 80.0 & -68.8 & 1.3  & 31.5 & 4.0  & 0.3272 \\\\\n",
      "97 & SMC & 14.5 & -72.8 & 2.7  & 43.1 & 1.0  & 0.1740 \\\\\n",
      "98 & NGC 4945 & 196.4 & -49.5 & 0.8  & 7.3 & 2.4  & 0.4245 \\\\\n",
      "99 & NGC 253 & 11.9 & -25.3 & 1.1  & 51.3 & 3.8  & 0.3290 \\\\\n",
      "100 & NGC 1068 & 40.7 & -0.0 & 1.7  & 86.7 & 4.0  & 0.2543 \\\\\n",
      "101 & M 82 & 148.9 & 69.7 & 0.3  & 23.0 & 2.9  & 0.5626 \\\\\n",
      "102 & Arp 220 & 233.7 & 23.5 & 8.2  & 15.3 & 1.0  & 0.0086 \\\\\n",
      "103 & M 31 & 10.8 & 41.2 & 0.3  & 18.2 & 2.9  & 0.4875 \\\\\n",
      "104 & NGC 3424 & 162.9 & 32.9 & 0.0  & -- & -- & -- \\\\\n",
      "105 & IC 678 & 168.6 & 6.6 & 9.1  & 19.2 & 1.8  & 0.0052 \\\\\n",
      "106 & NGC 5380 & 209.3 & 37.5 & 1.5  & 10.9 & 1.0  & 0.2427 \\\\\n",
      "107 & Arp 299 & 172.1 & 58.5 & 0.0  & -- & -- & -- \\\\\n",
      "108 & NGC 2146 & 94.5 & 78.3 & 0.7  & 4.1 & 1.0  & 0.4489 \\\\\n"
     ]
    }
   ],
   "source": [
    "print(r'Source Number & Source Name & RA & Dec & TS & ns & gamma & pvalue$_{pre}$')\n",
    "for i, ts in enumerate(tss):\n",
    "    if ts == 0:\n",
    "        print('{} & {} & {:.1f} & {:.1f} & {:.1f}  & -- & -- & -- \\\\\\\\'.format(i, names[i], RA[i], DEC[i], tss[i], nss[i], gammas[i], pre_trial_p[i]))\n",
    "    else:\n",
    "        print('{} & {} & {:.1f} & {:.1f} & {:.1f}  & {:.1f} & {:.1f}  & {:.4f} \\\\\\\\'.format(i, names[i], RA[i], DEC[i], tss[i], nss[i], gammas[i], pre_trial_p[i]))\n",
    "    "
   ]
  },
  {
   "cell_type": "code",
   "execution_count": null,
   "metadata": {},
   "outputs": [],
   "source": []
  }
 ],
 "metadata": {
  "kernelspec": {
   "display_name": "icerec3",
   "language": "python",
   "name": "icerec3"
  },
  "language_info": {
   "codemirror_mode": {
    "name": "ipython",
    "version": 3
   },
   "file_extension": ".py",
   "mimetype": "text/x-python",
   "name": "python",
   "nbconvert_exporter": "python",
   "pygments_lexer": "ipython3",
   "version": "3.7.5"
  }
 },
 "nbformat": 4,
 "nbformat_minor": 4
}
