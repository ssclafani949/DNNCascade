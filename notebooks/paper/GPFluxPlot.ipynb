{
 "cells": [
  {
   "cell_type": "code",
   "execution_count": 1,
   "metadata": {},
   "outputs": [],
   "source": [
    "import numpy as np\n",
    "import matplotlib.pyplot as plt\n",
    "import seaborn as sns\n",
    "plt.rc('figure', facecolor = 'w')\n",
    "plt.rc('figure', dpi=100)\n",
    "plt.rc('font', size=14)\n",
    "import csky as cy\n",
    "import healpy as hp\n",
    "import scipy.stats\n",
    "#cy.plotting.mrichman_mpl()"
   ]
  },
  {
   "cell_type": "code",
   "execution_count": 2,
   "metadata": {},
   "outputs": [],
   "source": [
    "sbc = sns.color_palette( n_colors=15\n",
    "                          )"
   ]
  },
  {
   "cell_type": "code",
   "execution_count": 3,
   "metadata": {},
   "outputs": [],
   "source": [
    "#colors = [ sbc[9], '#E37222', '#343E78', '#800000', 'grey']\n",
    "colors = ['#FF7F0E', '#0B3D53', '#5C9FC9', ]\n",
    "#colors = [ 'teal', '#FF7F0E','firebrick',  ]"
   ]
  },
  {
   "cell_type": "code",
   "execution_count": 4,
   "metadata": {},
   "outputs": [
    {
     "data": {
      "text/plain": [
       "['#FF7F0E', '#0B3D53', '#5C9FC9']"
      ]
     },
     "execution_count": 4,
     "metadata": {},
     "output_type": "execute_result"
    }
   ],
   "source": [
    "colors"
   ]
  },
  {
   "cell_type": "code",
   "execution_count": 5,
   "metadata": {},
   "outputs": [],
   "source": [
    "plot_dir = cy.utils.ensure_dir('/home/ssclafani/public_html/DNNC/paperplots/Fig4')"
   ]
  },
  {
   "cell_type": "code",
   "execution_count": 6,
   "metadata": {},
   "outputs": [
    {
     "ename": "MemoryError",
     "evalue": "",
     "output_type": "error",
     "traceback": [
      "\u001b[0;31m---------------------------------------------------------------------------\u001b[0m",
      "\u001b[0;31mMemoryError\u001b[0m                               Traceback (most recent call last)",
      "\u001b[0;32m<ipython-input-6-2797e6945887>\u001b[0m in \u001b[0;36m<module>\u001b[0;34m\u001b[0m\n\u001b[0;32m----> 1\u001b[0;31m \u001b[0mkra5\u001b[0m\u001b[0;34m,\u001b[0m \u001b[0m_\u001b[0m\u001b[0;34m,\u001b[0m \u001b[0m_\u001b[0m\u001b[0;34m,\u001b[0m \u001b[0mebins5\u001b[0m \u001b[0;34m=\u001b[0m \u001b[0mnp\u001b[0m\u001b[0;34m.\u001b[0m\u001b[0mload\u001b[0m\u001b[0;34m(\u001b[0m\u001b[0;34m'/data/ana/analyses/NuSources/2021_DNNCascade_analyses/templates/KRA-gamma_5PeV_maps_energies.tuple.npy'\u001b[0m\u001b[0;34m,\u001b[0m \u001b[0mallow_pickle\u001b[0m \u001b[0;34m=\u001b[0m \u001b[0;32mTrue\u001b[0m\u001b[0;34m,\u001b[0m \u001b[0mencoding\u001b[0m\u001b[0;34m=\u001b[0m\u001b[0;34m'latin1'\u001b[0m\u001b[0;34m)\u001b[0m\u001b[0;34m\u001b[0m\u001b[0;34m\u001b[0m\u001b[0m\n\u001b[0m\u001b[1;32m      2\u001b[0m \u001b[0mkra50\u001b[0m\u001b[0;34m,\u001b[0m \u001b[0m_\u001b[0m\u001b[0;34m,\u001b[0m \u001b[0m_\u001b[0m\u001b[0;34m,\u001b[0m \u001b[0mebins50\u001b[0m \u001b[0;34m=\u001b[0m \u001b[0mnp\u001b[0m\u001b[0;34m.\u001b[0m\u001b[0mload\u001b[0m\u001b[0;34m(\u001b[0m\u001b[0;34m'/data/ana/analyses/NuSources/2021_DNNCascade_analyses/templates/KRA-gamma_maps_energies.tuple.npy'\u001b[0m\u001b[0;34m,\u001b[0m \u001b[0mallow_pickle\u001b[0m\u001b[0;34m=\u001b[0m\u001b[0;32mTrue\u001b[0m\u001b[0;34m,\u001b[0m \u001b[0mencoding\u001b[0m\u001b[0;34m=\u001b[0m\u001b[0;34m'latin1'\u001b[0m\u001b[0;34m)\u001b[0m\u001b[0;34m\u001b[0m\u001b[0;34m\u001b[0m\u001b[0m\n\u001b[1;32m      3\u001b[0m \u001b[0mpi0\u001b[0m \u001b[0;34m=\u001b[0m \u001b[0mnp\u001b[0m\u001b[0;34m.\u001b[0m\u001b[0mload\u001b[0m\u001b[0;34m(\u001b[0m\u001b[0;34m'/data/ana/analyses/NuSources/2021_DNNCascade_analyses/templates/Fermi-LAT_pi0_map.npy'\u001b[0m\u001b[0;34m,\u001b[0m \u001b[0mallow_pickle\u001b[0m\u001b[0;34m=\u001b[0m\u001b[0;32mTrue\u001b[0m\u001b[0;34m,\u001b[0m \u001b[0mencoding\u001b[0m\u001b[0;34m=\u001b[0m\u001b[0;34m'latin1'\u001b[0m\u001b[0;34m)\u001b[0m\u001b[0;34m\u001b[0m\u001b[0;34m\u001b[0m\u001b[0m\n",
      "\u001b[0;32m~/.vens/py3_venv/lib/python3.7/site-packages/numpy/lib/npyio.py\u001b[0m in \u001b[0;36mload\u001b[0;34m(file, mmap_mode, allow_pickle, fix_imports, encoding)\u001b[0m\n\u001b[1;32m    451\u001b[0m             \u001b[0;32melse\u001b[0m\u001b[0;34m:\u001b[0m\u001b[0;34m\u001b[0m\u001b[0;34m\u001b[0m\u001b[0m\n\u001b[1;32m    452\u001b[0m                 return format.read_array(fid, allow_pickle=allow_pickle,\n\u001b[0;32m--> 453\u001b[0;31m                                          pickle_kwargs=pickle_kwargs)\n\u001b[0m\u001b[1;32m    454\u001b[0m         \u001b[0;32melse\u001b[0m\u001b[0;34m:\u001b[0m\u001b[0;34m\u001b[0m\u001b[0;34m\u001b[0m\u001b[0m\n\u001b[1;32m    455\u001b[0m             \u001b[0;31m# Try a pickle\u001b[0m\u001b[0;34m\u001b[0m\u001b[0;34m\u001b[0m\u001b[0;34m\u001b[0m\u001b[0m\n",
      "\u001b[0;32m~/.vens/py3_venv/lib/python3.7/site-packages/numpy/lib/format.py\u001b[0m in \u001b[0;36mread_array\u001b[0;34m(fp, allow_pickle, pickle_kwargs)\u001b[0m\n\u001b[1;32m    742\u001b[0m             \u001b[0mpickle_kwargs\u001b[0m \u001b[0;34m=\u001b[0m \u001b[0;34m{\u001b[0m\u001b[0;34m}\u001b[0m\u001b[0;34m\u001b[0m\u001b[0;34m\u001b[0m\u001b[0m\n\u001b[1;32m    743\u001b[0m         \u001b[0;32mtry\u001b[0m\u001b[0;34m:\u001b[0m\u001b[0;34m\u001b[0m\u001b[0;34m\u001b[0m\u001b[0m\n\u001b[0;32m--> 744\u001b[0;31m             \u001b[0marray\u001b[0m \u001b[0;34m=\u001b[0m \u001b[0mpickle\u001b[0m\u001b[0;34m.\u001b[0m\u001b[0mload\u001b[0m\u001b[0;34m(\u001b[0m\u001b[0mfp\u001b[0m\u001b[0;34m,\u001b[0m \u001b[0;34m**\u001b[0m\u001b[0mpickle_kwargs\u001b[0m\u001b[0;34m)\u001b[0m\u001b[0;34m\u001b[0m\u001b[0;34m\u001b[0m\u001b[0m\n\u001b[0m\u001b[1;32m    745\u001b[0m         \u001b[0;32mexcept\u001b[0m \u001b[0mUnicodeError\u001b[0m \u001b[0;32mas\u001b[0m \u001b[0merr\u001b[0m\u001b[0;34m:\u001b[0m\u001b[0;34m\u001b[0m\u001b[0;34m\u001b[0m\u001b[0m\n\u001b[1;32m    746\u001b[0m             \u001b[0;32mif\u001b[0m \u001b[0msys\u001b[0m\u001b[0;34m.\u001b[0m\u001b[0mversion_info\u001b[0m\u001b[0;34m[\u001b[0m\u001b[0;36m0\u001b[0m\u001b[0;34m]\u001b[0m \u001b[0;34m>=\u001b[0m \u001b[0;36m3\u001b[0m\u001b[0;34m:\u001b[0m\u001b[0;34m\u001b[0m\u001b[0;34m\u001b[0m\u001b[0m\n",
      "\u001b[0;31mMemoryError\u001b[0m: "
     ]
    }
   ],
   "source": [
    "kra5, _, _, ebins5 = np.load('/data/ana/analyses/NuSources/2021_DNNCascade_analyses/templates/KRA-gamma_5PeV_maps_energies.tuple.npy', allow_pickle = True, encoding='latin1')\n",
    "kra50, _, _, ebins50 = np.load('/data/ana/analyses/NuSources/2021_DNNCascade_analyses/templates/KRA-gamma_maps_energies.tuple.npy', allow_pickle=True, encoding='latin1')\n",
    "pi0 = np.load('/data/ana/analyses/NuSources/2021_DNNCascade_analyses/templates/Fermi-LAT_pi0_map.npy', allow_pickle=True, encoding='latin1')\n"
   ]
  },
  {
   "cell_type": "code",
   "execution_count": null,
   "metadata": {},
   "outputs": [],
   "source": [
    "import healpy as hp\n",
    "a = hp.nside2pixarea(128)\n",
    "print(a)"
   ]
  },
  {
   "cell_type": "code",
   "execution_count": null,
   "metadata": {},
   "outputs": [],
   "source": [
    "dat = np.loadtxt('saved_sens/piecewise_fitresult.txt', skiprows = 13)\n",
    "x = dat[:,0]\n",
    "x_err_low = x - dat[:,1]\n",
    "x_err_high = dat[:,2] - x\n",
    "\n",
    "# from fit\n",
    "tnorm = 1.e-8 * (4*np.pi)\n",
    "\n",
    "y = tnorm * dat[:,3]\n",
    "\n",
    "y_max = tnorm * dat[:,-1]\n",
    "y_min = tnorm * dat[:,-2]\n",
    "\n",
    "y_err_high = y_max - y\n",
    "y_err_low = y - y_min\n",
    "\n",
    "indices_UL = np.array([5,8,9, 10, 11, 12])\n",
    "\n",
    "# visualize upper limits with corresponding marker\n",
    "y[indices_UL] = y[indices_UL]+y_err_high[indices_UL]\n",
    "\n",
    "uplims = np.zeros(x.shape)\n",
    "uplims[[indices_UL]]=True\n",
    "\n",
    "# plot the points with non-zero best fit (i.e. not upper-limits)\n",
    "x_new = np.delete(x, indices_UL)\n",
    "x_err_high_new = np.delete(x_err_high, indices_UL)\n",
    "x_err_low_new = np.delete(x_err_low, indices_UL)\n",
    "\n",
    "y_new = np.delete(y, indices_UL)\n",
    "y_err_high_new = np.delete(y_err_high, indices_UL)\n",
    "y_err_low_new = np.delete(y_err_low, indices_UL)"
   ]
  },
  {
   "cell_type": "code",
   "execution_count": null,
   "metadata": {},
   "outputs": [],
   "source": [
    "georg_flux = np.load('/data/user/gschwefer/misc/for_steve/fermi_pi0_gamma_ray_allsky_average_E2Phi_2.7_extrapol.npy', allow_pickle=True)\n",
    "georg_energy = np.load('/data/user/gschwefer/misc/for_steve/fermi_pi0_gamma_ray_energies.npy', allow_pickle=True)\n",
    "georg_flux = 0.31* georg_flux"
   ]
  },
  {
   "cell_type": "code",
   "execution_count": null,
   "metadata": {},
   "outputs": [],
   "source": []
  },
  {
   "cell_type": "code",
   "execution_count": null,
   "metadata": {},
   "outputs": [],
   "source": [
    "hans_result = np.loadtxt('saved_sens/Cascades_PRL_2010_11_12_13_14_15_pp_nominal_1sigma.txt', skiprows=1)"
   ]
  },
  {
   "cell_type": "code",
   "execution_count": null,
   "metadata": {},
   "outputs": [],
   "source": [
    "hans_gammas = hans_result[:,0]\n",
    "hans_norm = hans_result[:,1]"
   ]
  },
  {
   "cell_type": "code",
   "execution_count": null,
   "metadata": {},
   "outputs": [],
   "source": [
    "hans_flux = {}\n",
    "for i, gamma in enumerate(hans_gammas):\n",
    "    Es = np.linspace(16000,2.6e6, 1000)\n",
    "    hans_flux[gamma] =  Es**2*1e-18*hans_norm[i]*((Es/1e5)**(-1*hans_gammas[i]))\n",
    "    \n",
    "bestfithans = Es**2*1e-18*1.66*((Es/1e5)**-2.53)"
   ]
  },
  {
   "cell_type": "code",
   "execution_count": null,
   "metadata": {},
   "outputs": [],
   "source": [
    "1e5**2*1e-18*1.66*((1e5/1e5)**-2.53)"
   ]
  },
  {
   "cell_type": "code",
   "execution_count": null,
   "metadata": {},
   "outputs": [],
   "source": [
    "print(list(zip( np.arange(10e3,101e3, 5000), np.interp( np.arange(10e3,101e3, 5000), Es, bestfithans) * (np.pi*4))))"
   ]
  },
  {
   "cell_type": "code",
   "execution_count": null,
   "metadata": {},
   "outputs": [],
   "source": [
    "bestfithans[np.where(np.round(Es) == 30000)]"
   ]
  },
  {
   "cell_type": "code",
   "execution_count": null,
   "metadata": {},
   "outputs": [],
   "source": [
    "points = np.ndarray((len(hans_gammas), 1000))\n",
    "xs = np.logspace(4.20411998,6.41497334,1000)\n",
    "\n",
    "for i, gamma in enumerate(hans_gammas):\n",
    "    points[i] = np.interp(np.log10(xs) ,np.log10(Es), hans_flux[gamma])\n",
    "    "
   ]
  },
  {
   "cell_type": "code",
   "execution_count": null,
   "metadata": {},
   "outputs": [],
   "source": [
    "print(points.shape)\n",
    "\n",
    "mins = np.min(points, axis=0)\n",
    "maxs = np.max(points, axis=0)"
   ]
  },
  {
   "cell_type": "code",
   "execution_count": null,
   "metadata": {},
   "outputs": [],
   "source": [
    "plt.fill_between(xs, mins, maxs, color='r', alpha=0.25)\n",
    "plt.plot(Es, bestfithans, c='r', ls='--')\n",
    "plt.loglog()\n",
    "plt.ylim(5e-10,1e-6)\n",
    "#plt.xlim(1e4,1e8)"
   ]
  },
  {
   "cell_type": "code",
   "execution_count": null,
   "metadata": {},
   "outputs": [],
   "source": [
    "''' pi0flux = [1271.8527801661924, 0.020005181457912437,\n",
    "1553.1845690893892, 0.01852439272816013,\n",
    "1922.519128617942, 0.016478593938396482,\n",
    "2381.49216131387, 0.014615905579883785,\n",
    "2895.9554838722925, 0.012866607693166323,\n",
    "3585.370348580028, 0.011101706303158538,\n",
    "4375.590098581272, 0.009635108280540587,\n",
    "5397.82609630125, 0.008285718315429003,\n",
    "6645.846422152243, 0.007095591309854342,\n",
    "8182.418973649131, 0.006067527085469145,\n",
    "10074.25932040286, 0.005203618510847123,\n",
    "12318.748238749182, 0.004495475813262984,\n",
    "15166.940810483744, 0.0038723560749193814,\n",
    "19149.109652203424, 0.0032775651321566347,\n",
    "23576.536108990374, 0.0028150126763895286,\n",
    "28772.831793568785, 0.0024502918550690176,\n",
    "35494.8107159693, 0.002113304010356377,\n",
    "43701.49326658316, 0.001825711674448281,\n",
    "53717.853633984676, 0.0015706784002100286,\n",
    "65793.2201885699, 0.0013546635088702511,\n",
    "81005.13599200615, 0.0011600851314746696,\n",
    "94194.95560159562, 0.001041064937747737\n",
    "]\n",
    "pi0_EGeV = np.array(pi0flux[::2]) /1e3\n",
    "pi0_fluxGeV = np.array(pi0flux[1::2])  /1e3    \n",
    "b1, b0, _r, _p_val, _stderr = scipy.stats.linregress(np.log10(pi0_EGeV[11:]), \n",
    "                                           np.log10(pi0_fluxGeV[11:])) \n",
    "x_pred = np.linspace(2,7, 100)\n",
    "y_pred = b1 * x_pred + b0   '''"
   ]
  },
  {
   "cell_type": "code",
   "execution_count": null,
   "metadata": {},
   "outputs": [],
   "source": [
    "#90% erange\n",
    "#erange_kra5 = [5200, 145000]\n",
    "#erange_kra50 = [6900, 357000]\n",
    "#erange_pi0 = [1500, 282000]\n",
    "#68% erange\n",
    "#erange_kra5 = [10100, 81000]\n",
    "#erange_kra50 = [18200, 162000]\n",
    "#erange_pi0 = [3600, 99000]\n",
    "\n",
    "\n",
    "\n",
    "#ranges from ts\n",
    "erange_kra5 = [968, 99754]\n",
    "erange_kra50 = [1019, 145377]\n",
    "erange_pi0 = [796, 68869]"
   ]
  },
  {
   "cell_type": "code",
   "execution_count": null,
   "metadata": {},
   "outputs": [],
   "source": [
    "mask5 = (ebins5 > erange_kra5[0]) & (ebins5 < erange_kra5[1])\n",
    "mask50 = (ebins50 > erange_kra50[0]) & (ebins50 < erange_kra50[1])\n",
    "#maskpi0 = (10**x_pred > 1500) & (10**x_pred < 315000)\n",
    "maskpi0_georg = (georg_energy > np.log10(erange_pi0[0])) & (georg_energy < np.log10(erange_pi0[1]))"
   ]
  },
  {
   "cell_type": "code",
   "execution_count": null,
   "metadata": {},
   "outputs": [],
   "source": [
    "pi0modelnorm = 4.53e-12\n",
    "pi0_range = [1.69e-11, 2.18e-11, 2.71e-11]\n",
    "pi0_model_range = np.array(pi0_range) / pi0modelnorm\n",
    "print(pi0_range)\n",
    "print(pi0_range[0] - pi0_range[1])\n",
    "print(pi0_range[2] - pi0_range[1])"
   ]
  },
  {
   "cell_type": "code",
   "execution_count": null,
   "metadata": {},
   "outputs": [],
   "source": [
    "pi0_model_range"
   ]
  },
  {
   "cell_type": "code",
   "execution_count": null,
   "metadata": {},
   "outputs": [],
   "source": []
  },
  {
   "cell_type": "code",
   "execution_count": null,
   "metadata": {},
   "outputs": [],
   "source": [
    "#pi0_range = [4.23, 5.45, 7]\n",
    "kra5_range = [.650, .894,  1.18]\n",
    "kra50_range = [.416, .592, 0.794]"
   ]
  },
  {
   "cell_type": "code",
   "execution_count": null,
   "metadata": {},
   "outputs": [],
   "source": [
    "print(kra5_range[0] - kra5_range[1])\n",
    "print(kra5_range[2] - kra5_range[1])"
   ]
  },
  {
   "cell_type": "code",
   "execution_count": null,
   "metadata": {},
   "outputs": [],
   "source": [
    "print(kra50_range[0] - kra50_range[1])\n",
    "print(kra50_range[2] - kra50_range[1])"
   ]
  },
  {
   "cell_type": "code",
   "execution_count": null,
   "metadata": {},
   "outputs": [],
   "source": [
    "kra5_plot = ebins5**2 *(sum(kra5)) * hp.nside2pixarea(128)/ 3\n",
    "xinterp = np.logspace(4,6,2001)\n",
    "interpvals = np.interp(xinterp, ebins5, kra5_plot)\n",
    "kra_100TeV = kra5_range[1]*interpvals[1000]\n",
    "print(kra_100TeV)\n",
    "print(1.66e-8*4*np.pi)\n",
    "\n",
    "kra_100TeV / (1.66e-8*4*np.pi )"
   ]
  },
  {
   "cell_type": "code",
   "execution_count": null,
   "metadata": {},
   "outputs": [],
   "source": []
  },
  {
   "cell_type": "code",
   "execution_count": null,
   "metadata": {},
   "outputs": [],
   "source": [
    "\t\n",
    "import matplotlib.patches as mpatches"
   ]
  },
  {
   "cell_type": "code",
   "execution_count": null,
   "metadata": {},
   "outputs": [],
   "source": [
    "fig , ax = plt.subplots(figsize=(5.5,5.5))\n",
    "plt.rc('font', size=10)\n",
    "ax.plot(ebins5, ebins5**2 * (sum(kra5)) * hp.nside2pixarea(128) / 3 , ls=':', color=colors[0] ,\n",
    "        lw=2, alpha=0.8, zorder=100, label='KRA$_\\gamma^{5}$ Model')\n",
    "ax.plot(ebins50, ebins50**2 * (sum(kra50)) * hp.nside2pixarea(128)/ 3, ls=':', color=colors[2],\n",
    "        lw=2, alpha=0.8, zorder=100, label='KRA$_\\gamma^{50}$ Model')\n",
    "ax.plot(10**georg_energy, 4*np.pi*georg_flux, color=colors[1],\n",
    "        lw=2, alpha=0.8, zorder=100, ls=':', label='$\\pi^0$ Model')\n",
    "\n",
    "ax.plot(np.nan, np.nan, label=' ', alpha=0)\n",
    "\n",
    "\n",
    "#ax.plot(10 ** x_pred, 4*np.pi*10 ** y_pred, lw=3, linestyle = \":\", \n",
    "#           label='$\\pi^0$ Model')\n",
    "'''(_, caps, _) = ax.errorbar(x[indices_UL], y[indices_UL], \n",
    "                           xerr=[x_err_low[indices_UL], x_err_high[indices_UL]], yerr=y[indices_UL]*0.5, fmt='o', \n",
    "                           c='dimgrey', linewidth=2.0, zorder=30, uplims=True, markersize=0)\n",
    "(_, caps2, _) = ax.errorbar(x_new, y_new, xerr=[x_err_low_new, x_err_high_new], \n",
    "                            yerr=[y_err_low_new, y_err_high_new], fmt='o', c ='dimgrey', label=\"All-Sky Measured Flux\", linewidth=2.0, zorder=31, markersize=0)\n",
    "(_, caps4, _) = ax.errorbar(x_new, y_new, yerr=[y_err_low_new, y_err_high_new], \n",
    "                            fmt='o', c='dimgrey' , linewidth=2.0, zorder=31, markersize=0, capsize=0)\n",
    "\n",
    "for cap in caps:\n",
    "    cap.set_markeredgewidth(2)\n",
    "'''\n",
    "kra5_plot = ebins5[mask5]**2 *(sum(kra5)[mask5]) * hp.nside2pixarea(128)/ 3\n",
    "\n",
    "ax.plot(ebins5[mask5], kra5_range[1] * kra5_plot , \n",
    "         c =colors[0], ls='-', zorder=10, lw=2, label='KRA$_\\gamma^{5}$ Best-Fit Flux')\n",
    "ax.fill_between(ebins5[mask5], kra5_range[0] * kra5_plot , kra5_range[-1] * kra5_plot,\n",
    "        color = colors[0], alpha=.25, zorder=10)\n",
    "\n",
    "kra50_plot = ebins50[mask50]**2 *(sum(kra50)[mask50]) * hp.nside2pixarea(128) / 3\n",
    "ax.plot(ebins50[mask50], kra50_range[1] * kra50_plot,\n",
    "         c =colors[2], ls='-', zorder=5, lw=2, label='KRA$_\\gamma^{50}$ Best-Fit Flux')\n",
    "ax.fill_between(ebins50[mask50],kra50_range[0] * kra50_plot, kra50_range[-1] * kra50_plot ,\n",
    "        color = colors[2], zorder=5,  alpha=.25)\n",
    "\n",
    "ax.plot(10**georg_energy[maskpi0_georg], 4*np.pi*pi0_model_range[1]*georg_flux[maskpi0_georg], \n",
    "        lw=2, c=colors[1], ls='-', zorder=3,\n",
    "        label='$\\pi^0$ Best-Fit Flux')\n",
    "ax.fill_between(10**georg_energy[maskpi0_georg], 4*np.pi*pi0_model_range[0]*georg_flux[maskpi0_georg],\n",
    "                4*np.pi*pi0_model_range[-1]*georg_flux[maskpi0_georg], zorder=3, color=colors[1], alpha=.25 )\n",
    "\n",
    "\n",
    "#plt.plot(Es, 4*np.pi*bestfithans, c='dimgrey', lw='1', alpha=0.4, ls='--', label='M.G.Aartsen(2020)')\n",
    "plt.fill_between(xs, 4*np.pi*mins, 4*np.pi*maxs, color='0.2', alpha=0.2,\n",
    "                 edgecolor='k', label=r'IceCube (2020)')\n",
    "\n",
    "\n",
    "#ax.arrow(2000, 1e-8, 19000, 0, width=.5e-9, \n",
    "#         length_includes_head = True, head_length=10**4 ,color=colors[0], alpha=0.8)\n",
    "#ax.arrow(2000, 1e-8, -1000, 0, width=.5e-9, \n",
    "#         length_includes_head = True, head_length=10**4 ,color=colors[0], alpha=0.8)\n",
    "alpha=1\n",
    "'''ax.annotate(s='', xy=(1295,.8e-8),xycoords='data', xytext=(21155,.8e-8), \n",
    "            arrowprops=dict(arrowstyle='<->', facecolor=colors[1], ec=colors[1], alpha=alpha, lw=3), \n",
    "             color=colors[2], alpha=0.5)\n",
    "ax.annotate(s='', xy=(1892,.7e-8), xytext=(37174,.7e-8), \n",
    "             arrowprops=dict(arrowstyle='<->', facecolor=colors[0], ec=colors[0], alpha=alpha, lw=3), color=colors[0], alpha=0.5)\n",
    "ax.annotate(s='', xy=(2084,.6e-8), xytext=(50604,.6e-8), \n",
    "             arrowprops=dict(arrowstyle='<->', facecolor=colors[2], ec=colors[2], alpha=alpha, lw=3), \n",
    "            color=colors[1], alpha=0.5)\n",
    "\n",
    "rect=mpatches.Rectangle((1200,.55e-8),50000,.4e-8, \n",
    "                        fill = False,\n",
    "                        #fill_color='w',\n",
    "                        color = \"k\",\n",
    "                        alpha=0.8,\n",
    "                        linewidth = 1)\n",
    "                        \n",
    "ax.text(1180,1.2e-8, 'Data Derived')\n",
    "ax.text(1180,1e-8, 'Energy Range')\n",
    "plt.gca().add_patch(rect)'''\n",
    "plt.loglog()\n",
    "#ax.set_ylim(1e-12,5e-9)\n",
    "ax.set_ylim(5e-9,5e-6)\n",
    "ax.set_xlim(500, 1e7)\n",
    "plt.legend(ncol=2)\n",
    "plt.rc('font', size=13)\n",
    "ax.set_ylabel(r'E$_{\\nu}^2$ $\\frac{dN}{dE_\\nu}$ [GeV s$^{-1}$ cm$^{-2}$]')\n",
    "ax.set_xlabel(R'E$_\\nu$ [GeV]')\n",
    "plt.tight_layout()\n",
    "#cy.plotting.saving(plot_dir, 'gp_flux')"
   ]
  },
  {
   "cell_type": "code",
   "execution_count": null,
   "metadata": {},
   "outputs": [],
   "source": []
  },
  {
   "cell_type": "code",
   "execution_count": null,
   "metadata": {},
   "outputs": [],
   "source": [
    "fig , ax = plt.subplots(figsize=(5.5,5.5))\n",
    "plt.rc('font', size=10)\n",
    "ax.plot(ebins5, ebins5**2 * (sum(kra5)) * hp.nside2pixarea(128) / 3 , ls=':', color=colors[0] ,\n",
    "        lw=2, alpha=0.9, zorder=100, label='KRA$_\\gamma^{5}$ Model')\n",
    "ax.plot(ebins50, ebins50**2 * (sum(kra50)) * hp.nside2pixarea(128)/ 3, ls=':', color=colors[2],\n",
    "        lw=2, alpha=0.9, zorder=100, label='KRA$_\\gamma^{50}$ Model')\n",
    "ax.plot(10**georg_energy, 4*np.pi*georg_flux, color=colors[1],\n",
    "        lw=2, alpha=0.9, zorder=100, ls=':', label='$\\pi^0$ Model')\n",
    "\n",
    "ax.plot(np.nan, np.nan, label=' ', alpha=0)\n",
    "\n",
    "\n",
    "kra5_plot = ebins5**2 *(sum(kra5)) * hp.nside2pixarea(128)/ 3\n",
    "alpha1 = .15\n",
    "alpha2 = .5\n",
    "alpha3 = .3\n",
    "ax.plot(ebins5, kra5_range[1] * kra5_plot , \n",
    "         c =colors[0], ls='-', zorder=10, lw=2, alpha=alpha2)\n",
    "#ax.fill_between(ebins5, kra5_range[0] * kra5_plot , kra5_range[-1] * kra5_plot,\n",
    "#        color = colors[0], alpha=alpha1, zorder=10)\n",
    "\n",
    "kra50_plot = ebins50**2 *(sum(kra50)) * hp.nside2pixarea(128) / 3\n",
    "ax.plot(ebins50, kra50_range[1] * kra50_plot,\n",
    "         c =colors[2], ls='-', zorder=5, lw=2, alpha=alpha2)\n",
    "#ax.fill_between(ebins50,kra50_range[0] * kra50_plot, kra50_range[-1] * kra50_plot ,\n",
    "#        color = colors[2], zorder=5,  alpha=alpha1)\n",
    "\n",
    "ax.plot(10**georg_energy, pi0_model_range[1]*4*np.pi*georg_flux, \n",
    "        lw=2, c=colors[1], ls='-', zorder=3,alpha=alpha2\n",
    "        )\n",
    "#ax.fill_between(10**georg_energy, pi0_range[0]*4*np.pi*georg_flux,\n",
    "#                pi0_range[-1]*4*np.pi*georg_flux, zorder=3, color=colors[1], alpha=alpha1 )\n",
    "\n",
    "\n",
    "kra5_plot = ebins5[mask5]**2 *(sum(kra5)[mask5]) * hp.nside2pixarea(128)/ 3\n",
    "\n",
    "ax.plot(ebins5[mask5], kra5_range[1] * kra5_plot , \n",
    "         c =colors[0], ls='-', zorder=10, lw=2, label=r'KRA$_\\gamma^{5}$ Best-Fit $\\nu$ Flux')\n",
    "ax.fill_between(ebins5[mask5], kra5_range[0] * kra5_plot , kra5_range[-1] * kra5_plot,\n",
    "        color = colors[0], alpha=alpha3, zorder=10)\n",
    "\n",
    "kra50_plot = ebins50[mask50]**2 *(sum(kra50)[mask50]) * hp.nside2pixarea(128) / 3\n",
    "ax.plot(ebins50[mask50], kra50_range[1] * kra50_plot,\n",
    "         c =colors[2], ls='-', zorder=5, lw=2, label=r'KRA$_\\gamma^{50}$ Best-Fit $\\nu$ Flux')\n",
    "ax.fill_between(ebins50[mask50],kra50_range[0] * kra50_plot, kra50_range[-1] * kra50_plot ,\n",
    "        color = colors[2], zorder=5,  alpha=alpha3)\n",
    "\n",
    "ax.plot(10**georg_energy[maskpi0_georg], pi0_model_range[1]*4*np.pi*georg_flux[maskpi0_georg], \n",
    "        lw=2, c=colors[1], ls='-', zorder=3,\n",
    "        label=r'$\\pi^0$ Best-Fit $\\nu$ Flux')\n",
    "ax.fill_between(10**georg_energy[maskpi0_georg], 4*np.pi*pi0_model_range[0]*georg_flux[maskpi0_georg],\n",
    "                4*np.pi*pi0_model_range[-1]*georg_flux[maskpi0_georg], zorder=3, color=colors[1], alpha=alpha3 )\n",
    "\n",
    "\n",
    "#plt.plot(Es, 4*np.pi*bestfithans, c='dimgrey', lw='1', alpha=0.4, ls='--', label='M.G.Aartsen(2020)')\n",
    "plt.fill_between(xs, 4*np.pi*mins, 4*np.pi*maxs, color='0.2', alpha=0.2,\n",
    "                 edgecolor='k', label=r'IceCube (2020)')\n",
    "\n",
    "\n",
    "alpha=1\n",
    "\n",
    "plt.loglog()\n",
    "#ax.set_ylim(1e-12,5e-9)\n",
    "ax.set_ylim(5e-9,5e-6)\n",
    "ax.set_xlim(500, 1e7)\n",
    "plt.legend(ncol=2)\n",
    "plt.rc('font', size=13)\n",
    "ax.set_ylabel(r'E$_{\\nu}^2$ $\\frac{dN}{dE_\\nu}$ [GeV s$^{-1}$ cm$^{-2}$]')\n",
    "ax.set_xlabel(R'E$_\\nu$ [GeV]')\n",
    "plt.tight_layout()\n",
    "cy.plotting.saving(plot_dir, 'gp_flux_full', dpi=500)"
   ]
  },
  {
   "cell_type": "code",
   "execution_count": null,
   "metadata": {},
   "outputs": [],
   "source": [
    "fig , ax = plt.subplots(figsize=(5.5,5.5))\n",
    "plt.rc('font', size=10)\n",
    "#ax.plot(ebins5, ebins5**2 * (sum(kra5)) * hp.nside2pixarea(128) / 3 , ls=':', color=colors[0] ,\n",
    "#        lw=2, alpha=0.9, zorder=100, label='KRA$_\\gamma^{5}$ Model')\n",
    "#ax.plot(ebins50, ebins50**2 * (sum(kra50)) * hp.nside2pixarea(128)/ 3, ls=':', color=colors[2],\n",
    "#        lw=2, alpha=0.9, zorder=100, label='KRA$_\\gamma^{50}$ Model')\n",
    "#ax.plot(10**georg_energy, 4*np.pi*georg_flux, color=colors[1],\n",
    "#        lw=2, alpha=0.9, zorder=100, ls=':', label='$\\pi^0$ Model')\n",
    "\n",
    "ax.plot(np.nan, np.nan, label=' ', alpha=0)\n",
    "\n",
    "\n",
    "kra5_plot = ebins5**2 *(sum(kra5)) * hp.nside2pixarea(128)/ 3\n",
    "alpha1 = .15\n",
    "alpha2 = .5\n",
    "alpha3 = .3\n",
    "ax.plot(ebins5, kra5_range[1] * kra5_plot , \n",
    "         c =colors[0], ls='-', zorder=10, lw=2, alpha=alpha2)\n",
    "#ax.fill_between(ebins5, kra5_range[0] * kra5_plot , kra5_range[-1] * kra5_plot,\n",
    "#        color = colors[0], alpha=alpha1, zorder=10)\n",
    "\n",
    "kra50_plot = ebins50**2 *(sum(kra50)) * hp.nside2pixarea(128) / 3\n",
    "ax.plot(ebins50, kra50_range[1] * kra50_plot,\n",
    "         c =colors[2], ls='-', zorder=5, lw=2, alpha=alpha2)\n",
    "#ax.fill_between(ebins50,kra50_range[0] * kra50_plot, kra50_range[-1] * kra50_plot ,\n",
    "#        color = colors[2], zorder=5,  alpha=alpha1)\n",
    "\n",
    "ax.plot(10**georg_energy, pi0_range[1]*4*np.pi*georg_flux, \n",
    "        lw=2, c=colors[1], ls='-', zorder=3,alpha=alpha2\n",
    "        )\n",
    "#ax.fill_between(10**georg_energy, pi0_range[0]*4*np.pi*georg_flux,\n",
    "#                pi0_range[-1]*4*np.pi*georg_flux, zorder=3, color=colors[1], alpha=alpha1 )\n",
    "\n",
    "\n",
    "kra5_plot = ebins5[mask5]**2 *(sum(kra5)[mask5]) * hp.nside2pixarea(128)/ 3\n",
    "\n",
    "ax.plot(ebins5[mask5], kra5_range[1] * kra5_plot , \n",
    "         c =colors[0], ls='-', zorder=10, lw=2, label=r'KRA$_\\gamma^{5}$ Best-Fit $\\nu$ Flux')\n",
    "ax.fill_between(ebins5[mask5], kra5_range[0] * kra5_plot , kra5_range[-1] * kra5_plot,\n",
    "        color = colors[0], alpha=alpha3, zorder=10)\n",
    "\n",
    "kra50_plot = ebins50[mask50]**2 *(sum(kra50)[mask50]) * hp.nside2pixarea(128) / 3\n",
    "ax.plot(ebins50[mask50], kra50_range[1] * kra50_plot,\n",
    "         c =colors[2], ls='-', zorder=5, lw=2, label=r'KRA$_\\gamma^{50}$ Best-Fit $\\nu$ Flux')\n",
    "ax.fill_between(ebins50[mask50],kra50_range[0] * kra50_plot, kra50_range[-1] * kra50_plot ,\n",
    "        color = colors[2], zorder=5,  alpha=alpha3)\n",
    "\n",
    "ax.plot(10**georg_energy[maskpi0_georg], pi0_range[1]*4*np.pi*georg_flux[maskpi0_georg], \n",
    "        lw=2, c=colors[1], ls='-', zorder=3,\n",
    "        label=r'$\\pi^0$ Best-Fit $\\nu$ Flux')\n",
    "ax.fill_between(10**georg_energy[maskpi0_georg], pi0_range[0]*4*np.pi*georg_flux[maskpi0_georg],\n",
    "                pi0_range[-1]*4*np.pi*georg_flux[maskpi0_georg], zorder=3, color=colors[1], alpha=alpha3 )\n",
    "\n",
    "\n",
    "plt.plot(Es, 4*np.pi*bestfithans, c='dimgrey', lw='1', alpha=0.4, ls='--', label='M.G.Aartsen(2020)')\n",
    "plt.fill_between(xs, 4*np.pi*mins, 4*np.pi*maxs, color='0.2', alpha=0.2,\n",
    "                 edgecolor='k', label=r'M.G.$\\,$Aartsen et al.(2020)')\n",
    "\n",
    "\n",
    "alpha=1\n",
    "\n",
    "plt.loglog()\n",
    "#ax.set_ylim(1e-12,5e-9)\n",
    "ax.set_ylim(1e-8,1e-6)\n",
    "ax.set_xlim(3e4, 1e5)\n",
    "ax.grid('both')\n",
    "#plt.legend(ncol=2)\n",
    "plt.rc('font', size=13)\n",
    "ax.set_ylabel(r'E$_{\\nu}^2$ $\\frac{dN}{dE_\\nu}$ [GeV s$^{-1}$ cm$^{-2}$]')\n",
    "ax.set_xlabel(R'E$_\\nu$ [GeV]')\n",
    "plt.tight_layout()\n",
    "#cy.plotting.saving(plot_dir, 'gp_flux_full', dpi=500)"
   ]
  },
  {
   "cell_type": "code",
   "execution_count": null,
   "metadata": {},
   "outputs": [],
   "source": [
    "kra5_plot = ebins5**2 *(sum(kra5)) * hp.nside2pixarea(128)/ 3\n",
    "pi0_plot = 10**georg_energy[maskpi0_georg], pi0_range[1]*4*np.pi*georg_flux[maskpi0_georg]\n",
    "kra50_plot = ebins50**2 *(sum(kra50)) * hp.nside2pixarea(128)/ 3\n",
    "xinterp = np.logspace(4,5,51)\n",
    "\n",
    "pi0_interpvals = np.interp(xinterp, pi0_plot[0], pi0_plot[1])\n",
    "interpvals = np.interp(xinterp, ebins50, kra50_plot)\n",
    "\n",
    "print(list(zip(xinterp, interpvals)))\n",
    "#print(list(zip(xinterp, pi0_interpvals)))\n"
   ]
  },
  {
   "cell_type": "code",
   "execution_count": null,
   "metadata": {},
   "outputs": [],
   "source": []
  },
  {
   "cell_type": "code",
   "execution_count": null,
   "metadata": {},
   "outputs": [],
   "source": [
    "fig , ax = plt.subplots(figsize=(5.5,5.5))\n",
    "plt.rc('font', size=10)\n",
    "ax.plot(ebins5, ebins5**2 * (sum(kra5)) * hp.nside2pixarea(128) / (4*np.pi) , ls=':', color=colors[0] ,\n",
    "        lw=2, alpha=0.8, label='KRA$_\\gamma^{5}$ Model')\n",
    "ax.plot(ebins50, ebins50**2 * (sum(kra50)) * hp.nside2pixarea(128)/ (4*np.pi), ls=':', color=colors[2],\n",
    "        lw=2, alpha=0.8, label='KRA$_\\gamma^{50}$ Model')\n",
    "ax.plot(10**georg_energy, 3*georg_flux, color=colors[1],\n",
    "        lw=2, alpha=0.8, ls=':', label='$\\pi^0$ Model')\n",
    "\n",
    "ax.plot(np.nan, np.nan, label=' ', alpha=0)\n",
    "\n",
    "kra5_plot = ebins5[mask5]**2 *(sum(kra5)[mask5]) * hp.nside2pixarea(128)/ (4*np.pi)\n",
    "\n",
    "ax.plot(ebins5[mask5], kra5_range[1] * kra5_plot , \n",
    "         c =colors[0], ls='-', zorder=10, lw=2, label='KRA$_\\gamma^{5}$ Best-Fit Flux')\n",
    "ax.fill_between(ebins5[mask5], kra5_range[0] * kra5_plot , kra5_range[-1] * kra5_plot,\n",
    "        color = colors[0], alpha=.25, zorder=10)\n",
    "\n",
    "kra50_plot = ebins50[mask50]**2 *(sum(kra50)[mask50]) * hp.nside2pixarea(128) / (4*np.pi)\n",
    "ax.plot(ebins50[mask50], kra50_range[1] * kra50_plot,\n",
    "         c =colors[2], ls='-', zorder=5, lw=2, label='KRA$_\\gamma^{50}$ Best-Fit Flux')\n",
    "ax.fill_between(ebins50[mask50],kra50_range[0] * kra50_plot, kra50_range[-1] * kra50_plot ,\n",
    "        color = colors[2], zorder=5,  alpha=.25)\n",
    "\n",
    "ax.plot(10**georg_energy[maskpi0_georg], 3*pi0_range[1]*georg_flux[maskpi0_georg], \n",
    "        lw=2, c=colors[1], ls='-', zorder=3,\n",
    "        label='$\\pi^0$ Best-Fit Flux')\n",
    "ax.fill_between(10**georg_energy[maskpi0_georg], 3*pi0_range[0]*georg_flux[maskpi0_georg],\n",
    "                3*pi0_range[-1]*georg_flux[maskpi0_georg], zorder=3, color=colors[1], alpha=.25 )\n",
    "\n",
    "\n",
    "#plt.plot(Es, 4*np.pi*bestfithans, c='dimgrey', lw='1', alpha=0.4, ls='--', label='M.G.Aartsen(2020)')\n",
    "plt.fill_between(xs, 3*mins,3* maxs, color='0.2', alpha=0.2,\n",
    "                 edgecolor='k', label=r'M.G.$\\,$Aartsen et al.(2020)')\n",
    "\n",
    "plt.loglog()\n",
    "#ax.set_ylim(1e-12,5e-9)\n",
    "ax.set_ylim(1e-9,1.5e-6)\n",
    "ax.set_xlim(500, 1e7)\n",
    "plt.legend(ncol=2)\n",
    "plt.rc('font', size=13)\n",
    "ax.set_ylabel(r'E$_{6\\nu}^2$ $\\frac{dN}{dE_\\nu}$ [GeV s$^{-1}$ cm$^{-2}$ sr$^{-1}$]')\n",
    "ax.set_xlabel('E [GeV]')\n",
    "plt.tight_layout()\n",
    "cy.plotting.saving(plot_dir, 'gp_flux_sr')"
   ]
  },
  {
   "cell_type": "code",
   "execution_count": null,
   "metadata": {},
   "outputs": [],
   "source": []
  },
  {
   "cell_type": "code",
   "execution_count": null,
   "metadata": {},
   "outputs": [],
   "source": [
    "fig , ax = plt.subplots(figsize=(5.5,5.5))\n",
    "plt.rc('font', size=10)\n",
    "ax.plot(ebins5, ebins5**2 * (sum(kra5)) * hp.nside2pixarea(128) / 3 , ls=':', color=colors[0] ,\n",
    "        lw=2, alpha=0.8, zorder=100, label='KRA$_\\gamma^{5}$ Model')\n",
    "ax.plot(ebins50, ebins50**2 * (sum(kra50)) * hp.nside2pixarea(128)/ 3, ls=':', color=colors[2],\n",
    "        lw=2, alpha=0.8, zorder=100, label='KRA$_\\gamma^{50}$ Model')\n",
    "ax.plot(10**georg_energy, 4*np.pi*georg_flux, color=colors[1],\n",
    "        lw=2, alpha=0.8, zorder=100, ls=':', label='$\\pi^0$ Model')\n",
    "\n",
    "ax.plot(np.nan, np.nan, label=' ', alpha=0)\n",
    "\n",
    "\n",
    "kra5_plot = ebins5**2 *(sum(kra5)) * hp.nside2pixarea(128)/ 3\n",
    "\n",
    "ax.plot(ebins5, kra5_range[1] * kra5_plot , \n",
    "         c =colors[0], ls='-', zorder=10, lw=2, label='KRA$_\\gamma^{5}$ Best-Fit Flux')\n",
    "#ax.fill_between(ebins5[mask5], kra5_range[0] * kra5_plot , kra5_range[-1] * kra5_plot,\n",
    "#        color = colors[0], alpha=.25, zorder=10)\n",
    "\n",
    "kra50_plot = ebins50**2 *(sum(kra50)) * hp.nside2pixarea(128) / 3\n",
    "ax.plot(ebins50, kra50_range[1] * kra50_plot,\n",
    "         c =colors[2], ls='-', zorder=5, lw=2, label='KRA$_\\gamma^{50}$ Best-Fit Flux')\n",
    "#ax.fill_between(ebins50[mask50],kra50_range[0] * kra50_plot, kra50_range[-1] * kra50_plot ,\n",
    "#        color = colors[2], zorder=5,  alpha=.25)\n",
    "\n",
    "ax.plot(10**georg_energy, pi0_range[1]*4*np.pi*georg_flux, \n",
    "        lw=2, c=colors[1], ls='-', zorder=3,\n",
    "        label='$\\pi^0$ Best-Fit Flux')\n",
    "#ax.fill_between(10**georg_energy[maskpi0_georg], pi0_range[0]*4*np.pi*georg_flux[maskpi0_georg],\n",
    "#                pi0_range[-1]*4*np.pi*georg_flux[maskpi0_georg], zorder=3, color=colors[1], alpha=.25 )\n",
    "\n",
    "\n",
    "#plt.plot(Es, 4*np.pi*bestfithans, c='dimgrey', lw='1', alpha=0.4, ls='--', label='M.G.Aartsen(2020)')\n",
    "plt.fill_between(xs, 4*np.pi*mins, 4*np.pi*maxs, color='0.2', alpha=0.2,\n",
    "                 edgecolor='k', label=r'M.G.$\\,$Aartsen et al.(2020)')\n",
    "\n",
    "\n",
    "#ax.arrow(2000, 1e-8, 19000, 0, width=.5e-9, \n",
    "#         length_includes_head = True, head_length=10**4 ,color=colors[0], alpha=0.8)\n",
    "#ax.arrow(2000, 1e-8, -1000, 0, width=.5e-9, \n",
    "#         length_includes_head = True, head_length=10**4 ,color=colors[0], alpha=0.8)\n",
    "alpha=1\n",
    "'''ax.annotate(s='', xy=(1295,.8e-8),xycoords='data', xytext=(21155,.8e-8), \n",
    "            arrowprops=dict(arrowstyle='<->', facecolor=colors[1], ec=colors[1], alpha=alpha, lw=3), \n",
    "             color=colors[2], alpha=0.5)\n",
    "ax.annotate(s='', xy=(1892,.7e-8), xytext=(37174,.7e-8), \n",
    "             arrowprops=dict(arrowstyle='<->', facecolor=colors[0], ec=colors[0], alpha=alpha, lw=3), color=colors[0], alpha=0.5)\n",
    "ax.annotate(s='', xy=(2084,.6e-8), xytext=(50604,.6e-8), \n",
    "             arrowprops=dict(arrowstyle='<->', facecolor=colors[2], ec=colors[2], alpha=alpha, lw=3), \n",
    "            color=colors[1], alpha=0.5)\n",
    "\n",
    "rect=mpatches.Rectangle((1200,.55e-8),50000,.4e-8, \n",
    "                        fill = False,\n",
    "                        #fill_color='w',\n",
    "                        color = \"k\",\n",
    "                        alpha=0.8,\n",
    "                        linewidth = 1)\n",
    "                        \n",
    "ax.text(1180,1.2e-8, 'Data Derived')\n",
    "ax.text(1180,1e-8, 'Energy Range')\n",
    "plt.gca().add_patch(rect)'''\n",
    "plt.loglog()\n",
    "plt.grid('both')\n",
    "#ax.set_ylim(1e-12,5e-9)\n",
    "ax.set_ylim(1e-8,1e-7)\n",
    "ax.set_xlim(1e4, 1e6)\n",
    "plt.scatter(1e5,2.183e-8)\n",
    "plt.legend(ncol=2)\n",
    "plt.rc('font', size=13)\n",
    "ax.set_ylabel(r'E$_{\\nu}^2$ $\\frac{dN}{dE_\\nu}$ [GeV s$^{-1}$ cm$^{-2}$]')\n",
    "ax.set_xlabel(R'E$_\\nu$ [GeV]')\n",
    "plt.tight_layout()\n",
    "#cy.plotting.saving(plot_dir, 'gp_flux')"
   ]
  },
  {
   "cell_type": "code",
   "execution_count": null,
   "metadata": {},
   "outputs": [],
   "source": []
  },
  {
   "cell_type": "code",
   "execution_count": null,
   "metadata": {},
   "outputs": [],
   "source": [
    "georg_flux = np.load('/data/user/gschwefer/misc/for_steve/fermi_pi0_gamma_ray_allsky_average_E2Phi_2.7_extrapol.npy', allow_pickle=True)\n",
    "georg_energy = np.load('/data/user/gschwefer/misc/for_steve/fermi_pi0_gamma_ray_energies.npy', allow_pickle=True)"
   ]
  },
  {
   "cell_type": "code",
   "execution_count": null,
   "metadata": {},
   "outputs": [],
   "source": [
    "mask = 10**georg_energy > 1e2\n",
    "xspace=np.arange(80000,500000,10000)\n",
    "interp = np.interp(xspace,10**georg_energy[mask], georg_flux[mask])\n",
    "print(list(zip(xspace, interp)))"
   ]
  },
  {
   "cell_type": "code",
   "execution_count": null,
   "metadata": {},
   "outputs": [],
   "source": [
    "plt.plot(10**georg_energy, georg_flux)\n",
    "plt.loglog()\n",
    "plt.axvline(1e5, c='r', ls='--')\n",
    "plt.ylim(1e-9,1e-4)\n",
    "plt.xlim(1e-2,1e6)\n",
    "plt.grid('both')\n",
    "plt.ylabel('E$^2$ dN/dE$_\\gamma$ GeV /s /cm$^2$ / sr^-1')\n",
    "plt.xlabel('E (GeV)')\n",
    "plt.plot(xspace, interp, c='r')"
   ]
  },
  {
   "cell_type": "code",
   "execution_count": null,
   "metadata": {},
   "outputs": [],
   "source": []
  },
  {
   "cell_type": "code",
   "execution_count": null,
   "metadata": {},
   "outputs": [],
   "source": [
    "mask = 10**georg_energy > 1e2\n",
    "xspace=np.arange(80000,500000,10000)\n",
    "interp = np.interp(xspace,10**georg_energy[mask], 4*np.pi*0.31*georg_flux[mask])\n",
    "print(list(zip(xspace, interp)))"
   ]
  },
  {
   "cell_type": "code",
   "execution_count": null,
   "metadata": {},
   "outputs": [],
   "source": []
  }
 ],
 "metadata": {
  "kernelspec": {
   "display_name": "icerec3",
   "language": "python",
   "name": "icerec3"
  },
  "language_info": {
   "codemirror_mode": {
    "name": "ipython",
    "version": 3
   },
   "file_extension": ".py",
   "mimetype": "text/x-python",
   "name": "python",
   "nbconvert_exporter": "python",
   "pygments_lexer": "ipython3",
   "version": "3.7.5"
  }
 },
 "nbformat": 4,
 "nbformat_minor": 4
}
