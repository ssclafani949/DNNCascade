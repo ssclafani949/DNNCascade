{
 "cells": [
  {
   "cell_type": "code",
   "execution_count": 1,
   "metadata": {},
   "outputs": [],
   "source": [
    "import numpy as np\n",
    "import matplotlib.pyplot as plt\n",
    "import datetime, sys, re, os\n",
    "import pandas as pd"
   ]
  },
  {
   "cell_type": "code",
   "execution_count": 2,
   "metadata": {},
   "outputs": [
    {
     "ename": "ModuleNotFoundError",
     "evalue": "No module named 'csky'",
     "output_type": "error",
     "traceback": [
      "\u001b[0;31m---------------------------------------------------------------------------\u001b[0m",
      "\u001b[0;31mModuleNotFoundError\u001b[0m                       Traceback (most recent call last)",
      "\u001b[0;32m<ipython-input-2-b332fd80d80a>\u001b[0m in \u001b[0;36m<module>\u001b[0;34m\u001b[0m\n\u001b[0;32m----> 1\u001b[0;31m \u001b[0;32mimport\u001b[0m \u001b[0mcsky\u001b[0m \u001b[0;32mas\u001b[0m \u001b[0mcy\u001b[0m\u001b[0;34m\u001b[0m\u001b[0;34m\u001b[0m\u001b[0m\n\u001b[0m\u001b[1;32m      2\u001b[0m \u001b[0;32mimport\u001b[0m \u001b[0mastropy\u001b[0m\u001b[0;34m\u001b[0m\u001b[0;34m\u001b[0m\u001b[0m\n\u001b[1;32m      3\u001b[0m \u001b[0;32mimport\u001b[0m \u001b[0mhealpy\u001b[0m \u001b[0;32mas\u001b[0m \u001b[0mhp\u001b[0m\u001b[0;34m\u001b[0m\u001b[0;34m\u001b[0m\u001b[0m\n\u001b[1;32m      4\u001b[0m \u001b[0;32mimport\u001b[0m \u001b[0mhistlite\u001b[0m \u001b[0;32mas\u001b[0m \u001b[0mhl\u001b[0m\u001b[0;34m\u001b[0m\u001b[0;34m\u001b[0m\u001b[0m\n\u001b[1;32m      5\u001b[0m \u001b[0mcy\u001b[0m\u001b[0;34m.\u001b[0m\u001b[0mplotting\u001b[0m\u001b[0;34m.\u001b[0m\u001b[0mmrichman_mpl\u001b[0m\u001b[0;34m(\u001b[0m\u001b[0;34m)\u001b[0m\u001b[0;34m\u001b[0m\u001b[0;34m\u001b[0m\u001b[0m\n",
      "\u001b[0;31mModuleNotFoundError\u001b[0m: No module named 'csky'"
     ]
    }
   ],
   "source": [
    "import csky as cy\n",
    "import astropy\n",
    "import healpy as hp\n",
    "import histlite as hl\n",
    "cy.plotting.mrichman_mpl()\n",
    "soft_colors = cy.plotting.soft_colors"
   ]
  },
  {
   "cell_type": "code",
   "execution_count": null,
   "metadata": {},
   "outputs": [],
   "source": [
    "import matplotlib as mpl\n",
    "import seaborn as sns"
   ]
  },
  {
   "cell_type": "code",
   "execution_count": null,
   "metadata": {},
   "outputs": [],
   "source": [
    "colors = ['#0B3D53', '#FF7F0E',  '#5C9FC9']"
   ]
  },
  {
   "cell_type": "code",
   "execution_count": null,
   "metadata": {},
   "outputs": [],
   "source": [
    "repo = cy.selections.Repository(local_root='/data/user/ssclafani/data/analyses') #Matches the repo in /data/ana/ but has some additional sensitvities written and loadable\n",
    "ana_dir = cy.utils.ensure_dir('/data/user/ssclafani/data/analyses')\n",
    "plot_dir = cy.utils.ensure_dir('/home/ssclafani/public_html/DNNC/paperplots/Fig_UL')"
   ]
  },
  {
   "cell_type": "code",
   "execution_count": null,
   "metadata": {},
   "outputs": [],
   "source": [
    "specs = cy.selections.DNNCascadeDataSpecs.DNNC_10yr\n",
    "ana = cy.get_analysis (repo, 'version-001-p00', specs)\n"
   ]
  },
  {
   "cell_type": "code",
   "execution_count": null,
   "metadata": {},
   "outputs": [],
   "source": [
    "decs = np.arange(-81, 81.1, 2)"
   ]
  },
  {
   "cell_type": "code",
   "execution_count": null,
   "metadata": {},
   "outputs": [],
   "source": [
    "estes_E_minus2 = np.load('/data/user/smancina/PSSearches/ESTES_2019/CSky/ESTES2021_Sens_E-2.npy')\n",
    "estes_sd = estes_E_minus2[0]\n",
    "estes_flux = estes_E_minus2[1]\n",
    "conf= {\n",
    "'src' : cy.sources(dec=0, ra=0, deg=True),\n",
    "'flux' : cy.hyp.PowerLawFlux(gamma=2, energy_cutoff=np.inf)\n",
    "        }\n",
    "tr = cy.get_trial_runner(ana=ana, conf=conf)\n",
    "nss = [tr.to_ns(f, E0=1, unit=1e3) for f in estes_flux]\n",
    "estes_E2dNdE = [tr.to_E2dNdE(n, E0 = 100, unit=1e3) for n in nss]"
   ]
  },
  {
   "cell_type": "code",
   "execution_count": null,
   "metadata": {},
   "outputs": [],
   "source": [
    "'''tracks_E2 = np.load('saved_sens/tracks_10yr_E2.npy')\n",
    "sd_t = tracks_E2[::2]\n",
    "tracks_flux_E2 = tracks_E2[1::2]\n",
    "'''\n",
    "pstracks_10yr = np.loadtxt('saved_sens/pstracks10yr_E2.txt')\n",
    "pstracks_flux = pstracks_10yr[:,1]\n",
    "pstracks_sd = pstracks_10yr[:,0]"
   ]
  },
  {
   "cell_type": "code",
   "execution_count": null,
   "metadata": {},
   "outputs": [],
   "source": [
    "sd_a = np.load('saved_sens/antares_13yr_E2_sd.npy')\n",
    "phi_a = np.load('saved_sens//antares_13yr_E2_flux.npy')"
   ]
  },
  {
   "cell_type": "code",
   "execution_count": null,
   "metadata": {},
   "outputs": [],
   "source": [
    "base_dir = '/data/ana/analyses/NuSources/2021_DNNCascade_analyses/baseline_analysis/'\n",
    "E2_decs = np.load(base_dir + 'ps/trials/DNNC/ps_sens_decs_E200_nofit.npy')\n",
    "E2_fluxs = np.load(base_dir + 'ps/trials/DNNC/ps_sens_flux_E200_nofit.npy')\n",
    "\n",
    "E3_decs = np.load(base_dir + 'ps/trials/DNNC/ps_sens_decs_E300.npy')\n",
    "E3_fluxs = np.load(base_dir + 'ps/trials/DNNC/ps_sens_flux_E300.npy')"
   ]
  },
  {
   "cell_type": "code",
   "execution_count": null,
   "metadata": {},
   "outputs": [],
   "source": [
    "base_dir = '/data/user/ssclafani/data/analyses/baseline_unblind_v1.0.0/'"
   ]
  },
  {
   "cell_type": "code",
   "execution_count": null,
   "metadata": {},
   "outputs": [],
   "source": [
    "#E2_decs_dp3_nofit = np.load(base_dir + 'ps/trials/DNNC/ps_dp_3.0sigma_decs_E200_nofit.npy')\n",
    "#E2_fluxs_dp3_nofit = np.load(base_dir + 'ps/trials/DNNC/ps_dp_3.0sigma_flux_E200_nofit.npy')\n",
    "#E2_tss_dp3_nofit = np.load(base_dir + 'ps/trials/DNNC/ps_dp_3.0sigma_tss_E200_nofit.npy')\n",
    "\n",
    "E2_decs_dp5_nofit = np.load(base_dir + 'ps/trials/DNNC/ps_dp_5.0sigma_decs_E200_nofit.npy')\n",
    "E2_fluxs_dp5_nofit = np.load(base_dir + 'ps/trials/DNNC/ps_dp_5.0sigma_flux_E200_nofit.npy')\n",
    "\n",
    "E2_decs_dp4_nofit = np.load(base_dir + 'ps/trials/DNNC/ps_dp_4.0sigma_decs_E200_nofit.npy')\n",
    "E2_fluxs_dp4_nofit = np.load(base_dir + 'ps/trials/DNNC/ps_dp_4.0sigma_flux_E200_nofit.npy')\n",
    "E3_decs_dp4_nofit = np.load(base_dir + 'ps/trials/DNNC/ps_dp_4.0sigma_decs_E300_nofit.npy')\n",
    "E3_fluxs_dp4_nofit = np.load(base_dir + 'ps/trials/DNNC/ps_dp_4.0sigma_flux_E300_nofit.npy')\n",
    "\n",
    "#E3_decs_dp3_nofit = np.load(base_dir + 'ps/trials/DNNC/ps_dp_3.0sigma_decs_E300_nofit.npy')\n",
    "#E3_fluxs_dp3_nofit = np.load(base_dir + 'ps/trials/DNNC/ps_dp_3.0sigma_flux_E300_nofit.npy')\n",
    "#E3_tss_dp3_nofit = np.load(base_dir + 'ps/trials/DNNC/ps_dp_3.0sigma_tss_E300_nofit.npy')\n",
    "\n",
    "#E3_decs_dp5_nofit = np.load(base_dir + 'ps/trials/DNNC/ps_dp_5.0sigma_decs_E300_nofit.npy')\n",
    "#E3_fluxs_dp5_nofit = np.load(base_dir + 'ps/trials/DNNC/ps_dp_5.0sigma_flux_E300_nofit.npy')\n"
   ]
  },
  {
   "cell_type": "code",
   "execution_count": null,
   "metadata": {},
   "outputs": [],
   "source": [
    "preliminary = False"
   ]
  },
  {
   "cell_type": "code",
   "execution_count": null,
   "metadata": {},
   "outputs": [],
   "source": [
    "mesc7 = np.loadtxt('saved_sens/MESC7_E2.txt')\n",
    "phi_m_2 = mesc7[:,1]\n",
    "sd_m_2 = mesc7[:,0]"
   ]
  },
  {
   "cell_type": "code",
   "execution_count": null,
   "metadata": {},
   "outputs": [],
   "source": [
    "pstracks = np.loadtxt('saved_sens/pstracks10yr_E2.txt')\n",
    "pstracks_sd = pstracks[:,0]\n",
    "pstracks_flux = pstracks[:,1]"
   ]
  },
  {
   "cell_type": "code",
   "execution_count": null,
   "metadata": {},
   "outputs": [],
   "source": [
    "mpl.rc('font', size=16) \n",
    "fig, ax1 = plt.subplots (1, figsize=(8,7)) \n",
    "#sd_m, phi_m = repo.get_performance('sens_E200_MESE')[:2]\n",
    "\n",
    "ax1.semilogy(sorted(np.sin(np.radians(E2_decs[1:]))), E2_fluxs[1:], \n",
    "             ls = '-', c=soft_colors[1], lw=3, label='Cascades 10yrs')\n",
    "#ax1.semilogy(sorted(np.sin(np.radians(E2_decs_dp3_nofit[1:]))), E2_fluxs_dp3_nofit[1:], \n",
    "#             ls = '--', c=soft_colors[1], lw=3, label='Cascades 3$\\sigma$ DP')\n",
    "ax1.semilogy(sorted(np.sin(np.radians(E2_decs_dp5_nofit[1:]))), E2_fluxs_dp5_nofit[1:], \n",
    "             ls = ':', c=soft_colors[1], lw=3, label='Cascades 5$\\sigma$ DP')\n",
    "\n",
    "ax1.semilogy (sd_m_2, phi_m_2, lw=2, c=soft_colors[0],  label=r'Previous Cascades 7yrs')\n",
    "\n",
    "#sd, phi = repo.get_performance ('sens_E200_ps10_current')[:2]\n",
    "ax1.semilogy (pstracks_sd, pstracks_flux, label=r'IceCube Tracks 10yrs', color='grey', ls='-')\n",
    "\n",
    "ax1.semilogy (sd_a, phi_a /1e3, label=r'ANTARES 13yrs', color=soft_colors[2],lw=2,  ls='-')\n",
    "#ax1.semilogy(estes_sd, estes_E2dNdE, label='ESTES-9yr', color=soft_colors[4], lw=2)\n",
    "\n",
    "ax1.set_xlabel (r'$\\sin(\\delta)$')\n",
    "ax1.set_ylabel (\n",
    "    r'$E^2\\cdot dN/dE$'\n",
    "    r' at 100 TeV'\n",
    "    r'[$\\textsf{TeV}\\,\\textsf{cm}^{-2}\\,\\textsf{s}^{-1}]$')\n",
    "ax1.set_xlim (-1, 1)\n",
    "ax1.grid(which='both')\n",
    "ax1.set_ylim (.8e-13, 5e-10)\n",
    "ax1.legend (ncol=2)\n",
    "ax1.set_title('E$^{-2}$')\n",
    "if preliminary == True:\n",
    "    ax1.text(-.9, 1e-13, r'\\textbf{IceCube Preliminary}', c='r')\n",
    "plt.tight_layout()\n",
    "#cy.plotting.saving(plot_dir, 'ps_sens_E200_no_sources')"
   ]
  },
  {
   "cell_type": "code",
   "execution_count": null,
   "metadata": {},
   "outputs": [],
   "source": [
    "mesc7 = np.loadtxt('saved_sens/MESC7_E3.txt')\n",
    "phi_m_3 = mesc7[:,1]\n",
    "sd_m_3 = mesc7[:,0]"
   ]
  },
  {
   "cell_type": "code",
   "execution_count": null,
   "metadata": {},
   "outputs": [],
   "source": [
    "estes_E_minus3 = np.load('/data/user/smancina/PSSearches/ESTES_2019/CSky/ESTES2021_Sens_E-3.npy')\n",
    "estes_sd = estes_E_minus3[0]\n",
    "estes_flux = estes_E_minus3[1]\n",
    "\n",
    "\n",
    "conf= {\n",
    "'src' : cy.utils.Sources(dec=0, ra=0, deg=False),\n",
    "'flux' : cy.hyp.PowerLawFlux(gamma=3, energy_cutoff=np.inf)\n",
    "        }\n",
    "tr = (cy.get_trial_runner(ana=ana, conf=conf))\n",
    "    \n",
    "nss = [tr.to_ns(f, E0=1, unit=1e3) for f in estes_flux]\n",
    "estes_E2dNdE = [tr.to_E2dNdE(n, E0 = 100, unit=1e3) for n in nss]"
   ]
  },
  {
   "cell_type": "code",
   "execution_count": null,
   "metadata": {},
   "outputs": [],
   "source": [
    "estes_E_minus3 = np.load('/data/user/smancina/PSSearches/ESTES_2019/CSky/ESTES2021_Sens_E-3.npy')\n",
    "estes_sd = estes_E_minus3[0]\n",
    "estes_flux = estes_E_minus3[1]\n",
    "trs = []\n",
    "for dec in np.arcsin(estes_sd):\n",
    "    conf= {\n",
    "    'src' : cy.utils.Sources(dec=dec, ra=0, deg=False),\n",
    "    'flux' : cy.hyp.PowerLawFlux(gamma=3, energy_cutoff=np.inf)\n",
    "            }\n",
    "    trs.append(cy.get_trial_runner(ana=ana, conf=conf))\n",
    "    \n",
    "nss = [tr.to_ns(f, E0=1, unit=1e3) for f, tr in zip(estes_flux, trs)]\n",
    "estes_E2dNdE = [tr.to_E2dNdE(n, E0 = 100, unit=1e3) for n , tr in zip(nss, trs)]"
   ]
  },
  {
   "cell_type": "code",
   "execution_count": null,
   "metadata": {},
   "outputs": [],
   "source": [
    "estes_E_minus3 = np.load('/data/user/smancina/PSSearches/ESTES_2019/CSky/ESTES2021_Sens_E-3.npy')\n",
    "estes_sd = estes_E_minus3[0]\n",
    "estes_flux = estes_E_minus3[1]\n",
    "\n",
    "\n",
    "conf= {\n",
    "    'src' : cy.utils.Sources(dec=0, ra=0, deg=True),\n",
    "    'flux' : cy.hyp.PowerLawFlux(gamma=3, energy_cutoff=np.inf)\n",
    "            }\n",
    "tr = cy.get_trial_runner(ana=ana, conf=conf)\n",
    "    \n",
    "nss = [tr.to_ns(f, E0=1, unit=1e3) for f  in estes_flux]\n",
    "estes_E2dNdE = [tr.to_E2dNdE(n, E0 = 100, unit=1e3) for n  in nss]"
   ]
  },
  {
   "cell_type": "code",
   "execution_count": null,
   "metadata": {},
   "outputs": [],
   "source": [
    "E2dNdE_tracks_E3 = np.load('saved_sens/pstracks10yr_E3_100TeV_conversion.npy')\n",
    "sd_tracks_E3 = np.loadtxt('saved_sens/pstracks_10yr_E3.txt')[:,0]"
   ]
  },
  {
   "cell_type": "code",
   "execution_count": null,
   "metadata": {},
   "outputs": [],
   "source": [
    "mpl.rc('font', size=18) \n",
    "fig, ax1 = plt.subplots (1, figsize=(8,7)) \n",
    "\n",
    "ax1.semilogy(sorted(np.sin(np.radians(E3_decs[8:-8]))), E3_fluxs[8:-8], \n",
    "             ls = '-', c=soft_colors[1], lw=3, label='Cascades 10yrs')\n",
    "#ax1.semilogy(sorted(np.sin(np.radians(E3_decs_dp3_nofit[1:]))), E3_fluxs_dp3_nofit[1:], \n",
    "#             ls = '--', c=soft_colors[1], lw=3, label='Cascades 3$\\sigma$ DP')\n",
    "#ax1.semilogy(sorted(np.sin(np.radians(E3_decs_dp5_nofit[1:]))), E3_fluxs_dp5_nofit[1:], \n",
    "#             ls = ':', c=soft_colors[1], lw=3, label='Cascades 5$\\sigma$ DP')\n",
    "\n",
    "#sd_m, phi_m = repo.get_performance('sens_E300_MESE')[:2]\n",
    "ax1.semilogy (sd_m_3, phi_m_3, lw=2, c=soft_colors[0],  label=r'Previous Cascades 7yrs')\n",
    "\n",
    "#ax1.semilogy(sorted(np.sin(np.radians(E3_sysdecs[4:-4]))), E3_sysfluxs[4:-4], \n",
    "#            ls = ':', c=soft_colors[1], lw=3, label='Systematics FullRange')\n",
    "#tracks = pd.read_pickle('/data/user/ssclafani/data/analyses/catalogs/10yr_sens_E300.pickle')\n",
    "\n",
    "ax1.semilogy (sd_tracks_E3, E2dNdE_tracks_E3, label=r'IceCube Tracks 10yrs', color='grey', ls='-')\n",
    "\n",
    "antares_sens = pd.read_pickle('/data/user/ssclafani/data/analyses/catalogs/antares_sens_E300.pickle')\n",
    "sd = antares_sens['sindec']\n",
    "e2dnde = antares_sens['E2dNdE']\n",
    "ax1.semilogy(sd, e2dnde,  label=r'ANTARES 11yrs', color=soft_colors[2],lw=2,  ls='-')\n",
    "\n",
    "#ax1.semilogy(estes_sd, estes_E2dNdE, label='ESTES 9yr', color=soft_colors[4], lw=2)\n",
    "if preliminary == True:\n",
    "    ax1.text(-.9, .7e-13, r'\\textbf{IceCube Preliminary}', c='r')\n",
    "ax1.set_xlabel (r'$\\sin(\\delta)$')\n",
    "ax1.set_ylabel (\n",
    "    r'$E^2\\cdot dN/dE$'\n",
    "    r' at 100 TeV'\n",
    "    r'[$\\textsf{TeV}\\,\\textsf{cm}^{-2}\\,\\textsf{s}^{-1}]$')\n",
    "ax1.set_xlim (-1, 1)\n",
    "ax1.grid(which='both')\n",
    "ax1.set_ylim (.5e-13, 5e-10)\n",
    "ax1.legend (ncol=1)\n",
    "ax1.set_title('E$^{-3}$')\n",
    "plt.tight_layout()\n",
    "\n",
    "cy.plotting.saving(plot_dir, 'ps_sens_E300_no_sources')"
   ]
  },
  {
   "cell_type": "code",
   "execution_count": null,
   "metadata": {},
   "outputs": [],
   "source": [
    "import sys\n",
    "sys.path.insert(0, '../..')\n",
    "\n",
    "import config as cg\n",
    "\n",
    "cg.base_dir = '/data/user/ssclafani/data/analyses/baseline_unblinding_v1.0.0/'"
   ]
  },
  {
   "cell_type": "code",
   "execution_count": null,
   "metadata": {},
   "outputs": [],
   "source": [
    "UL2 = np.load('/home/ssclafani/DNNCascade/notebooks/unblinding/sourcelist_UL90_E2.npy', allow_pickle=True)\n",
    "UL3 = np.load('/home/ssclafani/DNNCascade/notebooks/unblinding/sourcelist_UL90_E3.npy', allow_pickle=True)"
   ]
  },
  {
   "cell_type": "code",
   "execution_count": null,
   "metadata": {},
   "outputs": [],
   "source": [
    "e2_sens = np.interp(np.linspace(-1,1,1000),E2_decs, E2_fluxs)"
   ]
  },
  {
   "cell_type": "code",
   "execution_count": null,
   "metadata": {},
   "outputs": [],
   "source": [
    "src_list_file = os.path.join(cg.catalog_dir, 'Source_List_DNNC.npy')\n",
    "sourcelist = np.load(src_list_file, allow_pickle=True)\n",
    "\n",
    "def get_plotting_flux(gamma):\n",
    "    sindec = []\n",
    "    fs = []\n",
    "    if gamma == 2:\n",
    "        UL = UL2\n",
    "        decs = E2_decs\n",
    "        fluxs = E2_fluxs\n",
    "    elif gamma == 3:\n",
    "        UL = UL3\n",
    "        decs = E3_decs\n",
    "        fluxs = E3_fluxs\n",
    "        \n",
    "    for i, source in enumerate(sourcelist):\n",
    "            sindec.append(np.sin(np.radians(source[2])))\n",
    "            dec = source[2]\n",
    "            rounddec = np.round(dec, 0)\n",
    "            if rounddec in decs:\n",
    "                f = fluxs[np.argwhere(rounddec == decs)][0]\n",
    "                #print(rounddec, f)\n",
    "            else:\n",
    "                \n",
    "                high = fluxs[np.argwhere(rounddec + 1 == decs)][0]\n",
    "                low = fluxs[np.argwhere(rounddec - 1 == decs)][0]\n",
    "                f = (high + low) / 2\n",
    "                #print(rounddec, low, high, f)\n",
    "            fs.append(f)\n",
    "    fs = np.concatenate(fs)\n",
    "\n",
    "    plot_flux = []\n",
    "    for i, UL in enumerate (UL):\n",
    "        plot_flux.append(max(UL, fs[i]))\n",
    "    return plot_flux, sindec\n"
   ]
  },
  {
   "cell_type": "code",
   "execution_count": null,
   "metadata": {},
   "outputs": [],
   "source": [
    "\n",
    "plot_flux_2, sindec = get_plotting_flux(2)\n",
    "plot_flux_3, sindec = get_plotting_flux(3)"
   ]
  },
  {
   "cell_type": "code",
   "execution_count": null,
   "metadata": {},
   "outputs": [],
   "source": [
    "E2_decs[1:]"
   ]
  },
  {
   "cell_type": "code",
   "execution_count": null,
   "metadata": {},
   "outputs": [],
   "source": [
    "mpl.rc('font', size=15.5) \n",
    "fig, (ax1, ax2) = plt.subplots (1, 2, figsize=(12,6)) \n",
    "#sd_m, phi_m = repo.get_performance('sens_E200_MESE')[:2]\n",
    "ax1.semilogy(sorted(np.sin(np.radians(E2_decs[1:]))), E2_fluxs[1:], \n",
    "             ls = '-', c=colors[0], lw=3, label='This Work Sensitivity')\n",
    "ax1.semilogy(sorted(np.sin(np.radians(E2_decs_dp4_nofit[1:]))), E2_fluxs_dp4_nofit[1:], \n",
    "             ls = '--', c=colors[0], lw=2, label='This Work 4$\\sigma$ DP')\n",
    "ax1.semilogy (sd_m_2, phi_m_2, lw=2, c=colors[2],  label=r'Cascades [\\textsf{Aartsen et al.(2019)}]', rasterized=True)\n",
    "\n",
    "ax1.scatter(sindec, plot_flux_2, marker='v', color='dimgrey', s=25, label='UL 90\\% C.L.', zorder=10,  rasterized=True)\n",
    "\n",
    "ax1.semilogy (pstracks_sd, pstracks_flux, label=r'Tracks [\\textsf{Aartsen et al.(2020)}]', color='grey', ls='--',  rasterized=True)\n",
    "ax1.semilogy (sd_a, phi_a /1e3, label=r'ANTARES', color='darkred', lw=2,  ls=':' , rasterized=True)\n",
    "\n",
    "#ax1.semilogy(estes_sd, estes_E2dNdE, label='ESTES-9yr', color=soft_colors[4], lw=2)\n",
    "\n",
    "ax1.set_xlabel (r'$\\sin(\\delta)$')\n",
    "ax1.set_ylabel (\n",
    "    r'$E^2\\cdot dN/dE$'\n",
    "    r' at 100 TeV'\n",
    "    r' [$\\textsf{TeV}\\,\\textsf{s}^{-1}],\\textsf{cm}^{-2}\\$')\n",
    "ax1.set_xlim (-1, 1)\n",
    "#ax1.grid(which='major')\n",
    "ax1.set_ylim (.5e-13, 5e-10)\n",
    "ax1.legend (ncol=1)\n",
    "ax1.set_title('dN/dE $\\propto$ E$^{-2}$')\n",
    "\n",
    "\n",
    "\n",
    "ax2.semilogy(sorted(np.sin(np.radians(E3_decs[5:-4]))), E3_fluxs[5:-4], \n",
    "             ls = '-', c=colors[0], lw=3, label='This Work')\n",
    "\n",
    "ax2.scatter(sindec, plot_flux_3, marker='v', color='dimgrey', \n",
    "             label='UL 90\\% C.L.', s=25, zorder=10)\n",
    "ax2.semilogy (sd_m_3, phi_m_3, lw=2, c=colors[2],  label=r'Previous Cascades 7yrs')\n",
    "ax2.semilogy (sd_tracks_E3, E2dNdE_tracks_E3, label=r'IceCube Tracks', color='grey', ls='--')\n",
    "ax2.semilogy(sorted(np.sin(np.radians(E3_decs_dp4_nofit[1:]))), E3_fluxs_dp4_nofit[1:], \n",
    "             ls = '--', c=colors[0], lw=2, label='This Work 4$\\sigma$ DP')\n",
    "antares_sens = pd.read_pickle('/data/user/ssclafani/data/analyses/catalogs/antares_sens_E300.pickle')\n",
    "sd = antares_sens['sindec']\n",
    "e2dnde = antares_sens['E2dNdE']\n",
    "ax2.semilogy(sd, e2dnde,  label=r'ANTARES', color='darkred',lw=2,  ls=':')\n",
    "\n",
    "#ax1.semilogy(estes_sd, estes_E2dNdE, label='ESTES 9yr', color=soft_colors[4], lw=2)\n",
    "if preliminary == True:\n",
    "    ax1.text(-.9, .7e-13, r'\\textbf{IceCube Preliminary}', c='r')\n",
    "ax2.set_xlabel (r'$\\sin(\\delta)$')\n",
    "#ax2.set_ylabel (\n",
    "#    r'$E^2\\cdot dN/dE$'\n",
    "#    r' at 100 TeV'\n",
    "#    r'[$\\textsf{TeV}\\,\\textsf{cm}^{-2}\\,\\textsf{s}^{-1}]$')\n",
    "ax2.set_xlim (-1, 1)\n",
    "#ax2.grid(which='major')\n",
    "ax2.set_ylim (.5e-13, 5e-10)\n",
    "#ax2.legend (ncol=1)\n",
    "ax2.set_title('dN/dE $\\propto$ E$^{-3}$')\n",
    "\n",
    "plt.tight_layout()\n",
    "\n",
    "cy.plotting.saving(plot_dir, 'ps_sens_E200_E300_combined', dpi=500)"
   ]
  },
  {
   "cell_type": "code",
   "execution_count": null,
   "metadata": {},
   "outputs": [],
   "source": []
  },
  {
   "cell_type": "code",
   "execution_count": null,
   "metadata": {},
   "outputs": [],
   "source": []
  },
  {
   "cell_type": "code",
   "execution_count": null,
   "metadata": {},
   "outputs": [],
   "source": []
  },
  {
   "cell_type": "code",
   "execution_count": null,
   "metadata": {},
   "outputs": [],
   "source": []
  }
 ],
 "metadata": {
  "kernelspec": {
   "display_name": "icerec3",
   "language": "python",
   "name": "icerec3"
  },
  "language_info": {
   "codemirror_mode": {
    "name": "ipython",
    "version": 3
   },
   "file_extension": ".py",
   "mimetype": "text/x-python",
   "name": "python",
   "nbconvert_exporter": "python",
   "pygments_lexer": "ipython3",
   "version": "3.7.5"
  }
 },
 "nbformat": 4,
 "nbformat_minor": 4
}
