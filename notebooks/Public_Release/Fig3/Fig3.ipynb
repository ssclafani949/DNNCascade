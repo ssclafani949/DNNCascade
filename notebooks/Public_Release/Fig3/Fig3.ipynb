{
 "cells": [
  {
   "cell_type": "code",
   "execution_count": null,
   "metadata": {},
   "outputs": [],
   "source": [
    "import numpy as np\n",
    "import healpy as hp\n",
    "import matplotlib.pyplot as plt\n",
    "import matplotlib as mpl"
   ]
  },
  {
   "cell_type": "code",
   "execution_count": null,
   "metadata": {},
   "outputs": [],
   "source": [
    "kra5_contribution = np.genfromtxt('contibution_map_kra5.csv')\n",
    "kra50_contribution = np.genfromtxt('contibution_map_kra50.csv')\n",
    "pi0_contribution = np.genfromtxt('contibution_map_pi0.csv')"
   ]
  },
  {
   "cell_type": "code",
   "execution_count": null,
   "metadata": {},
   "outputs": [],
   "source": [
    "import matplotlib.patheffects as pe\n",
    "\n",
    "# ---------------\n",
    "# define colormap\n",
    "# ---------------\n",
    "cmap = plt.cm.inferno  \n",
    "cmaplist = [cmap(i) for i in range(cmap.N)]\n",
    "cmap = mpl.colors.LinearSegmentedColormap.from_list('Custom cmap', cmaplist, cmap.N)\n",
    "\n",
    "# define the bins and normalize\n",
    "bounds = np.linspace(-110, 410, 72)\n",
    "norm = mpl.colors.BoundaryNorm(bounds, cmap.N)\n",
    "# ---------------\n",
    "\n",
    "# Define figure layout and axes\n",
    "plt.rcParams.update({'font.size': 12})\n",
    "fontsize_title = 19\n",
    "fontsize_cb_label = 14\n",
    "fontsize_text = 15\n",
    "hp.mollview(kra5_contribution,  fig=1, cmap=cmap, coord='CG', title= 'kra5',\n",
    "            unit=r'Test-Statistic Contribution $\\tau$/ sr', min=-110, max=410)\n",
    "hp.mollview(kra50_contribution,fig=2,  cmap=cmap, coord='CG', title= 'kra50',\n",
    "            unit=r'Test-Statistic Contribution $\\tau$/ sr', min=-110, max=410)\n",
    "hp.mollview(pi0_contribution,  fig=3, cmap=cmap, coord='CG', title= 'pi0',\n",
    "            unit=r'Test-Statistic Contribution $\\tau$/ sr', min=-110, max=410)"
   ]
  },
  {
   "cell_type": "code",
   "execution_count": null,
   "metadata": {},
   "outputs": [],
   "source": []
  }
 ],
 "metadata": {
  "kernelspec": {
   "display_name": "icerec3",
   "language": "python",
   "name": "icerec3"
  },
  "language_info": {
   "codemirror_mode": {
    "name": "ipython",
    "version": 3
   },
   "file_extension": ".py",
   "mimetype": "text/x-python",
   "name": "python",
   "nbconvert_exporter": "python",
   "pygments_lexer": "ipython3",
   "version": "3.7.5"
  }
 },
 "nbformat": 4,
 "nbformat_minor": 4
}
