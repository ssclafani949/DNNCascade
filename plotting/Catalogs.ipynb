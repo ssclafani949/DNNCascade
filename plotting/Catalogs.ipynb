{
 "cells": [
  {
   "cell_type": "code",
   "execution_count": 2,
   "metadata": {},
   "outputs": [],
   "source": [
    "#Catalog Comparisons"
   ]
  },
  {
   "cell_type": "code",
   "execution_count": 3,
   "metadata": {},
   "outputs": [
    {
     "data": {
      "text/plain": [
       "<function csky.plotting.mrichman_mpl(tex=True, sans=True, colors=array(['#1f77b4', '#d62728', '#2ca02c', '#ff7f0e', '#9467bd', '#8c564b',\n",
       "       '#e377c2', '#7f7f7f'], dtype='<U7'))>"
      ]
     },
     "execution_count": 3,
     "metadata": {},
     "output_type": "execute_result"
    }
   ],
   "source": [
    "import numpy as np\n",
    "import pandas as pd\n",
    "import csky as cy\n",
    "import matplotlib.pyplot as plt\n",
    "cy.plotting.mrichman_mpl"
   ]
  },
  {
   "cell_type": "code",
   "execution_count": 14,
   "metadata": {},
   "outputs": [],
   "source": [
    "redshifts = []\n",
    "for line in open('../catalogs/Source_List_DNNC_redshifts.txt'):\n",
    "    if line.split()[-1] == 'NAN':\n",
    "        redshifts.append(np.nan)\n",
    "    else:\n",
    "        redshifts.append(float(line.split()[-1]))"
   ]
  },
  {
   "cell_type": "code",
   "execution_count": 15,
   "metadata": {
    "scrolled": true
   },
   "outputs": [
    {
     "name": "stdout",
     "output_type": "stream",
     "text": [
      "['G343.1-2.3']\n",
      "['HESS', 'J0835-455']\n",
      "['PKS', '0426-380']\n",
      "['PKS', '2155-304']\n",
      "['Mkn', '421']\n",
      "['PKS', '0537-441']\n",
      "['PKS', '0447-439']\n",
      "['BL', 'Lac']\n",
      "['PG', '1553+113']\n",
      "['TXS', '0518+211']\n",
      "['PKS', '0235+164']\n",
      "['PKS', '1424+240']\n",
      "['3C', '66A']\n",
      "['TXS', '0506+056']\n",
      "['AP', 'Librae']\n",
      "['S5', '0716+71']\n",
      "['B2', '1215+30']\n",
      "['MH', '2136-428']\n",
      "['PKS', '2233-148']\n",
      "['Mkn', '501']\n",
      "['PMN', 'J1603-4904']\n",
      "['S2', '0109+22']\n",
      "['PKS', '0301-243']\n",
      "['4C', '+01.28']\n",
      "['PKS', '0700-661']\n",
      "['TXS', '0628-240']\n",
      "['PKS', '0823-223']\n",
      "['PKS', '0735+17']\n",
      "['PMN', 'J1329-5608']\n",
      "['PMN', 'J0531-4827']\n",
      "['MG1', 'J021114+1051']\n",
      "['PKS', '1440-389']\n",
      "['OT', '081']\n",
      "['OJ', '287']\n",
      "['PKS', '1101-536']\n",
      "['TXS', '0141+268']\n",
      "['1H', '1013+498']\n",
      "['PKS', '0048-09']\n",
      "['PMN', 'J1650-5044']\n",
      "['PKS', '0118-272']\n",
      "['1H', '1914-194']\n",
      "['PKS', '0332-403']\n",
      "['OJ', '014']\n",
      "['PMN', 'J1918-4111']\n",
      "['PKS', '1936-623']\n",
      "['1H', '1720+117']\n",
      "['PMN', 'J1610-6649']\n",
      "['PMN', 'J0334-3725']\n",
      "['TXS', '1714-336']\n",
      "['PKS', '2005-489']\n",
      "['PKS', 'B1056-113']\n",
      "['RGB', 'J2243+203']\n",
      "['1ES', '1959+650']\n",
      "['S4', '0814+42']\n",
      "['KUV', '00311-1938']\n",
      "['PMN', 'J2250-2806']\n",
      "['1RXS', 'J130421.2-435308']\n",
      "['PMN', 'J0810-7530']\n",
      "['3C', '454.3']\n",
      "['PKS', '1424-41']\n",
      "['3C', '279']\n",
      "['CTA', '102']\n",
      "['PKS', '1510-089']\n",
      "['PKS', '0454-234']\n",
      "['PKS', '1502+106']\n",
      "['PKS', '1830-211']\n",
      "['PKS', '2326-502']\n",
      "['PKS', '0727-11']\n",
      "['4C', '+21.35']\n",
      "['PMN', 'J2345-1555']\n",
      "['4C', '+01.02']\n",
      "['PKS', '2023-07']\n",
      "['Ton', '599']\n",
      "['4C', '+38.41']\n",
      "['PKS', '1244-255']\n",
      "['B2', '1520+31']\n",
      "['PKS', '1124-186']\n",
      "['4C', '+28.07']\n",
      "['PKS', '1730-13']\n",
      "['PKS', '0805-07']\n",
      "['PKS', '0208-512']\n",
      "['PKS', '0336-01']\n",
      "['PKS', '0502+049']\n",
      "['PKS', '0402-362']\n",
      "['PMN', 'J1802-3940']\n",
      "['PKS', '1622-253']\n",
      "['PKS', '2052-47']\n",
      "['3C', '273']\n",
      "['PKS', '2142-75']\n",
      "['MG1', 'J123931+0443']\n",
      "['MG2', 'J201534+3710']\n",
      "['Galactic', 'Centre']\n",
      "['PKS', '2247-131']\n",
      "['NGC', '1275']\n",
      "['PKS', '0521-36']\n",
      "['Cen', 'A']\n",
      "['Cen', 'A']\n",
      "['LMC']\n",
      "['SMC']\n",
      "['NGC', '4945']\n",
      "['NGC', '253']\n",
      "['NGC', '1068']\n",
      "['M', '82']\n",
      "['Arp', '220']\n",
      "['M', '31']\n",
      "['NGC', '3424']\n",
      "['IC', '678']\n",
      "['NGC', '5380']\n",
      "['Arp', '299']\n",
      "['NGC', '2146']\n"
     ]
    }
   ],
   "source": [
    "names = []\n",
    "ras = [] \n",
    "decs = []\n",
    "types = []\n",
    "srcs = []\n",
    "\n",
    "#fout = open('../catalogs/initial_list_DNN_20210907.csv')\n",
    "for line in  open('../catalogs/Source_List_DNNC.txt'):\n",
    "    print(line.split()[4:])\n",
    "    names.append(np.str(line.split()[0]))\n",
    "    ras.append(np.float(line.split()[1]))\n",
    "    decs.append(np.float(line.split()[2]))\n",
    "    types.append(np.str(line.split()[3]))\n",
    "    srcs.append(np.str(line.split()[4:]))"
   ]
  },
  {
   "cell_type": "code",
   "execution_count": 16,
   "metadata": {},
   "outputs": [
    {
     "name": "stdout",
     "output_type": "stream",
     "text": [
      "['G343.1-2.3', 'HESS J0835-455', 'PKS 0426-380', 'PKS 2155-304', 'Mkn 421', 'PKS 0537-441', 'PKS 0447-439', 'BL Lac', 'PG 1553+113', 'TXS 0518+211', 'PKS 0235+164', 'PKS 1424+240', '3C 66A', 'TXS 0506+056', 'AP Librae', 'S5 0716+71', 'B2 1215+30', 'MH 2136-428', 'PKS 2233-148', 'Mkn 501', 'PMN J1603-4904', 'S2 0109+22', 'PKS 0301-243', '4C +01.28', 'PKS 0700-661', 'TXS 0628-240', 'PKS 0823-223', 'PKS 0735+17', 'PMN J1329-5608', 'PMN J0531-4827', 'MG1 J021114+1051', 'PKS 1440-389', 'OT 081', 'OJ 287', 'PKS 1101-536', 'TXS 0141+268', '1H 1013+498', 'PKS 0048-09', 'PMN J1650-5044', 'PKS 0118-272', '1H 1914-194', 'PKS 0332-403', 'OJ 014', 'PMN J1918-4111', 'PKS 1936-623', '1H 1720+117', 'PMN J1610-6649', 'PMN J0334-3725', 'TXS 1714-336', 'PKS 2005-489', 'PKS B1056-113', 'RGB J2243+203', '1ES 1959+650', 'S4 0814+42', 'KUV 00311-1938', 'PMN J2250-2806', '1RXS J130421.2-435308', 'PMN J0810-7530', '3C 454.3', 'PKS 1424-41', '3C 279', 'CTA 102', 'PKS 1510-089', 'PKS 0454-234', 'PKS 1502+106', 'PKS 1830-211', 'PKS 2326-502', 'PKS 0727-11', '4C +21.35', 'PMN J2345-1555', '4C +01.02', 'PKS 2023-07', 'Ton 599', '4C +38.41', 'PKS 1244-255', 'B2 1520+31', 'PKS 1124-186', '4C +28.07', 'PKS 1730-13', 'PKS 0805-07', 'PKS 0208-512', 'PKS 0336-01', 'PKS 0502+049', 'PKS 0402-362', 'PMN J1802-3940', 'PKS 1622-253', 'PKS 2052-47', '3C 273', 'PKS 2142-75', 'MG1 J123931+0443', 'MG2 J201534+3710', 'Galactic Centre', 'PKS 2247-131', 'NGC 1275', 'PKS 0521-36', 'Cen A', 'Cen A', 'LMC', 'SMC', 'NGC 4945', 'NGC 253', 'NGC 1068', 'M 82', 'Arp 220', 'M 31', 'NGC 3424', 'IC 678', 'NGC 5380', 'Arp 299', 'NGC 2146']\n"
     ]
    }
   ],
   "source": [
    "fmatsrcs = []\n",
    "for src in srcs:\n",
    "    fmatsrc = src.replace(',', '')\n",
    "    fmatsrc = fmatsrc.replace('[', '')\n",
    "    fmatsrc = fmatsrc.replace(']', '')\n",
    "    fmatsrc = fmatsrc.replace(\"'\", '')\n",
    "    fmatsrcs.append(fmatsrc)\n",
    "        \n",
    "print(fmatsrcs)"
   ]
  },
  {
   "cell_type": "code",
   "execution_count": 17,
   "metadata": {},
   "outputs": [],
   "source": [
    "DNN= pd.DataFrame(np.vstack([np.array(names),np.array(ras),np.array(decs),np.array(types),np.array(fmatsrcs), np.array(redshifts)]).T,  \n",
    "                  columns=['Names', 'RA', 'DEC', 'Types', 'SRC', 'Redshift_Distances'])"
   ]
  },
  {
   "cell_type": "code",
   "execution_count": 18,
   "metadata": {},
   "outputs": [],
   "source": [
    "DNN = DNN.drop(index=96)"
   ]
  },
  {
   "cell_type": "code",
   "execution_count": 19,
   "metadata": {},
   "outputs": [
    {
     "data": {
      "text/plain": [
       "109"
      ]
     },
     "execution_count": 19,
     "metadata": {},
     "output_type": "execute_result"
    }
   ],
   "source": [
    "len(DNN.SRC.values)"
   ]
  },
  {
   "cell_type": "code",
   "execution_count": 20,
   "metadata": {},
   "outputs": [],
   "source": [
    "DNN['RA'] = pd.to_numeric(DNN.RA)\n",
    "DNN['DEC'] = pd.to_numeric(DNN.DEC)"
   ]
  },
  {
   "cell_type": "code",
   "execution_count": 21,
   "metadata": {},
   "outputs": [],
   "source": [
    "np.save('../catalogs/Source_List_DNNC.npy', DNN.to_numpy())\n",
    "DNN.to_pickle('../catalogs/Source_List_DNNC.pickle')"
   ]
  },
  {
   "cell_type": "code",
   "execution_count": 140,
   "metadata": {
    "scrolled": true
   },
   "outputs": [
    {
     "name": "stdout",
     "output_type": "stream",
     "text": [
      "|-\n",
      "| 1 || HESSJ1708-443 || 257.0 || -44.3 || pwn || G343.1-2.3 || 5e-10\n",
      "|-\n",
      "| 2 || VelaX || 128.287 || -45.19 || pwn || HESS J0835-455 || 6.8e-11\n",
      "|-\n",
      "| 3 || 4FGLJ0428.6-3756 || 67.173 || -37.9403 || bll || PKS 0426-380 || 1.111\n",
      "|-\n",
      "| 4 || 4FGLJ2158.8-3013 || 329.7141 || -30.2251 || bll || PKS 2155-304 || 0.116\n",
      "|-\n",
      "| 5 || 4FGLJ1104.4+3812 || 166.1187 || 38.207 || BLL || Mkn 421 || 0.031\n",
      "|-\n",
      "| 6 || 4FGLJ0538.8-4405 || 84.7089 || -44.0862 || BLL || PKS 0537-441 || 0.892\n",
      "|-\n",
      "| 7 || 4FGLJ0449.4-4350 || 72.3582 || -43.835 || bll || PKS 0447-439 || 0.107\n",
      "|-\n",
      "| 8 || 4FGLJ2202.7+4216 || 330.6946 || 42.2821 || BLL || BL Lac || 0.069\n",
      "|-\n",
      "| 9 || 4FGLJ1555.7+1111 || 238.9313 || 11.1884 || BLL || PG 1553+113 || 0.36\n",
      "|-\n",
      "| 10 || 4FGLJ0521.8+2112 || 80.4445 || 21.2131 || bll || TXS 0518+211 || 0.108\n",
      "|-\n",
      "| 11 || 4FGLJ0238.6+1637 || 39.668 || 16.6179 || BLL || PKS 0235+164 || 0.94\n",
      "|-\n",
      "| 12 || 4FGLJ1427.0+2348 || 216.7558 || 23.8013 || BLL || PKS 1424+240 || 0.16\n",
      "|-\n",
      "| 13 || 4FGLJ0222.6+4302 || 35.6696 || 43.0357 || BLL || 3C 66A || 0.34\n",
      "|-\n",
      "| 14 || 4FGLJ0509.4+0542 || 77.3593 || 5.7014 || bll || TXS 0506+056 || 0.3365\n",
      "|-\n",
      "| 15 || 4FGLJ1517.7-2422 || 229.4254 || -24.373 || bll || AP Librae || 0.04903\n",
      "|-\n",
      "| 16 || 4FGLJ0721.9+7120 || 110.4882 || 71.3405 || BLL || S5 0716+71 || 0.3\n",
      "|-\n",
      "| 17 || 4FGLJ1217.9+3007 || 184.4762 || 30.1177 || BLL || B2 1215+30 || 0.13\n",
      "|-\n",
      "| 18 || 4FGLJ2139.4-4235 || 324.8546 || -42.5895 || bll || MH 2136-428 || nan\n",
      "|-\n",
      "| 19 || 4FGLJ2236.5-1433 || 339.1444 || -14.5557 || BLL || PKS 2233-148 || 0.33\n",
      "|-\n",
      "| 20 || 4FGLJ1653.8+3945 || 253.4738 || 39.7595 || BLL || Mkn 501 || 0.033\n",
      "|-\n",
      "| 21 || 4FGLJ1603.8-4903 || 240.9665 || -49.0617 || bll || PMN J1603-4904 || 0.2321\n",
      "|-\n",
      "| 22 || 4FGLJ0112.1+2245 || 18.0294 || 22.7515 || BLL || S2 0109+22 || 0.265\n",
      "|-\n",
      "| 23 || 4FGLJ0303.4-2407 || 45.8625 || -24.1225 || BLL || PKS 0301-243 || 0.26\n",
      "|-\n",
      "| 24 || 4FGLJ1058.4+0133 || 164.624 || 1.5641 || BLL || 4C +01.28 || 0.18516\n",
      "|-\n",
      "| 25 || 4FGLJ0700.5-6610 || 105.1293 || -66.1803 || bll || PKS 0700-661 || nan\n",
      "|-\n",
      "| 26 || 4FGLJ0630.9-2406 || 97.7414 || -24.111 || bll || TXS 0628-240 || 0.078\n",
      "|-\n",
      "| 27 || 4FGLJ0825.9-2230 || 126.4991 || -22.5055 || bll || PKS 0823-223 || 0.91\n",
      "|-\n",
      "| 28 || 4FGLJ0738.1+1742 || 114.5387 || 17.7066 || bll || PKS 0735+17 || 0.45\n",
      "|-\n",
      "| 29 || 4FGLJ1329.0-5607 || 202.2672 || -56.1186 || bll || PMN J1329-5608 || nan\n",
      "|-\n",
      "| 30 || 4FGLJ0532.0-4827 || 83.0022 || -48.4607 || BLL || PMN J0531-4827 || 0.8116\n",
      "|-\n",
      "| 31 || 4FGLJ0211.2+1051 || 32.8091 || 10.8569 || BLL || MG1 J021114+1051 || nan\n",
      "|-\n",
      "| 32 || 4FGLJ1443.9-3908 || 220.9908 || -39.1481 || bll || PKS 1440-389 || 0.065\n",
      "|-\n",
      "| 33 || 4FGLJ1751.5+0938 || 267.8776 || 9.6456 || bll || OT 081 || 0.322\n",
      "|-\n",
      "| 34 || 4FGLJ0854.8+2006 || 133.7071 || 20.1159 || BLL || OJ 287 || 0.306\n",
      "|-\n",
      "| 35 || 4FGLJ1103.9-5357 || 165.9757 || -53.9647 || bll || PKS 1101-536 || nan\n",
      "|-\n",
      "| 36 || 4FGLJ0144.6+2705 || 26.1502 || 27.0899 || bll || TXS 0141+268 || nan\n",
      "|-\n",
      "| 37 || 4FGLJ1015.0+4926 || 153.768 || 49.4336 || bll || 1H 1013+498 || 0.212\n",
      "|-\n",
      "| 38 || 4FGLJ0050.7-0929 || 12.6753 || -9.4936 || BLL || PKS 0048-09 || 0.635\n",
      "|-\n",
      "| 39 || 4FGLJ1650.3-5045 || 252.5894 || -50.7515 || bll || PMN J1650-5044 || nan\n",
      "|-\n",
      "| 40 || 4FGLJ0120.4-2701 || 20.1227 || -27.0229 || bll || PKS 0118-272 || 0.557\n",
      "|-\n",
      "| 41 || 4FGLJ1917.7-1921 || 289.4384 || -19.3628 || bll || 1H 1914-194 || 0.137\n",
      "|-\n",
      "| 42 || 4FGLJ0334.2-4008 || 53.5566 || -40.145 || bll || PKS 0332-403 || 1.357\n",
      "|-\n",
      "| 43 || 4FGLJ0811.4+0146 || 122.861 || 1.7756 || bll || OJ 014 || 1.148\n",
      "|-\n",
      "| 44 || 4FGLJ1918.2-4111 || 289.5643 || -41.1893 || bll || PMN J1918-4111 || nan\n",
      "|-\n",
      "| 45 || 4FGLJ1941.3-6210 || 295.3468 || -62.1753 || bll || PKS 1936-623 || nan\n",
      "|-\n",
      "| 46 || 4FGLJ1725.0+1152 || 261.2713 || 11.8748 || bll || 1H 1720+117 || 0.018\n",
      "|-\n",
      "| 47 || 4FGLJ1610.7-6648 || 242.6919 || -66.8147 || bll || PMN J1610-6649 || 0.11\n",
      "|-\n",
      "| 48 || 4FGLJ0334.2-3725 || 53.5556 || -37.4327 || bll || PMN J0334-3725 || nan\n",
      "|-\n",
      "| 49 || 4FGLJ1717.5-3342 || 259.3985 || -33.7003 || bll || TXS 1714-336 || nan\n",
      "|-\n",
      "| 50 || 4FGLJ2009.4-4849 || 302.3595 || -48.8248 || BLL || PKS 2005-489 || 0.07067\n",
      "|-\n",
      "| 51 || 4FGLJ1059.2-1134 || 164.8063 || -11.572 || bll || PKS B1056-113 || nan\n",
      "|-\n",
      "| 52 || 4FGLJ2243.9+2021 || 340.9895 || 20.3565 || bll || RGB J2243+203 || 0.39\n",
      "|-\n",
      "| 53 || 4FGLJ2000.0+6508 || 300.011 || 65.1479 || bll || 1ES 1959+650 || 0.047\n",
      "|-\n",
      "| 54 || 4FGLJ0818.2+4222 || 124.5572 || 42.3819 || bll || S4 0814+42 || 0.52984\n",
      "|-\n",
      "| 55 || 4FGLJ0033.5-1921 || 8.3954 || -19.3593 || bll || KUV 00311-1938 || 0.61\n",
      "|-\n",
      "| 56 || 4FGLJ2250.7-2806 || 342.6903 || -28.1114 || bll || PMN J2250-2806 || 0.525\n",
      "|-\n",
      "| 57 || 4FGLJ1304.3-4353 || 196.0883 || -43.8957 || bll || 1RXS J130421.2-435308 || nan\n",
      "|-\n",
      "| 58 || 4FGLJ0811.0-7529 || 122.7513 || -75.4982 || bll || PMN J0810-7530 || 0.689\n",
      "|-\n",
      "| 59 || 4FGLJ2253.9+1609 || 343.4963 || 16.1506 || FSRQ || 3C 454.3 || 0.859001\n",
      "|-\n",
      "| 60 || 4FGLJ1427.9-4206 || 216.9866 || -42.106 || FSRQ || PKS 1424-41 || 1.52\n",
      "|-\n",
      "| 61 || 4FGLJ1256.1-0547 || 194.0415 || -5.7887 || FSRQ || 3C 279 || 0.5362\n",
      "|-\n",
      "| 62 || 4FGLJ2232.6+1143 || 338.1525 || 11.7306 || FSRQ || CTA 102 || 1.032\n",
      "|-\n",
      "| 63 || 4FGLJ1512.8-0906 || 228.2147 || -9.1064 || FSRQ || PKS 1510-089 || 0.36\n",
      "|-\n",
      "| 64 || 4FGLJ0457.0-2324 || 74.2608 || -23.4149 || FSRQ || PKS 0454-234 || 1.0\n",
      "|-\n",
      "| 65 || 4FGLJ1504.4+1029 || 226.1033 || 10.4978 || FSRQ || PKS 1502+106 || 1.83795\n",
      "|-\n",
      "| 66 || 4FGLJ1833.6-2103 || 278.4101 || -21.0574 || FSRQ || PKS 1830-211 || 2.507\n",
      "|-\n",
      "| 67 || 4FGLJ2329.3-4955 || 352.3294 || -49.9324 || FSRQ || PKS 2326-502 || 0.518\n",
      "|-\n",
      "| 68 || 4FGLJ0730.3-1141 || 112.5776 || -11.6888 || fsrq || PKS 0727-11 || 1.59\n",
      "|-\n",
      "| 69 || 4FGLJ1224.9+2122 || 186.2277 || 21.3814 || FSRQ || 4C +21.35 || 0.43383\n",
      "|-\n",
      "| 70 || 4FGLJ2345.2-1555 || 356.303 || -15.9182 || FSRQ || PMN J2345-1555 || 0.621\n",
      "|-\n",
      "| 71 || 4FGLJ0108.6+0134 || 17.1695 || 1.5819 || fsrq || 4C +01.02 || 2.108898\n",
      "|-\n",
      "| 72 || 4FGLJ2025.6-0735 || 306.422 || -7.5945 || fsrq || PKS 2023-07 || 1.388\n",
      "|-\n",
      "| 73 || 4FGLJ1159.5+2914 || 179.884 || 29.2448 || fsrq || Ton 599 || 0.72475\n",
      "|-\n",
      "| 74 || 4FGLJ1635.2+3808 || 248.8168 || 38.1401 || FSRQ || 4C +38.41 || 1.814\n",
      "|-\n",
      "| 75 || 4FGLJ1246.7-2548 || 191.6887 || -25.8018 || fsrq || PKS 1244-255 || 0.63\n",
      "|-\n",
      "| 76 || 4FGLJ1522.1+3144 || 230.5454 || 31.7395 || fsrq || B2 1520+31 || 1.4886\n",
      "|-\n",
      "| 77 || 4FGLJ1127.0-1857 || 171.7634 || -18.964 || fsrq || PKS 1124-186 || 1.05\n",
      "|-\n",
      "| 78 || 4FGLJ0237.8+2848 || 39.4737 || 28.8044 || FSRQ || 4C +28.07 || 1.206\n",
      "|-\n",
      "| 79 || 4FGLJ1733.0-1305 || 263.2632 || -13.0858 || FSRQ || PKS 1730-13 || 0.9\n",
      "|-\n",
      "| 80 || 4FGLJ0808.2-0751 || 122.065 || -7.8556 || fsrq || PKS 0805-07 || 1.84\n",
      "|-\n",
      "| 81 || 4FGLJ0210.7-5101 || 32.6946 || -51.0218 || FSRQ || PKS 0208-512 || 1.003\n",
      "|-\n",
      "| 82 || 4FGLJ0339.5-0146 || 54.8771 || -1.7769 || fsrq || PKS 0336-01 || 0.85\n",
      "|-\n",
      "| 83 || 4FGLJ0505.3+0459 || 76.3431 || 4.9994 || fsrq || PKS 0502+049 || 0.95\n",
      "|-\n",
      "| 84 || 4FGLJ0403.9-3605 || 60.975 || -36.087 || FSRQ || PKS 0402-362 || 1.42284\n",
      "|-\n",
      "| 85 || 4FGLJ1802.6-3940 || 270.6711 || -39.6687 || fsrq || PMN J1802-3940 || 1.319\n",
      "|-\n",
      "| 86 || 4FGLJ1625.7-2527 || 246.4453 || -25.465 || fsrq || PKS 1622-253 || 0.79\n",
      "|-\n",
      "| 87 || 4FGLJ2056.2-4714 || 314.0715 || -47.2369 || fsrq || PKS 2052-47 || 1.49\n",
      "|-\n",
      "| 88 || 4FGLJ1229.0+0202 || 187.2675 || 2.0454 || FSRQ || 3C 273 || 0.158339\n",
      "|-\n",
      "| 89 || 4FGLJ2147.3-7536 || 326.8268 || -75.6024 || FSRQ || PKS 2142-75 || 1.14\n",
      "|-\n",
      "| 90 || 4FGLJ1239.5+0443 || 189.8854 || 4.7284 || fsrq || MG1 J123931+0443 || nan\n",
      "|-\n",
      "| 91 || 4FGLJ2015.5+3710 || 303.8924 || 37.176 || FSRQ || MG2 J201534+3710 || nan\n",
      "|-\n",
      "| 92 || 4FGLJ1745.6-2859 || 266.4147 || -28.997 || bcu || Galactic Centre || nan\n",
      "|-\n",
      "| 93 || 4FGLJ2250.0-1250 || 342.5049 || -12.8485 || bcu || PKS 2247-131 || nan\n",
      "|-\n",
      "| 94 || 4FGLJ0319.8+4130 || 49.9575 || 41.5121 || RDG || NGC 1275 || 0.01756\n",
      "|-\n",
      "| 95 || 4FGLJ0522.9-3628 || 80.737 || -36.4686 || AGN || PKS 0521-36 || 0.055\n",
      "|-\n",
      "| 96 || 4FGLJ1324.0-4330e || 201.0 || -43.5 || RDG || Cen A || 0.001826\n",
      "|-\n",
      "| 97 || 4FGLJ1325.5-4300 || 201.3813 || -43.0165 || RDG || Cen A || 0.001826\n",
      "|-\n",
      "| 98 || 4FGLJ0519.9-6845e || 80.0 || -68.75 || GAL || LMC || 0.000875\n",
      "|-\n",
      "| 99 || 4FGLJ0058.0-7245e || 14.5 || -72.75 || GAL || SMC || 0.000486\n",
      "|-\n",
      "| 100 || 4FGLJ1305.4-4928 || 196.3635 || -49.4733 || sbg || NGC 4945 || 0.001797\n",
      "|-\n",
      "| 101 || 4FGLJ0047.5-2517 || 11.8978 || -25.29 || sbg || NGC 253 || 0.000864\n",
      "|-\n",
      "| 102 || 4FGLJ0242.6-0000 || 40.667 || -0.0069 || sbg || NGC 1068 || 0.00381\n",
      "|-\n",
      "| 103 || 4FGLJ0955.7+6940 || 148.947 || 69.6671 || sbg || M 82 || 0.00073\n",
      "|-\n",
      "| 104 || 4FGLJ1534.7+2331 || 233.6973 || 23.53 || sbg || Arp 220 || 0.0184\n",
      "|-\n",
      "| 105 || 4FGLJ0043.2+4114 || 10.8229 || 41.2415 || gal || M 31 || -0.001\n",
      "|-\n",
      "| 106 || 4FGLJ1051.6+3253 || 162.9114 || 32.8853 || sbg || NGC 3424 || 0.005013\n",
      "|-\n",
      "| 107 || 4FGLJ1114.2+0638 || 168.5645 || 6.6336 || gal || IC 678 || 0.04799\n",
      "|-\n",
      "| 108 || 4FGLJ1357.3+3730 || 209.3307 || 37.5045 || gal || NGC 5380 || 0.010364\n",
      "|-\n",
      "| 109 || 4FGLJ1128.2+5831 || 172.0659 || 58.5185 || sbg || Arp 299 || 0.001\n",
      "|-\n",
      "| 110 || 4FGLJ0618.1+7819 || 94.5318 || 78.3317 || sbg || NGC 2146 || 0.002975\n",
      "|-\n"
     ]
    }
   ],
   "source": [
    "print('|-')\n",
    "for i in range(len(DNN)):\n",
    "    print('| {} || {} || {} || {} || {} || {} || {}'.format(i+1,\n",
    "        DNN.Names[i], DNN.RA[i], DNN.DEC[i], DNN.Types[i], DNN.SRC[i], DNN.Redshift_Distances[i]))\n",
    "    print('|-')"
   ]
  },
  {
   "cell_type": "code",
   "execution_count": 8,
   "metadata": {},
   "outputs": [],
   "source": [
    "DNN['RA'] = pd.to_numeric(DNN.RA)\n",
    "DNN['DEC'] = pd.to_numeric(DNN.DEC)"
   ]
  },
  {
   "cell_type": "code",
   "execution_count": 9,
   "metadata": {},
   "outputs": [],
   "source": [
    "ex_DNN = DNN.drop([104, 106, 107])"
   ]
  },
  {
   "cell_type": "code",
   "execution_count": 11,
   "metadata": {},
   "outputs": [
    {
     "data": {
      "text/plain": [
       "array([257.    , 128.287 ,  67.173 , 329.7141, 166.1187,  84.7089,\n",
       "        72.3582, 330.6946, 238.9313,  80.4445,  39.668 , 216.7558,\n",
       "        35.6696,  77.3593, 229.4254, 110.4882, 184.4762, 324.8546,\n",
       "       339.1444, 253.4738, 240.9665,  18.0294,  45.8625, 164.624 ,\n",
       "       105.1293,  97.7414, 126.4991, 114.5387, 202.2672,  83.0022,\n",
       "        32.8091, 220.9908, 267.8776, 133.7071, 165.9757,  26.1502,\n",
       "       153.768 ,  12.6753, 252.5894,  20.1227, 289.4384,  53.5566,\n",
       "       122.861 , 289.5643, 295.3468, 261.2713, 242.6919,  53.5556,\n",
       "       259.3985, 302.3595, 164.8063, 340.9895, 300.011 , 124.5572,\n",
       "         8.3954, 342.6903, 196.0883, 122.7513, 343.4963, 216.9866,\n",
       "       194.0415, 338.1525, 228.2147,  74.2608, 226.1033, 278.4101,\n",
       "       352.3294, 112.5776, 186.2277, 356.303 ,  17.1695, 306.422 ,\n",
       "       179.884 , 248.8168, 191.6887, 230.5454, 171.7634,  39.4737,\n",
       "       263.2632, 122.065 ,  32.6946,  54.8771,  76.3431,  60.975 ,\n",
       "       270.6711, 246.4453, 314.0715, 187.2675, 326.8268, 189.8854,\n",
       "       303.8924, 266.4147, 342.5049,  49.9575,  80.737 , 201.    ,\n",
       "       201.3813,  80.    ,  14.5   , 196.3635,  11.8978,  40.667 ,\n",
       "       148.947 , 233.6973, 162.9114, 172.0659,  94.5318])"
      ]
     },
     "execution_count": 11,
     "metadata": {},
     "output_type": "execute_result"
    }
   ],
   "source": [
    "ex_DNN.RA.values"
   ]
  },
  {
   "cell_type": "code",
   "execution_count": 12,
   "metadata": {},
   "outputs": [],
   "source": [
    "ex_DNN_ras = ex_DNN.RA\n",
    "ex_DNN_decs = ex_DNN.DEC"
   ]
  },
  {
   "cell_type": "code",
   "execution_count": 14,
   "metadata": {},
   "outputs": [],
   "source": [
    "ESTES = np.load('../catalogs/Source_List_ESTES.txt')"
   ]
  },
  {
   "cell_type": "code",
   "execution_count": 15,
   "metadata": {},
   "outputs": [],
   "source": [
    "ESTES_decs = ESTES[0]\n",
    "ESTES_ras = ESTES[1]"
   ]
  },
  {
   "cell_type": "code",
   "execution_count": 16,
   "metadata": {},
   "outputs": [],
   "source": [
    "import healpy as hp"
   ]
  },
  {
   "cell_type": "code",
   "execution_count": 17,
   "metadata": {},
   "outputs": [
    {
     "name": "stdout",
     "output_type": "stream",
     "text": [
      "2\n",
      "1\n",
      "1\n",
      "1\n"
     ]
    }
   ],
   "source": [
    "print(sum(ex_DNN_decs < -75))\n",
    "print(sum(ex_DNN_decs > 75))\n",
    "\n",
    "print(sum(ESTES_decs < - 75))\n",
    "print(sum(ESTES_decs > 75))"
   ]
  },
  {
   "cell_type": "code",
   "execution_count": 18,
   "metadata": {},
   "outputs": [
    {
     "data": {
      "text/plain": [
       "<matplotlib.legend.Legend at 0x7f33db632310>"
      ]
     },
     "execution_count": 18,
     "metadata": {},
     "output_type": "execute_result"
    },
    {
     "data": {
      "image/png": "[encoded data removed]",
      "text/plain": [
       "<Figure size 432x288 with 1 Axes>"
      ]
     },
     "metadata": {
      "needs_background": "light"
     },
     "output_type": "display_data"
    }
   ],
   "source": [
    "plt.hist(ex_DNN_decs, bins=50, histtype='step', label='DNNC', alpha=.7);\n",
    "plt.hist(ESTES_decs, bins=50, histtype='step', label='ESTES', alpha=.7);\n",
    "plt.legend()"
   ]
  },
  {
   "cell_type": "code",
   "execution_count": null,
   "metadata": {},
   "outputs": [],
   "source": []
  },
  {
   "cell_type": "code",
   "execution_count": 19,
   "metadata": {},
   "outputs": [
    {
     "name": "stderr",
     "output_type": "stream",
     "text": [
      "/home/ssclafani/.vens/py3_venv/lib/python3.7/site-packages/healpy/projaxes.py:920: MatplotlibDeprecationWarning: You are modifying the state of a globally registered colormap. In future versions, you will not be able to modify a registered colormap in-place. To remove this warning, you can make a copy of the colormap first. cmap = copy.copy(mpl.cm.get_cmap(\"viridis\"))\n",
      "  newcm.set_over(newcm(1.0))\n",
      "/home/ssclafani/.vens/py3_venv/lib/python3.7/site-packages/healpy/projaxes.py:921: MatplotlibDeprecationWarning: You are modifying the state of a globally registered colormap. In future versions, you will not be able to modify a registered colormap in-place. To remove this warning, you can make a copy of the colormap first. cmap = copy.copy(mpl.cm.get_cmap(\"viridis\"))\n",
      "  newcm.set_under(bgcolor)\n",
      "/home/ssclafani/.vens/py3_venv/lib/python3.7/site-packages/healpy/projaxes.py:922: MatplotlibDeprecationWarning: You are modifying the state of a globally registered colormap. In future versions, you will not be able to modify a registered colormap in-place. To remove this warning, you can make a copy of the colormap first. cmap = copy.copy(mpl.cm.get_cmap(\"viridis\"))\n",
      "  newcm.set_bad(badcolor)\n",
      "/home/ssclafani/.vens/py3_venv/lib/python3.7/site-packages/healpy/projaxes.py:211: MatplotlibDeprecationWarning: Passing parameters norm and vmin/vmax simultaneously is deprecated since 3.3 and will become an error two minor releases later. Please pass vmin/vmax directly to the norm when creating it.\n",
      "  **kwds\n",
      "/home/ssclafani/.vens/py3_venv/lib/python3.7/site-packages/healpy/projaxes.py:543: UserWarning: 0.0 180.0 -180.0 180.0\n",
      "  pmin / dtor, pmax / dtor, mmin / dtor, mmax / dtor\n",
      "/home/ssclafani/.vens/py3_venv/lib/python3.7/site-packages/healpy/projaxes.py:658: UserWarning: The interval between parallels is 30 deg -0.00'.\n",
      "  vdeg, varcmin\n",
      "/home/ssclafani/.vens/py3_venv/lib/python3.7/site-packages/healpy/projaxes.py:666: UserWarning: The interval between meridians is 30 deg -0.00'.\n",
      "  vdeg, varcmin\n"
     ]
    },
    {
     "data": {
      "text/plain": [
       "<matplotlib.legend.Legend at 0x7f33dc362690>"
      ]
     },
     "execution_count": 19,
     "metadata": {},
     "output_type": "execute_result"
    },
    {
     "data": {
      "image/png": "[encoded data removed]",
      "text/plain": [
       "<Figure size 612x388.8 with 1 Axes>"
      ]
     },
     "metadata": {
      "needs_background": "light"
     },
     "output_type": "display_data"
    }
   ],
   "source": [
    "hp.mollview()\n",
    "hp.graticule()\n",
    "plt.title(' ')\n",
    "hp.projscatter(np.radians(DNN.DEC) - np.pi/2, np.radians(DNN.RA), label = 'Source List', alpha = 1)\n",
    "plt.legend()"
   ]
  },
  {
   "cell_type": "code",
   "execution_count": null,
   "metadata": {},
   "outputs": [],
   "source": []
  },
  {
   "cell_type": "code",
   "execution_count": 20,
   "metadata": {},
   "outputs": [
    {
     "data": {
      "text/plain": [
       "<matplotlib.legend.Legend at 0x7f33d749dd10>"
      ]
     },
     "execution_count": 20,
     "metadata": {},
     "output_type": "execute_result"
    },
    {
     "data": {
      "image/png": "[encoded data removed]",
      "text/plain": [
       "<Figure size 612x388.8 with 1 Axes>"
      ]
     },
     "metadata": {
      "needs_background": "light"
     },
     "output_type": "display_data"
    }
   ],
   "source": [
    "hp.mollview()\n",
    "hp.graticule()\n",
    "plt.title(' ')\n",
    "hp.projscatter(np.radians(ESTES_decs) - np.pi/2, np.radians(ESTES_ras), label = 'ESTES ExtraGalactic', alpha = .5)\n",
    "hp.projscatter(np.radians(ex_DNN_decs) - np.pi/2,np.radians(ex_DNN_ras),  label = 'DNN ExtraGalactic', alpha = .5)\n",
    "plt.legend()"
   ]
  },
  {
   "cell_type": "code",
   "execution_count": 21,
   "metadata": {
    "scrolled": true
   },
   "outputs": [
    {
     "name": "stdout",
     "output_type": "stream",
     "text": [
      "-75.5\n",
      "In DNN\n",
      "-60.45\n",
      "In ESTES\n",
      "-48.82\n",
      "In DNN\n",
      "-47.24\n",
      "In DNN\n",
      "-45.19\n",
      "In DNN\n",
      "-44.3\n",
      "In DNN\n",
      "-43.9\n",
      "In DNN\n",
      "-43.5\n",
      "In DNN\n",
      "-39.67\n",
      "In DNN\n",
      "-37.43\n",
      "In DNN\n",
      "-36.09\n",
      "In DNN\n",
      "-33.7\n",
      "In DNN\n",
      "-28.11\n",
      "In DNN\n",
      "-25.46\n",
      "In DNN\n",
      "-11.57\n",
      "In DNN\n",
      "2.05\n",
      "In DNN\n",
      "4.73\n",
      "In DNN\n",
      "6.63\n",
      "In ESTES\n",
      "25.05\n",
      "In ESTES\n",
      "25.3\n",
      "In ESTES\n",
      "35.94\n",
      "In ESTES\n",
      "37.5\n",
      "In ESTES\n",
      "39.1\n",
      "In ESTES\n",
      "40.96\n",
      "In ESTES\n",
      "41.24\n",
      "In ESTES\n",
      "41.37\n",
      "In ESTES\n",
      "44.88\n",
      "In ESTES\n",
      "55.38\n",
      "In ESTES\n",
      "61.5\n",
      "In ESTES\n",
      "16\n",
      "13\n"
     ]
    }
   ],
   "source": [
    "dnns = 0\n",
    "estes = 0\n",
    "#print(len(np.intersect1d(np.round(ex_DNN_decs,2), np.round(ESTES_decs, 2))))\n",
    "uniques = np.setxor1d(np.round(ex_DNN_decs,2).values , np.round(ESTES_decs, 2))\n",
    "for u in uniques:\n",
    "    print(u)\n",
    "    if u in np.round(ex_DNN_decs,2).values: \n",
    "        print('In DNN')\n",
    "        dnns+=1\n",
    "    if u in np.round(ESTES_decs, 2):\n",
    "        print('In ESTES')\n",
    "        estes+=1\n",
    "        \n",
    "print(dnns)\n",
    "print(estes)"
   ]
  },
  {
   "cell_type": "code",
   "execution_count": 22,
   "metadata": {},
   "outputs": [],
   "source": [
    "#nearest neighbor\n",
    "from icecube import astro"
   ]
  },
  {
   "cell_type": "code",
   "execution_count": 23,
   "metadata": {
    "scrolled": true
   },
   "outputs": [
    {
     "name": "stdout",
     "output_type": "stream",
     "text": [
      "0\n",
      "0.17002677253447554\n",
      "1\n",
      "0.14299026246561605\n",
      "2\n",
      "0.5648405843887195\n",
      "3\n",
      "0.27815748094400566\n",
      "4\n",
      "0.45476614290889883\n",
      "5\n",
      "0.11379083185212115\n",
      "6\n",
      "0.07881535514081456\n",
      "7\n",
      "0.03236869276262161\n",
      "8\n",
      "0.11973884996895758\n",
      "9\n",
      "0.22623728952066025\n",
      "10\n",
      "0.02641982632438657\n",
      "11\n",
      "0.18392721090795094\n",
      "12\n",
      "0.3126524563690156\n",
      "13\n",
      "0.14783199342428316\n",
      "14\n",
      "0.3082234278244061\n",
      "15\n",
      "0.13475562111189676\n",
      "16\n",
      "0.14299026246561608\n",
      "17\n",
      "0.05690490626100147\n",
      "18\n",
      "0.08302630886773384\n",
      "19\n",
      "0.1477078720848656\n",
      "20\n",
      "0.15792178775561813\n",
      "21\n",
      "0.23788101937287953\n",
      "22\n",
      "0.08750926634338181\n",
      "23\n",
      "0.0047327973320270824\n",
      "24\n",
      "0.15041341110328252\n",
      "25\n",
      "0.27815748094400566\n",
      "26\n",
      "0.195666695207629\n",
      "27\n",
      "0.21990332086599373\n",
      "28\n",
      "0.23851470572460046\n",
      "29\n",
      "0.05690490626100147\n",
      "30\n",
      "0.10735145502996227\n",
      "31\n",
      "0.03236869276262161\n",
      "32\n",
      "0.3039649486408363\n",
      "33\n",
      "0.15792178775561816\n",
      "34\n",
      "0.1806774335911522\n",
      "35\n",
      "0.17672643552077827\n",
      "36\n",
      "0.18927609296522882\n",
      "37\n",
      "0.07881535514081454\n",
      "38\n",
      "0.1495481112541496\n",
      "39\n",
      "0.13131719162435682\n",
      "40\n",
      "0.2819338547553366\n",
      "41\n",
      "0.2819338547553366\n",
      "42\n",
      "0.10168142243427074\n",
      "43\n",
      "0.1262125195032229\n",
      "44\n",
      "0.19307789550335916\n",
      "45\n",
      "0.3628207584335424\n",
      "46\n",
      "0.1797491615862067\n",
      "47\n",
      "0.12766095336231978\n",
      "48\n",
      "0.12618860729301468\n",
      "49\n",
      "0.09640523245985101\n",
      "50\n",
      "0.18306876196651023\n",
      "51\n",
      "0.03083222903907821\n",
      "52\n",
      "0.03757915217559987\n",
      "53\n",
      "0.019370720175703286\n",
      "54\n",
      "0.1478319934242832\n",
      "55\n",
      "0.15837113078121692\n",
      "56\n",
      "0.1238076671880839\n",
      "57\n",
      "0.20716362479452316\n",
      "58\n",
      "0.18331027428541333\n",
      "59\n",
      "0.10513571812639651\n",
      "60\n",
      "0.19093769211539363\n",
      "61\n",
      "0.07716635445913103\n",
      "62\n",
      "0.3074115225591697\n",
      "63\n",
      "0.08828641129735998\n",
      "64\n",
      "0.08302630886773384\n",
      "65\n",
      "0.026419826324386574\n",
      "66\n",
      "0.45104017008275166\n",
      "67\n",
      "0.1699891613293659\n",
      "68\n",
      "0.2398488009460019\n",
      "69\n",
      "0.1238076671880839\n",
      "70\n",
      "0.0047327973320270824\n",
      "71\n",
      "0.1313171916243568\n",
      "72\n",
      "0.31777884921288496\n",
      "73\n",
      "0.12621251950322293\n",
      "74\n",
      "0.2291637476909213\n",
      "75\n",
      "0.2398304785339433\n",
      "76\n",
      "0.1529029443157424\n",
      "77\n",
      "0.3074115225591697\n",
      "78\n",
      "0.2025468268562751\n",
      "79\n",
      "0.016525794239554147\n",
      "80\n",
      "0.27063508038943607\n",
      "81\n",
      "0.1042076880933977\n",
      "82\n",
      "0.14898479392824357\n",
      "83\n",
      "0.03044758381780595\n",
      "84\n",
      "0.22098674352995518\n",
      "85\n",
      "0.0685920491817567\n",
      "86\n",
      "0.14742559367888644\n",
      "87\n",
      "0.08750926634338184\n",
      "88\n",
      "0.15837113078121692\n",
      "89\n",
      "0.016525794239554144\n",
      "90\n",
      "0.1633530330171161\n",
      "91\n",
      "0.16998916132936595\n",
      "92\n",
      "0.23902505528327797\n",
      "93\n",
      "0.18927609296522882\n",
      "94\n",
      "0.09931905129082128\n",
      "95\n",
      "0.19307789550335921\n",
      "96\n",
      "0.13475562111189673\n",
      "97\n",
      "0.2398304785339433\n",
      "98\n",
      "0.1835949499211352\n",
      "99\n",
      "0.03757915217559986\n",
      "100\n",
      "0.1700267725344755\n",
      "101\n",
      "0.11379083185212115\n",
      "102\n",
      "0.23990962635975244\n",
      "103\n",
      "0.03181477648085567\n",
      "104\n",
      "0.06859204918175671\n",
      "105\n",
      "0.10258292814743812\n",
      "106\n",
      "0.18359494992113523\n",
      "107\n",
      "0.1529029443157424\n",
      "108\n",
      "0.09931905129082128\n",
      "109\n",
      "0.14399962804394625\n"
     ]
    }
   ],
   "source": [
    "min_distances = []\n",
    "for i, source_ra in enumerate(DNN.RA.values):\n",
    "    distance = []\n",
    "    print(i)\n",
    "    for j, othersrcs_ra in enumerate(DNN.RA.values):\n",
    "        distance.append(astro.angular_distance(DNN.RA[i], DNN.DEC[i], DNN.RA[j], DNN.DEC[j]))\n",
    "    #if i == 53:\n",
    "        #print(distance)\n",
    "        #plt.hist(distance, bins=110)\n",
    "    distance = np.array(distance)\n",
    "\n",
    "    min_distance = np.min(distance[distance > 0.0])\n",
    "    min_distances.append(min_distance)\n",
    "    print((min_distance))"
   ]
  },
  {
   "cell_type": "code",
   "execution_count": 24,
   "metadata": {},
   "outputs": [
    {
     "data": {
      "text/plain": [
       "Text(0, 0.5, 'Counts')"
      ]
     },
     "execution_count": 24,
     "metadata": {},
     "output_type": "execute_result"
    },
    {
     "data": {
      "image/png": "[encoded data removed]",
      "text/plain": [
       "<Figure size 432x288 with 1 Axes>"
      ]
     },
     "metadata": {
      "needs_background": "light"
     },
     "output_type": "display_data"
    }
   ],
   "source": [
    "plt.hist(np.degrees(min_distances) , bins=40);\n",
    "plt.xlabel('Source Nearest Neighbor (Deg)')\n",
    "plt.ylabel('Counts')\n"
   ]
  },
  {
   "cell_type": "code",
   "execution_count": 25,
   "metadata": {},
   "outputs": [
    {
     "data": {
      "text/plain": [
       "array([0.0047328 , 0.0047328 , 0.01652579, 0.01652579, 0.01937072,\n",
       "       0.02641983, 0.02641983, 0.03044758, 0.03083223, 0.03181478,\n",
       "       0.03236869, 0.03236869, 0.03757915, 0.03757915, 0.05690491,\n",
       "       0.05690491, 0.06859205, 0.06859205, 0.07716635, 0.07881536,\n",
       "       0.07881536, 0.08302631, 0.08302631, 0.08750927, 0.08750927,\n",
       "       0.08828641, 0.09640523, 0.09931905, 0.09931905, 0.10168142,\n",
       "       0.10258293, 0.10420769, 0.10513572, 0.10735146, 0.11379083,\n",
       "       0.11379083, 0.11973885, 0.12380767, 0.12380767, 0.12618861,\n",
       "       0.12621252, 0.12621252, 0.12766095, 0.13131719, 0.13131719,\n",
       "       0.13475562, 0.13475562, 0.14299026, 0.14299026, 0.14399963,\n",
       "       0.14742559, 0.14770787, 0.14783199, 0.14783199, 0.14898479,\n",
       "       0.14954811, 0.15041341, 0.15290294, 0.15290294, 0.15792179,\n",
       "       0.15792179, 0.15837113, 0.15837113, 0.16335303, 0.16998916,\n",
       "       0.16998916, 0.17002677, 0.17002677, 0.17672644, 0.17974916,\n",
       "       0.18067743, 0.18306876, 0.18331027, 0.18359495, 0.18359495,\n",
       "       0.18392721, 0.18927609, 0.18927609, 0.19093769, 0.1930779 ,\n",
       "       0.1930779 , 0.1956667 , 0.20254683, 0.20716362, 0.21990332,\n",
       "       0.22098674, 0.22623729, 0.22916375, 0.23788102, 0.23851471,\n",
       "       0.23902506, 0.23983048, 0.23983048, 0.2398488 , 0.23990963,\n",
       "       0.27063508, 0.27815748, 0.27815748, 0.28193385, 0.28193385,\n",
       "       0.30396495, 0.30741152, 0.30741152, 0.30822343, 0.31265246,\n",
       "       0.31777885, 0.36282076, 0.45104017, 0.45476614, 0.56484058])"
      ]
     },
     "execution_count": 25,
     "metadata": {},
     "output_type": "execute_result"
    }
   ],
   "source": [
    "np.sort(min_distances)"
   ]
  },
  {
   "cell_type": "code",
   "execution_count": 26,
   "metadata": {},
   "outputs": [
    {
     "data": {
      "text/plain": [
       "Text(0, 0.5, 'Counts')"
      ]
     },
     "execution_count": 26,
     "metadata": {},
     "output_type": "execute_result"
    },
    {
     "data": {
      "image/png": "[encoded data removed]",
      "text/plain": [
       "<Figure size 432x288 with 1 Axes>"
      ]
     },
     "metadata": {
      "needs_background": "light"
     },
     "output_type": "display_data"
    }
   ],
   "source": [
    "plt.hist(np.degrees(min_distances), bins=40, range=(0,5));\n",
    "plt.xlabel('Source Nearest Neighbor (Deg)')\n",
    "plt.ylabel('Counts')"
   ]
  },
  {
   "cell_type": "code",
   "execution_count": null,
   "metadata": {},
   "outputs": [],
   "source": []
  }
 ],
 "metadata": {
  "kernelspec": {
   "display_name": "icerec3",
   "language": "python",
   "name": "icerec3"
  },
  "language_info": {
   "codemirror_mode": {
    "name": "ipython",
    "version": 3
   },
   "file_extension": ".py",
   "mimetype": "text/x-python",
   "name": "python",
   "nbconvert_exporter": "python",
   "pygments_lexer": "ipython3",
   "version": "3.7.5"
  }
 },
 "nbformat": 4,
 "nbformat_minor": 4
}
